{
 "cells": [
  {
   "cell_type": "code",
   "execution_count": null,
   "id": "0a3ba50b",
   "metadata": {},
   "outputs": [],
   "source": [
    "# Python program to find the factorial of a number provided by the user.\n",
    "\n",
    "\n",
    "\n",
    "# To take input from the user\n",
    "num = int(input(\"Enter a number: \"))\n",
    "\n",
    "factorial = 1\n",
    "\n",
    "# check if the number is negative, positive or zero\n",
    "if num < 0:\n",
    "   print(\"Sorry, factorial does not exist for negative numbers\")\n",
    "elif num == 0:\n",
    "   print(\"The factorial of 0 is 1\")\n",
    "else:\n",
    "   for i in range(1,num + 1):\n",
    "       factorial = factorial*i\n",
    "   print(\"The factorial of\",num,\"is\",factorial)"
   ]
  },
  {
   "cell_type": "code",
   "execution_count": 4,
   "id": "f394bc55",
   "metadata": {},
   "outputs": [
    {
     "name": "stdout",
     "output_type": "stream",
     "text": [
      "Enter any Number : 2\n",
      "2 is Prime Number\n"
     ]
    }
   ],
   "source": [
    "#Python program to find whether a number is prime or composite.\n",
    "\n",
    "\n",
    "num=int(input(\"Enter any Number : \"))\n",
    "count=0\n",
    "for a in range(2,num):\n",
    "    if num%a==0:\n",
    "        count+=1\n",
    "if count>=1:\n",
    "    print(num, \"is Composite Number\")\n",
    "else:\n",
    "    print(num, \"is Prime Number\")"
   ]
  },
  {
   "cell_type": "code",
   "execution_count": 10,
   "id": "b4bd735e",
   "metadata": {},
   "outputs": [
    {
     "name": "stdout",
     "output_type": "stream",
     "text": [
      "The string is a palindrome.\n"
     ]
    }
   ],
   "source": [
    "# Program to check if a string is palindrome or not\n",
    "\n",
    "samplestr = 'madam'\n",
    "\n",
    "# make it suitable for caseless comparison\n",
    "astr = samplestr.casefold()\n",
    "\n",
    "# reverse the string\n",
    "rev_str = reversed(astr)\n",
    "\n",
    "# check if the string is equal to its reverse\n",
    "if list(astr) == list(rev_str):\n",
    "   print(\"The string is a palindrome.\")\n",
    "else:\n",
    "   print(\"The string is not a palindrome.\")"
   ]
  },
  {
   "cell_type": "code",
   "execution_count": 11,
   "id": "a1d00ca0",
   "metadata": {},
   "outputs": [
    {
     "name": "stdout",
     "output_type": "stream",
     "text": [
      "Enter base: 3\n",
      "Enter height: 6\n",
      "Hypotenuse = 6.708203932499369\n"
     ]
    }
   ],
   "source": [
    "#Python program to get the third side of right-angled triangle from two given sides\n",
    "\n",
    "\n",
    "import math\n",
    "\n",
    "a = float(input(\"Enter base: \"))\n",
    "b = float(input(\"Enter height: \"))\n",
    "\n",
    "\n",
    "c = math.sqrt(a ** 2 + b ** 2)\n",
    "\n",
    "print(\"Hypotenuse =\", c)"
   ]
  },
  {
   "cell_type": "code",
   "execution_count": 14,
   "id": "394977d4",
   "metadata": {},
   "outputs": [
    {
     "name": "stdout",
     "output_type": "stream",
     "text": [
      "Enter the string: saast\n",
      "Please enter the char to find frequency of ta character\n",
      "t\n",
      "The frequency of the  t in the string is:  1\n"
     ]
    }
   ],
   "source": [
    "#Python program to count Occurrence of a character in a string\n",
    "\n",
    "string=input(\"Enter the string: \")\n",
    "char=input(\"Please enter the char to find frequency of ta character\\n\")\n",
    "count=0\n",
    "for i in range(len(string)):\n",
    "    if(string[i]==char):\n",
    "        count=count+1\n",
    "print(\"The frequency of the \",char,\"in the string is: \",count)"
   ]
  }
 ],
 "metadata": {
  "kernelspec": {
   "display_name": "Python 3",
   "language": "python",
   "name": "python3"
  },
  "language_info": {
   "codemirror_mode": {
    "name": "ipython",
    "version": 3
   },
   "file_extension": ".py",
   "mimetype": "text/x-python",
   "name": "python",
   "nbconvert_exporter": "python",
   "pygments_lexer": "ipython3",
   "version": "3.8.8"
  }
 },
 "nbformat": 4,
 "nbformat_minor": 5
}
