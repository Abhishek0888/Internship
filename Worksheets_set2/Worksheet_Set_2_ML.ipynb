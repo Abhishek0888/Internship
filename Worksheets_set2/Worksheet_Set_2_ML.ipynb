{
 "cells": [
  {
   "cell_type": "markdown",
   "id": "718169ad",
   "metadata": {},
   "source": [
    "# Machine Learning Answers"
   ]
  },
  {
   "cell_type": "markdown",
   "id": "5d05d8cd",
   "metadata": {},
   "source": [
    "Questions 1 to 11 Answers\n",
    "\n",
    "1. (a)\n",
    "2. (d)\n",
    "3. (a)\n",
    "4. (a)\n",
    "5. (b)\n",
    "6. (b)\n",
    "7. (a)\n",
    "8. (d)\n",
    "9. (a)\n",
    "10. (d)\n",
    "11. (d)"
   ]
  },
  {
   "cell_type": "markdown",
   "id": "babffacb",
   "metadata": {},
   "source": [
    "# Subjective Questions "
   ]
  },
  {
   "cell_type": "markdown",
   "id": "15ea1cc0",
   "metadata": {},
   "source": [
    "12. Is K sensitive to outliers?\n",
    "\n",
    "Yes K-means is sensitive to outliers.K-means can be used as outlier detection. In K-means, using the symmetric distance measure which is the key component to define the samples that belongs to the same cluster. symmetric distance measurement gives similar weight to each dimension (feature) this may not always be the case for defining outliers.\n",
    "\n",
    "Foe example:\n",
    "\n",
    "The mean of  2,2,2,3,3,3,4,4,4  is  3 \n",
    "\n",
    "If we add a single  23  to that, the mean becomes  5 , which is larger than any of the other values.\n",
    "\n",
    "Since in k-means, we take the mean a lot, and wind up with a lot of outlier-sensitive calculations.\n",
    "\n",
    "That's why we have the k-medians algorithm. It just uses the median rather than the mean and is less sensitive to outliers."
   ]
  },
  {
   "cell_type": "raw",
   "id": "0cf3a8c9",
   "metadata": {},
   "source": []
  },
  {
   "cell_type": "markdown",
   "id": "31b63c34",
   "metadata": {},
   "source": [
    "13. Why is K means better?\n",
    "\n",
    "Advantages of K-means \n",
    "\n",
    "1.Relatively simple to implement.\n",
    "2.Scales to large data sets\n",
    "3.Guarantees convergence\n",
    "4.Easily adapts to new examples\n",
    "5.Can Generalize to clusters of different shapes and sizes, such as elliptical clusters.\n",
    "\n"
   ]
  },
  {
   "cell_type": "code",
   "execution_count": null,
   "id": "43c859bf",
   "metadata": {},
   "outputs": [],
   "source": []
  },
  {
   "cell_type": "markdown",
   "id": "67295e8b",
   "metadata": {},
   "source": [
    "14. Is K means a deterministic algorithm?\n",
    "\n",
    "No K-means is not a deterministic alogirithm.\n",
    "\n",
    "This means that running the algorithm several times on the same data, could give different results.\n",
    "However, to ensure consistent results, FCS Express performs k-means clustering using a deterministic method.\n",
    "\n",
    "A deterministic function always returns the same results if given the same input values.\n",
    "A nondeterministic function may return different results every time it is called, even when the same input values are provided"
   ]
  }
 ],
 "metadata": {
  "kernelspec": {
   "display_name": "Python 3",
   "language": "python",
   "name": "python3"
  },
  "language_info": {
   "codemirror_mode": {
    "name": "ipython",
    "version": 3
   },
   "file_extension": ".py",
   "mimetype": "text/x-python",
   "name": "python",
   "nbconvert_exporter": "python",
   "pygments_lexer": "ipython3",
   "version": "3.8.8"
  }
 },
 "nbformat": 4,
 "nbformat_minor": 5
}
