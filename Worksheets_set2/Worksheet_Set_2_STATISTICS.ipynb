{
 "cells": [
  {
   "cell_type": "markdown",
   "id": "e41804e1",
   "metadata": {},
   "source": [
    "# WORKSHEET 2 STATISTICS"
   ]
  },
  {
   "cell_type": "markdown",
   "id": "9f5b2728",
   "metadata": {},
   "source": [
    "Answers to Questions 1 to 15"
   ]
  },
  {
   "cell_type": "markdown",
   "id": "93b23b0f",
   "metadata": {},
   "source": [
    "1.  (B)\n",
    "2.  (C)\n",
    "3.  (D)\n",
    "4.  (C)\n",
    "5.  (D)\n",
    "6.  (B)\n",
    "7.  (A)\n",
    "8.  (B)\n",
    "9.  (D)\n",
    "10. (A)\n",
    "11. (C)\n",
    "12. (C)\n",
    "13. (D)\n",
    "14. (A)\n",
    "15. (D)"
   ]
  }
 ],
 "metadata": {
  "kernelspec": {
   "display_name": "Python 3",
   "language": "python",
   "name": "python3"
  },
  "language_info": {
   "codemirror_mode": {
    "name": "ipython",
    "version": 3
   },
   "file_extension": ".py",
   "mimetype": "text/x-python",
   "name": "python",
   "nbconvert_exporter": "python",
   "pygments_lexer": "ipython3",
   "version": "3.8.8"
  }
 },
 "nbformat": 4,
 "nbformat_minor": 5
}
