{
 "cells": [
  {
   "cell_type": "code",
   "execution_count": 2,
   "id": "395c26d4",
   "metadata": {},
   "outputs": [],
   "source": [
    "import numpy as np"
   ]
  },
  {
   "cell_type": "code",
   "execution_count": null,
   "id": "7cca7364",
   "metadata": {},
   "outputs": [],
   "source": [
    "a=np.array([10,20,30,40,50])"
   ]
  },
  {
   "cell_type": "code",
   "execution_count": null,
   "id": "5ee16d24",
   "metadata": {},
   "outputs": [],
   "source": [
    "a"
   ]
  },
  {
   "cell_type": "code",
   "execution_count": null,
   "id": "8632d3e1",
   "metadata": {},
   "outputs": [],
   "source": [
    "np.mean(a)"
   ]
  },
  {
   "cell_type": "code",
   "execution_count": 4,
   "id": "9333de0d",
   "metadata": {},
   "outputs": [
    {
     "data": {
      "text/plain": [
       "400005.2"
      ]
     },
     "execution_count": 4,
     "metadata": {},
     "output_type": "execute_result"
    }
   ],
   "source": [
    "aa= np.array([4,6,7,9,2000000])\n",
    "aa\n",
    "\n",
    "np.mean(aa)"
   ]
  },
  {
   "cell_type": "markdown",
   "id": "ef32135f",
   "metadata": {},
   "source": [
    "# Median"
   ]
  },
  {
   "cell_type": "code",
   "execution_count": null,
   "id": "07461c66",
   "metadata": {},
   "outputs": [],
   "source": [
    "np.median(a)"
   ]
  },
  {
   "cell_type": "code",
   "execution_count": null,
   "id": "1997e9cc",
   "metadata": {},
   "outputs": [],
   "source": [
    "b=np.array([[3,7,5],[8,4,3],[2,4,9]])\n",
    "b"
   ]
  },
  {
   "cell_type": "code",
   "execution_count": null,
   "id": "9ca7d454",
   "metadata": {},
   "outputs": [],
   "source": [
    "np.median(b)"
   ]
  },
  {
   "cell_type": "code",
   "execution_count": null,
   "id": "bd1acd8a",
   "metadata": {},
   "outputs": [],
   "source": [
    "np.median(b,axis=0)#columnwise"
   ]
  },
  {
   "cell_type": "code",
   "execution_count": null,
   "id": "b89754cf",
   "metadata": {},
   "outputs": [],
   "source": [
    "np.median(b,axis=1)#rowwise"
   ]
  },
  {
   "cell_type": "markdown",
   "id": "8a3eb523",
   "metadata": {},
   "source": [
    "# Mean"
   ]
  },
  {
   "cell_type": "code",
   "execution_count": null,
   "id": "4e6f81d4",
   "metadata": {},
   "outputs": [],
   "source": [
    "np.mean(b)"
   ]
  },
  {
   "cell_type": "code",
   "execution_count": null,
   "id": "7d362f26",
   "metadata": {},
   "outputs": [],
   "source": [
    "np.mean(b,axis=0)#columnwise"
   ]
  },
  {
   "cell_type": "code",
   "execution_count": null,
   "id": "b57e0af0",
   "metadata": {},
   "outputs": [],
   "source": [
    "np.mean(b,axis=1)#rowwise"
   ]
  },
  {
   "cell_type": "markdown",
   "id": "e42be4a0",
   "metadata": {},
   "source": [
    "# Standard Deviation"
   ]
  },
  {
   "cell_type": "markdown",
   "id": "c88d0ee2",
   "metadata": {},
   "source": [
    "it is square root of varaince values"
   ]
  },
  {
   "cell_type": "code",
   "execution_count": null,
   "id": "635b2b3a",
   "metadata": {},
   "outputs": [],
   "source": [
    "np.std(b)  #standard deviation"
   ]
  },
  {
   "cell_type": "code",
   "execution_count": null,
   "id": "3796377b",
   "metadata": {},
   "outputs": [],
   "source": [
    "np.std(b,axis=0)"
   ]
  },
  {
   "cell_type": "code",
   "execution_count": null,
   "id": "85aacede",
   "metadata": {},
   "outputs": [],
   "source": [
    "np.std(b,axis=1)"
   ]
  },
  {
   "cell_type": "code",
   "execution_count": null,
   "id": "957d6355",
   "metadata": {},
   "outputs": [],
   "source": [
    "round(np.std(b))"
   ]
  },
  {
   "cell_type": "markdown",
   "id": "47d10d75",
   "metadata": {},
   "source": [
    "# Variance"
   ]
  },
  {
   "cell_type": "markdown",
   "id": "0a8e24c5",
   "metadata": {},
   "source": [
    "Sum of the squared difference of data"
   ]
  },
  {
   "cell_type": "markdown",
   "id": "4916d984",
   "metadata": {},
   "source": [
    "Range= maximum's - minimum data "
   ]
  },
  {
   "cell_type": "code",
   "execution_count": null,
   "id": "8f372b87",
   "metadata": {},
   "outputs": [],
   "source": [
    "np.var(b)"
   ]
  },
  {
   "cell_type": "markdown",
   "id": "f5761059",
   "metadata": {},
   "source": [
    "# Using pandas statistics"
   ]
  },
  {
   "cell_type": "code",
   "execution_count": null,
   "id": "b9e240bc",
   "metadata": {},
   "outputs": [],
   "source": [
    "import pandas as pd\n",
    "data=pd.read_csv(\"president_heights.csv\")\n",
    "data"
   ]
  },
  {
   "cell_type": "code",
   "execution_count": null,
   "id": "17f9e3eb",
   "metadata": {},
   "outputs": [],
   "source": [
    "height=data['height']"
   ]
  },
  {
   "cell_type": "code",
   "execution_count": null,
   "id": "2b7c6ec8",
   "metadata": {},
   "outputs": [],
   "source": [
    "print(\"Mean height:\",height.mean())\n",
    "print(\"Standard Deviation:\",height.std())\n",
    "print(\"Minimum height:\",height.min())\n",
    "print(\"Maximum height:\",height.max())"
   ]
  },
  {
   "cell_type": "code",
   "execution_count": null,
   "id": "31efc0ab",
   "metadata": {},
   "outputs": [],
   "source": [
    "print(\"25th percentile:\",np.percentile(height,25))\n",
    "print(\"Median:\",np.median(height))\n",
    "print(\"75th percentile:\",np.percentile(height,75))"
   ]
  },
  {
   "cell_type": "code",
   "execution_count": null,
   "id": "30495e0f",
   "metadata": {},
   "outputs": [],
   "source": [
    "import matplotlib.pyplot as plt\n",
    "import seaborn"
   ]
  },
  {
   "cell_type": "code",
   "execution_count": null,
   "id": "85c5f2b1",
   "metadata": {},
   "outputs": [],
   "source": [
    "plt.hist(height)\n",
    "plt.title(\"Height Distribution of US presidents\")\n",
    "plt.xlabel(\"height(cm)\")\n",
    "plt.ylabel(\"number\")"
   ]
  },
  {
   "cell_type": "code",
   "execution_count": 3,
   "id": "c5efc3e3",
   "metadata": {},
   "outputs": [
    {
     "data": {
      "text/plain": [
       "0.7340144709512995"
      ]
     },
     "execution_count": 3,
     "metadata": {},
     "output_type": "execute_result"
    }
   ],
   "source": [
    "import numpy as np\n",
    "import scipy.stats as st\n",
    "mu=5.5\n",
    "x=6\n",
    "std=0.8\n",
    "st.norm.cdf(x,loc=mu,scale=std)\n"
   ]
  },
  {
   "cell_type": "code",
   "execution_count": null,
   "id": "9a794688",
   "metadata": {},
   "outputs": [],
   "source": []
  }
 ],
 "metadata": {
  "kernelspec": {
   "display_name": "Python 3",
   "language": "python",
   "name": "python3"
  },
  "language_info": {
   "codemirror_mode": {
    "name": "ipython",
    "version": 3
   },
   "file_extension": ".py",
   "mimetype": "text/x-python",
   "name": "python",
   "nbconvert_exporter": "python",
   "pygments_lexer": "ipython3",
   "version": "3.8.8"
  }
 },
 "nbformat": 4,
 "nbformat_minor": 5
}
