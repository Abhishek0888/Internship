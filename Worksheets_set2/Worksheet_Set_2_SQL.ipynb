{
 "cells": [
  {
   "cell_type": "markdown",
   "id": "0be44e17",
   "metadata": {},
   "source": [
    "# WORKSHEET 2 SQL"
   ]
  },
  {
   "cell_type": "markdown",
   "id": "00b79529",
   "metadata": {},
   "source": [
    "Answers to Questions 1 to 13\n",
    "\n",
    "1.  (D)\n",
    "2.  (D)\n",
    "3.  (A)\n",
    "4.  (D)\n",
    "5.  (D)\n",
    "6.  (B)\n",
    "7.  (A)\n",
    "8.  (D)\n",
    "9.  (A)\n",
    "10. (D)\n",
    "11. (B)\n",
    "12. (C)\n",
    "13. (A)"
   ]
  },
  {
   "cell_type": "markdown",
   "id": "07a3eac6",
   "metadata": {},
   "source": [
    "Answers to Question 14"
   ]
  },
  {
   "cell_type": "markdown",
   "id": "cb991a94",
   "metadata": {},
   "source": [
    "B and C"
   ]
  },
  {
   "cell_type": "code",
   "execution_count": null,
   "id": "086a68be",
   "metadata": {},
   "outputs": [],
   "source": []
  },
  {
   "cell_type": "markdown",
   "id": "6ecb9790",
   "metadata": {},
   "source": [
    "Answers to Question 15"
   ]
  },
  {
   "cell_type": "markdown",
   "id": "d2b99d48",
   "metadata": {},
   "source": [
    "A and D"
   ]
  },
  {
   "cell_type": "code",
   "execution_count": null,
   "id": "65af84e8",
   "metadata": {},
   "outputs": [],
   "source": []
  }
 ],
 "metadata": {
  "kernelspec": {
   "display_name": "Python 3",
   "language": "python",
   "name": "python3"
  },
  "language_info": {
   "codemirror_mode": {
    "name": "ipython",
    "version": 3
   },
   "file_extension": ".py",
   "mimetype": "text/x-python",
   "name": "python",
   "nbconvert_exporter": "python",
   "pygments_lexer": "ipython3",
   "version": "3.8.8"
  }
 },
 "nbformat": 4,
 "nbformat_minor": 5
}
