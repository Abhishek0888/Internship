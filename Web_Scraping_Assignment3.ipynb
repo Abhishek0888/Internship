{
 "cells": [
  {
   "cell_type": "markdown",
   "id": "c801069d",
   "metadata": {},
   "source": [
    "# Instructions:\n",
    "• All questions are compulsory.\n",
    "• In each of the questions you have to automate the process. You do not have to click on any button, click any clickable element, enter keywords in search boxes manually. Each process has to be performed via coding.\n",
    "• Q1 and Q2 are connected questions i.e. after attempting Q1 proceed to Q2. Do not write whole code from beginning for Q2.\n",
    "• You may use any web scraping library and tools.\n",
    "• The question can be attempted in various ways; the correctness of question depends on the output.\n",
    "• If you encounter any Null values during scraping, you may replace it by hyphen.\n",
    "Exercise:\n",
    "1. Write a python program which searches all the product under a particular product from www.amazon.in. The product to be searched will be taken as input from user. For e.g. If user input is ‘guitar’. Then search for guitars.\n",
    "2. In the above question, now scrape the following details of each product listed in first 3 pages of your search results and save it in a data frame and csv. In case if any product has less than 3 pages in search results then scrape all the products available under that product name. Details to be scraped are: \"Brand Name\", \"Name of the Product\", \"Price\", \"Return/Exchange\", \"Expected Delivery\", \"Availability\" and “Product URL”. In case, if any of the details are missing for any of the product then replace it by “-“."
   ]
  },
  {
   "cell_type": "code",
   "execution_count": null,
   "id": "6bc0b42d",
   "metadata": {},
   "outputs": [],
   "source": [
    "import selenium\n",
    "import pandas as pd\n",
    "from selenium import webdriver\n",
    "from bs4 import BeautifulSoup\n",
    "import requests\n",
    "\n",
    "\n",
    "import warnings\n",
    "warnings.filterwarnings(\"ignore\")\n",
    "import time"
   ]
  },
  {
   "cell_type": "code",
   "execution_count": null,
   "id": "ac65538f",
   "metadata": {},
   "outputs": [],
   "source": [
    "driver=webdriver.Chrome(\"chromedriver.exe\")\n",
    "time.sleep(2)"
   ]
  },
  {
   "cell_type": "code",
   "execution_count": null,
   "id": "7a8bbd24",
   "metadata": {},
   "outputs": [],
   "source": [
    "driver.get(\"https://www.amazon.in/\")"
   ]
  },
  {
   "cell_type": "code",
   "execution_count": null,
   "id": "3fa86dc4",
   "metadata": {},
   "outputs": [],
   "source": [
    "#finding element for search bar\n",
    "search_f=driver.find_element_by_xpath(\"/html/body/div[1]/header/div/div[1]/div[2]/div/form/div[2]/div[1]/input\")\n",
    "search_f.send_keys(\"guitar\")"
   ]
  },
  {
   "cell_type": "code",
   "execution_count": null,
   "id": "e7d041d5",
   "metadata": {},
   "outputs": [],
   "source": [
    "search_button=driver.find_element_by_xpath('/html/body/div[1]/header/div/div[1]/div[2]/div/form/div[3]/div/span/input')\n",
    "search_button.click()"
   ]
  },
  {
   "cell_type": "code",
   "execution_count": null,
   "id": "0cbe1045",
   "metadata": {},
   "outputs": [],
   "source": [
    "bname=[]\n",
    "name=[]\n",
    "pric=[]\n",
    "returnn=[]\n",
    "expdev=[]\n",
    "avail=[]\n",
    "prurl=[]\n"
   ]
  },
  {
   "cell_type": "code",
   "execution_count": null,
   "id": "05e9a72e",
   "metadata": {},
   "outputs": [],
   "source": [
    "#extract brand name"
   ]
  },
  {
   "cell_type": "code",
   "execution_count": null,
   "id": "26a4da0b",
   "metadata": {},
   "outputs": [],
   "source": [
    "#extract name\n",
    "nametags=driver.find_elements_by_xpath(\"//h2[@class='a-size-mini a-spacing-none a-color-base s-line-clamp-2']\")\n",
    "nametags[0:2]"
   ]
  },
  {
   "cell_type": "code",
   "execution_count": null,
   "id": "d1a469a7",
   "metadata": {},
   "outputs": [],
   "source": [
    "for i in nametags:\n",
    "    nam=i.text\n",
    "    name.append(nam)\n",
    "name[0:2]"
   ]
  },
  {
   "cell_type": "code",
   "execution_count": null,
   "id": "af7d80af",
   "metadata": {},
   "outputs": [],
   "source": [
    "#extract price\n",
    "ptags=driver.find_elements_by_xpath(\"//span[@class='a-price-whole']\")\n",
    "ptags[0:2]"
   ]
  },
  {
   "cell_type": "code",
   "execution_count": null,
   "id": "e9b9ed0a",
   "metadata": {},
   "outputs": [],
   "source": [
    "for i in ptags:\n",
    "    pp=i.text\n",
    "    pric.append(pp)\n",
    "pric[0:2]"
   ]
  },
  {
   "cell_type": "code",
   "execution_count": null,
   "id": "d8ce1882",
   "metadata": {},
   "outputs": [],
   "source": [
    "#extract return/exchange\n"
   ]
  },
  {
   "cell_type": "code",
   "execution_count": null,
   "id": "997e4bea",
   "metadata": {},
   "outputs": [],
   "source": [
    "#extract expected delivery\n",
    "dtags=driver.find_elements_by_xpath(\"//span[@class='a-color-base a-text-bold']\")\n",
    "dtags[0:2]"
   ]
  },
  {
   "cell_type": "code",
   "execution_count": null,
   "id": "de96d400",
   "metadata": {},
   "outputs": [],
   "source": [
    "for i in dtags:\n",
    "    pp=i.text\n",
    "    expdev.append(pp)\n",
    "expdev[0:2]"
   ]
  },
  {
   "cell_type": "code",
   "execution_count": null,
   "id": "e7345f3e",
   "metadata": {},
   "outputs": [],
   "source": [
    "#extract Availability\n",
    "\n"
   ]
  },
  {
   "cell_type": "code",
   "execution_count": null,
   "id": "4aad35c6",
   "metadata": {},
   "outputs": [],
   "source": [
    "#extract product url\n",
    "dptags=driver.find_elements_by_xpath(\"//div[@class='a-section aok-relative s-image-square-aspect']\")\n",
    "dptags[0:2]"
   ]
  },
  {
   "cell_type": "code",
   "execution_count": null,
   "id": "af9c5e5a",
   "metadata": {},
   "outputs": [],
   "source": [
    "for i in dptags:\n",
    "    pp=i.text\n",
    "    prurl.append(pp)\n",
    "prurl[0:2]"
   ]
  },
  {
   "cell_type": "code",
   "execution_count": null,
   "id": "51488a1c",
   "metadata": {},
   "outputs": [],
   "source": [
    "driver.close()"
   ]
  },
  {
   "cell_type": "markdown",
   "id": "00f20a1b",
   "metadata": {},
   "source": [
    "# 3. Write a python program to access the search bar and search button on images.google.com and scrape 10 images each for keywords ‘fruits’, ‘cars’ and ‘Machine Learning’, ‘Guitar’, ‘Cakes’."
   ]
  },
  {
   "cell_type": "code",
   "execution_count": null,
   "id": "ea2b01f9",
   "metadata": {},
   "outputs": [],
   "source": [
    "driver=webdriver.Chrome(\"chromedriver.exe\")\n",
    "time.sleep(2)"
   ]
  },
  {
   "cell_type": "code",
   "execution_count": null,
   "id": "573c9864",
   "metadata": {},
   "outputs": [],
   "source": [
    "driver.get(\"https://images.google.com/\")"
   ]
  },
  {
   "cell_type": "code",
   "execution_count": null,
   "id": "e3e4b830",
   "metadata": {},
   "outputs": [],
   "source": [
    "#finding element for search bar\n",
    "search_f=driver.find_element_by_xpath(\"/html/body/div[1]/div[3]/form/div[1]/div[1]/div[1]/div/div[2]/input\")\n",
    "search_f.send_keys(\"fruits\")"
   ]
  },
  {
   "cell_type": "code",
   "execution_count": null,
   "id": "8d3c0337",
   "metadata": {},
   "outputs": [],
   "source": [
    "search_button=driver.find_element_by_xpath('/html/body/div[1]/div[3]/form/div[1]/div[1]/div[1]/button/div')\n",
    "search_button.click()"
   ]
  },
  {
   "cell_type": "code",
   "execution_count": null,
   "id": "ccf3f492",
   "metadata": {},
   "outputs": [],
   "source": [
    "fruits=[]"
   ]
  },
  {
   "cell_type": "code",
   "execution_count": null,
   "id": "830ede10",
   "metadata": {},
   "outputs": [],
   "source": [
    "#extract fruits url\n",
    "ptags=driver.find_elements_by_xpath(\"//img[@class='rg_i Q4LuWd']\")\n",
    "ptags[0:2]"
   ]
  },
  {
   "cell_type": "code",
   "execution_count": null,
   "id": "06210464",
   "metadata": {},
   "outputs": [],
   "source": [
    "for i in ptags:\n",
    "    pp=i.src\n",
    "    fruits.append(pp)\n",
    "fruits[0:2]"
   ]
  },
  {
   "cell_type": "markdown",
   "id": "68eeb309",
   "metadata": {},
   "source": [
    "# 4. Write a python program to search for a smartphone(e.g.: Oneplus Nord, pixel 4A, etc.) on www.flipkart.com and scrape following details for all the search results displayed on 1st page. Details to be scraped: “Brand Name”, “Smartphone name”, “Colour”, “RAM”, “Storage(ROM)”, “Primary Camera”, “Secondary Camera”, “Display Size”, “Battery Capacity”, “Price”, “Product URL”. Incase if any of the details is missing then replace it by “- “. Save your results in a dataframe and CSV."
   ]
  },
  {
   "cell_type": "code",
   "execution_count": 28,
   "id": "a09b8e6d",
   "metadata": {},
   "outputs": [],
   "source": [
    "driver=webdriver.Chrome(\"chromedriver.exe\")\n",
    "time.sleep(2)"
   ]
  },
  {
   "cell_type": "code",
   "execution_count": 29,
   "id": "2b073abe",
   "metadata": {},
   "outputs": [],
   "source": [
    "driver.get(\"https://www.flipkart.com/\")"
   ]
  },
  {
   "cell_type": "code",
   "execution_count": 30,
   "id": "d3493544",
   "metadata": {},
   "outputs": [],
   "source": [
    "#finding element for search bar\n",
    "search_f=driver.find_element_by_xpath(\"/html/body/div[1]/div/div[1]/div[1]/div[2]/div[2]/form/div/div/input\")\n",
    "search_f.send_keys(\"pixel 4a\")"
   ]
  },
  {
   "cell_type": "code",
   "execution_count": 31,
   "id": "97df2ed7",
   "metadata": {},
   "outputs": [],
   "source": [
    "search_button=driver.find_element_by_xpath('/html/body/div[1]/div/div[1]/div[1]/div[2]/div[2]/form/div/button')\n",
    "search_button.click()"
   ]
  },
  {
   "cell_type": "code",
   "execution_count": 32,
   "id": "50d70da5",
   "metadata": {},
   "outputs": [],
   "source": [
    "titles=[]\n",
    "ram=[]\n",
    "cam=[]\n",
    "battery=[]\n",
    "displ=[]"
   ]
  },
  {
   "cell_type": "code",
   "execution_count": 38,
   "id": "0d33a530",
   "metadata": {},
   "outputs": [
    {
     "data": {
      "text/plain": [
       "[<selenium.webdriver.remote.webelement.WebElement (session=\"e96fd0a00283dbbca8b69631c7f85229\", element=\"cf4004b0-574a-475e-b127-f6b37824c44f\")>]"
      ]
     },
     "execution_count": 38,
     "metadata": {},
     "output_type": "execute_result"
    }
   ],
   "source": [
    "#extract Names\n",
    "titles_tags=driver.find_elements_by_xpath(\"/html/body/div[1]/div/div[3]/div[1]/div[2]/div[2]/div/div/div/a/div[2]/div[1]/div[1]\")\n",
    "titles_tags[0:2]"
   ]
  },
  {
   "cell_type": "code",
   "execution_count": 40,
   "id": "7dbe77df",
   "metadata": {},
   "outputs": [
    {
     "data": {
      "text/plain": [
       "['Google Pixel 4a (Just Black, 128 GB)',\n",
       " 'vivo T1 44W (Ice Dawn, 128 GB)',\n",
       " 'vivo T1 44W (Midnight Galaxy, 128 GB)',\n",
       " 'vivo T1 44W (Midnight Galaxy, 128 GB)',\n",
       " 'vivo T1 44W (Starry Sky, 128 GB)',\n",
       " 'vivo T1 44W (Midnight Galaxy, 128 GB)',\n",
       " 'vivo T1 44W (Ice Dawn, 128 GB)',\n",
       " 'vivo T1 44W (Starry Sky, 128 GB)',\n",
       " 'vivo T1 44W (Starry Sky, 128 GB)',\n",
       " 'Infinix Smart 6 (Starry Purple, 64 GB)',\n",
       " 'REDMI 10A (Slate Grey, 32 GB)',\n",
       " 'SAMSUNG Galaxy M52 5G (Blazing Black, 128 GB)',\n",
       " 'Infinix Smart 6 (Polar Black, 64 GB)',\n",
       " 'vivo T1 Pro 5G (Turbo Cyan, 128 GB)',\n",
       " 'REDMI 10A (Sea Blue, 64 GB)',\n",
       " 'vivo T1 Pro 5G (Turbo Black, 128 GB)',\n",
       " 'vivo T1 Pro 5G (Turbo Cyan, 128 GB)',\n",
       " 'Redmi 9A Sport (Coral Green, 32 GB)',\n",
       " 'Redmi 9A Sport (Coral Green, 32 GB)',\n",
       " 'REDMI 10 Prime (Bifrost Blue, 64 GB)',\n",
       " 'vivo Y21G (Midnight Blue, 64 GB)',\n",
       " 'Redmi 9A Sport (Carbon Black, 32 GB)',\n",
       " 'Redmi Note 11 (Starburst White, 64 GB)',\n",
       " 'Redmi 9A Sport (Carbon Black, 32 GB)',\n",
       " 'Google Pixel 4a (Just Black, 128 GB)',\n",
       " 'Google Pixel 4a (Just Black, 128 GB)',\n",
       " 'Google Pixel 4a (Just Black, 128 GB)']"
      ]
     },
     "execution_count": 40,
     "metadata": {},
     "output_type": "execute_result"
    }
   ],
   "source": [
    "for i in titles_tags:\n",
    "    title=i.text\n",
    "    titles.append(title)\n",
    "titles"
   ]
  },
  {
   "cell_type": "code",
   "execution_count": 42,
   "id": "3efea0c2",
   "metadata": {},
   "outputs": [
    {
     "data": {
      "text/plain": [
       "[<selenium.webdriver.remote.webelement.WebElement (session=\"e96fd0a00283dbbca8b69631c7f85229\", element=\"8dabb8d2-3880-47d3-867d-87b30cc2b03c\")>]"
      ]
     },
     "execution_count": 42,
     "metadata": {},
     "output_type": "execute_result"
    }
   ],
   "source": [
    "#extract ram/rom\n",
    "titles_tags1=driver.find_elements_by_xpath(\"/html/body/div/div/div[3]/div[1]/div[2]/div[2]/div/div/div/a/div[2]/div[1]/div[3]/ul/li[1]\")\n",
    "titles_tags1[0:2]"
   ]
  },
  {
   "cell_type": "code",
   "execution_count": 43,
   "id": "a1be6686",
   "metadata": {},
   "outputs": [
    {
     "data": {
      "text/plain": [
       "['6 GB RAM | 128 GB ROM']"
      ]
     },
     "execution_count": 43,
     "metadata": {},
     "output_type": "execute_result"
    }
   ],
   "source": [
    "for i in titles_tags1:\n",
    "    title=i.text\n",
    "    ram.append(title)\n",
    "ram[0:2]"
   ]
  },
  {
   "cell_type": "code",
   "execution_count": 44,
   "id": "4a5ca4eb",
   "metadata": {},
   "outputs": [
    {
     "data": {
      "text/plain": [
       "[<selenium.webdriver.remote.webelement.WebElement (session=\"e96fd0a00283dbbca8b69631c7f85229\", element=\"cdc05b9a-5e73-40c9-8e07-6e3b54ea73d9\")>]"
      ]
     },
     "execution_count": 44,
     "metadata": {},
     "output_type": "execute_result"
    }
   ],
   "source": [
    "#extract Primary/Secondary camera\n",
    "titles_tags2=driver.find_elements_by_xpath(\"/html/body/div/div/div[3]/div[1]/div[2]/div[2]/div/div/div/a/div[2]/div[1]/div[3]/ul/li[3]\")\n",
    "titles_tags2[0:2]"
   ]
  },
  {
   "cell_type": "code",
   "execution_count": 45,
   "id": "0d01ae8a",
   "metadata": {},
   "outputs": [
    {
     "data": {
      "text/plain": [
       "['12.2MP Rear Camera | 8MP Front Camera']"
      ]
     },
     "execution_count": 45,
     "metadata": {},
     "output_type": "execute_result"
    }
   ],
   "source": [
    "for i in titles_tags2:\n",
    "    title=i.text\n",
    "    cam.append(title)\n",
    "cam[0:2]"
   ]
  },
  {
   "cell_type": "code",
   "execution_count": 46,
   "id": "31b0204c",
   "metadata": {},
   "outputs": [
    {
     "data": {
      "text/plain": [
       "[<selenium.webdriver.remote.webelement.WebElement (session=\"e96fd0a00283dbbca8b69631c7f85229\", element=\"796b90d3-8308-488c-b3be-543856a98bb2\")>]"
      ]
     },
     "execution_count": 46,
     "metadata": {},
     "output_type": "execute_result"
    }
   ],
   "source": [
    "#extract battery size\n",
    "titles_tags3=driver.find_elements_by_xpath(\"/html/body/div/div/div[3]/div[1]/div[2]/div[2]/div/div/div/a/div[2]/div[1]/div[3]/ul/li[4]\")\n",
    "titles_tags3[0:2]"
   ]
  },
  {
   "cell_type": "code",
   "execution_count": 47,
   "id": "b0e1449e",
   "metadata": {},
   "outputs": [
    {
     "data": {
      "text/plain": [
       "['3140 mAh Battery']"
      ]
     },
     "execution_count": 47,
     "metadata": {},
     "output_type": "execute_result"
    }
   ],
   "source": [
    "for i in titles_tags3:\n",
    "    title=i.text\n",
    "    battery.append(title)\n",
    "battery[0:2]"
   ]
  },
  {
   "cell_type": "code",
   "execution_count": 48,
   "id": "907f0193",
   "metadata": {},
   "outputs": [
    {
     "data": {
      "text/plain": [
       "[<selenium.webdriver.remote.webelement.WebElement (session=\"e96fd0a00283dbbca8b69631c7f85229\", element=\"ca29658a-dbfa-4292-9da6-17b5f3f09be9\")>]"
      ]
     },
     "execution_count": 48,
     "metadata": {},
     "output_type": "execute_result"
    }
   ],
   "source": [
    "#extract display size\n",
    "titles_tags4=driver.find_elements_by_xpath(\"/html/body/div/div/div[3]/div[1]/div[2]/div[2]/div/div/div/a/div[2]/div[1]/div[3]/ul/li[2]\")\n",
    "titles_tags4[0:2]"
   ]
  },
  {
   "cell_type": "code",
   "execution_count": 49,
   "id": "aa450fa1",
   "metadata": {},
   "outputs": [
    {
     "data": {
      "text/plain": [
       "['14.76 cm (5.81 inch) Full HD+ Display']"
      ]
     },
     "execution_count": 49,
     "metadata": {},
     "output_type": "execute_result"
    }
   ],
   "source": [
    "for i in titles_tags4:\n",
    "    title=i.text\n",
    "    displ.append(title)\n",
    "displ[0:2]"
   ]
  },
  {
   "cell_type": "code",
   "execution_count": 50,
   "id": "0ff20b19",
   "metadata": {},
   "outputs": [
    {
     "data": {
      "text/html": [
       "<div>\n",
       "<style scoped>\n",
       "    .dataframe tbody tr th:only-of-type {\n",
       "        vertical-align: middle;\n",
       "    }\n",
       "\n",
       "    .dataframe tbody tr th {\n",
       "        vertical-align: top;\n",
       "    }\n",
       "\n",
       "    .dataframe thead th {\n",
       "        text-align: right;\n",
       "    }\n",
       "</style>\n",
       "<table border=\"1\" class=\"dataframe\">\n",
       "  <thead>\n",
       "    <tr style=\"text-align: right;\">\n",
       "      <th></th>\n",
       "      <th>Display Size</th>\n",
       "      <th>Battery size</th>\n",
       "      <th>RAM/ROM</th>\n",
       "    </tr>\n",
       "  </thead>\n",
       "  <tbody>\n",
       "    <tr>\n",
       "      <th>0</th>\n",
       "      <td>14.76 cm (5.81 inch) Full HD+ Display</td>\n",
       "      <td>3140 mAh Battery</td>\n",
       "      <td>6 GB RAM | 128 GB ROM</td>\n",
       "    </tr>\n",
       "  </tbody>\n",
       "</table>\n",
       "</div>"
      ],
      "text/plain": [
       "                            Display Size      Battery size  \\\n",
       "0  14.76 cm (5.81 inch) Full HD+ Display  3140 mAh Battery   \n",
       "\n",
       "                 RAM/ROM  \n",
       "0  6 GB RAM | 128 GB ROM  "
      ]
     },
     "execution_count": 50,
     "metadata": {},
     "output_type": "execute_result"
    }
   ],
   "source": [
    "ph=pd.DataFrame({})\n",
    "#ph['Smartphone Name/Model']=titles\n",
    "ph['Display Size']=displ\n",
    "ph['Battery size']=battery\n",
    "ph['RAM/ROM']=ram\n",
    "ph"
   ]
  },
  {
   "cell_type": "code",
   "execution_count": 51,
   "id": "44483494",
   "metadata": {},
   "outputs": [],
   "source": [
    "driver.close()"
   ]
  },
  {
   "cell_type": "markdown",
   "id": "397c95e4",
   "metadata": {},
   "source": [
    "# 5. Write a program to scrap geospatial coordinates (latitude, longitude) of a city searched on google maps."
   ]
  },
  {
   "cell_type": "code",
   "execution_count": null,
   "id": "4a7d1ace",
   "metadata": {},
   "outputs": [],
   "source": []
  },
  {
   "cell_type": "code",
   "execution_count": null,
   "id": "9ac01925",
   "metadata": {},
   "outputs": [],
   "source": []
  },
  {
   "cell_type": "code",
   "execution_count": null,
   "id": "abe8bd88",
   "metadata": {},
   "outputs": [],
   "source": []
  },
  {
   "cell_type": "code",
   "execution_count": null,
   "id": "76e99def",
   "metadata": {},
   "outputs": [],
   "source": []
  },
  {
   "cell_type": "code",
   "execution_count": null,
   "id": "8219a5b0",
   "metadata": {},
   "outputs": [],
   "source": []
  },
  {
   "cell_type": "code",
   "execution_count": null,
   "id": "f2f740bf",
   "metadata": {},
   "outputs": [],
   "source": []
  },
  {
   "cell_type": "markdown",
   "id": "beee8ed3",
   "metadata": {},
   "source": [
    "# 6. Write a program to scrap details of all the funding deals for second quarter (i.e Jan 21 – March 21) from trak.in."
   ]
  },
  {
   "cell_type": "code",
   "execution_count": null,
   "id": "a0fa47f4",
   "metadata": {},
   "outputs": [],
   "source": []
  },
  {
   "cell_type": "code",
   "execution_count": null,
   "id": "795f45d8",
   "metadata": {},
   "outputs": [],
   "source": []
  },
  {
   "cell_type": "code",
   "execution_count": null,
   "id": "95a007f8",
   "metadata": {},
   "outputs": [],
   "source": []
  },
  {
   "cell_type": "code",
   "execution_count": null,
   "id": "ac47e8be",
   "metadata": {},
   "outputs": [],
   "source": []
  },
  {
   "cell_type": "code",
   "execution_count": null,
   "id": "a182df2e",
   "metadata": {},
   "outputs": [],
   "source": []
  },
  {
   "cell_type": "markdown",
   "id": "8bbdf873",
   "metadata": {},
   "source": [
    "# 7. Write a program to scrap all the available details of best gaming laptops from digit.in."
   ]
  },
  {
   "cell_type": "code",
   "execution_count": null,
   "id": "cd52f15d",
   "metadata": {},
   "outputs": [],
   "source": []
  },
  {
   "cell_type": "code",
   "execution_count": null,
   "id": "99f1262d",
   "metadata": {},
   "outputs": [],
   "source": []
  },
  {
   "cell_type": "code",
   "execution_count": null,
   "id": "5c4b713e",
   "metadata": {},
   "outputs": [],
   "source": []
  },
  {
   "cell_type": "code",
   "execution_count": null,
   "id": "0a822812",
   "metadata": {},
   "outputs": [],
   "source": []
  },
  {
   "cell_type": "code",
   "execution_count": null,
   "id": "55ecbaa7",
   "metadata": {},
   "outputs": [],
   "source": []
  },
  {
   "cell_type": "markdown",
   "id": "2e357dd9",
   "metadata": {},
   "source": [
    "# 8. Write a python program to scrape the details for all billionaires from www.forbes.com. Details to be scrapped: “Rank”, “Name”, “Net worth”, “Age”, “Citizenship”, “Source”, “Industry”."
   ]
  },
  {
   "cell_type": "code",
   "execution_count": null,
   "id": "15f0823e",
   "metadata": {},
   "outputs": [],
   "source": [
    "driver=webdriver.Chrome(\"chromedriver.exe\")\n",
    "time.sleep(2)"
   ]
  },
  {
   "cell_type": "code",
   "execution_count": null,
   "id": "64c282b3",
   "metadata": {},
   "outputs": [],
   "source": [
    "driver.get(\"https://www.forbes.com/billionaires/\")"
   ]
  },
  {
   "cell_type": "code",
   "execution_count": null,
   "id": "d7e4834a",
   "metadata": {},
   "outputs": [],
   "source": [
    "titles=[]\n",
    "rank=[]\n",
    "worth=[]\n",
    "age=[]\n",
    "citizen=[]\n",
    "source=[]\n",
    "industry=[]"
   ]
  },
  {
   "cell_type": "code",
   "execution_count": null,
   "id": "67dd009e",
   "metadata": {},
   "outputs": [],
   "source": [
    "#extract Names\n",
    "titles_tags=driver.find_elements_by_xpath(\"//div[@class='personName']\")\n",
    "titles_tags[0:2]"
   ]
  },
  {
   "cell_type": "code",
   "execution_count": null,
   "id": "518289e2",
   "metadata": {},
   "outputs": [],
   "source": [
    "for i in titles_tags:\n",
    "    title=i.text\n",
    "    titles.append(title)\n",
    "titles[0:2]"
   ]
  },
  {
   "cell_type": "code",
   "execution_count": null,
   "id": "66772d6e",
   "metadata": {},
   "outputs": [],
   "source": [
    "#extract rank\n",
    "titles_tags1=driver.find_elements_by_xpath(\"//div[@class='rank']\")\n",
    "titles_tags1[0:2]"
   ]
  },
  {
   "cell_type": "code",
   "execution_count": null,
   "id": "4290b1d6",
   "metadata": {},
   "outputs": [],
   "source": [
    "for i in titles_tags1:\n",
    "    title=i.text\n",
    "    rank.append(title)\n",
    "rank[0:2]"
   ]
  },
  {
   "cell_type": "code",
   "execution_count": null,
   "id": "92f5f189",
   "metadata": {},
   "outputs": [],
   "source": [
    "#extract worth\n",
    "titles_tags2=driver.find_elements_by_xpath(\"//div[@class='netWorth']\")\n",
    "titles_tags2[0:2]"
   ]
  },
  {
   "cell_type": "code",
   "execution_count": null,
   "id": "4da82734",
   "metadata": {},
   "outputs": [],
   "source": [
    "for i in titles_tags2:\n",
    "    title=i.text\n",
    "    worth.append(title)\n",
    "worth[0:2]"
   ]
  },
  {
   "cell_type": "code",
   "execution_count": null,
   "id": "8a31a92a",
   "metadata": {},
   "outputs": [],
   "source": [
    "#extract age\n",
    "titles_tags3=driver.find_elements_by_xpath(\"//div[@class='age']\")\n",
    "titles_tags3[0:2]"
   ]
  },
  {
   "cell_type": "code",
   "execution_count": null,
   "id": "d4e935ea",
   "metadata": {},
   "outputs": [],
   "source": [
    "for i in titles_tags3:\n",
    "    title=i.text\n",
    "    age.append(title)\n",
    "age[0:2]"
   ]
  },
  {
   "cell_type": "code",
   "execution_count": null,
   "id": "d3fcbd7b",
   "metadata": {},
   "outputs": [],
   "source": [
    "#extract citizenship\n",
    "titles_tags4=driver.find_elements_by_xpath(\"//div[@class='countryOfCitizenship']\")\n",
    "titles_tags4[0:2]"
   ]
  },
  {
   "cell_type": "code",
   "execution_count": null,
   "id": "0e6e6128",
   "metadata": {},
   "outputs": [],
   "source": [
    "for i in titles_tags4:\n",
    "    title=i.text\n",
    "    citizen.append(title)\n",
    "citizen[0:2]"
   ]
  },
  {
   "cell_type": "code",
   "execution_count": null,
   "id": "02ae1397",
   "metadata": {},
   "outputs": [],
   "source": [
    "#extract source\n",
    "titles_tags5=driver.find_elements_by_xpath(\"//div[@class='source']\")\n",
    "titles_tags5[0:2]"
   ]
  },
  {
   "cell_type": "code",
   "execution_count": null,
   "id": "5c4b8f71",
   "metadata": {},
   "outputs": [],
   "source": [
    "for i in titles_tags5:\n",
    "    title=i.text\n",
    "    source.append(title)\n",
    "source[0:2]"
   ]
  },
  {
   "cell_type": "code",
   "execution_count": null,
   "id": "f916dc05",
   "metadata": {},
   "outputs": [],
   "source": [
    "#extract industry\n",
    "titles_tags6=driver.find_elements_by_xpath(\"//div[@class='category']\")\n",
    "titles_tags6[0:2]"
   ]
  },
  {
   "cell_type": "code",
   "execution_count": null,
   "id": "0f1fe768",
   "metadata": {},
   "outputs": [],
   "source": [
    "for i in titles_tags6:\n",
    "    title=i.text\n",
    "    industry.append(title)\n",
    "industry[0:2]"
   ]
  },
  {
   "cell_type": "code",
   "execution_count": null,
   "id": "326a59ec",
   "metadata": {},
   "outputs": [],
   "source": [
    "jobs=pd.DataFrame({})\n",
    "jobs['Name']=titles\n",
    "jobs['Rank']=rank\n",
    "jobs['Age']=age\n",
    "jobs['Net Worth']=worth\n",
    "jobs['Country']=citizen\n",
    "jobs['Source']=source\n",
    "jobs['Industry']=industry\n",
    "jobs"
   ]
  },
  {
   "cell_type": "code",
   "execution_count": null,
   "id": "a95e37b2",
   "metadata": {},
   "outputs": [],
   "source": [
    "driver.close()"
   ]
  },
  {
   "cell_type": "markdown",
   "id": "42e7d36f",
   "metadata": {},
   "source": [
    "# 9. Write a program to extract at least 500 Comments, Comment upvote and time when comment was posted from any YouTube Video."
   ]
  },
  {
   "cell_type": "code",
   "execution_count": null,
   "id": "3f321f1b",
   "metadata": {},
   "outputs": [],
   "source": []
  },
  {
   "cell_type": "code",
   "execution_count": null,
   "id": "28ec737e",
   "metadata": {},
   "outputs": [],
   "source": []
  },
  {
   "cell_type": "code",
   "execution_count": null,
   "id": "bd624cc6",
   "metadata": {},
   "outputs": [],
   "source": []
  },
  {
   "cell_type": "code",
   "execution_count": null,
   "id": "7e9b2a97",
   "metadata": {},
   "outputs": [],
   "source": []
  },
  {
   "cell_type": "code",
   "execution_count": null,
   "id": "b057d7bf",
   "metadata": {},
   "outputs": [],
   "source": []
  },
  {
   "cell_type": "code",
   "execution_count": null,
   "id": "a3117de3",
   "metadata": {},
   "outputs": [],
   "source": []
  },
  {
   "cell_type": "code",
   "execution_count": null,
   "id": "534994cf",
   "metadata": {},
   "outputs": [],
   "source": []
  },
  {
   "cell_type": "markdown",
   "id": "84ad3400",
   "metadata": {},
   "source": [
    "# 10. Write a python program to scrape a data for all available Hostels from https://www.hostelworld.com/ in “London” location. You have to scrape hostel name, distance from city centre, ratings, total reviews, overall reviews, privates from price, dorms from price, facilities and property description."
   ]
  },
  {
   "cell_type": "code",
   "execution_count": null,
   "id": "9e0add1a",
   "metadata": {},
   "outputs": [],
   "source": [
    "driver=webdriver.Chrome(\"chromedriver.exe\")\n",
    "time.sleep(2)"
   ]
  },
  {
   "cell_type": "markdown",
   "id": "cc9e46be",
   "metadata": {},
   "source": [
    "Selecting Location as London and then going to the desired page"
   ]
  },
  {
   "cell_type": "code",
   "execution_count": null,
   "id": "fe78bf22",
   "metadata": {},
   "outputs": [],
   "source": [
    "driver.get(\"https://www.hostelworld.com/s?q=London,%20England&country=England&city=London&type=city&id=3&from=2022-05-29&to=2022-05-30&guests=1&page=1\")"
   ]
  },
  {
   "cell_type": "code",
   "execution_count": null,
   "id": "8de58313",
   "metadata": {},
   "outputs": [],
   "source": [
    "name=[]\n",
    "dist=[]\n",
    "rating=[]\n",
    "review=[]\n",
    "overall=[]\n",
    "privates=[]\n",
    "dorms=[]\n",
    "facility=[]\n",
    "properte=[]"
   ]
  },
  {
   "cell_type": "code",
   "execution_count": null,
   "id": "ed482697",
   "metadata": {},
   "outputs": [],
   "source": [
    "#extract Names\n",
    "titles_tags=driver.find_elements_by_xpath(\"//h2[@class='title title-6']\")\n",
    "titles_tags[0:2]"
   ]
  },
  {
   "cell_type": "code",
   "execution_count": null,
   "id": "f881dbfd",
   "metadata": {},
   "outputs": [],
   "source": [
    "for i in titles_tags:\n",
    "    title=i.text\n",
    "    name.append(title)\n",
    "name[0:2]"
   ]
  },
  {
   "cell_type": "code",
   "execution_count": null,
   "id": "af01a190",
   "metadata": {},
   "outputs": [],
   "source": [
    "#extract Distance from City Hostel\n",
    "titles_tags1=driver.find_elements_by_xpath(\"//span[@class='description']\")\n",
    "titles_tags1[0:2]"
   ]
  },
  {
   "cell_type": "code",
   "execution_count": null,
   "id": "8ab508b6",
   "metadata": {},
   "outputs": [],
   "source": [
    "for i in titles_tags1:\n",
    "    title=i.text\n",
    "    dist.append(title)\n",
    "dist[0:2]"
   ]
  },
  {
   "cell_type": "code",
   "execution_count": null,
   "id": "6b1f6dc4",
   "metadata": {},
   "outputs": [],
   "source": [
    "#extract rating\n",
    "titles_tags2=driver.find_elements_by_xpath(\"//div[@class='score orange big']\")\n",
    "titles_tags2[0:2]"
   ]
  },
  {
   "cell_type": "code",
   "execution_count": null,
   "id": "a7618267",
   "metadata": {},
   "outputs": [],
   "source": [
    "for i in titles_tags2:\n",
    "    title=i.text\n",
    "    rating.append(title)\n",
    "rating[0:2]"
   ]
  },
  {
   "cell_type": "code",
   "execution_count": null,
   "id": "6b56b10d",
   "metadata": {},
   "outputs": [],
   "source": [
    "#extract Total  Review\n",
    "titles_tags3=driver.find_elements_by_xpath(\"//div[@class='reviews']\")\n",
    "titles_tags3[0:2]"
   ]
  },
  {
   "cell_type": "code",
   "execution_count": null,
   "id": "8e4dca80",
   "metadata": {},
   "outputs": [],
   "source": [
    "for i in titles_tags3:\n",
    "    title=i.text\n",
    "    review.append(title)\n",
    "review[0:2]"
   ]
  },
  {
   "cell_type": "code",
   "execution_count": null,
   "id": "02ea924c",
   "metadata": {},
   "outputs": [],
   "source": [
    "#extract Overall Reviews\n",
    "titles_tags4=driver.find_elements_by_xpath(\"//div[@class='keyword']\")\n",
    "titles_tags4[0:2]"
   ]
  },
  {
   "cell_type": "code",
   "execution_count": null,
   "id": "4b7bb541",
   "metadata": {},
   "outputs": [],
   "source": [
    "for i in titles_tags4:\n",
    "    title=i.text\n",
    "    overall.append(title)\n",
    "overall[0:2]"
   ]
  },
  {
   "cell_type": "code",
   "execution_count": null,
   "id": "2f44b7b4",
   "metadata": {},
   "outputs": [],
   "source": [
    "#extract Privates from Price\n",
    "titles_tags5=driver.find_elements_by_xpath(\"//div[@class='price title-5']\")\n",
    "titles_tags5[0:2]"
   ]
  },
  {
   "cell_type": "code",
   "execution_count": null,
   "id": "0cbc32c2",
   "metadata": {},
   "outputs": [],
   "source": [
    "for i in titles_tags5:\n",
    "    title=i.text\n",
    "    privates.append(title)\n",
    "privates[0:2]"
   ]
  },
  {
   "cell_type": "code",
   "execution_count": null,
   "id": "1b88ef7f",
   "metadata": {},
   "outputs": [],
   "source": [
    "#extract dorms from Price\n",
    "titles_tags6=driver.find_elements_by_xpath(\"//div[@class='price title-5']\")\n",
    "titles_tags6[0:2]"
   ]
  },
  {
   "cell_type": "code",
   "execution_count": null,
   "id": "2b12d58a",
   "metadata": {},
   "outputs": [],
   "source": [
    "for i in titles_tags6:\n",
    "    title=i.text\n",
    "    dorms.append(title)\n",
    "dorms[0:2]"
   ]
  },
  {
   "cell_type": "code",
   "execution_count": null,
   "id": "e67c90e3",
   "metadata": {},
   "outputs": [],
   "source": [
    "#extract Facility\n",
    "titles_tags7=driver.find_elements_by_xpath(\"//div[@class='facilities-label facilities']\")\n",
    "titles_tags7[0:2]"
   ]
  },
  {
   "cell_type": "code",
   "execution_count": null,
   "id": "2708893b",
   "metadata": {},
   "outputs": [],
   "source": [
    "for i in titles_tags7:\n",
    "    title=i.text\n",
    "    facility.append(title)\n",
    "facility[0:2]"
   ]
  },
  {
   "cell_type": "code",
   "execution_count": null,
   "id": "cd556280",
   "metadata": {},
   "outputs": [],
   "source": [
    "#extract Property\n",
    "titles_tags8=driver.find_elements_by_xpath(\"//div[@class='rating-factors prop-card-tablet rating-factors small']\")\n",
    "titles_tags8[0:2]"
   ]
  },
  {
   "cell_type": "code",
   "execution_count": null,
   "id": "cd5ac8a6",
   "metadata": {},
   "outputs": [],
   "source": [
    "for i in titles_tags8:\n",
    "    title=i.text\n",
    "    properte.append(title)\n",
    "properte[0:2]"
   ]
  },
  {
   "cell_type": "code",
   "execution_count": null,
   "id": "d413fd13",
   "metadata": {},
   "outputs": [],
   "source": [
    "print(len(name),len(dist),len(rating),len(review),len(overall),len(privates),len(dorms),len(facility),len(properte))"
   ]
  },
  {
   "cell_type": "code",
   "execution_count": null,
   "id": "89783f82",
   "metadata": {},
   "outputs": [],
   "source": [
    "jobs=pd.DataFrame({})\n",
    "jobs['Name']=name\n",
    "jobs['Distance From City']=dist\n",
    "jobs['Rating']=rating\n",
    "jobs['Total Review']=review\n",
    "#jobs['Overall Review']=overall\n",
    "#jobs['Privates From Price']=privates\n",
    "#jobs['Dorms drom Price']=dorms\n",
    "jobs['Facility']=facility\n",
    "jobs['Property']=properte\n",
    "jobs"
   ]
  },
  {
   "cell_type": "code",
   "execution_count": null,
   "id": "085304b9",
   "metadata": {},
   "outputs": [],
   "source": [
    "driver.close()"
   ]
  },
  {
   "cell_type": "code",
   "execution_count": null,
   "id": "dc80b643",
   "metadata": {},
   "outputs": [],
   "source": []
  }
 ],
 "metadata": {
  "kernelspec": {
   "display_name": "Python 3",
   "language": "python",
   "name": "python3"
  },
  "language_info": {
   "codemirror_mode": {
    "name": "ipython",
    "version": 3
   },
   "file_extension": ".py",
   "mimetype": "text/x-python",
   "name": "python",
   "nbconvert_exporter": "python",
   "pygments_lexer": "ipython3",
   "version": "3.8.8"
  }
 },
 "nbformat": 4,
 "nbformat_minor": 5
}
