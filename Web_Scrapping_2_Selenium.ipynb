{
 "cells": [
  {
   "cell_type": "markdown",
   "id": "13e0b484",
   "metadata": {},
   "source": [
    "# Q1: Write a python program to scrape data for “Data Analyst” Job position in “Bangalore” location. You have to scrape the job-title, job-location, company_name, experience_required. You have to scrape first 10 jobs data.\n",
    "This task will be done in following steps:\n",
    "1. First get the webpage https://www.naukri.com/\n",
    "2. Enter “Data Analyst” in “Skill, Designations, Companies” field and enter “Bangalore” in “enter the location” field.\n",
    "3. Then click the search button.\n",
    "4. Then scrape the data for the first 10 jobs results you get.\n",
    "5. Finally create a dataframe of the scraped data."
   ]
  },
  {
   "cell_type": "code",
   "execution_count": null,
   "id": "3c789b84",
   "metadata": {},
   "outputs": [],
   "source": [
    "#! pip install selenium"
   ]
  },
  {
   "cell_type": "code",
   "execution_count": 256,
   "id": "43f72d25",
   "metadata": {},
   "outputs": [],
   "source": [
    "import selenium\n",
    "import pandas as pd\n",
    "from selenium import webdriver\n",
    "import warnings\n",
    "warnings.filterwarnings(\"ignore\")\n",
    "import time"
   ]
  },
  {
   "cell_type": "code",
   "execution_count": 257,
   "id": "f606ca5b",
   "metadata": {},
   "outputs": [],
   "source": [
    "#driver = webdriver.Chrome(r\"C:\\Users\\Asus\\Documents\\chromedriver_win32\\Chromedriver.exe\")"
   ]
  },
  {
   "cell_type": "code",
   "execution_count": 258,
   "id": "4b3aba54",
   "metadata": {},
   "outputs": [],
   "source": [
    "driver=webdriver.Chrome(\"chromedriver.exe\")\n",
    "time.sleep(2)"
   ]
  },
  {
   "cell_type": "code",
   "execution_count": 259,
   "id": "f4ac9621",
   "metadata": {},
   "outputs": [],
   "source": [
    "driver.get(\"https://www.naukri.com/\")"
   ]
  },
  {
   "cell_type": "code",
   "execution_count": 260,
   "id": "7660b960",
   "metadata": {},
   "outputs": [],
   "source": [
    "#finding element for job search bar\n",
    "search_field_designation=driver.find_element_by_class_name(\"suggestor-input \")\n",
    "search_field_designation.send_keys(\"Data Analyst,\")\n",
    "search_field_location=driver.find_element_by_xpath('/html/body/div/div[2]/div[3]/div/div/div[1]/div/div/div/input')\n",
    "search_field_location.send_keys(\"bangalore/bengaluru\")"
   ]
  },
  {
   "cell_type": "code",
   "execution_count": 261,
   "id": "6d30a6dd",
   "metadata": {},
   "outputs": [],
   "source": [
    "search_button=driver.find_element_by_xpath('/html/body/div/div[2]/div[3]/div/div/div[6]')\n",
    "search_button.click()"
   ]
  },
  {
   "cell_type": "code",
   "execution_count": 262,
   "id": "f052191a",
   "metadata": {},
   "outputs": [],
   "source": [
    "job_titles=[]\n",
    "company_names=[]\n",
    "locations_list=[]\n",
    "experience_list=[]"
   ]
  },
  {
   "cell_type": "code",
   "execution_count": 263,
   "id": "7a4c23ff",
   "metadata": {},
   "outputs": [
    {
     "data": {
      "text/plain": [
       "[<selenium.webdriver.remote.webelement.WebElement (session=\"5d1add5f840a260e613cd5e44898aeb3\", element=\"9066abf4-4af6-43ac-a5bf-c4db89a5ba67\")>,\n",
       " <selenium.webdriver.remote.webelement.WebElement (session=\"5d1add5f840a260e613cd5e44898aeb3\", element=\"b07b51b2-e37c-48db-a6c2-a42411ee048c\")>,\n",
       " <selenium.webdriver.remote.webelement.WebElement (session=\"5d1add5f840a260e613cd5e44898aeb3\", element=\"a60e79e6-dfb9-41f7-bba2-bb1d16d92590\")>,\n",
       " <selenium.webdriver.remote.webelement.WebElement (session=\"5d1add5f840a260e613cd5e44898aeb3\", element=\"d5bc909f-a6b8-469e-a204-c51a5aee6bd2\")>]"
      ]
     },
     "execution_count": 263,
     "metadata": {},
     "output_type": "execute_result"
    }
   ],
   "source": [
    "#extract job titles\n",
    "titles_tags=driver.find_elements_by_xpath(\"//a[@class='title fw500 ellipsis']\")\n",
    "titles_tags[0:4]"
   ]
  },
  {
   "cell_type": "code",
   "execution_count": 264,
   "id": "ed7303e8",
   "metadata": {},
   "outputs": [
    {
     "data": {
      "text/plain": [
       "['SAS Analyst / data Analyst / Business analyst - Sas + SQL',\n",
       " 'Data Analyst I',\n",
       " 'Senior Data Analyst',\n",
       " 'Lead Data Analyst - Risk Analytics']"
      ]
     },
     "execution_count": 264,
     "metadata": {},
     "output_type": "execute_result"
    }
   ],
   "source": [
    "for i in titles_tags:\n",
    "    title=i.text\n",
    "    job_titles.append(title)\n",
    "job_titles[0:4]"
   ]
  },
  {
   "cell_type": "code",
   "execution_count": 265,
   "id": "b49dff46",
   "metadata": {},
   "outputs": [
    {
     "data": {
      "text/plain": [
       "[<selenium.webdriver.remote.webelement.WebElement (session=\"5d1add5f840a260e613cd5e44898aeb3\", element=\"31d4e65d-4a80-4201-aa30-e744fe944b32\")>,\n",
       " <selenium.webdriver.remote.webelement.WebElement (session=\"5d1add5f840a260e613cd5e44898aeb3\", element=\"2ff21716-0d07-443a-ada1-4e0de9103f75\")>,\n",
       " <selenium.webdriver.remote.webelement.WebElement (session=\"5d1add5f840a260e613cd5e44898aeb3\", element=\"c8e7a845-02a0-4dd9-a2bc-436715fc60f6\")>,\n",
       " <selenium.webdriver.remote.webelement.WebElement (session=\"5d1add5f840a260e613cd5e44898aeb3\", element=\"b03632ef-2816-458a-a0b9-1c587b6df041\")>]"
      ]
     },
     "execution_count": 265,
     "metadata": {},
     "output_type": "execute_result"
    }
   ],
   "source": [
    "#extract company names\n",
    "company_tags=driver.find_elements_by_xpath(\"//a[@class='subTitle ellipsis fleft']\")\n",
    "company_tags[0:4]"
   ]
  },
  {
   "cell_type": "code",
   "execution_count": 266,
   "id": "07c9f18b",
   "metadata": {},
   "outputs": [
    {
     "data": {
      "text/plain": [
       "['Leading US MNC into analytics', 'Bioclinica', 'Shell', 'Gojek']"
      ]
     },
     "execution_count": 266,
     "metadata": {},
     "output_type": "execute_result"
    }
   ],
   "source": [
    "for i in company_tags:\n",
    "    comp=i.text\n",
    "    company_names.append(comp)\n",
    "company_names[0:4]"
   ]
  },
  {
   "cell_type": "code",
   "execution_count": 267,
   "id": "95865eb0",
   "metadata": {},
   "outputs": [
    {
     "data": {
      "text/plain": [
       "[<selenium.webdriver.remote.webelement.WebElement (session=\"5d1add5f840a260e613cd5e44898aeb3\", element=\"ac19126e-92ad-42ab-9515-4a6d1f79c6df\")>,\n",
       " <selenium.webdriver.remote.webelement.WebElement (session=\"5d1add5f840a260e613cd5e44898aeb3\", element=\"f6bfa369-86f8-4bf7-8e83-85545d658816\")>,\n",
       " <selenium.webdriver.remote.webelement.WebElement (session=\"5d1add5f840a260e613cd5e44898aeb3\", element=\"1feb8f65-f8a6-406f-a871-1f0291745e5a\")>,\n",
       " <selenium.webdriver.remote.webelement.WebElement (session=\"5d1add5f840a260e613cd5e44898aeb3\", element=\"aa7dd3dc-16b0-49e4-8883-f542f47bdc2a\")>]"
      ]
     },
     "execution_count": 267,
     "metadata": {},
     "output_type": "execute_result"
    }
   ],
   "source": [
    "#extract experience\n",
    "experience_tags=driver.find_elements_by_xpath(\"//li[@class='fleft grey-text br2 placeHolderLi experience']\")\n",
    "experience_tags[0:4]"
   ]
  },
  {
   "cell_type": "code",
   "execution_count": 268,
   "id": "0e8db5ec",
   "metadata": {},
   "outputs": [
    {
     "data": {
      "text/plain": [
       "['2-7 Yrs', '0-3 Yrs', '10-12 Yrs', '5-11 Yrs']"
      ]
     },
     "execution_count": 268,
     "metadata": {},
     "output_type": "execute_result"
    }
   ],
   "source": [
    "for i in experience_tags:\n",
    "    expp=i.text\n",
    "    experience_list.append(expp)\n",
    "experience_list[0:4]"
   ]
  },
  {
   "cell_type": "code",
   "execution_count": 269,
   "id": "e9629614",
   "metadata": {},
   "outputs": [
    {
     "data": {
      "text/plain": [
       "[<selenium.webdriver.remote.webelement.WebElement (session=\"5d1add5f840a260e613cd5e44898aeb3\", element=\"01742d75-b16b-470e-b9a2-897bbbc315c9\")>,\n",
       " <selenium.webdriver.remote.webelement.WebElement (session=\"5d1add5f840a260e613cd5e44898aeb3\", element=\"b6412188-3e84-41ac-a80d-1ce7c4ef5244\")>,\n",
       " <selenium.webdriver.remote.webelement.WebElement (session=\"5d1add5f840a260e613cd5e44898aeb3\", element=\"f5172a33-217e-420a-ad5d-03bb2be02b4e\")>,\n",
       " <selenium.webdriver.remote.webelement.WebElement (session=\"5d1add5f840a260e613cd5e44898aeb3\", element=\"6d265d15-135b-45c2-ab57-5910e53a3534\")>]"
      ]
     },
     "execution_count": 269,
     "metadata": {},
     "output_type": "execute_result"
    }
   ],
   "source": [
    "#extract location\n",
    "loct_tags=driver.find_elements_by_xpath(\"//li[@class='fleft grey-text br2 placeHolderLi location']\")\n",
    "loct_tags[0:4]"
   ]
  },
  {
   "cell_type": "code",
   "execution_count": 270,
   "id": "9c6b428a",
   "metadata": {},
   "outputs": [
    {
     "data": {
      "text/plain": [
       "['Bangalore/Bengaluru, Delhi / NCR, Mumbai (All Areas)\\n(WFH during Covid)',\n",
       " 'Bangalore/Bengaluru',\n",
       " 'Bangalore/Bengaluru',\n",
       " 'Bangalore/Bengaluru']"
      ]
     },
     "execution_count": 270,
     "metadata": {},
     "output_type": "execute_result"
    }
   ],
   "source": [
    "for i in loct_tags:\n",
    "    loct=i.text\n",
    "    locations_list.append(loct)\n",
    "locations_list[0:4]"
   ]
  },
  {
   "cell_type": "code",
   "execution_count": 271,
   "id": "5183373f",
   "metadata": {},
   "outputs": [
    {
     "name": "stdout",
     "output_type": "stream",
     "text": [
      "20 20 20 20\n"
     ]
    }
   ],
   "source": [
    "print(len(job_titles),len(company_names),len(experience_list),len(locations_list))"
   ]
  },
  {
   "cell_type": "code",
   "execution_count": 272,
   "id": "c1042c8e",
   "metadata": {},
   "outputs": [
    {
     "data": {
      "text/html": [
       "<div>\n",
       "<style scoped>\n",
       "    .dataframe tbody tr th:only-of-type {\n",
       "        vertical-align: middle;\n",
       "    }\n",
       "\n",
       "    .dataframe tbody tr th {\n",
       "        vertical-align: top;\n",
       "    }\n",
       "\n",
       "    .dataframe thead th {\n",
       "        text-align: right;\n",
       "    }\n",
       "</style>\n",
       "<table border=\"1\" class=\"dataframe\">\n",
       "  <thead>\n",
       "    <tr style=\"text-align: right;\">\n",
       "      <th></th>\n",
       "      <th>Title</th>\n",
       "      <th>Location</th>\n",
       "      <th>Company Name</th>\n",
       "      <th>Experience</th>\n",
       "    </tr>\n",
       "  </thead>\n",
       "  <tbody>\n",
       "    <tr>\n",
       "      <th>0</th>\n",
       "      <td>SAS Analyst / data Analyst / Business analyst ...</td>\n",
       "      <td>Bangalore/Bengaluru, Delhi / NCR, Mumbai (All ...</td>\n",
       "      <td>Leading US MNC into analytics</td>\n",
       "      <td>2-7 Yrs</td>\n",
       "    </tr>\n",
       "    <tr>\n",
       "      <th>1</th>\n",
       "      <td>Data Analyst I</td>\n",
       "      <td>Bangalore/Bengaluru</td>\n",
       "      <td>Bioclinica</td>\n",
       "      <td>0-3 Yrs</td>\n",
       "    </tr>\n",
       "    <tr>\n",
       "      <th>2</th>\n",
       "      <td>Senior Data Analyst</td>\n",
       "      <td>Bangalore/Bengaluru</td>\n",
       "      <td>Shell</td>\n",
       "      <td>10-12 Yrs</td>\n",
       "    </tr>\n",
       "    <tr>\n",
       "      <th>3</th>\n",
       "      <td>Lead Data Analyst - Risk Analytics</td>\n",
       "      <td>Bangalore/Bengaluru</td>\n",
       "      <td>Gojek</td>\n",
       "      <td>5-11 Yrs</td>\n",
       "    </tr>\n",
       "    <tr>\n",
       "      <th>4</th>\n",
       "      <td>Hiring - Zonal Data Analyst (Off Role) - Opera...</td>\n",
       "      <td>New Delhi, Bangalore/Bengaluru</td>\n",
       "      <td>Rupeek</td>\n",
       "      <td>2-7 Yrs</td>\n",
       "    </tr>\n",
       "    <tr>\n",
       "      <th>5</th>\n",
       "      <td>Senior Data Analyst</td>\n",
       "      <td>Chennai, Bangalore/Bengaluru</td>\n",
       "      <td>LatentView</td>\n",
       "      <td>3-6 Yrs</td>\n",
       "    </tr>\n",
       "    <tr>\n",
       "      <th>6</th>\n",
       "      <td>Sr Domain Expert -Data Analysts</td>\n",
       "      <td>Bangalore/Bengaluru</td>\n",
       "      <td>Siemens</td>\n",
       "      <td>0-10 Yrs</td>\n",
       "    </tr>\n",
       "    <tr>\n",
       "      <th>7</th>\n",
       "      <td>Associate Data Analyst</td>\n",
       "      <td>Bangalore/Bengaluru</td>\n",
       "      <td>Optum</td>\n",
       "      <td>2-7 Yrs</td>\n",
       "    </tr>\n",
       "    <tr>\n",
       "      <th>8</th>\n",
       "      <td>Associate Data Analyst</td>\n",
       "      <td>Bangalore/Bengaluru</td>\n",
       "      <td>Optum</td>\n",
       "      <td>4-9 Yrs</td>\n",
       "    </tr>\n",
       "    <tr>\n",
       "      <th>9</th>\n",
       "      <td>Denave Hiring Data Analyst Bengaluru Location</td>\n",
       "      <td>Bangalore/Bengaluru</td>\n",
       "      <td>Denave India Pvt Ltd.</td>\n",
       "      <td>5-10 Yrs</td>\n",
       "    </tr>\n",
       "  </tbody>\n",
       "</table>\n",
       "</div>"
      ],
      "text/plain": [
       "                                               Title  \\\n",
       "0  SAS Analyst / data Analyst / Business analyst ...   \n",
       "1                                     Data Analyst I   \n",
       "2                                Senior Data Analyst   \n",
       "3                 Lead Data Analyst - Risk Analytics   \n",
       "4  Hiring - Zonal Data Analyst (Off Role) - Opera...   \n",
       "5                                Senior Data Analyst   \n",
       "6                    Sr Domain Expert -Data Analysts   \n",
       "7                             Associate Data Analyst   \n",
       "8                             Associate Data Analyst   \n",
       "9      Denave Hiring Data Analyst Bengaluru Location   \n",
       "\n",
       "                                            Location  \\\n",
       "0  Bangalore/Bengaluru, Delhi / NCR, Mumbai (All ...   \n",
       "1                                Bangalore/Bengaluru   \n",
       "2                                Bangalore/Bengaluru   \n",
       "3                                Bangalore/Bengaluru   \n",
       "4                     New Delhi, Bangalore/Bengaluru   \n",
       "5                       Chennai, Bangalore/Bengaluru   \n",
       "6                                Bangalore/Bengaluru   \n",
       "7                                Bangalore/Bengaluru   \n",
       "8                                Bangalore/Bengaluru   \n",
       "9                                Bangalore/Bengaluru   \n",
       "\n",
       "                    Company Name Experience  \n",
       "0  Leading US MNC into analytics    2-7 Yrs  \n",
       "1                     Bioclinica    0-3 Yrs  \n",
       "2                          Shell  10-12 Yrs  \n",
       "3                          Gojek   5-11 Yrs  \n",
       "4                         Rupeek    2-7 Yrs  \n",
       "5                     LatentView    3-6 Yrs  \n",
       "6                        Siemens   0-10 Yrs  \n",
       "7                          Optum    2-7 Yrs  \n",
       "8                          Optum    4-9 Yrs  \n",
       "9          Denave India Pvt Ltd.   5-10 Yrs  "
      ]
     },
     "execution_count": 272,
     "metadata": {},
     "output_type": "execute_result"
    }
   ],
   "source": [
    "jobs=pd.DataFrame({})\n",
    "jobs['Title']=job_titles\n",
    "jobs['Location']=locations_list\n",
    "jobs['Company Name']=company_names\n",
    "jobs['Experience']=experience_list\n",
    "jobs.head(10)"
   ]
  },
  {
   "cell_type": "code",
   "execution_count": 273,
   "id": "f29fba76",
   "metadata": {},
   "outputs": [],
   "source": [
    "driver.close()"
   ]
  },
  {
   "cell_type": "code",
   "execution_count": null,
   "id": "66e1ec71",
   "metadata": {},
   "outputs": [],
   "source": []
  },
  {
   "cell_type": "markdown",
   "id": "acd88dac",
   "metadata": {},
   "source": [
    "# Q2: Write a python program to scrape data for “Data Scientist” Job position in “Bangalore” location. You have to scrape the job-title, job-location, company_name. You have to scrape first 10 jobs data.\n",
    "This task will be done in following steps:\n",
    "1. First get the webpage https://www.naukri.com/\n",
    "2. Enter “Data Scientist” in “Skill, Designations, Companies” field and enter “Bangalore” in “enter the location” field.\n",
    "3. Then click the search button.\n",
    "4. Then scrape the data for the first 10 jobs results you get.\n",
    "5. Finally create a dataframe of the scraped data."
   ]
  },
  {
   "cell_type": "code",
   "execution_count": null,
   "id": "c4ee7a09",
   "metadata": {},
   "outputs": [],
   "source": [
    "driver=webdriver.Chrome(\"chromedriver.exe\")\n",
    "time.sleep(2)"
   ]
  },
  {
   "cell_type": "code",
   "execution_count": null,
   "id": "70c6af6b",
   "metadata": {},
   "outputs": [],
   "source": [
    "driver.get(\"https://www.naukri.com/\")"
   ]
  },
  {
   "cell_type": "code",
   "execution_count": null,
   "id": "7e096bd8",
   "metadata": {},
   "outputs": [],
   "source": [
    "#finding element for job search bar\n",
    "search_field_designation=driver.find_element_by_class_name(\"suggestor-input \")\n",
    "search_field_designation.send_keys(\"Data Scientist,\")\n",
    "search_field_location=driver.find_element_by_xpath('/html/body/div/div[2]/div[3]/div/div/div[1]/div/div/div/input')\n",
    "search_field_location.send_keys(\"bangalore/bengaluru\")"
   ]
  },
  {
   "cell_type": "code",
   "execution_count": null,
   "id": "4ba56ad2",
   "metadata": {},
   "outputs": [],
   "source": [
    "search_button=driver.find_element_by_xpath('/html/body/div/div[2]/div[3]/div/div/div[6]')\n",
    "search_button.click()"
   ]
  },
  {
   "cell_type": "code",
   "execution_count": null,
   "id": "aaebc416",
   "metadata": {},
   "outputs": [],
   "source": [
    "job_titles=[]\n",
    "company_names=[]\n",
    "locations_list=[]\n",
    "experience_list=[]"
   ]
  },
  {
   "cell_type": "code",
   "execution_count": null,
   "id": "c4f69f19",
   "metadata": {},
   "outputs": [],
   "source": [
    "#extract job titles\n",
    "titles_tags=driver.find_elements_by_xpath(\"//a[@class='title fw500 ellipsis']\")\n",
    "titles_tags[0:4]"
   ]
  },
  {
   "cell_type": "code",
   "execution_count": null,
   "id": "024571b4",
   "metadata": {},
   "outputs": [],
   "source": [
    "for i in titles_tags:\n",
    "    title=i.text\n",
    "    job_titles.append(title)\n",
    "job_titles[0:4]"
   ]
  },
  {
   "cell_type": "code",
   "execution_count": null,
   "id": "4088253a",
   "metadata": {},
   "outputs": [],
   "source": [
    "#extract company names\n",
    "company_tags=driver.find_elements_by_xpath(\"//a[@class='subTitle ellipsis fleft']\")\n",
    "company_tags[0:4]"
   ]
  },
  {
   "cell_type": "code",
   "execution_count": null,
   "id": "ce9f858e",
   "metadata": {},
   "outputs": [],
   "source": [
    "for i in company_tags:\n",
    "    comp=i.text\n",
    "    company_names.append(comp)\n",
    "company_names[0:4]"
   ]
  },
  {
   "cell_type": "code",
   "execution_count": null,
   "id": "2b4b9baf",
   "metadata": {},
   "outputs": [],
   "source": [
    "#extract experience\n",
    "experience_tags=driver.find_elements_by_xpath(\"//li[@class='fleft grey-text br2 placeHolderLi experience']\")\n",
    "experience_tags[0:4]"
   ]
  },
  {
   "cell_type": "code",
   "execution_count": null,
   "id": "9eb22245",
   "metadata": {},
   "outputs": [],
   "source": [
    "for i in experience_tags:\n",
    "    expp=i.text\n",
    "    experience_list.append(expp)\n",
    "experience_list[0:4]"
   ]
  },
  {
   "cell_type": "code",
   "execution_count": null,
   "id": "55233b85",
   "metadata": {},
   "outputs": [],
   "source": [
    "#extract location\n",
    "loct_tags=driver.find_elements_by_xpath(\"//li[@class='fleft grey-text br2 placeHolderLi location']\")\n",
    "loct_tags[0:4]"
   ]
  },
  {
   "cell_type": "code",
   "execution_count": null,
   "id": "58ac7280",
   "metadata": {},
   "outputs": [],
   "source": [
    "for i in loct_tags:\n",
    "    loct=i.text\n",
    "    locations_list.append(loct)\n",
    "locations_list[0:4]"
   ]
  },
  {
   "cell_type": "code",
   "execution_count": null,
   "id": "af02bf32",
   "metadata": {},
   "outputs": [],
   "source": [
    "print(len(job_titles),len(company_names),len(experience_list),len(locations_list))"
   ]
  },
  {
   "cell_type": "code",
   "execution_count": null,
   "id": "ebeda1b1",
   "metadata": {},
   "outputs": [],
   "source": [
    "jobs=pd.DataFrame({})\n",
    "jobs['Title']=job_titles\n",
    "jobs['Location']=locations_list\n",
    "jobs['Company Name']=company_names\n",
    "jobs['Experience']=experience_list\n",
    "jobs.head(10)"
   ]
  },
  {
   "cell_type": "code",
   "execution_count": null,
   "id": "1055284a",
   "metadata": {},
   "outputs": [],
   "source": [
    "driver.close()"
   ]
  },
  {
   "cell_type": "code",
   "execution_count": null,
   "id": "85aaccd5",
   "metadata": {},
   "outputs": [],
   "source": []
  },
  {
   "cell_type": "markdown",
   "id": "0a958b87",
   "metadata": {},
   "source": [
    "# Q3: In this question you have to scrape data using the filters available on the webpage as shown below:\n",
    "\n",
    "You have to use the location and salary filter.\n",
    "You have to scrape data for “Data Scientist” designation for first 10 job results.\n",
    "You have to scrape the job-title, job-location, company name, experience required. The location filter to be used is “Delhi/NCR”. The salary filter to be used is “3-6” lakhs\n",
    "\n",
    "The task will be done as shown in the below steps:\n",
    "1. first get the webpage https://www.naukri.com/\n",
    "2. Enter “Data Scientist” in “Skill, Designations, and Companies” field.\n",
    "3. Then click the search button.\n",
    "4. Then apply the location filter and salary filter by checking the respective boxes\n",
    "5. Then scrape the data for the first 10 jobs results you get.\n",
    "6. Finally create a dataframe of the scraped data."
   ]
  },
  {
   "cell_type": "code",
   "execution_count": 274,
   "id": "7d940cb1",
   "metadata": {},
   "outputs": [],
   "source": [
    "driver=webdriver.Chrome(\"chromedriver.exe\")\n",
    "time.sleep(2)"
   ]
  },
  {
   "cell_type": "code",
   "execution_count": 275,
   "id": "37b0b524",
   "metadata": {},
   "outputs": [],
   "source": [
    "driver.get(\"https://www.naukri.com/\")"
   ]
  },
  {
   "cell_type": "code",
   "execution_count": 276,
   "id": "68ae79e3",
   "metadata": {},
   "outputs": [],
   "source": [
    "#finding element for job search bar\n",
    "search_field_designation=driver.find_element_by_class_name(\"suggestor-input \")\n",
    "search_field_designation.send_keys(\"data scientist,\")"
   ]
  },
  {
   "cell_type": "code",
   "execution_count": 277,
   "id": "9bc64fc3",
   "metadata": {},
   "outputs": [],
   "source": [
    "search_button=driver.find_element_by_xpath('/html/body/div/div[2]/div[3]/div/div/div[6]')\n",
    "search_button.click()"
   ]
  },
  {
   "cell_type": "code",
   "execution_count": 278,
   "id": "f4cd1fff",
   "metadata": {},
   "outputs": [
    {
     "ename": "NoSuchElementException",
     "evalue": "Message: no such element: Unable to locate element: {\"method\":\"xpath\",\"selector\":\"/html/body/div[1]/div[3]/div[2]/section[1]/div[2]/div[5]/div[2]/div[2]/label/i\"}\n  (Session info: chrome=101.0.4951.41)\nStacktrace:\nBacktrace:\n\tOrdinal0 [0x00CCA8E3+2402531]\n\tOrdinal0 [0x00C5B011+1945617]\n\tOrdinal0 [0x00B4C748+837448]\n\tOrdinal0 [0x00B79330+1020720]\n\tOrdinal0 [0x00B795CB+1021387]\n\tOrdinal0 [0x00BA63B2+1205170]\n\tOrdinal0 [0x00B942F4+1131252]\n\tOrdinal0 [0x00BA46C2+1197762]\n\tOrdinal0 [0x00B940C6+1130694]\n\tOrdinal0 [0x00B6E676+976502]\n\tOrdinal0 [0x00B6F586+980358]\n\tGetHandleVerifier [0x00F3BC42+2511938]\n\tGetHandleVerifier [0x00F2ED6F+2458991]\n\tGetHandleVerifier [0x00D631AA+575914]\n\tGetHandleVerifier [0x00D61FA6+571302]\n\tOrdinal0 [0x00C61DEB+1973739]\n\tOrdinal0 [0x00C66778+1992568]\n\tOrdinal0 [0x00C66865+1992805]\n\tOrdinal0 [0x00C6FA41+2030145]\n\tBaseThreadInitThunk [0x74F87BA9+25]\n\tRtlInitializeExceptionChain [0x7728B7DB+107]\n\tRtlClearBits [0x7728B75F+191]\n",
     "output_type": "error",
     "traceback": [
      "\u001b[1;31m---------------------------------------------------------------------------\u001b[0m",
      "\u001b[1;31mNoSuchElementException\u001b[0m                    Traceback (most recent call last)",
      "\u001b[1;32m<ipython-input-278-f8f04154718c>\u001b[0m in \u001b[0;36m<module>\u001b[1;34m\u001b[0m\n\u001b[0;32m      1\u001b[0m \u001b[1;31m#finding element for lcation and salary check box\u001b[0m\u001b[1;33m\u001b[0m\u001b[1;33m\u001b[0m\u001b[1;33m\u001b[0m\u001b[0m\n\u001b[1;32m----> 2\u001b[1;33m \u001b[0mchek1\u001b[0m\u001b[1;33m=\u001b[0m\u001b[0mdriver\u001b[0m\u001b[1;33m.\u001b[0m\u001b[0mfind_element_by_xpath\u001b[0m\u001b[1;33m(\u001b[0m\u001b[1;34m'/html/body/div[1]/div[3]/div[2]/section[1]/div[2]/div[5]/div[2]/div[2]/label/i'\u001b[0m\u001b[1;33m)\u001b[0m\u001b[1;33m\u001b[0m\u001b[1;33m\u001b[0m\u001b[0m\n\u001b[0m\u001b[0;32m      3\u001b[0m \u001b[0mchek1\u001b[0m\u001b[1;33m.\u001b[0m\u001b[0mclick\u001b[0m\u001b[1;33m(\u001b[0m\u001b[1;33m)\u001b[0m\u001b[1;33m\u001b[0m\u001b[1;33m\u001b[0m\u001b[0m\n",
      "\u001b[1;32m~\\anaconda3\\lib\\site-packages\\selenium\\webdriver\\remote\\webdriver.py\u001b[0m in \u001b[0;36mfind_element_by_xpath\u001b[1;34m(self, xpath)\u001b[0m\n\u001b[0;32m    519\u001b[0m             \u001b[0mstacklevel\u001b[0m\u001b[1;33m=\u001b[0m\u001b[1;36m2\u001b[0m\u001b[1;33m,\u001b[0m\u001b[1;33m\u001b[0m\u001b[1;33m\u001b[0m\u001b[0m\n\u001b[0;32m    520\u001b[0m         )\n\u001b[1;32m--> 521\u001b[1;33m         \u001b[1;32mreturn\u001b[0m \u001b[0mself\u001b[0m\u001b[1;33m.\u001b[0m\u001b[0mfind_element\u001b[0m\u001b[1;33m(\u001b[0m\u001b[0mby\u001b[0m\u001b[1;33m=\u001b[0m\u001b[0mBy\u001b[0m\u001b[1;33m.\u001b[0m\u001b[0mXPATH\u001b[0m\u001b[1;33m,\u001b[0m \u001b[0mvalue\u001b[0m\u001b[1;33m=\u001b[0m\u001b[0mxpath\u001b[0m\u001b[1;33m)\u001b[0m\u001b[1;33m\u001b[0m\u001b[1;33m\u001b[0m\u001b[0m\n\u001b[0m\u001b[0;32m    522\u001b[0m \u001b[1;33m\u001b[0m\u001b[0m\n\u001b[0;32m    523\u001b[0m     \u001b[1;32mdef\u001b[0m \u001b[0mfind_elements_by_xpath\u001b[0m\u001b[1;33m(\u001b[0m\u001b[0mself\u001b[0m\u001b[1;33m,\u001b[0m \u001b[0mxpath\u001b[0m\u001b[1;33m)\u001b[0m \u001b[1;33m->\u001b[0m \u001b[0mList\u001b[0m\u001b[1;33m[\u001b[0m\u001b[0mWebElement\u001b[0m\u001b[1;33m]\u001b[0m\u001b[1;33m:\u001b[0m\u001b[1;33m\u001b[0m\u001b[1;33m\u001b[0m\u001b[0m\n",
      "\u001b[1;32m~\\anaconda3\\lib\\site-packages\\selenium\\webdriver\\remote\\webdriver.py\u001b[0m in \u001b[0;36mfind_element\u001b[1;34m(self, by, value)\u001b[0m\n\u001b[0;32m   1246\u001b[0m             \u001b[0mvalue\u001b[0m \u001b[1;33m=\u001b[0m \u001b[1;34m'[name=\"%s\"]'\u001b[0m \u001b[1;33m%\u001b[0m \u001b[0mvalue\u001b[0m\u001b[1;33m\u001b[0m\u001b[1;33m\u001b[0m\u001b[0m\n\u001b[0;32m   1247\u001b[0m \u001b[1;33m\u001b[0m\u001b[0m\n\u001b[1;32m-> 1248\u001b[1;33m         return self.execute(Command.FIND_ELEMENT, {\n\u001b[0m\u001b[0;32m   1249\u001b[0m             \u001b[1;34m'using'\u001b[0m\u001b[1;33m:\u001b[0m \u001b[0mby\u001b[0m\u001b[1;33m,\u001b[0m\u001b[1;33m\u001b[0m\u001b[1;33m\u001b[0m\u001b[0m\n\u001b[0;32m   1250\u001b[0m             'value': value})['value']\n",
      "\u001b[1;32m~\\anaconda3\\lib\\site-packages\\selenium\\webdriver\\remote\\webdriver.py\u001b[0m in \u001b[0;36mexecute\u001b[1;34m(self, driver_command, params)\u001b[0m\n\u001b[0;32m    423\u001b[0m         \u001b[0mresponse\u001b[0m \u001b[1;33m=\u001b[0m \u001b[0mself\u001b[0m\u001b[1;33m.\u001b[0m\u001b[0mcommand_executor\u001b[0m\u001b[1;33m.\u001b[0m\u001b[0mexecute\u001b[0m\u001b[1;33m(\u001b[0m\u001b[0mdriver_command\u001b[0m\u001b[1;33m,\u001b[0m \u001b[0mparams\u001b[0m\u001b[1;33m)\u001b[0m\u001b[1;33m\u001b[0m\u001b[1;33m\u001b[0m\u001b[0m\n\u001b[0;32m    424\u001b[0m         \u001b[1;32mif\u001b[0m \u001b[0mresponse\u001b[0m\u001b[1;33m:\u001b[0m\u001b[1;33m\u001b[0m\u001b[1;33m\u001b[0m\u001b[0m\n\u001b[1;32m--> 425\u001b[1;33m             \u001b[0mself\u001b[0m\u001b[1;33m.\u001b[0m\u001b[0merror_handler\u001b[0m\u001b[1;33m.\u001b[0m\u001b[0mcheck_response\u001b[0m\u001b[1;33m(\u001b[0m\u001b[0mresponse\u001b[0m\u001b[1;33m)\u001b[0m\u001b[1;33m\u001b[0m\u001b[1;33m\u001b[0m\u001b[0m\n\u001b[0m\u001b[0;32m    426\u001b[0m             response['value'] = self._unwrap_value(\n\u001b[0;32m    427\u001b[0m                 response.get('value', None))\n",
      "\u001b[1;32m~\\anaconda3\\lib\\site-packages\\selenium\\webdriver\\remote\\errorhandler.py\u001b[0m in \u001b[0;36mcheck_response\u001b[1;34m(self, response)\u001b[0m\n\u001b[0;32m    245\u001b[0m                 \u001b[0malert_text\u001b[0m \u001b[1;33m=\u001b[0m \u001b[0mvalue\u001b[0m\u001b[1;33m[\u001b[0m\u001b[1;34m'alert'\u001b[0m\u001b[1;33m]\u001b[0m\u001b[1;33m.\u001b[0m\u001b[0mget\u001b[0m\u001b[1;33m(\u001b[0m\u001b[1;34m'text'\u001b[0m\u001b[1;33m)\u001b[0m\u001b[1;33m\u001b[0m\u001b[1;33m\u001b[0m\u001b[0m\n\u001b[0;32m    246\u001b[0m             \u001b[1;32mraise\u001b[0m \u001b[0mexception_class\u001b[0m\u001b[1;33m(\u001b[0m\u001b[0mmessage\u001b[0m\u001b[1;33m,\u001b[0m \u001b[0mscreen\u001b[0m\u001b[1;33m,\u001b[0m \u001b[0mstacktrace\u001b[0m\u001b[1;33m,\u001b[0m \u001b[0malert_text\u001b[0m\u001b[1;33m)\u001b[0m  \u001b[1;31m# type: ignore[call-arg]  # mypy is not smart enough here\u001b[0m\u001b[1;33m\u001b[0m\u001b[1;33m\u001b[0m\u001b[0m\n\u001b[1;32m--> 247\u001b[1;33m         \u001b[1;32mraise\u001b[0m \u001b[0mexception_class\u001b[0m\u001b[1;33m(\u001b[0m\u001b[0mmessage\u001b[0m\u001b[1;33m,\u001b[0m \u001b[0mscreen\u001b[0m\u001b[1;33m,\u001b[0m \u001b[0mstacktrace\u001b[0m\u001b[1;33m)\u001b[0m\u001b[1;33m\u001b[0m\u001b[1;33m\u001b[0m\u001b[0m\n\u001b[0m\u001b[0;32m    248\u001b[0m \u001b[1;33m\u001b[0m\u001b[0m\n\u001b[0;32m    249\u001b[0m     \u001b[1;32mdef\u001b[0m \u001b[0m_value_or_default\u001b[0m\u001b[1;33m(\u001b[0m\u001b[0mself\u001b[0m\u001b[1;33m,\u001b[0m \u001b[0mobj\u001b[0m\u001b[1;33m:\u001b[0m \u001b[0mMapping\u001b[0m\u001b[1;33m[\u001b[0m\u001b[0m_KT\u001b[0m\u001b[1;33m,\u001b[0m \u001b[0m_VT\u001b[0m\u001b[1;33m]\u001b[0m\u001b[1;33m,\u001b[0m \u001b[0mkey\u001b[0m\u001b[1;33m:\u001b[0m \u001b[0m_KT\u001b[0m\u001b[1;33m,\u001b[0m \u001b[0mdefault\u001b[0m\u001b[1;33m:\u001b[0m \u001b[0m_VT\u001b[0m\u001b[1;33m)\u001b[0m \u001b[1;33m->\u001b[0m \u001b[0m_VT\u001b[0m\u001b[1;33m:\u001b[0m\u001b[1;33m\u001b[0m\u001b[1;33m\u001b[0m\u001b[0m\n",
      "\u001b[1;31mNoSuchElementException\u001b[0m: Message: no such element: Unable to locate element: {\"method\":\"xpath\",\"selector\":\"/html/body/div[1]/div[3]/div[2]/section[1]/div[2]/div[5]/div[2]/div[2]/label/i\"}\n  (Session info: chrome=101.0.4951.41)\nStacktrace:\nBacktrace:\n\tOrdinal0 [0x00CCA8E3+2402531]\n\tOrdinal0 [0x00C5B011+1945617]\n\tOrdinal0 [0x00B4C748+837448]\n\tOrdinal0 [0x00B79330+1020720]\n\tOrdinal0 [0x00B795CB+1021387]\n\tOrdinal0 [0x00BA63B2+1205170]\n\tOrdinal0 [0x00B942F4+1131252]\n\tOrdinal0 [0x00BA46C2+1197762]\n\tOrdinal0 [0x00B940C6+1130694]\n\tOrdinal0 [0x00B6E676+976502]\n\tOrdinal0 [0x00B6F586+980358]\n\tGetHandleVerifier [0x00F3BC42+2511938]\n\tGetHandleVerifier [0x00F2ED6F+2458991]\n\tGetHandleVerifier [0x00D631AA+575914]\n\tGetHandleVerifier [0x00D61FA6+571302]\n\tOrdinal0 [0x00C61DEB+1973739]\n\tOrdinal0 [0x00C66778+1992568]\n\tOrdinal0 [0x00C66865+1992805]\n\tOrdinal0 [0x00C6FA41+2030145]\n\tBaseThreadInitThunk [0x74F87BA9+25]\n\tRtlInitializeExceptionChain [0x7728B7DB+107]\n\tRtlClearBits [0x7728B75F+191]\n"
     ]
    }
   ],
   "source": [
    "#finding element for lcation and salary check box\n",
    "chek1=driver.find_element_by_xpath('/html/body/div[1]/div[3]/div[2]/section[1]/div[2]/div[5]/div[2]/div[2]/label/i')\n",
    "chek1.click()\n"
   ]
  },
  {
   "cell_type": "code",
   "execution_count": null,
   "id": "fd4265a6",
   "metadata": {},
   "outputs": [],
   "source": [
    "chek2=driver.find_element_by_xpath('/html/body/div[1]/div[3]/div[2]/section[1]/div[2]/div[5]/div[2]/div[3]/label/i')\n",
    "chek2.click()"
   ]
  },
  {
   "cell_type": "code",
   "execution_count": null,
   "id": "4afc3c49",
   "metadata": {},
   "outputs": [],
   "source": [
    "job_titles=[]\n",
    "company_names=[]\n",
    "locations_list=[]\n",
    "experience_list=[]"
   ]
  },
  {
   "cell_type": "code",
   "execution_count": null,
   "id": "a4e1b81f",
   "metadata": {},
   "outputs": [],
   "source": [
    "#extract job titles\n",
    "titles_tags=driver.find_elements_by_xpath(\"//a[@class='title fw500 ellipsis']\")\n",
    "titles_tags[0:4]"
   ]
  },
  {
   "cell_type": "code",
   "execution_count": null,
   "id": "b9729652",
   "metadata": {},
   "outputs": [],
   "source": [
    "for i in titles_tags:\n",
    "    title=i.text\n",
    "    job_titles.append(title)\n",
    "job_titles[0:4]"
   ]
  },
  {
   "cell_type": "code",
   "execution_count": null,
   "id": "29916189",
   "metadata": {},
   "outputs": [],
   "source": [
    "#extract company names\n",
    "company_tags=driver.find_elements_by_xpath(\"//a[@class='subTitle ellipsis fleft']\")\n",
    "company_tags[0:4]"
   ]
  },
  {
   "cell_type": "code",
   "execution_count": null,
   "id": "55a0c95e",
   "metadata": {},
   "outputs": [],
   "source": [
    "for i in company_tags:\n",
    "    comp=i.text\n",
    "    company_names.append(comp)\n",
    "company_names[0:4]"
   ]
  },
  {
   "cell_type": "code",
   "execution_count": null,
   "id": "536391a7",
   "metadata": {},
   "outputs": [],
   "source": [
    "#extract experience\n",
    "experience_tags=driver.find_elements_by_xpath(\"//li[@class='fleft grey-text br2 placeHolderLi experience']\")\n",
    "experience_tags[0:4]"
   ]
  },
  {
   "cell_type": "code",
   "execution_count": null,
   "id": "eb887dfa",
   "metadata": {},
   "outputs": [],
   "source": [
    "for i in experience_tags:\n",
    "    expp=i.text\n",
    "    experience_list.append(expp)\n",
    "experience_list[0:4]"
   ]
  },
  {
   "cell_type": "code",
   "execution_count": null,
   "id": "2a9337d0",
   "metadata": {},
   "outputs": [],
   "source": [
    "#extract location\n",
    "loct_tags=driver.find_elements_by_xpath(\"//li[@class='fleft grey-text br2 placeHolderLi location']\")\n",
    "loct_tags[0:4]"
   ]
  },
  {
   "cell_type": "code",
   "execution_count": null,
   "id": "dbe74bb1",
   "metadata": {},
   "outputs": [],
   "source": [
    "for i in loct_tags:\n",
    "    loct=i.text\n",
    "    locations_list.append(loct)\n",
    "locations_list[0:4]"
   ]
  },
  {
   "cell_type": "code",
   "execution_count": 279,
   "id": "a4bfe9eb",
   "metadata": {},
   "outputs": [
    {
     "name": "stdout",
     "output_type": "stream",
     "text": [
      "20 20 20 20\n"
     ]
    }
   ],
   "source": [
    "print(len(job_titles),len(company_names),len(experience_list),len(locations_list))"
   ]
  },
  {
   "cell_type": "code",
   "execution_count": 280,
   "id": "bc6e5279",
   "metadata": {},
   "outputs": [
    {
     "data": {
      "text/html": [
       "<div>\n",
       "<style scoped>\n",
       "    .dataframe tbody tr th:only-of-type {\n",
       "        vertical-align: middle;\n",
       "    }\n",
       "\n",
       "    .dataframe tbody tr th {\n",
       "        vertical-align: top;\n",
       "    }\n",
       "\n",
       "    .dataframe thead th {\n",
       "        text-align: right;\n",
       "    }\n",
       "</style>\n",
       "<table border=\"1\" class=\"dataframe\">\n",
       "  <thead>\n",
       "    <tr style=\"text-align: right;\">\n",
       "      <th></th>\n",
       "      <th>Title</th>\n",
       "      <th>Location</th>\n",
       "      <th>Company Name</th>\n",
       "      <th>Experience</th>\n",
       "    </tr>\n",
       "  </thead>\n",
       "  <tbody>\n",
       "    <tr>\n",
       "      <th>0</th>\n",
       "      <td>SAS Analyst / data Analyst / Business analyst ...</td>\n",
       "      <td>Bangalore/Bengaluru, Delhi / NCR, Mumbai (All ...</td>\n",
       "      <td>Leading US MNC into analytics</td>\n",
       "      <td>2-7 Yrs</td>\n",
       "    </tr>\n",
       "    <tr>\n",
       "      <th>1</th>\n",
       "      <td>Data Analyst I</td>\n",
       "      <td>Bangalore/Bengaluru</td>\n",
       "      <td>Bioclinica</td>\n",
       "      <td>0-3 Yrs</td>\n",
       "    </tr>\n",
       "    <tr>\n",
       "      <th>2</th>\n",
       "      <td>Senior Data Analyst</td>\n",
       "      <td>Bangalore/Bengaluru</td>\n",
       "      <td>Shell</td>\n",
       "      <td>10-12 Yrs</td>\n",
       "    </tr>\n",
       "    <tr>\n",
       "      <th>3</th>\n",
       "      <td>Lead Data Analyst - Risk Analytics</td>\n",
       "      <td>Bangalore/Bengaluru</td>\n",
       "      <td>Gojek</td>\n",
       "      <td>5-11 Yrs</td>\n",
       "    </tr>\n",
       "    <tr>\n",
       "      <th>4</th>\n",
       "      <td>Hiring - Zonal Data Analyst (Off Role) - Opera...</td>\n",
       "      <td>New Delhi, Bangalore/Bengaluru</td>\n",
       "      <td>Rupeek</td>\n",
       "      <td>2-7 Yrs</td>\n",
       "    </tr>\n",
       "    <tr>\n",
       "      <th>5</th>\n",
       "      <td>Senior Data Analyst</td>\n",
       "      <td>Chennai, Bangalore/Bengaluru</td>\n",
       "      <td>LatentView</td>\n",
       "      <td>3-6 Yrs</td>\n",
       "    </tr>\n",
       "    <tr>\n",
       "      <th>6</th>\n",
       "      <td>Sr Domain Expert -Data Analysts</td>\n",
       "      <td>Bangalore/Bengaluru</td>\n",
       "      <td>Siemens</td>\n",
       "      <td>0-10 Yrs</td>\n",
       "    </tr>\n",
       "    <tr>\n",
       "      <th>7</th>\n",
       "      <td>Associate Data Analyst</td>\n",
       "      <td>Bangalore/Bengaluru</td>\n",
       "      <td>Optum</td>\n",
       "      <td>2-7 Yrs</td>\n",
       "    </tr>\n",
       "    <tr>\n",
       "      <th>8</th>\n",
       "      <td>Associate Data Analyst</td>\n",
       "      <td>Bangalore/Bengaluru</td>\n",
       "      <td>Optum</td>\n",
       "      <td>4-9 Yrs</td>\n",
       "    </tr>\n",
       "    <tr>\n",
       "      <th>9</th>\n",
       "      <td>Denave Hiring Data Analyst Bengaluru Location</td>\n",
       "      <td>Bangalore/Bengaluru</td>\n",
       "      <td>Denave India Pvt Ltd.</td>\n",
       "      <td>5-10 Yrs</td>\n",
       "    </tr>\n",
       "  </tbody>\n",
       "</table>\n",
       "</div>"
      ],
      "text/plain": [
       "                                               Title  \\\n",
       "0  SAS Analyst / data Analyst / Business analyst ...   \n",
       "1                                     Data Analyst I   \n",
       "2                                Senior Data Analyst   \n",
       "3                 Lead Data Analyst - Risk Analytics   \n",
       "4  Hiring - Zonal Data Analyst (Off Role) - Opera...   \n",
       "5                                Senior Data Analyst   \n",
       "6                    Sr Domain Expert -Data Analysts   \n",
       "7                             Associate Data Analyst   \n",
       "8                             Associate Data Analyst   \n",
       "9      Denave Hiring Data Analyst Bengaluru Location   \n",
       "\n",
       "                                            Location  \\\n",
       "0  Bangalore/Bengaluru, Delhi / NCR, Mumbai (All ...   \n",
       "1                                Bangalore/Bengaluru   \n",
       "2                                Bangalore/Bengaluru   \n",
       "3                                Bangalore/Bengaluru   \n",
       "4                     New Delhi, Bangalore/Bengaluru   \n",
       "5                       Chennai, Bangalore/Bengaluru   \n",
       "6                                Bangalore/Bengaluru   \n",
       "7                                Bangalore/Bengaluru   \n",
       "8                                Bangalore/Bengaluru   \n",
       "9                                Bangalore/Bengaluru   \n",
       "\n",
       "                    Company Name Experience  \n",
       "0  Leading US MNC into analytics    2-7 Yrs  \n",
       "1                     Bioclinica    0-3 Yrs  \n",
       "2                          Shell  10-12 Yrs  \n",
       "3                          Gojek   5-11 Yrs  \n",
       "4                         Rupeek    2-7 Yrs  \n",
       "5                     LatentView    3-6 Yrs  \n",
       "6                        Siemens   0-10 Yrs  \n",
       "7                          Optum    2-7 Yrs  \n",
       "8                          Optum    4-9 Yrs  \n",
       "9          Denave India Pvt Ltd.   5-10 Yrs  "
      ]
     },
     "execution_count": 280,
     "metadata": {},
     "output_type": "execute_result"
    }
   ],
   "source": [
    "jobs=pd.DataFrame({})\n",
    "jobs['Title']=job_titles\n",
    "jobs['Location']=locations_list\n",
    "jobs['Company Name']=company_names\n",
    "jobs['Experience']=experience_list\n",
    "jobs.head(10)"
   ]
  },
  {
   "cell_type": "code",
   "execution_count": null,
   "id": "2d823544",
   "metadata": {},
   "outputs": [],
   "source": [
    "driver.close()"
   ]
  },
  {
   "cell_type": "code",
   "execution_count": null,
   "id": "b29cefb7",
   "metadata": {},
   "outputs": [],
   "source": []
  },
  {
   "cell_type": "markdown",
   "id": "cc9f8398",
   "metadata": {},
   "source": [
    "# Q4: Scrape data of first 100 sunglasses listings on flipkart.com. You have to scrape four attributes:\n",
    "1. Brand\n",
    "2. Product Description\n",
    "3. Price\n",
    "The attributes which you have to scrape is ticked marked in the below image.\n",
    "To scrape the data you have to go through following steps:\n",
    "1. Go to Flipkart webpage by url : https://www.flipkart.com/\n",
    "2. Enter “sunglasses” in the search field where “search for products, brands andmore” is written and click the search icon\n",
    "3. After that you will reach to the page having a lot of sunglasses. From this pageyou can scrap the required data as usual.\n",
    "4. After scraping data from the first page, go to the “Next” Button at the bottom ofthe page , then click on it.\n",
    "5. Now scrape data from this page as usual\n",
    "6. Repeat this until you get data for 100 sunglasses."
   ]
  },
  {
   "cell_type": "code",
   "execution_count": 281,
   "id": "3cec93e6",
   "metadata": {},
   "outputs": [],
   "source": [
    "driver=webdriver.Chrome(\"chromedriver.exe\")\n",
    "time.sleep(2)"
   ]
  },
  {
   "cell_type": "code",
   "execution_count": 282,
   "id": "4e10d440",
   "metadata": {},
   "outputs": [],
   "source": [
    "driver.get(\"https://www.flipkart.com/\")"
   ]
  },
  {
   "cell_type": "markdown",
   "id": "7f3da9ab",
   "metadata": {},
   "source": [
    "entering sunglasses in field "
   ]
  },
  {
   "cell_type": "code",
   "execution_count": 283,
   "id": "0ea4bae0",
   "metadata": {},
   "outputs": [],
   "source": [
    "#finding element for job search bar\n",
    "search_field_designation=driver.find_element_by_class_name(\"_3704LK\")\n",
    "search_field_designation.send_keys(\"sunglasses\")\n"
   ]
  },
  {
   "cell_type": "code",
   "execution_count": 284,
   "id": "cba1ff89",
   "metadata": {},
   "outputs": [],
   "source": [
    "search_button=driver.find_element_by_xpath('/html/body/div[1]/div/div[1]/div[1]/div[2]/div[2]/form/div/button')\n",
    "search_button.click()"
   ]
  },
  {
   "cell_type": "code",
   "execution_count": 285,
   "id": "ab664aa3",
   "metadata": {},
   "outputs": [],
   "source": [
    "brand=[]\n",
    "prd=[]\n",
    "price=[]"
   ]
  },
  {
   "cell_type": "markdown",
   "id": "c1fbc53a",
   "metadata": {},
   "source": [
    "For 1st page"
   ]
  },
  {
   "cell_type": "code",
   "execution_count": 286,
   "id": "c0de895c",
   "metadata": {},
   "outputs": [
    {
     "data": {
      "text/plain": [
       "[<selenium.webdriver.remote.webelement.WebElement (session=\"badbe35eef074e246685be00705884a2\", element=\"6637291a-ced6-4a3a-a457-92c11e873948\")>,\n",
       " <selenium.webdriver.remote.webelement.WebElement (session=\"badbe35eef074e246685be00705884a2\", element=\"cc6e0186-8666-4eec-9db6-d1431ae549aa\")>]"
      ]
     },
     "execution_count": 286,
     "metadata": {},
     "output_type": "execute_result"
    }
   ],
   "source": [
    "#extract brand\n",
    "brand_tags=driver.find_elements_by_xpath(\"//div[@class='_2WkVRV']\")\n",
    "brand_tags[0:2]"
   ]
  },
  {
   "cell_type": "code",
   "execution_count": 287,
   "id": "f1459211",
   "metadata": {},
   "outputs": [
    {
     "data": {
      "text/plain": [
       "['PIRASO', 'Singco India']"
      ]
     },
     "execution_count": 287,
     "metadata": {},
     "output_type": "execute_result"
    }
   ],
   "source": [
    "for i in brand_tags:\n",
    "    brd=i.text\n",
    "    brand.append(brd)\n",
    "brand[0:2]"
   ]
  },
  {
   "cell_type": "code",
   "execution_count": 288,
   "id": "2b7208e2",
   "metadata": {},
   "outputs": [
    {
     "data": {
      "text/plain": [
       "[<selenium.webdriver.remote.webelement.WebElement (session=\"badbe35eef074e246685be00705884a2\", element=\"4322e3f5-ab4c-43aa-9430-9e89fcbb4ac8\")>,\n",
       " <selenium.webdriver.remote.webelement.WebElement (session=\"badbe35eef074e246685be00705884a2\", element=\"19c1aebd-e523-4552-8fa1-d328ee7c8857\")>]"
      ]
     },
     "execution_count": 288,
     "metadata": {},
     "output_type": "execute_result"
    }
   ],
   "source": [
    "#extract product description\n",
    "prd_tags=driver.find_elements_by_xpath(\"//a[@class='IRpwTa']\")\n",
    "prd_tags[0:2]"
   ]
  },
  {
   "cell_type": "code",
   "execution_count": 289,
   "id": "b88a4eba",
   "metadata": {},
   "outputs": [
    {
     "data": {
      "text/plain": [
       "['UV Protection Rectangular Sunglasses (52)',\n",
       " 'Gradient, Toughened Glass Lens, UV Protection Retro Squ...']"
      ]
     },
     "execution_count": 289,
     "metadata": {},
     "output_type": "execute_result"
    }
   ],
   "source": [
    "for i in prd_tags:\n",
    "    prdi=i.text\n",
    "    prd.append(prdi)\n",
    "prd[0:2]"
   ]
  },
  {
   "cell_type": "code",
   "execution_count": 290,
   "id": "fc873905",
   "metadata": {},
   "outputs": [
    {
     "data": {
      "text/plain": [
       "[<selenium.webdriver.remote.webelement.WebElement (session=\"badbe35eef074e246685be00705884a2\", element=\"871c32db-4e03-4335-9c89-173c28dec4e0\")>,\n",
       " <selenium.webdriver.remote.webelement.WebElement (session=\"badbe35eef074e246685be00705884a2\", element=\"875b39fb-6dd8-4d1f-97fc-6dff6ac6023a\")>]"
      ]
     },
     "execution_count": 290,
     "metadata": {},
     "output_type": "execute_result"
    }
   ],
   "source": [
    "#extract product price\n",
    "price_tags=driver.find_elements_by_xpath(\"//div[@class='_30jeq3']\")\n",
    "price_tags[0:2]"
   ]
  },
  {
   "cell_type": "code",
   "execution_count": 291,
   "id": "30b94d34",
   "metadata": {},
   "outputs": [
    {
     "data": {
      "text/plain": [
       "['₹280', '₹664']"
      ]
     },
     "execution_count": 291,
     "metadata": {},
     "output_type": "execute_result"
    }
   ],
   "source": [
    "for i in price_tags:\n",
    "    prc=i.text\n",
    "    price.append(prc)\n",
    "price[0:2]"
   ]
  },
  {
   "cell_type": "code",
   "execution_count": 292,
   "id": "f3a6d4db",
   "metadata": {},
   "outputs": [
    {
     "name": "stdout",
     "output_type": "stream",
     "text": [
      "40 40 40\n"
     ]
    }
   ],
   "source": [
    "print(len(brand),len(prd),len(price))"
   ]
  },
  {
   "cell_type": "code",
   "execution_count": 293,
   "id": "c0d9f698",
   "metadata": {},
   "outputs": [
    {
     "data": {
      "text/html": [
       "<div>\n",
       "<style scoped>\n",
       "    .dataframe tbody tr th:only-of-type {\n",
       "        vertical-align: middle;\n",
       "    }\n",
       "\n",
       "    .dataframe tbody tr th {\n",
       "        vertical-align: top;\n",
       "    }\n",
       "\n",
       "    .dataframe thead th {\n",
       "        text-align: right;\n",
       "    }\n",
       "</style>\n",
       "<table border=\"1\" class=\"dataframe\">\n",
       "  <thead>\n",
       "    <tr style=\"text-align: right;\">\n",
       "      <th></th>\n",
       "      <th>Brand</th>\n",
       "      <th>Product Description</th>\n",
       "      <th>Product price</th>\n",
       "    </tr>\n",
       "  </thead>\n",
       "  <tbody>\n",
       "    <tr>\n",
       "      <th>0</th>\n",
       "      <td>PIRASO</td>\n",
       "      <td>UV Protection Rectangular Sunglasses (52)</td>\n",
       "      <td>₹280</td>\n",
       "    </tr>\n",
       "    <tr>\n",
       "      <th>1</th>\n",
       "      <td>Singco India</td>\n",
       "      <td>Gradient, Toughened Glass Lens, UV Protection ...</td>\n",
       "      <td>₹664</td>\n",
       "    </tr>\n",
       "    <tr>\n",
       "      <th>2</th>\n",
       "      <td>Elligator</td>\n",
       "      <td>UV Protection Round Sunglasses (54)</td>\n",
       "      <td>₹295</td>\n",
       "    </tr>\n",
       "    <tr>\n",
       "      <th>3</th>\n",
       "      <td>PIRASO</td>\n",
       "      <td>UV Protection Aviator Sunglasses (54)</td>\n",
       "      <td>₹249</td>\n",
       "    </tr>\n",
       "    <tr>\n",
       "      <th>4</th>\n",
       "      <td>Fastrack</td>\n",
       "      <td>UV Protection Rectangular Sunglasses (Free Size)</td>\n",
       "      <td>₹639</td>\n",
       "    </tr>\n",
       "    <tr>\n",
       "      <th>5</th>\n",
       "      <td>New Specs</td>\n",
       "      <td>UV Protection Rectangular Sunglasses (Free Size)</td>\n",
       "      <td>₹265</td>\n",
       "    </tr>\n",
       "    <tr>\n",
       "      <th>6</th>\n",
       "      <td>Fastrack</td>\n",
       "      <td>UV Protection Wayfarer Sunglasses (Free Size)</td>\n",
       "      <td>₹719</td>\n",
       "    </tr>\n",
       "    <tr>\n",
       "      <th>7</th>\n",
       "      <td>PIRASO</td>\n",
       "      <td>UV Protection Aviator Sunglasses (55)</td>\n",
       "      <td>₹249</td>\n",
       "    </tr>\n",
       "    <tr>\n",
       "      <th>8</th>\n",
       "      <td>Lee Topper</td>\n",
       "      <td>Riding Glasses Wrap-around Sunglasses (Free Size)</td>\n",
       "      <td>₹299</td>\n",
       "    </tr>\n",
       "    <tr>\n",
       "      <th>9</th>\n",
       "      <td>hipe</td>\n",
       "      <td>UV Protection Sports Sunglasses (Free Size)</td>\n",
       "      <td>₹258</td>\n",
       "    </tr>\n",
       "    <tr>\n",
       "      <th>10</th>\n",
       "      <td>SUNBEE</td>\n",
       "      <td>UV Protection, Polarized Wayfarer Sunglasses (...</td>\n",
       "      <td>₹283</td>\n",
       "    </tr>\n",
       "    <tr>\n",
       "      <th>11</th>\n",
       "      <td>PIRASO</td>\n",
       "      <td>UV Protection Butterfly Sunglasses (60)</td>\n",
       "      <td>₹399</td>\n",
       "    </tr>\n",
       "    <tr>\n",
       "      <th>12</th>\n",
       "      <td>Lee Topper</td>\n",
       "      <td>UV Protection Rectangular Sunglasses (Free Size)</td>\n",
       "      <td>₹219</td>\n",
       "    </tr>\n",
       "    <tr>\n",
       "      <th>13</th>\n",
       "      <td>SHAAH COLLECTIONS</td>\n",
       "      <td>UV Protection, Polarized, Mirrored Rectangular...</td>\n",
       "      <td>₹195</td>\n",
       "    </tr>\n",
       "    <tr>\n",
       "      <th>14</th>\n",
       "      <td>SRPM</td>\n",
       "      <td>UV Protection Wayfarer Sunglasses (50)</td>\n",
       "      <td>₹250</td>\n",
       "    </tr>\n",
       "    <tr>\n",
       "      <th>15</th>\n",
       "      <td>ROYAL SON</td>\n",
       "      <td>UV Protection, Polarized Wayfarer Sunglasses (54)</td>\n",
       "      <td>₹799</td>\n",
       "    </tr>\n",
       "    <tr>\n",
       "      <th>16</th>\n",
       "      <td>PIRASO</td>\n",
       "      <td>UV Protection Aviator Sunglasses (54)</td>\n",
       "      <td>₹249</td>\n",
       "    </tr>\n",
       "    <tr>\n",
       "      <th>17</th>\n",
       "      <td>PIRASO</td>\n",
       "      <td>UV Protection Aviator Sunglasses (54)</td>\n",
       "      <td>₹249</td>\n",
       "    </tr>\n",
       "    <tr>\n",
       "      <th>18</th>\n",
       "      <td>PIRASO</td>\n",
       "      <td>UV Protection Wayfarer Sunglasses (32)</td>\n",
       "      <td>₹225</td>\n",
       "    </tr>\n",
       "    <tr>\n",
       "      <th>19</th>\n",
       "      <td>ROZZETTA CRAFT</td>\n",
       "      <td>UV Protection Spectacle Sunglasses (Free Size)</td>\n",
       "      <td>₹399</td>\n",
       "    </tr>\n",
       "    <tr>\n",
       "      <th>20</th>\n",
       "      <td>ROZZETTA CRAFT</td>\n",
       "      <td>Polarized, Riding Glasses Sports, Wrap-around ...</td>\n",
       "      <td>₹474</td>\n",
       "    </tr>\n",
       "    <tr>\n",
       "      <th>21</th>\n",
       "      <td>New Specs</td>\n",
       "      <td>Mirrored, UV Protection, Riding Glasses, Other...</td>\n",
       "      <td>₹299</td>\n",
       "    </tr>\n",
       "    <tr>\n",
       "      <th>22</th>\n",
       "      <td>Fastrack</td>\n",
       "      <td>Gradient, UV Protection Wayfarer Sunglasses (F...</td>\n",
       "      <td>₹639</td>\n",
       "    </tr>\n",
       "    <tr>\n",
       "      <th>23</th>\n",
       "      <td>VINCENT CHASE</td>\n",
       "      <td>UV Protection Wayfarer Sunglasses (59)</td>\n",
       "      <td>₹649</td>\n",
       "    </tr>\n",
       "    <tr>\n",
       "      <th>24</th>\n",
       "      <td>PHENOMENAL</td>\n",
       "      <td>UV Protection Retro Square Sunglasses (53)</td>\n",
       "      <td>₹315</td>\n",
       "    </tr>\n",
       "    <tr>\n",
       "      <th>25</th>\n",
       "      <td>DEIXELS</td>\n",
       "      <td>UV Protection Aviator, Wayfarer Sunglasses (Fr...</td>\n",
       "      <td>₹217</td>\n",
       "    </tr>\n",
       "    <tr>\n",
       "      <th>26</th>\n",
       "      <td>Roadster</td>\n",
       "      <td>UV Protection Oval Sunglasses (57)</td>\n",
       "      <td>₹649</td>\n",
       "    </tr>\n",
       "    <tr>\n",
       "      <th>27</th>\n",
       "      <td>VINCENT CHASE</td>\n",
       "      <td>UV Protection Rectangular Sunglasses (50)</td>\n",
       "      <td>₹649</td>\n",
       "    </tr>\n",
       "    <tr>\n",
       "      <th>28</th>\n",
       "      <td>kingsunglasses</td>\n",
       "      <td>UV Protection, Riding Glasses, Mirrored Wayfar...</td>\n",
       "      <td>₹209</td>\n",
       "    </tr>\n",
       "    <tr>\n",
       "      <th>29</th>\n",
       "      <td>Fastrack</td>\n",
       "      <td>UV Protection Wayfarer Sunglasses (Free Size)</td>\n",
       "      <td>₹719</td>\n",
       "    </tr>\n",
       "    <tr>\n",
       "      <th>30</th>\n",
       "      <td>SUNBEE</td>\n",
       "      <td>UV Protection, Polarized, Mirrored Retro Squar...</td>\n",
       "      <td>₹269</td>\n",
       "    </tr>\n",
       "    <tr>\n",
       "      <th>31</th>\n",
       "      <td>PIRASO</td>\n",
       "      <td>UV Protection Aviator Sunglasses (50)</td>\n",
       "      <td>₹349</td>\n",
       "    </tr>\n",
       "    <tr>\n",
       "      <th>32</th>\n",
       "      <td>Fastrack</td>\n",
       "      <td>UV Protection Wayfarer Sunglasses (55)</td>\n",
       "      <td>₹719</td>\n",
       "    </tr>\n",
       "    <tr>\n",
       "      <th>33</th>\n",
       "      <td>hipe</td>\n",
       "      <td>Mirrored, UV Protection, Gradient Round Sungla...</td>\n",
       "      <td>₹210</td>\n",
       "    </tr>\n",
       "    <tr>\n",
       "      <th>34</th>\n",
       "      <td>PIRASO</td>\n",
       "      <td>UV Protection Over-sized Sunglasses (65)</td>\n",
       "      <td>₹399</td>\n",
       "    </tr>\n",
       "    <tr>\n",
       "      <th>35</th>\n",
       "      <td>PIRASO</td>\n",
       "      <td>UV Protection Rectangular, Over-sized Sunglass...</td>\n",
       "      <td>₹325</td>\n",
       "    </tr>\n",
       "    <tr>\n",
       "      <th>36</th>\n",
       "      <td>Fastrack</td>\n",
       "      <td>UV Protection Aviator Sunglasses (58)</td>\n",
       "      <td>₹1,099</td>\n",
       "    </tr>\n",
       "    <tr>\n",
       "      <th>37</th>\n",
       "      <td>Singco India</td>\n",
       "      <td>Riding Glasses, UV Protection, Others Aviator ...</td>\n",
       "      <td>₹245</td>\n",
       "    </tr>\n",
       "    <tr>\n",
       "      <th>38</th>\n",
       "      <td>Fastrack</td>\n",
       "      <td>UV Protection Wayfarer Sunglasses (Free Size)</td>\n",
       "      <td>₹699</td>\n",
       "    </tr>\n",
       "    <tr>\n",
       "      <th>39</th>\n",
       "      <td>agera</td>\n",
       "      <td>Gradient Aviator Sunglasses (55)</td>\n",
       "      <td>₹224</td>\n",
       "    </tr>\n",
       "  </tbody>\n",
       "</table>\n",
       "</div>"
      ],
      "text/plain": [
       "                Brand                                Product Description  \\\n",
       "0              PIRASO          UV Protection Rectangular Sunglasses (52)   \n",
       "1        Singco India  Gradient, Toughened Glass Lens, UV Protection ...   \n",
       "2           Elligator                UV Protection Round Sunglasses (54)   \n",
       "3              PIRASO              UV Protection Aviator Sunglasses (54)   \n",
       "4            Fastrack   UV Protection Rectangular Sunglasses (Free Size)   \n",
       "5           New Specs   UV Protection Rectangular Sunglasses (Free Size)   \n",
       "6            Fastrack      UV Protection Wayfarer Sunglasses (Free Size)   \n",
       "7              PIRASO              UV Protection Aviator Sunglasses (55)   \n",
       "8          Lee Topper  Riding Glasses Wrap-around Sunglasses (Free Size)   \n",
       "9                hipe        UV Protection Sports Sunglasses (Free Size)   \n",
       "10             SUNBEE  UV Protection, Polarized Wayfarer Sunglasses (...   \n",
       "11             PIRASO            UV Protection Butterfly Sunglasses (60)   \n",
       "12         Lee Topper   UV Protection Rectangular Sunglasses (Free Size)   \n",
       "13  SHAAH COLLECTIONS  UV Protection, Polarized, Mirrored Rectangular...   \n",
       "14               SRPM             UV Protection Wayfarer Sunglasses (50)   \n",
       "15          ROYAL SON  UV Protection, Polarized Wayfarer Sunglasses (54)   \n",
       "16             PIRASO              UV Protection Aviator Sunglasses (54)   \n",
       "17             PIRASO              UV Protection Aviator Sunglasses (54)   \n",
       "18             PIRASO             UV Protection Wayfarer Sunglasses (32)   \n",
       "19     ROZZETTA CRAFT     UV Protection Spectacle Sunglasses (Free Size)   \n",
       "20     ROZZETTA CRAFT  Polarized, Riding Glasses Sports, Wrap-around ...   \n",
       "21          New Specs  Mirrored, UV Protection, Riding Glasses, Other...   \n",
       "22           Fastrack  Gradient, UV Protection Wayfarer Sunglasses (F...   \n",
       "23      VINCENT CHASE             UV Protection Wayfarer Sunglasses (59)   \n",
       "24         PHENOMENAL         UV Protection Retro Square Sunglasses (53)   \n",
       "25            DEIXELS  UV Protection Aviator, Wayfarer Sunglasses (Fr...   \n",
       "26           Roadster                 UV Protection Oval Sunglasses (57)   \n",
       "27      VINCENT CHASE          UV Protection Rectangular Sunglasses (50)   \n",
       "28     kingsunglasses  UV Protection, Riding Glasses, Mirrored Wayfar...   \n",
       "29           Fastrack      UV Protection Wayfarer Sunglasses (Free Size)   \n",
       "30             SUNBEE  UV Protection, Polarized, Mirrored Retro Squar...   \n",
       "31             PIRASO              UV Protection Aviator Sunglasses (50)   \n",
       "32           Fastrack             UV Protection Wayfarer Sunglasses (55)   \n",
       "33               hipe  Mirrored, UV Protection, Gradient Round Sungla...   \n",
       "34             PIRASO           UV Protection Over-sized Sunglasses (65)   \n",
       "35             PIRASO  UV Protection Rectangular, Over-sized Sunglass...   \n",
       "36           Fastrack              UV Protection Aviator Sunglasses (58)   \n",
       "37       Singco India  Riding Glasses, UV Protection, Others Aviator ...   \n",
       "38           Fastrack      UV Protection Wayfarer Sunglasses (Free Size)   \n",
       "39              agera                   Gradient Aviator Sunglasses (55)   \n",
       "\n",
       "   Product price  \n",
       "0           ₹280  \n",
       "1           ₹664  \n",
       "2           ₹295  \n",
       "3           ₹249  \n",
       "4           ₹639  \n",
       "5           ₹265  \n",
       "6           ₹719  \n",
       "7           ₹249  \n",
       "8           ₹299  \n",
       "9           ₹258  \n",
       "10          ₹283  \n",
       "11          ₹399  \n",
       "12          ₹219  \n",
       "13          ₹195  \n",
       "14          ₹250  \n",
       "15          ₹799  \n",
       "16          ₹249  \n",
       "17          ₹249  \n",
       "18          ₹225  \n",
       "19          ₹399  \n",
       "20          ₹474  \n",
       "21          ₹299  \n",
       "22          ₹639  \n",
       "23          ₹649  \n",
       "24          ₹315  \n",
       "25          ₹217  \n",
       "26          ₹649  \n",
       "27          ₹649  \n",
       "28          ₹209  \n",
       "29          ₹719  \n",
       "30          ₹269  \n",
       "31          ₹349  \n",
       "32          ₹719  \n",
       "33          ₹210  \n",
       "34          ₹399  \n",
       "35          ₹325  \n",
       "36        ₹1,099  \n",
       "37          ₹245  \n",
       "38          ₹699  \n",
       "39          ₹224  "
      ]
     },
     "execution_count": 293,
     "metadata": {},
     "output_type": "execute_result"
    }
   ],
   "source": [
    "pdd=pd.DataFrame({})\n",
    "pdd['Brand']=brand\n",
    "pdd['Product Description']=prd\n",
    "pdd['Product price']=price\n",
    "pdd\n",
    "\n",
    "\n"
   ]
  },
  {
   "cell_type": "markdown",
   "id": "7bc7ca33",
   "metadata": {},
   "source": [
    "Now to go to second page and extract 41- 80 items details"
   ]
  },
  {
   "cell_type": "code",
   "execution_count": 294,
   "id": "dac48003",
   "metadata": {},
   "outputs": [],
   "source": [
    "next_button=driver.find_element_by_xpath('/html/body/div[1]/div/div[3]/div[1]/div[2]/div[12]/div/div/nav/a[11]')\n",
    "next_button.click()"
   ]
  },
  {
   "cell_type": "markdown",
   "id": "46e524d0",
   "metadata": {},
   "source": [
    "2nd Page details extract"
   ]
  },
  {
   "cell_type": "code",
   "execution_count": 295,
   "id": "a121ce5b",
   "metadata": {},
   "outputs": [],
   "source": [
    "brand1=[]\n",
    "prd1=[]\n",
    "price1=[]"
   ]
  },
  {
   "cell_type": "code",
   "execution_count": 298,
   "id": "85e2d1ed",
   "metadata": {},
   "outputs": [
    {
     "data": {
      "text/plain": [
       "[<selenium.webdriver.remote.webelement.WebElement (session=\"badbe35eef074e246685be00705884a2\", element=\"f81d0ee8-cc0a-4619-a94c-22e44a1876c0\")>,\n",
       " <selenium.webdriver.remote.webelement.WebElement (session=\"badbe35eef074e246685be00705884a2\", element=\"f6a2f5d2-37af-47a2-a069-985154829091\")>]"
      ]
     },
     "execution_count": 298,
     "metadata": {},
     "output_type": "execute_result"
    }
   ],
   "source": [
    "#extract brand\n",
    "brand_tags=driver.find_elements_by_xpath(\"//div[@class='_2WkVRV']\")\n",
    "brand_tags[0:2]"
   ]
  },
  {
   "cell_type": "code",
   "execution_count": 299,
   "id": "bd7cdb63",
   "metadata": {},
   "outputs": [
    {
     "data": {
      "text/plain": [
       "['elegante', 'Fastrack']"
      ]
     },
     "execution_count": 299,
     "metadata": {},
     "output_type": "execute_result"
    }
   ],
   "source": [
    "for i in brand_tags:\n",
    "    brd=i.text\n",
    "    brand1.append(brd)\n",
    "brand1[0:2]"
   ]
  },
  {
   "cell_type": "code",
   "execution_count": 300,
   "id": "9d4a969c",
   "metadata": {},
   "outputs": [
    {
     "data": {
      "text/plain": [
       "[<selenium.webdriver.remote.webelement.WebElement (session=\"badbe35eef074e246685be00705884a2\", element=\"86b91b3c-79c0-404c-9b33-2f229eea17c4\")>,\n",
       " <selenium.webdriver.remote.webelement.WebElement (session=\"badbe35eef074e246685be00705884a2\", element=\"37ac149c-e848-4209-b06b-4f30ba7453df\")>]"
      ]
     },
     "execution_count": 300,
     "metadata": {},
     "output_type": "execute_result"
    }
   ],
   "source": [
    "#extract product description\n",
    "prd_tags=driver.find_elements_by_xpath(\"//a[@class='IRpwTa']\")\n",
    "prd_tags[0:2]"
   ]
  },
  {
   "cell_type": "code",
   "execution_count": 301,
   "id": "8eb54f5a",
   "metadata": {},
   "outputs": [
    {
     "data": {
      "text/plain": [
       "['Polarized, Riding Glasses, Night Vision Sports, Wrap-ar...',\n",
       " 'UV Protection Wayfarer Sunglasses (Free Size)']"
      ]
     },
     "execution_count": 301,
     "metadata": {},
     "output_type": "execute_result"
    }
   ],
   "source": [
    "for i in prd_tags:\n",
    "    prdi=i.text\n",
    "    prd1.append(prdi)\n",
    "prd1[0:2]"
   ]
  },
  {
   "cell_type": "code",
   "execution_count": 302,
   "id": "8dedcdf6",
   "metadata": {},
   "outputs": [
    {
     "data": {
      "text/plain": [
       "[<selenium.webdriver.remote.webelement.WebElement (session=\"badbe35eef074e246685be00705884a2\", element=\"1b00fa9c-b21b-478d-abde-ea9313de270f\")>,\n",
       " <selenium.webdriver.remote.webelement.WebElement (session=\"badbe35eef074e246685be00705884a2\", element=\"96bc1943-e5d7-48f0-ae47-3d9fb138f301\")>]"
      ]
     },
     "execution_count": 302,
     "metadata": {},
     "output_type": "execute_result"
    }
   ],
   "source": [
    "#extract product price\n",
    "price_tags=driver.find_elements_by_xpath(\"//div[@class='_30jeq3']\")\n",
    "price_tags[0:2]"
   ]
  },
  {
   "cell_type": "code",
   "execution_count": 303,
   "id": "5cb85c89",
   "metadata": {},
   "outputs": [
    {
     "data": {
      "text/plain": [
       "['₹499', '₹639']"
      ]
     },
     "execution_count": 303,
     "metadata": {},
     "output_type": "execute_result"
    }
   ],
   "source": [
    "for i in price_tags:\n",
    "    prc=i.text\n",
    "    price1.append(prc)\n",
    "price1[0:2]"
   ]
  },
  {
   "cell_type": "code",
   "execution_count": 304,
   "id": "6aa331f1",
   "metadata": {},
   "outputs": [
    {
     "name": "stdout",
     "output_type": "stream",
     "text": [
      "40 40 40\n"
     ]
    }
   ],
   "source": [
    "print(len(brand1),len(prd1),len(price1))"
   ]
  },
  {
   "cell_type": "code",
   "execution_count": 305,
   "id": "c60f87df",
   "metadata": {},
   "outputs": [
    {
     "data": {
      "text/html": [
       "<div>\n",
       "<style scoped>\n",
       "    .dataframe tbody tr th:only-of-type {\n",
       "        vertical-align: middle;\n",
       "    }\n",
       "\n",
       "    .dataframe tbody tr th {\n",
       "        vertical-align: top;\n",
       "    }\n",
       "\n",
       "    .dataframe thead th {\n",
       "        text-align: right;\n",
       "    }\n",
       "</style>\n",
       "<table border=\"1\" class=\"dataframe\">\n",
       "  <thead>\n",
       "    <tr style=\"text-align: right;\">\n",
       "      <th></th>\n",
       "      <th>Brand</th>\n",
       "      <th>Product Description</th>\n",
       "      <th>Product price</th>\n",
       "    </tr>\n",
       "  </thead>\n",
       "  <tbody>\n",
       "    <tr>\n",
       "      <th>0</th>\n",
       "      <td>elegante</td>\n",
       "      <td>Polarized, Riding Glasses, Night Vision Sports...</td>\n",
       "      <td>₹499</td>\n",
       "    </tr>\n",
       "    <tr>\n",
       "      <th>1</th>\n",
       "      <td>Fastrack</td>\n",
       "      <td>UV Protection Wayfarer Sunglasses (Free Size)</td>\n",
       "      <td>₹639</td>\n",
       "    </tr>\n",
       "    <tr>\n",
       "      <th>2</th>\n",
       "      <td>GANSTA</td>\n",
       "      <td>UV Protection, Riding Glasses Wayfarer Sunglas...</td>\n",
       "      <td>₹221</td>\n",
       "    </tr>\n",
       "    <tr>\n",
       "      <th>3</th>\n",
       "      <td>PIRASO</td>\n",
       "      <td>UV Protection Aviator Sunglasses (56)</td>\n",
       "      <td>₹349</td>\n",
       "    </tr>\n",
       "    <tr>\n",
       "      <th>4</th>\n",
       "      <td>SUNBEE</td>\n",
       "      <td>UV Protection, Polarized, Mirrored Round Sungl...</td>\n",
       "      <td>₹324</td>\n",
       "    </tr>\n",
       "    <tr>\n",
       "      <th>5</th>\n",
       "      <td>kingsunglasses</td>\n",
       "      <td>UV Protection Rectangular Sunglasses (55)</td>\n",
       "      <td>₹189</td>\n",
       "    </tr>\n",
       "    <tr>\n",
       "      <th>6</th>\n",
       "      <td>kingsunglasses</td>\n",
       "      <td>Mirrored, UV Protection Wayfarer Sunglasses (F...</td>\n",
       "      <td>₹269</td>\n",
       "    </tr>\n",
       "    <tr>\n",
       "      <th>7</th>\n",
       "      <td>NuVew</td>\n",
       "      <td>UV Protection Retro Square, Wayfarer Sunglasse...</td>\n",
       "      <td>₹275</td>\n",
       "    </tr>\n",
       "    <tr>\n",
       "      <th>8</th>\n",
       "      <td>hipe</td>\n",
       "      <td>UV Protection, Gradient, Mirrored, Riding Glas...</td>\n",
       "      <td>₹233</td>\n",
       "    </tr>\n",
       "    <tr>\n",
       "      <th>9</th>\n",
       "      <td>hipe</td>\n",
       "      <td>Mirrored Wayfarer Sunglasses (55)</td>\n",
       "      <td>₹229</td>\n",
       "    </tr>\n",
       "    <tr>\n",
       "      <th>10</th>\n",
       "      <td>Elligator</td>\n",
       "      <td>UV Protection Round Sunglasses (53)</td>\n",
       "      <td>₹229</td>\n",
       "    </tr>\n",
       "    <tr>\n",
       "      <th>11</th>\n",
       "      <td>VINCENT CHASE</td>\n",
       "      <td>UV Protection Cat-eye Sunglasses (54)</td>\n",
       "      <td>₹649</td>\n",
       "    </tr>\n",
       "    <tr>\n",
       "      <th>12</th>\n",
       "      <td>kingsunglasses</td>\n",
       "      <td>UV Protection Round Sunglasses (Free Size)</td>\n",
       "      <td>₹329</td>\n",
       "    </tr>\n",
       "    <tr>\n",
       "      <th>13</th>\n",
       "      <td>HIPPON</td>\n",
       "      <td>UV Protection Wayfarer Sunglasses (55)</td>\n",
       "      <td>₹171</td>\n",
       "    </tr>\n",
       "    <tr>\n",
       "      <th>14</th>\n",
       "      <td>SRPM</td>\n",
       "      <td>UV Protection Wayfarer Sunglasses (53)</td>\n",
       "      <td>₹246</td>\n",
       "    </tr>\n",
       "    <tr>\n",
       "      <th>15</th>\n",
       "      <td>PIRASO</td>\n",
       "      <td>UV Protection Aviator Sunglasses (Free Size)</td>\n",
       "      <td>₹349</td>\n",
       "    </tr>\n",
       "    <tr>\n",
       "      <th>16</th>\n",
       "      <td>ROZZETTA CRAFT</td>\n",
       "      <td>UV Protection Retro Square Sunglasses (Free Size)</td>\n",
       "      <td>₹499</td>\n",
       "    </tr>\n",
       "    <tr>\n",
       "      <th>17</th>\n",
       "      <td>GANSTA</td>\n",
       "      <td>UV Protection Aviator Sunglasses (57)</td>\n",
       "      <td>₹284</td>\n",
       "    </tr>\n",
       "    <tr>\n",
       "      <th>18</th>\n",
       "      <td>Lee Topper</td>\n",
       "      <td>Riding Glasses, Night Vision Wrap-around Sungl...</td>\n",
       "      <td>₹276</td>\n",
       "    </tr>\n",
       "    <tr>\n",
       "      <th>19</th>\n",
       "      <td>ROZZETTA CRAFT</td>\n",
       "      <td>UV Protection, Gradient Rectangular Sunglasses...</td>\n",
       "      <td>₹449</td>\n",
       "    </tr>\n",
       "    <tr>\n",
       "      <th>20</th>\n",
       "      <td>VINCENT CHASE</td>\n",
       "      <td>by Lenskart Polarized, UV Protection Wayfarer ...</td>\n",
       "      <td>₹799</td>\n",
       "    </tr>\n",
       "    <tr>\n",
       "      <th>21</th>\n",
       "      <td>PHENOMENAL</td>\n",
       "      <td>UV Protection Retro Square Sunglasses (Free Size)</td>\n",
       "      <td>₹379</td>\n",
       "    </tr>\n",
       "    <tr>\n",
       "      <th>22</th>\n",
       "      <td>Fastrack</td>\n",
       "      <td>UV Protection Shield Sunglasses (Free Size)</td>\n",
       "      <td>₹809</td>\n",
       "    </tr>\n",
       "    <tr>\n",
       "      <th>23</th>\n",
       "      <td>PIRASO</td>\n",
       "      <td>UV Protection Aviator Sunglasses (58)</td>\n",
       "      <td>₹349</td>\n",
       "    </tr>\n",
       "    <tr>\n",
       "      <th>24</th>\n",
       "      <td>AISLIN</td>\n",
       "      <td>UV Protection, Gradient Butterfly, Retro Squar...</td>\n",
       "      <td>₹498</td>\n",
       "    </tr>\n",
       "    <tr>\n",
       "      <th>25</th>\n",
       "      <td>kingsunglasses</td>\n",
       "      <td>Mirrored, UV Protection Wayfarer Sunglasses (F...</td>\n",
       "      <td>₹269</td>\n",
       "    </tr>\n",
       "    <tr>\n",
       "      <th>26</th>\n",
       "      <td>kingsunglasses</td>\n",
       "      <td>UV Protection Round Sunglasses (54)</td>\n",
       "      <td>₹214</td>\n",
       "    </tr>\n",
       "    <tr>\n",
       "      <th>27</th>\n",
       "      <td>Singco India</td>\n",
       "      <td>UV Protection Aviator Sunglasses (45)</td>\n",
       "      <td>₹329</td>\n",
       "    </tr>\n",
       "    <tr>\n",
       "      <th>28</th>\n",
       "      <td>ROYAL SON</td>\n",
       "      <td>UV Protection Rectangular, Retro Square Sungla...</td>\n",
       "      <td>₹499</td>\n",
       "    </tr>\n",
       "    <tr>\n",
       "      <th>29</th>\n",
       "      <td>kingsunglasses</td>\n",
       "      <td>Mirrored, UV Protection Aviator Sunglasses (56)</td>\n",
       "      <td>₹245</td>\n",
       "    </tr>\n",
       "    <tr>\n",
       "      <th>30</th>\n",
       "      <td>hipe</td>\n",
       "      <td>UV Protection, Night Vision, Riding Glasses, G...</td>\n",
       "      <td>₹179</td>\n",
       "    </tr>\n",
       "    <tr>\n",
       "      <th>31</th>\n",
       "      <td>ROYAL SON</td>\n",
       "      <td>UV Protection Retro Square Sunglasses (60)</td>\n",
       "      <td>₹699</td>\n",
       "    </tr>\n",
       "    <tr>\n",
       "      <th>32</th>\n",
       "      <td>Fastrack</td>\n",
       "      <td>UV Protection Aviator Sunglasses (57)</td>\n",
       "      <td>₹639</td>\n",
       "    </tr>\n",
       "    <tr>\n",
       "      <th>33</th>\n",
       "      <td>New Specs</td>\n",
       "      <td>UV Protection Round Sunglasses (Free Size)</td>\n",
       "      <td>₹264</td>\n",
       "    </tr>\n",
       "    <tr>\n",
       "      <th>34</th>\n",
       "      <td>SRPM</td>\n",
       "      <td>Night Vision, UV Protection Round Sunglasses (54)</td>\n",
       "      <td>₹259</td>\n",
       "    </tr>\n",
       "    <tr>\n",
       "      <th>35</th>\n",
       "      <td>PIRASO</td>\n",
       "      <td>UV Protection Aviator Sunglasses (50)</td>\n",
       "      <td>₹349</td>\n",
       "    </tr>\n",
       "    <tr>\n",
       "      <th>36</th>\n",
       "      <td>Roadster</td>\n",
       "      <td>UV Protection Aviator Sunglasses (60)</td>\n",
       "      <td>₹709</td>\n",
       "    </tr>\n",
       "    <tr>\n",
       "      <th>37</th>\n",
       "      <td>SRPM</td>\n",
       "      <td>Others Wayfarer, Retro Square Sunglasses (50)</td>\n",
       "      <td>₹239</td>\n",
       "    </tr>\n",
       "    <tr>\n",
       "      <th>38</th>\n",
       "      <td>Fastrack</td>\n",
       "      <td>UV Protection Aviator Sunglasses (Free Size)</td>\n",
       "      <td>₹639</td>\n",
       "    </tr>\n",
       "    <tr>\n",
       "      <th>39</th>\n",
       "      <td>ROZZETTA CRAFT</td>\n",
       "      <td>UV Protection Aviator Sunglasses (62)</td>\n",
       "      <td>₹616</td>\n",
       "    </tr>\n",
       "  </tbody>\n",
       "</table>\n",
       "</div>"
      ],
      "text/plain": [
       "             Brand                                Product Description  \\\n",
       "0         elegante  Polarized, Riding Glasses, Night Vision Sports...   \n",
       "1         Fastrack      UV Protection Wayfarer Sunglasses (Free Size)   \n",
       "2           GANSTA  UV Protection, Riding Glasses Wayfarer Sunglas...   \n",
       "3           PIRASO              UV Protection Aviator Sunglasses (56)   \n",
       "4           SUNBEE  UV Protection, Polarized, Mirrored Round Sungl...   \n",
       "5   kingsunglasses          UV Protection Rectangular Sunglasses (55)   \n",
       "6   kingsunglasses  Mirrored, UV Protection Wayfarer Sunglasses (F...   \n",
       "7            NuVew  UV Protection Retro Square, Wayfarer Sunglasse...   \n",
       "8             hipe  UV Protection, Gradient, Mirrored, Riding Glas...   \n",
       "9             hipe                  Mirrored Wayfarer Sunglasses (55)   \n",
       "10       Elligator                UV Protection Round Sunglasses (53)   \n",
       "11   VINCENT CHASE              UV Protection Cat-eye Sunglasses (54)   \n",
       "12  kingsunglasses         UV Protection Round Sunglasses (Free Size)   \n",
       "13          HIPPON             UV Protection Wayfarer Sunglasses (55)   \n",
       "14            SRPM             UV Protection Wayfarer Sunglasses (53)   \n",
       "15          PIRASO       UV Protection Aviator Sunglasses (Free Size)   \n",
       "16  ROZZETTA CRAFT  UV Protection Retro Square Sunglasses (Free Size)   \n",
       "17          GANSTA              UV Protection Aviator Sunglasses (57)   \n",
       "18      Lee Topper  Riding Glasses, Night Vision Wrap-around Sungl...   \n",
       "19  ROZZETTA CRAFT  UV Protection, Gradient Rectangular Sunglasses...   \n",
       "20   VINCENT CHASE  by Lenskart Polarized, UV Protection Wayfarer ...   \n",
       "21      PHENOMENAL  UV Protection Retro Square Sunglasses (Free Size)   \n",
       "22        Fastrack        UV Protection Shield Sunglasses (Free Size)   \n",
       "23          PIRASO              UV Protection Aviator Sunglasses (58)   \n",
       "24          AISLIN  UV Protection, Gradient Butterfly, Retro Squar...   \n",
       "25  kingsunglasses  Mirrored, UV Protection Wayfarer Sunglasses (F...   \n",
       "26  kingsunglasses                UV Protection Round Sunglasses (54)   \n",
       "27    Singco India              UV Protection Aviator Sunglasses (45)   \n",
       "28       ROYAL SON  UV Protection Rectangular, Retro Square Sungla...   \n",
       "29  kingsunglasses    Mirrored, UV Protection Aviator Sunglasses (56)   \n",
       "30            hipe  UV Protection, Night Vision, Riding Glasses, G...   \n",
       "31       ROYAL SON         UV Protection Retro Square Sunglasses (60)   \n",
       "32        Fastrack              UV Protection Aviator Sunglasses (57)   \n",
       "33       New Specs         UV Protection Round Sunglasses (Free Size)   \n",
       "34            SRPM  Night Vision, UV Protection Round Sunglasses (54)   \n",
       "35          PIRASO              UV Protection Aviator Sunglasses (50)   \n",
       "36        Roadster              UV Protection Aviator Sunglasses (60)   \n",
       "37            SRPM      Others Wayfarer, Retro Square Sunglasses (50)   \n",
       "38        Fastrack       UV Protection Aviator Sunglasses (Free Size)   \n",
       "39  ROZZETTA CRAFT              UV Protection Aviator Sunglasses (62)   \n",
       "\n",
       "   Product price  \n",
       "0           ₹499  \n",
       "1           ₹639  \n",
       "2           ₹221  \n",
       "3           ₹349  \n",
       "4           ₹324  \n",
       "5           ₹189  \n",
       "6           ₹269  \n",
       "7           ₹275  \n",
       "8           ₹233  \n",
       "9           ₹229  \n",
       "10          ₹229  \n",
       "11          ₹649  \n",
       "12          ₹329  \n",
       "13          ₹171  \n",
       "14          ₹246  \n",
       "15          ₹349  \n",
       "16          ₹499  \n",
       "17          ₹284  \n",
       "18          ₹276  \n",
       "19          ₹449  \n",
       "20          ₹799  \n",
       "21          ₹379  \n",
       "22          ₹809  \n",
       "23          ₹349  \n",
       "24          ₹498  \n",
       "25          ₹269  \n",
       "26          ₹214  \n",
       "27          ₹329  \n",
       "28          ₹499  \n",
       "29          ₹245  \n",
       "30          ₹179  \n",
       "31          ₹699  \n",
       "32          ₹639  \n",
       "33          ₹264  \n",
       "34          ₹259  \n",
       "35          ₹349  \n",
       "36          ₹709  \n",
       "37          ₹239  \n",
       "38          ₹639  \n",
       "39          ₹616  "
      ]
     },
     "execution_count": 305,
     "metadata": {},
     "output_type": "execute_result"
    }
   ],
   "source": [
    "pdd=pd.DataFrame({})\n",
    "pdd['Brand']=brand1\n",
    "pdd['Product Description']=prd1\n",
    "pdd['Product price']=price1\n",
    "pdd"
   ]
  },
  {
   "cell_type": "markdown",
   "id": "a9ce4031",
   "metadata": {},
   "source": [
    "Now to go to third page and extract 41- 80 items details"
   ]
  },
  {
   "cell_type": "code",
   "execution_count": 306,
   "id": "6351a188",
   "metadata": {},
   "outputs": [],
   "source": [
    "next1_button=driver.find_element_by_xpath('/html/body/div[1]/div/div[3]/div[1]/div[2]/div[12]/div/div/nav/a[12]')\n",
    "next1_button.click()"
   ]
  },
  {
   "cell_type": "markdown",
   "id": "0b6f6a6d",
   "metadata": {},
   "source": [
    "3rd Page details scrapping 81-100 items"
   ]
  },
  {
   "cell_type": "code",
   "execution_count": 307,
   "id": "8e444e0a",
   "metadata": {},
   "outputs": [],
   "source": [
    "brand11=[]\n",
    "prd11=[]\n",
    "price11=[]"
   ]
  },
  {
   "cell_type": "code",
   "execution_count": 308,
   "id": "1e29311b",
   "metadata": {},
   "outputs": [
    {
     "data": {
      "text/plain": [
       "[<selenium.webdriver.remote.webelement.WebElement (session=\"badbe35eef074e246685be00705884a2\", element=\"edee6182-0d6d-4e8e-902d-50fee886e39b\")>,\n",
       " <selenium.webdriver.remote.webelement.WebElement (session=\"badbe35eef074e246685be00705884a2\", element=\"edb7b4ed-f46c-4fd6-b53f-0aecb9287890\")>]"
      ]
     },
     "execution_count": 308,
     "metadata": {},
     "output_type": "execute_result"
    }
   ],
   "source": [
    "#extract brand\n",
    "brand_tags=driver.find_elements_by_xpath(\"//div[@class='_2WkVRV']\")\n",
    "brand_tags[0:2]"
   ]
  },
  {
   "cell_type": "code",
   "execution_count": 309,
   "id": "cd0e42db",
   "metadata": {},
   "outputs": [
    {
     "data": {
      "text/plain": [
       "['ROZZETTA CRAFT', 'Silver Kartz']"
      ]
     },
     "execution_count": 309,
     "metadata": {},
     "output_type": "execute_result"
    }
   ],
   "source": [
    "for i in brand_tags:\n",
    "    brd=i.text\n",
    "    brand11.append(brd)\n",
    "brand11[0:2]"
   ]
  },
  {
   "cell_type": "code",
   "execution_count": 310,
   "id": "ec3c675a",
   "metadata": {},
   "outputs": [
    {
     "data": {
      "text/plain": [
       "[<selenium.webdriver.remote.webelement.WebElement (session=\"badbe35eef074e246685be00705884a2\", element=\"3edbe618-0465-4ed8-8ea4-6038f5bf2947\")>,\n",
       " <selenium.webdriver.remote.webelement.WebElement (session=\"badbe35eef074e246685be00705884a2\", element=\"0fca2aee-7998-4594-a808-65672da6a93a\")>]"
      ]
     },
     "execution_count": 310,
     "metadata": {},
     "output_type": "execute_result"
    }
   ],
   "source": [
    "#extract product description\n",
    "prd_tags=driver.find_elements_by_xpath(\"//a[@class='IRpwTa']\")\n",
    "prd_tags[0:2]"
   ]
  },
  {
   "cell_type": "code",
   "execution_count": 311,
   "id": "5808b81d",
   "metadata": {},
   "outputs": [
    {
     "data": {
      "text/plain": [
       "['UV Protection, Gradient Retro Square Sunglasses (Free S...',\n",
       " 'UV Protection Wayfarer Sunglasses (Free Size)']"
      ]
     },
     "execution_count": 311,
     "metadata": {},
     "output_type": "execute_result"
    }
   ],
   "source": [
    "for i in prd_tags:\n",
    "    prdi=i.text\n",
    "    prd11.append(prdi)\n",
    "prd11[0:2]"
   ]
  },
  {
   "cell_type": "code",
   "execution_count": 312,
   "id": "80001841",
   "metadata": {},
   "outputs": [
    {
     "data": {
      "text/plain": [
       "[<selenium.webdriver.remote.webelement.WebElement (session=\"badbe35eef074e246685be00705884a2\", element=\"c844a2a4-c9e2-43ac-a90a-ffc6824aad28\")>,\n",
       " <selenium.webdriver.remote.webelement.WebElement (session=\"badbe35eef074e246685be00705884a2\", element=\"fb180bb7-0984-4e05-8b8d-fe5104ed0cde\")>]"
      ]
     },
     "execution_count": 312,
     "metadata": {},
     "output_type": "execute_result"
    }
   ],
   "source": [
    "#extract product price\n",
    "price_tags=driver.find_elements_by_xpath(\"//div[@class='_30jeq3']\")\n",
    "price_tags[0:2]"
   ]
  },
  {
   "cell_type": "code",
   "execution_count": 313,
   "id": "46471c83",
   "metadata": {},
   "outputs": [
    {
     "data": {
      "text/plain": [
       "['₹349', '₹320']"
      ]
     },
     "execution_count": 313,
     "metadata": {},
     "output_type": "execute_result"
    }
   ],
   "source": [
    "for i in price_tags:\n",
    "    prc=i.text\n",
    "    price11.append(prc)\n",
    "price11[0:2]"
   ]
  },
  {
   "cell_type": "code",
   "execution_count": 314,
   "id": "ad08cc24",
   "metadata": {},
   "outputs": [
    {
     "name": "stdout",
     "output_type": "stream",
     "text": [
      "40 39 40\n"
     ]
    }
   ],
   "source": [
    "print(len(brand11),len(prd11),len(price11))"
   ]
  },
  {
   "cell_type": "code",
   "execution_count": null,
   "id": "424d8f40",
   "metadata": {},
   "outputs": [],
   "source": [
    "pdd=pd.DataFrame({})\n",
    "pdd['Brand']=brand11\n",
    "pdd['Product Description']=prd11\n",
    "pdd['Product price']=price11\n",
    "pdd.head(20)"
   ]
  },
  {
   "cell_type": "code",
   "execution_count": null,
   "id": "e7bb06c0",
   "metadata": {},
   "outputs": [],
   "source": [
    "driver.close()"
   ]
  },
  {
   "cell_type": "code",
   "execution_count": null,
   "id": "e36f810a",
   "metadata": {},
   "outputs": [],
   "source": []
  },
  {
   "cell_type": "markdown",
   "id": "8a6986e8",
   "metadata": {},
   "source": [
    "# Q5: Scrape 100 reviews data from flipkart.com for iphone11 phone. You have to go the link:\n",
    "As shown in the above page you have to scrape the tick marked attributes.These are:\n",
    "1. Rating\n",
    "2. Review summary\n",
    "3. Full review\n",
    "4. You have to scrape this data for first 100 reviews."
   ]
  },
  {
   "cell_type": "code",
   "execution_count": 315,
   "id": "de0517e1",
   "metadata": {},
   "outputs": [],
   "source": [
    "driver=webdriver.Chrome(\"chromedriver.exe\")\n",
    "time.sleep(2)"
   ]
  },
  {
   "cell_type": "code",
   "execution_count": 316,
   "id": "618123e2",
   "metadata": {},
   "outputs": [],
   "source": [
    "driver.get(\"https://www.flipkart.com/apple-iphone-11-black-64-gb-includes-earpods-power-adapter/p/itm0f37c2240b217?pid=MOBFKCTSVZAXUHGR&lid=LSTMOBFKC\")"
   ]
  },
  {
   "cell_type": "code",
   "execution_count": 317,
   "id": "76d7e87c",
   "metadata": {},
   "outputs": [],
   "source": [
    "#finding element for reviews\n",
    "search_button=driver.find_element_by_xpath('/html/body/div[1]/div/div[3]/div[1]/div[2]/div[9]/div/div/div[5]/div/a/div')\n",
    "search_button.click()"
   ]
  },
  {
   "cell_type": "code",
   "execution_count": 318,
   "id": "e39359c4",
   "metadata": {},
   "outputs": [],
   "source": [
    "rating=[]\n",
    "summ=[]\n",
    "rev=[]"
   ]
  },
  {
   "cell_type": "markdown",
   "id": "ad49803d",
   "metadata": {},
   "source": [
    "1st page reviews"
   ]
  },
  {
   "cell_type": "code",
   "execution_count": 319,
   "id": "38d49de8",
   "metadata": {},
   "outputs": [
    {
     "data": {
      "text/plain": [
       "[<selenium.webdriver.remote.webelement.WebElement (session=\"b07ee54cff290b7005082da3c0e0c41b\", element=\"88adacf0-356c-417e-b2e0-41f43b626a71\")>,\n",
       " <selenium.webdriver.remote.webelement.WebElement (session=\"b07ee54cff290b7005082da3c0e0c41b\", element=\"9f07cd0e-3654-4679-9e03-cc23d2d57f0f\")>,\n",
       " <selenium.webdriver.remote.webelement.WebElement (session=\"b07ee54cff290b7005082da3c0e0c41b\", element=\"b7a24961-3723-478a-9a39-a7dc99858248\")>,\n",
       " <selenium.webdriver.remote.webelement.WebElement (session=\"b07ee54cff290b7005082da3c0e0c41b\", element=\"d65f4280-0ef0-4c3b-8e28-ebc883dd1b73\")>,\n",
       " <selenium.webdriver.remote.webelement.WebElement (session=\"b07ee54cff290b7005082da3c0e0c41b\", element=\"61a28da3-f3b8-48aa-8acb-591ad015a3f9\")>,\n",
       " <selenium.webdriver.remote.webelement.WebElement (session=\"b07ee54cff290b7005082da3c0e0c41b\", element=\"9497b9ee-0b82-4f2d-8b02-ab9ace12392c\")>,\n",
       " <selenium.webdriver.remote.webelement.WebElement (session=\"b07ee54cff290b7005082da3c0e0c41b\", element=\"d913334e-228d-46f7-9fe9-e0449fbb1ca7\")>,\n",
       " <selenium.webdriver.remote.webelement.WebElement (session=\"b07ee54cff290b7005082da3c0e0c41b\", element=\"69d9fba8-6935-43ec-a3ef-a85a0a7d9580\")>,\n",
       " <selenium.webdriver.remote.webelement.WebElement (session=\"b07ee54cff290b7005082da3c0e0c41b\", element=\"df1833f6-dfa6-4302-9126-e6e840253265\")>,\n",
       " <selenium.webdriver.remote.webelement.WebElement (session=\"b07ee54cff290b7005082da3c0e0c41b\", element=\"aef48fd1-6e56-465f-9ba5-2666fafef770\")>]"
      ]
     },
     "execution_count": 319,
     "metadata": {},
     "output_type": "execute_result"
    }
   ],
   "source": [
    "#extract ratings\n",
    "rat_tags=driver.find_elements_by_xpath(\"//div[@class='_3LWZlK _1BLPMq']\")\n",
    "rat_tags"
   ]
  },
  {
   "cell_type": "code",
   "execution_count": 320,
   "id": "6fbf2697",
   "metadata": {},
   "outputs": [
    {
     "data": {
      "text/plain": [
       "['5', '5', '5', '5', '5', '5', '5', '5', '4', '5']"
      ]
     },
     "execution_count": 320,
     "metadata": {},
     "output_type": "execute_result"
    }
   ],
   "source": [
    "for i in rat_tags:\n",
    "    ratt=i.text\n",
    "    rating.append(ratt)\n",
    "rating"
   ]
  },
  {
   "cell_type": "code",
   "execution_count": 321,
   "id": "bcea0b9b",
   "metadata": {},
   "outputs": [
    {
     "data": {
      "text/plain": [
       "[<selenium.webdriver.remote.webelement.WebElement (session=\"b07ee54cff290b7005082da3c0e0c41b\", element=\"ac6ae303-bb6e-4cd5-8e5e-df62d3d07f34\")>,\n",
       " <selenium.webdriver.remote.webelement.WebElement (session=\"b07ee54cff290b7005082da3c0e0c41b\", element=\"269722b3-1783-4b46-a6cd-be1f1c244201\")>,\n",
       " <selenium.webdriver.remote.webelement.WebElement (session=\"b07ee54cff290b7005082da3c0e0c41b\", element=\"33b03e2b-c58c-4ba6-adbe-1e12bd53fbd3\")>,\n",
       " <selenium.webdriver.remote.webelement.WebElement (session=\"b07ee54cff290b7005082da3c0e0c41b\", element=\"0fdeb922-5fed-40f2-b655-e1e7c99af435\")>,\n",
       " <selenium.webdriver.remote.webelement.WebElement (session=\"b07ee54cff290b7005082da3c0e0c41b\", element=\"bc0136d1-0ebd-443d-b4f4-2345eb3dcf03\")>,\n",
       " <selenium.webdriver.remote.webelement.WebElement (session=\"b07ee54cff290b7005082da3c0e0c41b\", element=\"ec12dd0d-e433-4ce7-ba46-aaad53e32702\")>,\n",
       " <selenium.webdriver.remote.webelement.WebElement (session=\"b07ee54cff290b7005082da3c0e0c41b\", element=\"a9209055-a915-4383-a3d0-2370aebccc6e\")>,\n",
       " <selenium.webdriver.remote.webelement.WebElement (session=\"b07ee54cff290b7005082da3c0e0c41b\", element=\"07692937-157b-44a2-850c-46d01a4b59b9\")>,\n",
       " <selenium.webdriver.remote.webelement.WebElement (session=\"b07ee54cff290b7005082da3c0e0c41b\", element=\"66f99775-f610-4b11-90f9-ccf8c78461e1\")>,\n",
       " <selenium.webdriver.remote.webelement.WebElement (session=\"b07ee54cff290b7005082da3c0e0c41b\", element=\"bb7f8f28-9e68-4191-b6a7-c8779f7bd965\")>]"
      ]
     },
     "execution_count": 321,
     "metadata": {},
     "output_type": "execute_result"
    }
   ],
   "source": [
    "#extract summary\n",
    "su_tags=driver.find_elements_by_xpath(\"//p[@class='_2-N8zT']\")\n",
    "su_tags"
   ]
  },
  {
   "cell_type": "code",
   "execution_count": 322,
   "id": "659575fa",
   "metadata": {},
   "outputs": [
    {
     "data": {
      "text/plain": [
       "['Brilliant',\n",
       " 'Simply awesome',\n",
       " 'Best in the market!',\n",
       " 'Perfect product!',\n",
       " 'Fabulous!',\n",
       " 'Worth every penny',\n",
       " 'Great product',\n",
       " 'Highly recommended',\n",
       " 'Good choice',\n",
       " 'Worth every penny']"
      ]
     },
     "execution_count": 322,
     "metadata": {},
     "output_type": "execute_result"
    }
   ],
   "source": [
    "for i in su_tags:\n",
    "    suma=i.text\n",
    "    summ.append(suma)\n",
    "summ"
   ]
  },
  {
   "cell_type": "code",
   "execution_count": 323,
   "id": "99c5bea6",
   "metadata": {},
   "outputs": [
    {
     "data": {
      "text/plain": [
       "[<selenium.webdriver.remote.webelement.WebElement (session=\"b07ee54cff290b7005082da3c0e0c41b\", element=\"8eb13fd2-5803-4e8d-adff-f38ed0cc5602\")>,\n",
       " <selenium.webdriver.remote.webelement.WebElement (session=\"b07ee54cff290b7005082da3c0e0c41b\", element=\"3cfb846f-9de3-48a8-a90d-7d8dde80c53d\")>,\n",
       " <selenium.webdriver.remote.webelement.WebElement (session=\"b07ee54cff290b7005082da3c0e0c41b\", element=\"790f8519-c678-4aab-80de-f3b4fc2ed9e4\")>,\n",
       " <selenium.webdriver.remote.webelement.WebElement (session=\"b07ee54cff290b7005082da3c0e0c41b\", element=\"bf28f084-b6a9-4e44-a57c-34b9b406e545\")>,\n",
       " <selenium.webdriver.remote.webelement.WebElement (session=\"b07ee54cff290b7005082da3c0e0c41b\", element=\"d178d52a-9fa9-4b40-8978-9d04a9cc13e3\")>,\n",
       " <selenium.webdriver.remote.webelement.WebElement (session=\"b07ee54cff290b7005082da3c0e0c41b\", element=\"c6bc2af5-6f28-4c74-84ef-718e66c7b57e\")>,\n",
       " <selenium.webdriver.remote.webelement.WebElement (session=\"b07ee54cff290b7005082da3c0e0c41b\", element=\"8296767d-318b-4de5-b5e5-7cb2379d9a68\")>,\n",
       " <selenium.webdriver.remote.webelement.WebElement (session=\"b07ee54cff290b7005082da3c0e0c41b\", element=\"fb5bb3e8-b620-4a3b-8320-0ea49f98aed7\")>,\n",
       " <selenium.webdriver.remote.webelement.WebElement (session=\"b07ee54cff290b7005082da3c0e0c41b\", element=\"2ad8d168-ce39-4f9a-94c8-97769d12de1e\")>,\n",
       " <selenium.webdriver.remote.webelement.WebElement (session=\"b07ee54cff290b7005082da3c0e0c41b\", element=\"29dfe7df-9ab7-4a0d-aae0-d53d844172ac\")>]"
      ]
     },
     "execution_count": 323,
     "metadata": {},
     "output_type": "execute_result"
    }
   ],
   "source": [
    "#extract reviews\n",
    "re_tags=driver.find_elements_by_xpath(\"//div[@class='t-ZTKy']\")\n",
    "re_tags"
   ]
  },
  {
   "cell_type": "code",
   "execution_count": 324,
   "id": "2f069b77",
   "metadata": {},
   "outputs": [
    {
     "data": {
      "text/plain": [
       "['The Best Phone for the Money\\n\\nThe iPhone 11 offers superb cameras, a more durable design and excellent battery life for an affordable price.\\n\\nCompelling ultra-wide camera\\nNew Night mode is excellent\\nLong battery life',\n",
       " 'Really satisfied with the Product I received... It’s totally genuine and the packaging was also really good so if ur planning to buy just go for it.',\n",
       " 'Great iPhone very snappy experience as apple kind. Upgraded from iPhone 7.\\nPros\\n-Camera top class\\n- Battery top performed\\n-Chipset no need to say as apple kind\\n-Security as you expect from apple\\n- Display super bright industry leading colour\\naccuracy and super responsive\\n-Build quality as expect from apple sturdy\\npremium durable beautiful stylish.\\n-Os most stable os in smartphone industry\\n\\nCons\\n-No 5G\\n-Display is not based on OLED technology\\n-Charger headphones and 1 apple stic...\\nREAD MORE',\n",
       " 'Amazing phone with great cameras and better battery which gives you the best performance. I just love the camera .',\n",
       " 'This is my first iOS phone. I am very happy with this product. Very much satisfied with this. I love this phone.',\n",
       " 'Previously I was using one plus 3t it was a great phone\\nAnd then I decided to upgrade I am stuck between Samsung s10 plus or iPhone 11\\nI have seen the specs and everything were good except the display it’s somewhere between 720-1080 and it’s not even an amoled it’s an LCD display\\nBut I decided to go with iPhone because I have never used an IOS device I have Been an android user from the past 9 years I ordered IPhone 11 (128gb) product red\\nMy experience after using 3 weeks\\n1. The delivery ...\\nREAD MORE',\n",
       " 'Amazing Powerful and Durable Gadget.\\n\\nI’m am very happy with the camera picture quality, Amazing face id unlocked in dark room, Strong battery with perfect screen size as you can carry easily in pocket. This is my third iPhone.\\n\\nI shifted from android Samsung Note series to iPhone because of the strong build quality and peace of mind for next 3-4 years.\\n\\nDon’t think to much just go for it and I suggest you to go for minimum 128gb variant or more 256gb.\\n\\nI’ve attached my puppy pics and no fi...\\nREAD MORE',\n",
       " 'What a camera .....just awesome ..you can feel this iPhone just awesome . Good for gaming also ...try pubg in hd it’s just wow',\n",
       " 'So far it’s been an AMAZING experience coming back to iOS after nearly a decade but it’s not as versatile as android though phone is sturdy dropped it accidentally a couple of times and nothing happened fortunately camera is awesome',\n",
       " 'i11 is worthy to buy, too much happy with the product. Thank u flipkart I received the item on time..loved it..']"
      ]
     },
     "execution_count": 324,
     "metadata": {},
     "output_type": "execute_result"
    }
   ],
   "source": [
    "for i in re_tags:\n",
    "    revv=i.text\n",
    "    rev.append(revv)\n",
    "rev"
   ]
  },
  {
   "cell_type": "code",
   "execution_count": 325,
   "id": "c6ebd52a",
   "metadata": {
    "scrolled": false
   },
   "outputs": [
    {
     "data": {
      "text/html": [
       "<div>\n",
       "<style scoped>\n",
       "    .dataframe tbody tr th:only-of-type {\n",
       "        vertical-align: middle;\n",
       "    }\n",
       "\n",
       "    .dataframe tbody tr th {\n",
       "        vertical-align: top;\n",
       "    }\n",
       "\n",
       "    .dataframe thead th {\n",
       "        text-align: right;\n",
       "    }\n",
       "</style>\n",
       "<table border=\"1\" class=\"dataframe\">\n",
       "  <thead>\n",
       "    <tr style=\"text-align: right;\">\n",
       "      <th></th>\n",
       "      <th>Rating</th>\n",
       "      <th>Summary</th>\n",
       "      <th>Review</th>\n",
       "    </tr>\n",
       "  </thead>\n",
       "  <tbody>\n",
       "    <tr>\n",
       "      <th>0</th>\n",
       "      <td>5</td>\n",
       "      <td>Brilliant</td>\n",
       "      <td>The Best Phone for the Money\\n\\nThe iPhone 11 ...</td>\n",
       "    </tr>\n",
       "    <tr>\n",
       "      <th>1</th>\n",
       "      <td>5</td>\n",
       "      <td>Simply awesome</td>\n",
       "      <td>Really satisfied with the Product I received.....</td>\n",
       "    </tr>\n",
       "    <tr>\n",
       "      <th>2</th>\n",
       "      <td>5</td>\n",
       "      <td>Best in the market!</td>\n",
       "      <td>Great iPhone very snappy experience as apple k...</td>\n",
       "    </tr>\n",
       "    <tr>\n",
       "      <th>3</th>\n",
       "      <td>5</td>\n",
       "      <td>Perfect product!</td>\n",
       "      <td>Amazing phone with great cameras and better ba...</td>\n",
       "    </tr>\n",
       "    <tr>\n",
       "      <th>4</th>\n",
       "      <td>5</td>\n",
       "      <td>Fabulous!</td>\n",
       "      <td>This is my first iOS phone. I am very happy wi...</td>\n",
       "    </tr>\n",
       "    <tr>\n",
       "      <th>5</th>\n",
       "      <td>5</td>\n",
       "      <td>Worth every penny</td>\n",
       "      <td>Previously I was using one plus 3t it was a gr...</td>\n",
       "    </tr>\n",
       "    <tr>\n",
       "      <th>6</th>\n",
       "      <td>5</td>\n",
       "      <td>Great product</td>\n",
       "      <td>Amazing Powerful and Durable Gadget.\\n\\nI’m am...</td>\n",
       "    </tr>\n",
       "    <tr>\n",
       "      <th>7</th>\n",
       "      <td>5</td>\n",
       "      <td>Highly recommended</td>\n",
       "      <td>What a camera .....just awesome ..you can feel...</td>\n",
       "    </tr>\n",
       "    <tr>\n",
       "      <th>8</th>\n",
       "      <td>4</td>\n",
       "      <td>Good choice</td>\n",
       "      <td>So far it’s been an AMAZING experience coming ...</td>\n",
       "    </tr>\n",
       "    <tr>\n",
       "      <th>9</th>\n",
       "      <td>5</td>\n",
       "      <td>Worth every penny</td>\n",
       "      <td>i11 is worthy to buy, too much happy with the ...</td>\n",
       "    </tr>\n",
       "  </tbody>\n",
       "</table>\n",
       "</div>"
      ],
      "text/plain": [
       "  Rating              Summary  \\\n",
       "0      5            Brilliant   \n",
       "1      5       Simply awesome   \n",
       "2      5  Best in the market!   \n",
       "3      5     Perfect product!   \n",
       "4      5            Fabulous!   \n",
       "5      5    Worth every penny   \n",
       "6      5        Great product   \n",
       "7      5   Highly recommended   \n",
       "8      4          Good choice   \n",
       "9      5    Worth every penny   \n",
       "\n",
       "                                              Review  \n",
       "0  The Best Phone for the Money\\n\\nThe iPhone 11 ...  \n",
       "1  Really satisfied with the Product I received.....  \n",
       "2  Great iPhone very snappy experience as apple k...  \n",
       "3  Amazing phone with great cameras and better ba...  \n",
       "4  This is my first iOS phone. I am very happy wi...  \n",
       "5  Previously I was using one plus 3t it was a gr...  \n",
       "6  Amazing Powerful and Durable Gadget.\\n\\nI’m am...  \n",
       "7  What a camera .....just awesome ..you can feel...  \n",
       "8  So far it’s been an AMAZING experience coming ...  \n",
       "9  i11 is worthy to buy, too much happy with the ...  "
      ]
     },
     "execution_count": 325,
     "metadata": {},
     "output_type": "execute_result"
    }
   ],
   "source": [
    "iphone=pd.DataFrame({})\n",
    "iphone['Rating']=rating\n",
    "iphone['Summary']=summ\n",
    "iphone['Review']=rev\n",
    "iphone"
   ]
  },
  {
   "cell_type": "code",
   "execution_count": 326,
   "id": "945499f4",
   "metadata": {
    "scrolled": true
   },
   "outputs": [],
   "source": [
    "next_button=driver.find_element_by_xpath('/html/body/div[1]/div/div[3]/div/div/div[2]/div[13]/div/div/nav/a[11]')\n",
    "next_button.click()"
   ]
  },
  {
   "cell_type": "markdown",
   "id": "1e3593ed",
   "metadata": {},
   "source": [
    "2nd Page reviews scrapping"
   ]
  },
  {
   "cell_type": "code",
   "execution_count": 327,
   "id": "18bd235d",
   "metadata": {},
   "outputs": [
    {
     "data": {
      "text/html": [
       "<div>\n",
       "<style scoped>\n",
       "    .dataframe tbody tr th:only-of-type {\n",
       "        vertical-align: middle;\n",
       "    }\n",
       "\n",
       "    .dataframe tbody tr th {\n",
       "        vertical-align: top;\n",
       "    }\n",
       "\n",
       "    .dataframe thead th {\n",
       "        text-align: right;\n",
       "    }\n",
       "</style>\n",
       "<table border=\"1\" class=\"dataframe\">\n",
       "  <thead>\n",
       "    <tr style=\"text-align: right;\">\n",
       "      <th></th>\n",
       "      <th>Rating</th>\n",
       "      <th>Summary</th>\n",
       "      <th>Review</th>\n",
       "    </tr>\n",
       "  </thead>\n",
       "  <tbody>\n",
       "    <tr>\n",
       "      <th>0</th>\n",
       "      <td>5</td>\n",
       "      <td>Brilliant</td>\n",
       "      <td>The Best Phone for the Money\\n\\nThe iPhone 11 ...</td>\n",
       "    </tr>\n",
       "    <tr>\n",
       "      <th>1</th>\n",
       "      <td>5</td>\n",
       "      <td>Simply awesome</td>\n",
       "      <td>Really satisfied with the Product I received.....</td>\n",
       "    </tr>\n",
       "    <tr>\n",
       "      <th>2</th>\n",
       "      <td>5</td>\n",
       "      <td>Best in the market!</td>\n",
       "      <td>Great iPhone very snappy experience as apple k...</td>\n",
       "    </tr>\n",
       "    <tr>\n",
       "      <th>3</th>\n",
       "      <td>5</td>\n",
       "      <td>Perfect product!</td>\n",
       "      <td>Amazing phone with great cameras and better ba...</td>\n",
       "    </tr>\n",
       "    <tr>\n",
       "      <th>4</th>\n",
       "      <td>5</td>\n",
       "      <td>Fabulous!</td>\n",
       "      <td>This is my first iOS phone. I am very happy wi...</td>\n",
       "    </tr>\n",
       "    <tr>\n",
       "      <th>5</th>\n",
       "      <td>5</td>\n",
       "      <td>Worth every penny</td>\n",
       "      <td>Previously I was using one plus 3t it was a gr...</td>\n",
       "    </tr>\n",
       "    <tr>\n",
       "      <th>6</th>\n",
       "      <td>5</td>\n",
       "      <td>Great product</td>\n",
       "      <td>Amazing Powerful and Durable Gadget.\\n\\nI’m am...</td>\n",
       "    </tr>\n",
       "    <tr>\n",
       "      <th>7</th>\n",
       "      <td>5</td>\n",
       "      <td>Highly recommended</td>\n",
       "      <td>What a camera .....just awesome ..you can feel...</td>\n",
       "    </tr>\n",
       "    <tr>\n",
       "      <th>8</th>\n",
       "      <td>4</td>\n",
       "      <td>Good choice</td>\n",
       "      <td>So far it’s been an AMAZING experience coming ...</td>\n",
       "    </tr>\n",
       "    <tr>\n",
       "      <th>9</th>\n",
       "      <td>5</td>\n",
       "      <td>Worth every penny</td>\n",
       "      <td>i11 is worthy to buy, too much happy with the ...</td>\n",
       "    </tr>\n",
       "  </tbody>\n",
       "</table>\n",
       "</div>"
      ],
      "text/plain": [
       "  Rating              Summary  \\\n",
       "0      5            Brilliant   \n",
       "1      5       Simply awesome   \n",
       "2      5  Best in the market!   \n",
       "3      5     Perfect product!   \n",
       "4      5            Fabulous!   \n",
       "5      5    Worth every penny   \n",
       "6      5        Great product   \n",
       "7      5   Highly recommended   \n",
       "8      4          Good choice   \n",
       "9      5    Worth every penny   \n",
       "\n",
       "                                              Review  \n",
       "0  The Best Phone for the Money\\n\\nThe iPhone 11 ...  \n",
       "1  Really satisfied with the Product I received.....  \n",
       "2  Great iPhone very snappy experience as apple k...  \n",
       "3  Amazing phone with great cameras and better ba...  \n",
       "4  This is my first iOS phone. I am very happy wi...  \n",
       "5  Previously I was using one plus 3t it was a gr...  \n",
       "6  Amazing Powerful and Durable Gadget.\\n\\nI’m am...  \n",
       "7  What a camera .....just awesome ..you can feel...  \n",
       "8  So far it’s been an AMAZING experience coming ...  \n",
       "9  i11 is worthy to buy, too much happy with the ...  "
      ]
     },
     "execution_count": 327,
     "metadata": {},
     "output_type": "execute_result"
    }
   ],
   "source": [
    "rating1=[]\n",
    "summ1=[]\n",
    "rev1=[]\n",
    "\n",
    "#extract ratings\n",
    "rat_tags=driver.find_elements_by_xpath(\"//div[@class='_3LWZlK _1BLPMq']\")\n",
    "rat_tags\n",
    "\n",
    "for i in rat_tags:\n",
    "    ratt=i.text\n",
    "    rating1.append(ratt)\n",
    "rating1\n",
    "\n",
    "#extract summary\n",
    "su_tags=driver.find_elements_by_xpath(\"//p[@class='_2-N8zT']\")\n",
    "su_tags\n",
    "\n",
    "for i in su_tags:\n",
    "    suma=i.text\n",
    "    summ1.append(suma)\n",
    "summ1\n",
    "\n",
    "#extract reviews\n",
    "re_tags=driver.find_elements_by_xpath(\"//div[@class='t-ZTKy']\")\n",
    "re_tags\n",
    "\n",
    "for i in re_tags:\n",
    "    revv=i.text\n",
    "    rev1.append(revv)\n",
    "rev1\n",
    "\n",
    "iphone=pd.DataFrame({})\n",
    "iphone['Rating']=rating1\n",
    "iphone['Summary']=summ1\n",
    "iphone['Review']=rev1\n",
    "iphone"
   ]
  },
  {
   "cell_type": "code",
   "execution_count": 331,
   "id": "1637310f",
   "metadata": {},
   "outputs": [],
   "source": [
    "next_button=driver.find_element_by_xpath('/html/body/div[1]/div/div[3]/div/div/div[2]/div[13]/div/div/nav/a[12]')\n",
    "next_button.click()"
   ]
  },
  {
   "cell_type": "markdown",
   "id": "924abd5d",
   "metadata": {},
   "source": [
    "3rd page scrapping data"
   ]
  },
  {
   "cell_type": "code",
   "execution_count": 332,
   "id": "1fa6913b",
   "metadata": {},
   "outputs": [
    {
     "data": {
      "text/html": [
       "<div>\n",
       "<style scoped>\n",
       "    .dataframe tbody tr th:only-of-type {\n",
       "        vertical-align: middle;\n",
       "    }\n",
       "\n",
       "    .dataframe tbody tr th {\n",
       "        vertical-align: top;\n",
       "    }\n",
       "\n",
       "    .dataframe thead th {\n",
       "        text-align: right;\n",
       "    }\n",
       "</style>\n",
       "<table border=\"1\" class=\"dataframe\">\n",
       "  <thead>\n",
       "    <tr style=\"text-align: right;\">\n",
       "      <th></th>\n",
       "      <th>Rating</th>\n",
       "      <th>Summary</th>\n",
       "      <th>Review</th>\n",
       "    </tr>\n",
       "  </thead>\n",
       "  <tbody>\n",
       "    <tr>\n",
       "      <th>0</th>\n",
       "      <td>5</td>\n",
       "      <td>Perfect product!</td>\n",
       "      <td>After 1 month use I found camera quality best ...</td>\n",
       "    </tr>\n",
       "    <tr>\n",
       "      <th>1</th>\n",
       "      <td>5</td>\n",
       "      <td>Simply awesome</td>\n",
       "      <td>It's very high performances devise i am like t...</td>\n",
       "    </tr>\n",
       "    <tr>\n",
       "      <th>2</th>\n",
       "      <td>5</td>\n",
       "      <td>Wonderful</td>\n",
       "      <td>I just directly switch from iphone 6s to iphon...</td>\n",
       "    </tr>\n",
       "    <tr>\n",
       "      <th>3</th>\n",
       "      <td>5</td>\n",
       "      <td>Terrific purchase</td>\n",
       "      <td>Upgraded from iphone 6 to 11 best phone for ip...</td>\n",
       "    </tr>\n",
       "    <tr>\n",
       "      <th>4</th>\n",
       "      <td>5</td>\n",
       "      <td>Terrific purchase</td>\n",
       "      <td>The built quality is not very premium.\\nThe ba...</td>\n",
       "    </tr>\n",
       "    <tr>\n",
       "      <th>5</th>\n",
       "      <td>5</td>\n",
       "      <td>Great product</td>\n",
       "      <td>Well you all know the specifications . One of ...</td>\n",
       "    </tr>\n",
       "    <tr>\n",
       "      <th>6</th>\n",
       "      <td>5</td>\n",
       "      <td>Mind-blowing purchase</td>\n",
       "      <td>This will help you more. See if you are planni...</td>\n",
       "    </tr>\n",
       "    <tr>\n",
       "      <th>7</th>\n",
       "      <td>5</td>\n",
       "      <td>Excellent</td>\n",
       "      <td>Amazing camera and feel super machine I am not...</td>\n",
       "    </tr>\n",
       "    <tr>\n",
       "      <th>8</th>\n",
       "      <td>5</td>\n",
       "      <td>Simply awesome</td>\n",
       "      <td>Really good actually this is my first apple pr...</td>\n",
       "    </tr>\n",
       "    <tr>\n",
       "      <th>9</th>\n",
       "      <td>4</td>\n",
       "      <td>Good quality product</td>\n",
       "      <td>it is very good at performance. Camera is best...</td>\n",
       "    </tr>\n",
       "  </tbody>\n",
       "</table>\n",
       "</div>"
      ],
      "text/plain": [
       "  Rating                Summary  \\\n",
       "0      5       Perfect product!   \n",
       "1      5         Simply awesome   \n",
       "2      5              Wonderful   \n",
       "3      5      Terrific purchase   \n",
       "4      5      Terrific purchase   \n",
       "5      5          Great product   \n",
       "6      5  Mind-blowing purchase   \n",
       "7      5              Excellent   \n",
       "8      5         Simply awesome   \n",
       "9      4   Good quality product   \n",
       "\n",
       "                                              Review  \n",
       "0  After 1 month use I found camera quality best ...  \n",
       "1  It's very high performances devise i am like t...  \n",
       "2  I just directly switch from iphone 6s to iphon...  \n",
       "3  Upgraded from iphone 6 to 11 best phone for ip...  \n",
       "4  The built quality is not very premium.\\nThe ba...  \n",
       "5  Well you all know the specifications . One of ...  \n",
       "6  This will help you more. See if you are planni...  \n",
       "7  Amazing camera and feel super machine I am not...  \n",
       "8  Really good actually this is my first apple pr...  \n",
       "9  it is very good at performance. Camera is best...  "
      ]
     },
     "execution_count": 332,
     "metadata": {},
     "output_type": "execute_result"
    }
   ],
   "source": [
    "rating2=[]\n",
    "summ2=[]\n",
    "rev2=[]\n",
    "\n",
    "#extract ratings\n",
    "rat_tags=driver.find_elements_by_xpath(\"//div[@class='_3LWZlK _1BLPMq']\")\n",
    "rat_tags\n",
    "\n",
    "for i in rat_tags:\n",
    "    ratt=i.text\n",
    "    rating2.append(ratt)\n",
    "rating2\n",
    "\n",
    "#extract summary\n",
    "su_tags=driver.find_elements_by_xpath(\"//p[@class='_2-N8zT']\")\n",
    "su_tags\n",
    "\n",
    "for i in su_tags:\n",
    "    suma=i.text\n",
    "    summ2.append(suma)\n",
    "summ2\n",
    "\n",
    "#extract reviews\n",
    "re_tags=driver.find_elements_by_xpath(\"//div[@class='t-ZTKy']\")\n",
    "re_tags\n",
    "\n",
    "for i in re_tags:\n",
    "    revv=i.text\n",
    "    rev2.append(revv)\n",
    "rev2\n",
    "\n",
    "iphone=pd.DataFrame({})\n",
    "iphone['Rating']=rating2\n",
    "iphone['Summary']=summ2\n",
    "iphone['Review']=rev2\n",
    "iphone"
   ]
  },
  {
   "cell_type": "code",
   "execution_count": 333,
   "id": "d11d42c9",
   "metadata": {},
   "outputs": [],
   "source": [
    "next_button=driver.find_element_by_xpath('/html/body/div[1]/div/div[3]/div/div/div[2]/div[13]/div/div/nav/a[12]')\n",
    "next_button.click()"
   ]
  },
  {
   "cell_type": "markdown",
   "id": "3f2b3549",
   "metadata": {},
   "source": [
    "4th page scrapping data"
   ]
  },
  {
   "cell_type": "code",
   "execution_count": 334,
   "id": "dab70320",
   "metadata": {},
   "outputs": [
    {
     "data": {
      "text/html": [
       "<div>\n",
       "<style scoped>\n",
       "    .dataframe tbody tr th:only-of-type {\n",
       "        vertical-align: middle;\n",
       "    }\n",
       "\n",
       "    .dataframe tbody tr th {\n",
       "        vertical-align: top;\n",
       "    }\n",
       "\n",
       "    .dataframe thead th {\n",
       "        text-align: right;\n",
       "    }\n",
       "</style>\n",
       "<table border=\"1\" class=\"dataframe\">\n",
       "  <thead>\n",
       "    <tr style=\"text-align: right;\">\n",
       "      <th></th>\n",
       "      <th>Rating</th>\n",
       "      <th>Summary</th>\n",
       "      <th>Review</th>\n",
       "    </tr>\n",
       "  </thead>\n",
       "  <tbody>\n",
       "    <tr>\n",
       "      <th>0</th>\n",
       "      <td>5</td>\n",
       "      <td>Perfect product!</td>\n",
       "      <td>After 1 month use I found camera quality best ...</td>\n",
       "    </tr>\n",
       "    <tr>\n",
       "      <th>1</th>\n",
       "      <td>5</td>\n",
       "      <td>Simply awesome</td>\n",
       "      <td>It's very high performances devise i am like t...</td>\n",
       "    </tr>\n",
       "    <tr>\n",
       "      <th>2</th>\n",
       "      <td>5</td>\n",
       "      <td>Wonderful</td>\n",
       "      <td>I just directly switch from iphone 6s to iphon...</td>\n",
       "    </tr>\n",
       "    <tr>\n",
       "      <th>3</th>\n",
       "      <td>5</td>\n",
       "      <td>Terrific purchase</td>\n",
       "      <td>Upgraded from iphone 6 to 11 best phone for ip...</td>\n",
       "    </tr>\n",
       "    <tr>\n",
       "      <th>4</th>\n",
       "      <td>5</td>\n",
       "      <td>Terrific purchase</td>\n",
       "      <td>The built quality is not very premium.\\nThe ba...</td>\n",
       "    </tr>\n",
       "    <tr>\n",
       "      <th>5</th>\n",
       "      <td>5</td>\n",
       "      <td>Great product</td>\n",
       "      <td>Well you all know the specifications . One of ...</td>\n",
       "    </tr>\n",
       "    <tr>\n",
       "      <th>6</th>\n",
       "      <td>5</td>\n",
       "      <td>Mind-blowing purchase</td>\n",
       "      <td>This will help you more. See if you are planni...</td>\n",
       "    </tr>\n",
       "    <tr>\n",
       "      <th>7</th>\n",
       "      <td>5</td>\n",
       "      <td>Excellent</td>\n",
       "      <td>Amazing camera and feel super machine I am not...</td>\n",
       "    </tr>\n",
       "    <tr>\n",
       "      <th>8</th>\n",
       "      <td>5</td>\n",
       "      <td>Simply awesome</td>\n",
       "      <td>Really good actually this is my first apple pr...</td>\n",
       "    </tr>\n",
       "    <tr>\n",
       "      <th>9</th>\n",
       "      <td>4</td>\n",
       "      <td>Good quality product</td>\n",
       "      <td>it is very good at performance. Camera is best...</td>\n",
       "    </tr>\n",
       "  </tbody>\n",
       "</table>\n",
       "</div>"
      ],
      "text/plain": [
       "  Rating                Summary  \\\n",
       "0      5       Perfect product!   \n",
       "1      5         Simply awesome   \n",
       "2      5              Wonderful   \n",
       "3      5      Terrific purchase   \n",
       "4      5      Terrific purchase   \n",
       "5      5          Great product   \n",
       "6      5  Mind-blowing purchase   \n",
       "7      5              Excellent   \n",
       "8      5         Simply awesome   \n",
       "9      4   Good quality product   \n",
       "\n",
       "                                              Review  \n",
       "0  After 1 month use I found camera quality best ...  \n",
       "1  It's very high performances devise i am like t...  \n",
       "2  I just directly switch from iphone 6s to iphon...  \n",
       "3  Upgraded from iphone 6 to 11 best phone for ip...  \n",
       "4  The built quality is not very premium.\\nThe ba...  \n",
       "5  Well you all know the specifications . One of ...  \n",
       "6  This will help you more. See if you are planni...  \n",
       "7  Amazing camera and feel super machine I am not...  \n",
       "8  Really good actually this is my first apple pr...  \n",
       "9  it is very good at performance. Camera is best...  "
      ]
     },
     "execution_count": 334,
     "metadata": {},
     "output_type": "execute_result"
    }
   ],
   "source": [
    "rating3=[]\n",
    "summ3=[]\n",
    "rev3=[]\n",
    "\n",
    "#extract ratings\n",
    "rat_tags=driver.find_elements_by_xpath(\"//div[@class='_3LWZlK _1BLPMq']\")\n",
    "rat_tags\n",
    "\n",
    "for i in rat_tags:\n",
    "    ratt=i.text\n",
    "    rating3.append(ratt)\n",
    "rating3\n",
    "\n",
    "#extract summary\n",
    "su_tags=driver.find_elements_by_xpath(\"//p[@class='_2-N8zT']\")\n",
    "su_tags\n",
    "\n",
    "for i in su_tags:\n",
    "    suma=i.text\n",
    "    summ3.append(suma)\n",
    "summ3\n",
    "\n",
    "#extract reviews\n",
    "re_tags=driver.find_elements_by_xpath(\"//div[@class='t-ZTKy']\")\n",
    "re_tags\n",
    "\n",
    "for i in re_tags:\n",
    "    revv=i.text\n",
    "    rev3.append(revv)\n",
    "rev3\n",
    "\n",
    "iphone=pd.DataFrame({})\n",
    "iphone['Rating']=rating3\n",
    "iphone['Summary']=summ3\n",
    "iphone['Review']=rev3\n",
    "iphone"
   ]
  },
  {
   "cell_type": "code",
   "execution_count": 335,
   "id": "b5a4508e",
   "metadata": {},
   "outputs": [],
   "source": [
    "next_button=driver.find_element_by_xpath('/html/body/div[1]/div/div[3]/div/div/div[2]/div[13]/div/div/nav/a[12]')\n",
    "next_button.click()"
   ]
  },
  {
   "cell_type": "markdown",
   "id": "000f34dc",
   "metadata": {},
   "source": [
    "5th page scrapping data"
   ]
  },
  {
   "cell_type": "code",
   "execution_count": null,
   "id": "c6e8f0cb",
   "metadata": {},
   "outputs": [],
   "source": [
    "rating4=[]\n",
    "summ4=[]\n",
    "rev4=[]\n",
    "\n",
    "#extract ratings\n",
    "rat_tags=driver.find_elements_by_xpath(\"//div[@class='_3LWZlK _1BLPMq']\")\n",
    "rat_tags\n",
    "\n",
    "for i in rat_tags:\n",
    "    ratt=i.text\n",
    "    rating4.append(ratt)\n",
    "rating4\n",
    "\n",
    "#extract summary\n",
    "su_tags=driver.find_elements_by_xpath(\"//p[@class='_2-N8zT']\")\n",
    "su_tags\n",
    "\n",
    "for i in su_tags:\n",
    "    suma=i.text\n",
    "    summ4.append(suma)\n",
    "summ4\n",
    "\n",
    "#extract reviews\n",
    "re_tags=driver.find_elements_by_xpath(\"//div[@class='t-ZTKy']\")\n",
    "re_tags\n",
    "\n",
    "for i in re_tags:\n",
    "    revv=i.text\n",
    "    rev4.append(revv)\n",
    "rev4\n",
    "\n",
    "iphone=pd.DataFrame({})\n",
    "iphone['Rating']=rating4\n",
    "iphone['Summary']=summ4\n",
    "iphone['Review']=rev4\n",
    "iphone"
   ]
  },
  {
   "cell_type": "code",
   "execution_count": 337,
   "id": "f45e9677",
   "metadata": {},
   "outputs": [],
   "source": [
    "next_button=driver.find_element_by_xpath('/html/body/div[1]/div/div[3]/div/div/div[2]/div[13]/div/div/nav/a[12]')\n",
    "next_button.click()"
   ]
  },
  {
   "cell_type": "markdown",
   "id": "086e39c1",
   "metadata": {},
   "source": [
    "6th page scrapping data"
   ]
  },
  {
   "cell_type": "code",
   "execution_count": 338,
   "id": "3f22f6d0",
   "metadata": {},
   "outputs": [
    {
     "data": {
      "text/html": [
       "<div>\n",
       "<style scoped>\n",
       "    .dataframe tbody tr th:only-of-type {\n",
       "        vertical-align: middle;\n",
       "    }\n",
       "\n",
       "    .dataframe tbody tr th {\n",
       "        vertical-align: top;\n",
       "    }\n",
       "\n",
       "    .dataframe thead th {\n",
       "        text-align: right;\n",
       "    }\n",
       "</style>\n",
       "<table border=\"1\" class=\"dataframe\">\n",
       "  <thead>\n",
       "    <tr style=\"text-align: right;\">\n",
       "      <th></th>\n",
       "      <th>Rating</th>\n",
       "      <th>Summary</th>\n",
       "      <th>Review</th>\n",
       "    </tr>\n",
       "  </thead>\n",
       "  <tbody>\n",
       "    <tr>\n",
       "      <th>0</th>\n",
       "      <td>4</td>\n",
       "      <td>Very Good</td>\n",
       "      <td>impressive super phone and best in class camer...</td>\n",
       "    </tr>\n",
       "    <tr>\n",
       "      <th>1</th>\n",
       "      <td>5</td>\n",
       "      <td>Wonderful</td>\n",
       "      <td>Super and marvellous phone look very cute and ...</td>\n",
       "    </tr>\n",
       "    <tr>\n",
       "      <th>2</th>\n",
       "      <td>5</td>\n",
       "      <td>Classy product</td>\n",
       "      <td>Well while switching from android to iOS the f...</td>\n",
       "    </tr>\n",
       "    <tr>\n",
       "      <th>3</th>\n",
       "      <td>5</td>\n",
       "      <td>Just wow!</td>\n",
       "      <td>Best in class. Battery backup is good especial...</td>\n",
       "    </tr>\n",
       "    <tr>\n",
       "      <th>4</th>\n",
       "      <td>5</td>\n",
       "      <td>Awesome</td>\n",
       "      <td>Very excited to have this phone. This phone ha...</td>\n",
       "    </tr>\n",
       "    <tr>\n",
       "      <th>5</th>\n",
       "      <td>4</td>\n",
       "      <td>Pretty good</td>\n",
       "      <td>I was using Iphone 6s and also Oneplus 6t. Bot...</td>\n",
       "    </tr>\n",
       "    <tr>\n",
       "      <th>6</th>\n",
       "      <td>5</td>\n",
       "      <td>Terrific purchase</td>\n",
       "      <td>Its Very awesome product working and good came...</td>\n",
       "    </tr>\n",
       "    <tr>\n",
       "      <th>7</th>\n",
       "      <td>5</td>\n",
       "      <td>Awesome</td>\n",
       "      <td>I am using this phone for 5 days and its one o...</td>\n",
       "    </tr>\n",
       "    <tr>\n",
       "      <th>8</th>\n",
       "      <td>5</td>\n",
       "      <td>Classy product</td>\n",
       "      <td>Best and amazing product.....phone looks so pr...</td>\n",
       "    </tr>\n",
       "    <tr>\n",
       "      <th>9</th>\n",
       "      <td>5</td>\n",
       "      <td>Brilliant</td>\n",
       "      <td>Excellent camera and display touching very nic...</td>\n",
       "    </tr>\n",
       "  </tbody>\n",
       "</table>\n",
       "</div>"
      ],
      "text/plain": [
       "  Rating            Summary                                             Review\n",
       "0      4          Very Good  impressive super phone and best in class camer...\n",
       "1      5          Wonderful  Super and marvellous phone look very cute and ...\n",
       "2      5     Classy product  Well while switching from android to iOS the f...\n",
       "3      5          Just wow!  Best in class. Battery backup is good especial...\n",
       "4      5            Awesome  Very excited to have this phone. This phone ha...\n",
       "5      4        Pretty good  I was using Iphone 6s and also Oneplus 6t. Bot...\n",
       "6      5  Terrific purchase  Its Very awesome product working and good came...\n",
       "7      5            Awesome  I am using this phone for 5 days and its one o...\n",
       "8      5     Classy product  Best and amazing product.....phone looks so pr...\n",
       "9      5          Brilliant  Excellent camera and display touching very nic..."
      ]
     },
     "execution_count": 338,
     "metadata": {},
     "output_type": "execute_result"
    }
   ],
   "source": [
    "rating5=[]\n",
    "summ5=[]\n",
    "rev5=[]\n",
    "\n",
    "#extract ratings\n",
    "rat_tags=driver.find_elements_by_xpath(\"//div[@class='_3LWZlK _1BLPMq']\")\n",
    "rat_tags\n",
    "\n",
    "for i in rat_tags:\n",
    "    ratt=i.text\n",
    "    rating5.append(ratt)\n",
    "rating5\n",
    "\n",
    "#extract summary\n",
    "su_tags=driver.find_elements_by_xpath(\"//p[@class='_2-N8zT']\")\n",
    "su_tags\n",
    "\n",
    "for i in su_tags:\n",
    "    suma=i.text\n",
    "    summ5.append(suma)\n",
    "summ5\n",
    "\n",
    "#extract reviews\n",
    "re_tags=driver.find_elements_by_xpath(\"//div[@class='t-ZTKy']\")\n",
    "re_tags\n",
    "\n",
    "for i in re_tags:\n",
    "    revv=i.text\n",
    "    rev5.append(revv)\n",
    "rev5\n",
    "\n",
    "iphone=pd.DataFrame({})\n",
    "iphone['Rating']=rating5\n",
    "iphone['Summary']=summ5\n",
    "iphone['Review']=rev5\n",
    "iphone"
   ]
  },
  {
   "cell_type": "code",
   "execution_count": 339,
   "id": "23de5a75",
   "metadata": {},
   "outputs": [],
   "source": [
    "next_button=driver.find_element_by_xpath('/html/body/div[1]/div/div[3]/div/div/div[2]/div[13]/div/div/nav/a[12]')\n",
    "next_button.click()"
   ]
  },
  {
   "cell_type": "markdown",
   "id": "443f10f7",
   "metadata": {},
   "source": [
    "7th page scrapping data"
   ]
  },
  {
   "cell_type": "code",
   "execution_count": null,
   "id": "f29570ec",
   "metadata": {},
   "outputs": [],
   "source": [
    "rating6=[]\n",
    "summ6=[]\n",
    "rev6=[]\n",
    "\n",
    "#extract ratings\n",
    "rat_tags=driver.find_elements_by_xpath(\"//div[@class='_3LWZlK _1BLPMq']\")\n",
    "rat_tags\n",
    "\n",
    "for i in rat_tags:\n",
    "    ratt=i.text\n",
    "    rating6.append(ratt)\n",
    "rating6\n",
    "\n",
    "#extract summary\n",
    "su_tags=driver.find_elements_by_xpath(\"//p[@class='_2-N8zT']\")\n",
    "su_tags\n",
    "\n",
    "for i in su_tags:\n",
    "    suma=i.text\n",
    "    summ6.append(suma)\n",
    "summ6\n",
    "\n",
    "#extract reviews\n",
    "re_tags=driver.find_elements_by_xpath(\"//div[@class='t-ZTKy']\")\n",
    "re_tags\n",
    "\n",
    "for i in re_tags:\n",
    "    revv=i.text\n",
    "    rev6.append(revv)\n",
    "rev6\n",
    "\n",
    "iphone=pd.DataFrame({})\n",
    "iphone['Rating']=rating6\n",
    "iphone['Summary']=summ6\n",
    "iphone['Review']=rev6\n",
    "iphone"
   ]
  },
  {
   "cell_type": "code",
   "execution_count": 341,
   "id": "e24dfc02",
   "metadata": {},
   "outputs": [],
   "source": [
    "next_button=driver.find_element_by_xpath('/html/body/div[1]/div/div[3]/div/div/div[2]/div[13]/div/div/nav/a[12]')\n",
    "next_button.click()"
   ]
  },
  {
   "cell_type": "markdown",
   "id": "b63e919a",
   "metadata": {},
   "source": [
    "8th page scrapping data"
   ]
  },
  {
   "cell_type": "code",
   "execution_count": 342,
   "id": "5ffb63d5",
   "metadata": {},
   "outputs": [
    {
     "data": {
      "text/html": [
       "<div>\n",
       "<style scoped>\n",
       "    .dataframe tbody tr th:only-of-type {\n",
       "        vertical-align: middle;\n",
       "    }\n",
       "\n",
       "    .dataframe tbody tr th {\n",
       "        vertical-align: top;\n",
       "    }\n",
       "\n",
       "    .dataframe thead th {\n",
       "        text-align: right;\n",
       "    }\n",
       "</style>\n",
       "<table border=\"1\" class=\"dataframe\">\n",
       "  <thead>\n",
       "    <tr style=\"text-align: right;\">\n",
       "      <th></th>\n",
       "      <th>Rating</th>\n",
       "      <th>Summary</th>\n",
       "      <th>Review</th>\n",
       "    </tr>\n",
       "  </thead>\n",
       "  <tbody>\n",
       "    <tr>\n",
       "      <th>0</th>\n",
       "      <td>4</td>\n",
       "      <td>Value-for-money</td>\n",
       "      <td>Just got this iphone 11\\nAnd it is most powerf...</td>\n",
       "    </tr>\n",
       "    <tr>\n",
       "      <th>1</th>\n",
       "      <td>5</td>\n",
       "      <td>Best in the market!</td>\n",
       "      <td>The best all rounder iphone. Flipkart is doing...</td>\n",
       "    </tr>\n",
       "    <tr>\n",
       "      <th>2</th>\n",
       "      <td>5</td>\n",
       "      <td>Brilliant</td>\n",
       "      <td>Amazing phone and on great deal I received wit...</td>\n",
       "    </tr>\n",
       "    <tr>\n",
       "      <th>3</th>\n",
       "      <td>5</td>\n",
       "      <td>Terrific purchase</td>\n",
       "      <td>finally an iPhone with very nice battery backu...</td>\n",
       "    </tr>\n",
       "    <tr>\n",
       "      <th>4</th>\n",
       "      <td>4</td>\n",
       "      <td>Good quality product</td>\n",
       "      <td>I'm switching this phone to oppo reno 10x zoom...</td>\n",
       "    </tr>\n",
       "    <tr>\n",
       "      <th>5</th>\n",
       "      <td>5</td>\n",
       "      <td>Terrific</td>\n",
       "      <td>Simply Awesome\\n\\nI have upgraded from iPhone ...</td>\n",
       "    </tr>\n",
       "    <tr>\n",
       "      <th>6</th>\n",
       "      <td>5</td>\n",
       "      <td>Best in the market!</td>\n",
       "      <td>Damn this phone is a blast . Upgraded from and...</td>\n",
       "    </tr>\n",
       "    <tr>\n",
       "      <th>7</th>\n",
       "      <td>5</td>\n",
       "      <td>Perfect product!</td>\n",
       "      <td>Worth the money’ starting first from its perfo...</td>\n",
       "    </tr>\n",
       "    <tr>\n",
       "      <th>8</th>\n",
       "      <td>5</td>\n",
       "      <td>Awesome</td>\n",
       "      <td>I dreamt about this day from a long time.... G...</td>\n",
       "    </tr>\n",
       "    <tr>\n",
       "      <th>9</th>\n",
       "      <td>4</td>\n",
       "      <td>Value-for-money</td>\n",
       "      <td>I'm Really happy with the product\\nDelivery wa...</td>\n",
       "    </tr>\n",
       "  </tbody>\n",
       "</table>\n",
       "</div>"
      ],
      "text/plain": [
       "  Rating               Summary  \\\n",
       "0      4       Value-for-money   \n",
       "1      5   Best in the market!   \n",
       "2      5             Brilliant   \n",
       "3      5     Terrific purchase   \n",
       "4      4  Good quality product   \n",
       "5      5              Terrific   \n",
       "6      5   Best in the market!   \n",
       "7      5      Perfect product!   \n",
       "8      5               Awesome   \n",
       "9      4       Value-for-money   \n",
       "\n",
       "                                              Review  \n",
       "0  Just got this iphone 11\\nAnd it is most powerf...  \n",
       "1  The best all rounder iphone. Flipkart is doing...  \n",
       "2  Amazing phone and on great deal I received wit...  \n",
       "3  finally an iPhone with very nice battery backu...  \n",
       "4  I'm switching this phone to oppo reno 10x zoom...  \n",
       "5  Simply Awesome\\n\\nI have upgraded from iPhone ...  \n",
       "6  Damn this phone is a blast . Upgraded from and...  \n",
       "7  Worth the money’ starting first from its perfo...  \n",
       "8  I dreamt about this day from a long time.... G...  \n",
       "9  I'm Really happy with the product\\nDelivery wa...  "
      ]
     },
     "execution_count": 342,
     "metadata": {},
     "output_type": "execute_result"
    }
   ],
   "source": [
    "rating7=[]\n",
    "summ7=[]\n",
    "rev7=[]\n",
    "\n",
    "#extract ratings\n",
    "rat_tags=driver.find_elements_by_xpath(\"//div[@class='_3LWZlK _1BLPMq']\")\n",
    "rat_tags\n",
    "\n",
    "for i in rat_tags:\n",
    "    ratt=i.text\n",
    "    rating7.append(ratt)\n",
    "rating7\n",
    "\n",
    "#extract summary\n",
    "su_tags=driver.find_elements_by_xpath(\"//p[@class='_2-N8zT']\")\n",
    "su_tags\n",
    "\n",
    "for i in su_tags:\n",
    "    suma=i.text\n",
    "    summ7.append(suma)\n",
    "summ7\n",
    "\n",
    "#extract reviews\n",
    "re_tags=driver.find_elements_by_xpath(\"//div[@class='t-ZTKy']\")\n",
    "re_tags\n",
    "\n",
    "for i in re_tags:\n",
    "    revv=i.text\n",
    "    rev7.append(revv)\n",
    "rev7\n",
    "\n",
    "iphone=pd.DataFrame({})\n",
    "iphone['Rating']=rating7\n",
    "iphone['Summary']=summ7\n",
    "iphone['Review']=rev7\n",
    "iphone"
   ]
  },
  {
   "cell_type": "code",
   "execution_count": 343,
   "id": "594ee76e",
   "metadata": {},
   "outputs": [],
   "source": [
    "next_button=driver.find_element_by_xpath('/html/body/div[1]/div/div[3]/div/div/div[2]/div[13]/div/div/nav/a[12]')\n",
    "next_button.click()"
   ]
  },
  {
   "cell_type": "markdown",
   "id": "6f5eb6bb",
   "metadata": {},
   "source": [
    "9th page scrapping data"
   ]
  },
  {
   "cell_type": "code",
   "execution_count": null,
   "id": "fe54526b",
   "metadata": {},
   "outputs": [],
   "source": [
    "rating8=[]\n",
    "summ8=[]\n",
    "rev8=[]\n",
    "\n",
    "#extract ratings\n",
    "rat_tags=driver.find_elements_by_xpath(\"//div[@class='_3LWZlK _1BLPMq']\")\n",
    "rat_tags\n",
    "\n",
    "for i in rat_tags:\n",
    "    ratt=i.text\n",
    "    rating8.append(ratt)\n",
    "rating8\n",
    "\n",
    "#extract summary\n",
    "su_tags=driver.find_elements_by_xpath(\"//p[@class='_2-N8zT']\")\n",
    "su_tags\n",
    "\n",
    "for i in su_tags:\n",
    "    suma=i.text\n",
    "    summ8.append(suma)\n",
    "summ8\n",
    "\n",
    "#extract reviews\n",
    "re_tags=driver.find_elements_by_xpath(\"//div[@class='t-ZTKy']\")\n",
    "re_tags\n",
    "\n",
    "for i in re_tags:\n",
    "    revv=i.text\n",
    "    rev8.append(revv)\n",
    "rev8\n",
    "\n",
    "iphone=pd.DataFrame({})\n",
    "iphone['Rating']=rating8\n",
    "iphone['Summary']=summ8\n",
    "iphone['Review']=rev8\n",
    "iphone"
   ]
  },
  {
   "cell_type": "code",
   "execution_count": 345,
   "id": "5d36a35f",
   "metadata": {},
   "outputs": [],
   "source": [
    "next_button=driver.find_element_by_xpath('/html/body/div[1]/div/div[3]/div/div/div[2]/div[13]/div/div/nav/a[12]')\n",
    "next_button.click()"
   ]
  },
  {
   "cell_type": "markdown",
   "id": "a89b8022",
   "metadata": {},
   "source": [
    "10th page scrapping data"
   ]
  },
  {
   "cell_type": "code",
   "execution_count": 346,
   "id": "8bea59e4",
   "metadata": {},
   "outputs": [
    {
     "data": {
      "text/html": [
       "<div>\n",
       "<style scoped>\n",
       "    .dataframe tbody tr th:only-of-type {\n",
       "        vertical-align: middle;\n",
       "    }\n",
       "\n",
       "    .dataframe tbody tr th {\n",
       "        vertical-align: top;\n",
       "    }\n",
       "\n",
       "    .dataframe thead th {\n",
       "        text-align: right;\n",
       "    }\n",
       "</style>\n",
       "<table border=\"1\" class=\"dataframe\">\n",
       "  <thead>\n",
       "    <tr style=\"text-align: right;\">\n",
       "      <th></th>\n",
       "      <th>Rating</th>\n",
       "      <th>Summary</th>\n",
       "      <th>Review</th>\n",
       "    </tr>\n",
       "  </thead>\n",
       "  <tbody>\n",
       "    <tr>\n",
       "      <th>0</th>\n",
       "      <td>5</td>\n",
       "      <td>Just wow!</td>\n",
       "      <td>Not mere a phone , Its more than that for fun ...</td>\n",
       "    </tr>\n",
       "    <tr>\n",
       "      <th>1</th>\n",
       "      <td>5</td>\n",
       "      <td>Wonderful</td>\n",
       "      <td>Ok, so after almost 3 years I am again back in...</td>\n",
       "    </tr>\n",
       "    <tr>\n",
       "      <th>2</th>\n",
       "      <td>4</td>\n",
       "      <td>Nice product</td>\n",
       "      <td>If you are looking for a premium phone under 5...</td>\n",
       "    </tr>\n",
       "    <tr>\n",
       "      <th>3</th>\n",
       "      <td>5</td>\n",
       "      <td>Mind-blowing purchase</td>\n",
       "      <td>awesome Phone Smooth Touch Too good Sexyy look...</td>\n",
       "    </tr>\n",
       "    <tr>\n",
       "      <th>4</th>\n",
       "      <td>5</td>\n",
       "      <td>Terrific</td>\n",
       "      <td>I bought iPhone 11 On March 2021, And I am Wri...</td>\n",
       "    </tr>\n",
       "    <tr>\n",
       "      <th>5</th>\n",
       "      <td>5</td>\n",
       "      <td>Excellent</td>\n",
       "      <td>Just go for it.\\nThis phone is really amazing....</td>\n",
       "    </tr>\n",
       "    <tr>\n",
       "      <th>6</th>\n",
       "      <td>5</td>\n",
       "      <td>Mind-blowing purchase</td>\n",
       "      <td>Excellent camera 📸 And Display touching very N...</td>\n",
       "    </tr>\n",
       "    <tr>\n",
       "      <th>7</th>\n",
       "      <td>5</td>\n",
       "      <td>Brilliant</td>\n",
       "      <td>A wort full value for money decision it’s . Si...</td>\n",
       "    </tr>\n",
       "    <tr>\n",
       "      <th>8</th>\n",
       "      <td>5</td>\n",
       "      <td>Excellent</td>\n",
       "      <td>A perfect phone and a good battery super camer...</td>\n",
       "    </tr>\n",
       "    <tr>\n",
       "      <th>9</th>\n",
       "      <td>4</td>\n",
       "      <td>Pretty good</td>\n",
       "      <td>I've used this phone for over a month now and ...</td>\n",
       "    </tr>\n",
       "  </tbody>\n",
       "</table>\n",
       "</div>"
      ],
      "text/plain": [
       "  Rating                Summary  \\\n",
       "0      5              Just wow!   \n",
       "1      5              Wonderful   \n",
       "2      4           Nice product   \n",
       "3      5  Mind-blowing purchase   \n",
       "4      5               Terrific   \n",
       "5      5              Excellent   \n",
       "6      5  Mind-blowing purchase   \n",
       "7      5              Brilliant   \n",
       "8      5              Excellent   \n",
       "9      4            Pretty good   \n",
       "\n",
       "                                              Review  \n",
       "0  Not mere a phone , Its more than that for fun ...  \n",
       "1  Ok, so after almost 3 years I am again back in...  \n",
       "2  If you are looking for a premium phone under 5...  \n",
       "3  awesome Phone Smooth Touch Too good Sexyy look...  \n",
       "4  I bought iPhone 11 On March 2021, And I am Wri...  \n",
       "5  Just go for it.\\nThis phone is really amazing....  \n",
       "6  Excellent camera 📸 And Display touching very N...  \n",
       "7  A wort full value for money decision it’s . Si...  \n",
       "8  A perfect phone and a good battery super camer...  \n",
       "9  I've used this phone for over a month now and ...  "
      ]
     },
     "execution_count": 346,
     "metadata": {},
     "output_type": "execute_result"
    }
   ],
   "source": [
    "rating9=[]\n",
    "summ9=[]\n",
    "rev9=[]\n",
    "\n",
    "#extract ratings\n",
    "rat_tags=driver.find_elements_by_xpath(\"//div[@class='_3LWZlK _1BLPMq']\")\n",
    "rat_tags\n",
    "\n",
    "for i in rat_tags:\n",
    "    ratt=i.text\n",
    "    rating9.append(ratt)\n",
    "rating9\n",
    "\n",
    "#extract summary\n",
    "su_tags=driver.find_elements_by_xpath(\"//p[@class='_2-N8zT']\")\n",
    "su_tags\n",
    "\n",
    "for i in su_tags:\n",
    "    suma=i.text\n",
    "    summ9.append(suma)\n",
    "summ9\n",
    "\n",
    "#extract reviews\n",
    "re_tags=driver.find_elements_by_xpath(\"//div[@class='t-ZTKy']\")\n",
    "re_tags\n",
    "\n",
    "for i in re_tags:\n",
    "    revv=i.text\n",
    "    rev9.append(revv)\n",
    "rev9\n",
    "\n",
    "iphone=pd.DataFrame({})\n",
    "iphone['Rating']=rating9\n",
    "iphone['Summary']=summ9\n",
    "iphone['Review']=rev9\n",
    "iphone"
   ]
  },
  {
   "cell_type": "code",
   "execution_count": 347,
   "id": "f2830736",
   "metadata": {},
   "outputs": [],
   "source": [
    "driver.close()"
   ]
  },
  {
   "cell_type": "code",
   "execution_count": null,
   "id": "428fc85a",
   "metadata": {},
   "outputs": [],
   "source": []
  },
  {
   "cell_type": "markdown",
   "id": "da1a5853",
   "metadata": {},
   "source": [
    "# Q6: Scrape data for first 100 sneakers you find when you visit flipkart.com andsearch for “sneakers” in the search field.\n",
    "You have to scrape 4 attributes of each sneaker:\n",
    "1. Brand\n",
    "2. Product Description\n",
    "3. Price\n",
    "As shown in the below image, you have to scrape the tick marked attributes."
   ]
  },
  {
   "cell_type": "code",
   "execution_count": 348,
   "id": "c68cb289",
   "metadata": {},
   "outputs": [],
   "source": [
    "driver=webdriver.Chrome(\"chromedriver.exe\")\n",
    "time.sleep(2)"
   ]
  },
  {
   "cell_type": "code",
   "execution_count": 349,
   "id": "f6fcd754",
   "metadata": {},
   "outputs": [],
   "source": [
    "driver.get(\"https://www.flipkart.com/\")"
   ]
  },
  {
   "cell_type": "code",
   "execution_count": 350,
   "id": "706156d7",
   "metadata": {},
   "outputs": [],
   "source": [
    "#finding element for job search bar\n",
    "search_field_designation=driver.find_element_by_class_name(\"_3704LK\")\n",
    "search_field_designation.send_keys(\"sneakers\")"
   ]
  },
  {
   "cell_type": "code",
   "execution_count": 351,
   "id": "c7cd88b1",
   "metadata": {},
   "outputs": [],
   "source": [
    "search_button=driver.find_element_by_xpath('/html/body/div[1]/div/div[1]/div[1]/div[2]/div[2]/form/div/button')\n",
    "search_button.click()"
   ]
  },
  {
   "cell_type": "markdown",
   "id": "b2fe63f1",
   "metadata": {},
   "source": [
    "1st page scrapping"
   ]
  },
  {
   "cell_type": "code",
   "execution_count": 352,
   "id": "e974cc50",
   "metadata": {},
   "outputs": [],
   "source": [
    "name=[]\n",
    "descp=[]\n",
    "prc=[]"
   ]
  },
  {
   "cell_type": "code",
   "execution_count": 353,
   "id": "a90b1f32",
   "metadata": {},
   "outputs": [
    {
     "data": {
      "text/plain": [
       "['Layasa',\n",
       " 'Viv',\n",
       " 'URBANBOX',\n",
       " 'aadi',\n",
       " 'corsac',\n",
       " 'Chevit',\n",
       " 'D-SNEAKERZ',\n",
       " 'SWIGGY',\n",
       " 'BRUTON',\n",
       " 'World Wear Footwear',\n",
       " 'Labbin',\n",
       " 'ZF - ALFIYA',\n",
       " 'World Wear Footwear',\n",
       " 'Magnolia',\n",
       " 'World Wear Footwear',\n",
       " 'Extoes',\n",
       " 'aadi',\n",
       " 'Chevit',\n",
       " 'ASTEROID',\n",
       " 'Bacan',\n",
       " 'ASTEROID',\n",
       " 'Kraasa',\n",
       " 'PUMA',\n",
       " 'Nilatin',\n",
       " 'BIRDE',\n",
       " 'BRUTON',\n",
       " 'SCATCHITE',\n",
       " 'Shoes Bank',\n",
       " 'aadi',\n",
       " 'Kraasa',\n",
       " 'Airland',\n",
       " 'CLYMB',\n",
       " 'World Wear Footwear',\n",
       " 'Chevit',\n",
       " 'D-SNEAKERZ',\n",
       " 'U.S. POLO ASSN.',\n",
       " 'BIRDE',\n",
       " 'corsac',\n",
       " 'Arohi',\n",
       " 'FEWROK']"
      ]
     },
     "execution_count": 353,
     "metadata": {},
     "output_type": "execute_result"
    }
   ],
   "source": [
    "#extract name\n",
    "rat_tags=driver.find_elements_by_xpath(\"//div[@class='_2WkVRV']\")\n",
    "rat_tags\n",
    "\n",
    "for i in rat_tags:\n",
    "    ratt=i.text\n",
    "    name.append(ratt)\n",
    "name\n"
   ]
  },
  {
   "cell_type": "code",
   "execution_count": 354,
   "id": "32c41f76",
   "metadata": {},
   "outputs": [
    {
     "data": {
      "text/plain": [
       "['Sneakers Sneakers For Men',\n",
       " 'Sneakers For Men',\n",
       " 'STYLISH MENS BLACK TRENDY SNEAKER FOR MENS Sneakers For...',\n",
       " 'Premium quality Sneakers For Men']"
      ]
     },
     "execution_count": 354,
     "metadata": {},
     "output_type": "execute_result"
    }
   ],
   "source": [
    "#extract description\n",
    "su_tags=driver.find_elements_by_xpath(\"//a[@class='IRpwTa _2-ICcC']\")\n",
    "su_tags\n",
    "\n",
    "for i in su_tags:\n",
    "    suma=i.text\n",
    "    descp.append(suma)\n",
    "descp"
   ]
  },
  {
   "cell_type": "code",
   "execution_count": 355,
   "id": "d072ac7c",
   "metadata": {},
   "outputs": [
    {
     "data": {
      "text/plain": [
       "['₹399₹99960% off\\nFree delivery',\n",
       " '₹614₹1,29952% off\\nFree delivery',\n",
       " '₹158₹99984% off',\n",
       " '₹269₹99973% off\\nFree delivery',\n",
       " '₹449₹1,49970% off\\nFree delivery',\n",
       " '₹249₹79968% off',\n",
       " '₹349₹65947% off\\nFree delivery',\n",
       " '₹249₹49950% off\\nFree delivery',\n",
       " '₹299₹1,29976% off\\nFree delivery',\n",
       " '₹199₹49960% off\\nFree delivery',\n",
       " '₹424₹99957% off\\nFree delivery',\n",
       " '₹395₹99960% off\\nFree delivery',\n",
       " '₹199₹49960% off\\nFree delivery',\n",
       " '₹422₹99957% off\\nFree delivery',\n",
       " '₹199₹49960% off\\nFree delivery',\n",
       " '₹498₹99950% off\\nFree delivery',\n",
       " '₹269₹1,99986% off\\nFree delivery',\n",
       " '₹565₹2,29775% off\\nFree delivery',\n",
       " '₹449₹1,99977% off\\nFree delivery',\n",
       " '₹423₹99957% off\\nFree delivery',\n",
       " '₹449₹99955% off\\nFree delivery',\n",
       " '₹421₹99957% off\\nFree delivery',\n",
       " '₹1,749₹2,99941% off\\nFree delivery',\n",
       " '₹424₹1,99978% off\\nFree delivery',\n",
       " '₹347₹99965% off\\nFree delivery',\n",
       " '₹158₹59973% off\\nFree delivery',\n",
       " '₹348₹99965% off\\nFree delivery',\n",
       " '₹348₹99965% off\\nFree delivery',\n",
       " '₹269₹99973% off\\nFree delivery',\n",
       " '₹421₹99957% off\\nFree delivery',\n",
       " '₹209₹49958% off\\nFree delivery',\n",
       " '₹179₹99982% off\\nFree delivery',\n",
       " '₹199₹49960% off\\nFree delivery',\n",
       " '₹209₹79973% off',\n",
       " '₹384₹99961% off\\nFree delivery',\n",
       " '₹2,579₹4,29940% off\\nFree delivery',\n",
       " '₹369₹99963% off\\nFree delivery',\n",
       " '₹499₹1,49966% off',\n",
       " '₹379₹99962% off\\nFree delivery',\n",
       " '₹369₹99963% off']"
      ]
     },
     "execution_count": 355,
     "metadata": {},
     "output_type": "execute_result"
    }
   ],
   "source": [
    "#extract price\n",
    "re_tags=driver.find_elements_by_xpath(\"//a[@class='_3bPFwb']\")\n",
    "re_tags\n",
    "\n",
    "for i in re_tags:\n",
    "    revv=i.text\n",
    "    prc.append(revv)\n",
    "prc\n"
   ]
  },
  {
   "cell_type": "code",
   "execution_count": 356,
   "id": "03dc532f",
   "metadata": {},
   "outputs": [
    {
     "name": "stdout",
     "output_type": "stream",
     "text": [
      "40 4 40\n"
     ]
    }
   ],
   "source": [
    "print(len(name),len(descp),len(prc))"
   ]
  },
  {
   "cell_type": "code",
   "execution_count": null,
   "id": "041f4bdf",
   "metadata": {},
   "outputs": [],
   "source": [
    "snk=pd.DataFrame({})\n",
    "snk['Rating']=name\n",
    "snk['Summary']=descp\n",
    "snk['Review']=prc\n",
    "snk"
   ]
  },
  {
   "cell_type": "code",
   "execution_count": 359,
   "id": "6f1ba6f8",
   "metadata": {},
   "outputs": [],
   "source": [
    "search_button=driver.find_element_by_xpath('/html/body/div[1]/div/div[3]/div[1]/div[2]/div[12]/div/div/nav/a[11]')\n",
    "search_button.click()"
   ]
  },
  {
   "cell_type": "markdown",
   "id": "34723306",
   "metadata": {},
   "source": [
    "2nd page scrapping"
   ]
  },
  {
   "cell_type": "code",
   "execution_count": 361,
   "id": "a8cabb4d",
   "metadata": {},
   "outputs": [
    {
     "data": {
      "text/plain": [
       "['ASTEROID',\n",
       " 'Cross Finger',\n",
       " 'PUMA',\n",
       " 'Viv',\n",
       " 'ANTA',\n",
       " 'PUMA',\n",
       " 'VECHLO',\n",
       " 'DUNKASTON',\n",
       " 'Zorth',\n",
       " 'SPARX',\n",
       " 'PUMA',\n",
       " 'Hotmess',\n",
       " 'RED TAPE',\n",
       " 'BIRDE',\n",
       " 'HRX by Hrithik Roshan',\n",
       " 'Field Care',\n",
       " 'Bacan',\n",
       " 'FLYING MACHINE',\n",
       " 'Starlinc',\n",
       " 'HAKKEL',\n",
       " 'PUMA',\n",
       " 'Next INN',\n",
       " 'PUMA',\n",
       " 'VECHLO',\n",
       " 'BRUTON',\n",
       " 'ozzy',\n",
       " 'Aadwin',\n",
       " 'MOZAFIA',\n",
       " 'Roadster',\n",
       " 'MR HERRIC',\n",
       " 'SKYMORE',\n",
       " 'U.S. POLO ASSN.',\n",
       " 'Unistar',\n",
       " 'WOODLAND',\n",
       " 'Navtrend',\n",
       " 'Extoes',\n",
       " 'SRBF',\n",
       " 'GVSSHOES',\n",
       " 'SPARX',\n",
       " 'PUMA']"
      ]
     },
     "execution_count": 361,
     "metadata": {},
     "output_type": "execute_result"
    }
   ],
   "source": [
    "name1=[]\n",
    "descp1=[]\n",
    "prc1=[]\n",
    "\n",
    "#extract name\n",
    "rat_tags=driver.find_elements_by_xpath(\"//div[@class='_2WkVRV']\")\n",
    "rat_tags\n",
    "\n",
    "for i in rat_tags:\n",
    "    ratt=i.text\n",
    "    name1.append(ratt)\n",
    "name1"
   ]
  },
  {
   "cell_type": "code",
   "execution_count": 362,
   "id": "f5aed068",
   "metadata": {},
   "outputs": [
    {
     "data": {
      "text/plain": [
       "['Sneakers For Men',\n",
       " 'Mens Causal Sneakers White Gray Boys Smart Sneakers Sho...',\n",
       " 'SM-641 Sneakers For Men',\n",
       " 'Sneakers For Men',\n",
       " 'Casual Flat Sole Fashionable Trendy Outdoor Comfortable...',\n",
       " 'Sneakers For Men',\n",
       " 'Fashion Shoes for mens Latest Design Partywear| New Mod...',\n",
       " 'Comfortable Light Lace up Casual Sneakers Shoes For Men...',\n",
       " 'casual sneaker shoes for men and Boy Sneakers For Men',\n",
       " 'Sneakers For Men',\n",
       " 'X-Ray Speed Sneakers For Men']"
      ]
     },
     "execution_count": 362,
     "metadata": {},
     "output_type": "execute_result"
    }
   ],
   "source": [
    "#extract description\n",
    "su_tags=driver.find_elements_by_xpath(\"//a[@class='IRpwTa _2-ICcC']\")\n",
    "su_tags\n",
    "\n",
    "for i in su_tags:\n",
    "    suma=i.text\n",
    "    descp1.append(suma)\n",
    "descp1"
   ]
  },
  {
   "cell_type": "code",
   "execution_count": 363,
   "id": "74e1274f",
   "metadata": {},
   "outputs": [
    {
     "data": {
      "text/plain": [
       "['₹549₹1,99972% off',\n",
       " '₹479₹99952% off',\n",
       " '₹1,783₹3,49949% off\\nFree delivery',\n",
       " '₹477₹1,49968% off\\nFree delivery',\n",
       " '₹1,492₹4,49966% off\\nFree delivery',\n",
       " '₹1,979₹3,49943% off\\nFree delivery',\n",
       " '₹379₹99962% off\\nFree delivery',\n",
       " '₹349₹1,49976% off\\nFree delivery',\n",
       " '₹410₹99958% off\\nFree delivery',\n",
       " '₹1,399₹1,4493% off\\nFree delivery',\n",
       " '₹2,974₹6,99957% off\\nFree delivery',\n",
       " '₹182₹49963% off\\nFree delivery',\n",
       " '₹1,329₹4,59971% off\\nFree delivery',\n",
       " '₹301₹99969% off\\nFree delivery',\n",
       " '₹789₹2,79971% off\\nFree delivery',\n",
       " '₹899₹1,99955% off\\nFree delivery',\n",
       " '₹449₹99955% off\\nFree delivery',\n",
       " '₹1,576₹2,59939% off\\nFree delivery',\n",
       " '₹279₹99972% off',\n",
       " '₹499₹1,39964% off\\nFree delivery',\n",
       " '₹1,274₹3,29961% off\\nFree delivery',\n",
       " '₹395₹1,29969% off\\nFree delivery',\n",
       " '₹2,011₹3,79947% off\\nFree delivery',\n",
       " '₹379₹99962% off\\nFree delivery',\n",
       " '₹249₹1,29980% off\\nFree delivery',\n",
       " '₹414₹99958% off\\nFree delivery',\n",
       " '₹399₹99960% off',\n",
       " '₹849₹99915% off\\nFree delivery',\n",
       " '₹1,638₹2,89943% off\\nFree delivery',\n",
       " '₹395₹99960% off\\nFree delivery',\n",
       " '₹291₹99870% off\\nFree delivery',\n",
       " '₹1,835₹2,99938% off\\nFree delivery',\n",
       " '₹239₹39940% off\\nFree delivery',\n",
       " '₹1,789₹2,39525% off\\nFree delivery',\n",
       " '₹379₹1,99981% off\\nFree delivery',\n",
       " '₹498₹99950% off\\nFree delivery',\n",
       " '₹439₹1,99978% off',\n",
       " '₹449₹99955% off',\n",
       " '₹999₹1,29923% off\\nFree delivery',\n",
       " '₹5,899₹6,99915% off\\nFree delivery']"
      ]
     },
     "execution_count": 363,
     "metadata": {},
     "output_type": "execute_result"
    }
   ],
   "source": [
    "#extract price\n",
    "re_tags=driver.find_elements_by_xpath(\"//a[@class='_3bPFwb']\")\n",
    "re_tags\n",
    "\n",
    "for i in re_tags:\n",
    "    revv=i.text\n",
    "    prc1.append(revv)\n",
    "prc1"
   ]
  },
  {
   "cell_type": "code",
   "execution_count": null,
   "id": "9c73b12a",
   "metadata": {},
   "outputs": [],
   "source": [
    "snk=pd.DataFrame({})\n",
    "snk['Rating']=name1\n",
    "snk['Summary']=descp1\n",
    "snk['Review']=prc1\n",
    "snk\n"
   ]
  },
  {
   "cell_type": "code",
   "execution_count": 365,
   "id": "38ceac22",
   "metadata": {},
   "outputs": [],
   "source": [
    "search_button=driver.find_element_by_xpath('/html/body/div[1]/div/div[3]/div[1]/div[2]/div[12]/div/div/nav/a[12]')\n",
    "search_button.click()"
   ]
  },
  {
   "cell_type": "markdown",
   "id": "91bc7580",
   "metadata": {},
   "source": [
    "3rd page scrapping 81-100 items"
   ]
  },
  {
   "cell_type": "code",
   "execution_count": 366,
   "id": "b9ff5143",
   "metadata": {},
   "outputs": [
    {
     "data": {
      "text/plain": [
       "['Navtrend',\n",
       " 'GVSSHOES',\n",
       " 'HRX by Hrithik Roshan',\n",
       " 'BIRDE',\n",
       " 'RED TAPE',\n",
       " 'Jack Diamond',\n",
       " 'ERIX',\n",
       " 'Bacan',\n",
       " 'Cipramo',\n",
       " 'asics',\n",
       " 'PUMA',\n",
       " 'Bacan',\n",
       " 'bacca bucci',\n",
       " 'Vask',\n",
       " 'Starlinc',\n",
       " 'Bacan',\n",
       " 'Chevit',\n",
       " 'HOCKWOOD',\n",
       " 'PUMA',\n",
       " 'KNIGHT WALKERS',\n",
       " 'SPARX',\n",
       " 'HOCKWOOD',\n",
       " 'Bretton',\n",
       " 'Viv',\n",
       " 'ROCKFIELD',\n",
       " 'PUMA',\n",
       " 'Qtsy',\n",
       " 'Red Rose',\n",
       " 'Zsyto',\n",
       " 'Xtoon',\n",
       " 'Absolute comfort',\n",
       " 'U.S. POLO ASSN.',\n",
       " 'PUMA',\n",
       " 'BIZAZO',\n",
       " 'Zixer',\n",
       " 'STRANGER BROTHERS',\n",
       " 'BRUTON',\n",
       " 'SPARX',\n",
       " 'SERSI',\n",
       " 'ADIDAS ORIGINALS']"
      ]
     },
     "execution_count": 366,
     "metadata": {},
     "output_type": "execute_result"
    }
   ],
   "source": [
    "name2=[]\n",
    "descp2=[]\n",
    "prc2=[]\n",
    "\n",
    "#extract name\n",
    "rat_tags=driver.find_elements_by_xpath(\"//div[@class='_2WkVRV']\")\n",
    "rat_tags\n",
    "\n",
    "for i in rat_tags:\n",
    "    ratt=i.text\n",
    "    name2.append(ratt)\n",
    "name2"
   ]
  },
  {
   "cell_type": "code",
   "execution_count": 367,
   "id": "6f04c506",
   "metadata": {},
   "outputs": [
    {
     "data": {
      "text/plain": [
       "['Sneakers For Men',\n",
       " 'Sneakers For Men',\n",
       " 'Comfortable Light Lace up Casual White Sneakers Shoes F...',\n",
       " 'Comfortable Premium Stylish Unique Trendy Popular TOUCH...',\n",
       " 'Sneakers For Men',\n",
       " 'Unique & Perfect Combo Pack of 02 Pair Casual Sneaker C...',\n",
       " 'Street Smart Sneakers For Men',\n",
       " 'Sneakers For Men',\n",
       " 'Men 192 Sneakers For Men',\n",
       " 'Sneakers Sneakers For Men',\n",
       " 'Classy Stylish Ayasa Sneakers Sneakers For Men',\n",
       " 'Sneakers For Men',\n",
       " 'Stylish Design Sneakers Shoes For Men & Boys - Play Whi...',\n",
       " 'Sneakers For Men',\n",
       " 'white sport shoes for mens Sneakers For Men',\n",
       " 'Sneakers For Men',\n",
       " 'Sneakers,Sports,Casual,Walking,Running,Cricket,Football...',\n",
       " \"Men's Streetwear Pro Style High Top Platform Fashion Sn...\"]"
      ]
     },
     "execution_count": 367,
     "metadata": {},
     "output_type": "execute_result"
    }
   ],
   "source": [
    "#extract description\n",
    "su_tags=driver.find_elements_by_xpath(\"//a[@class='IRpwTa _2-ICcC']\")\n",
    "su_tags\n",
    "\n",
    "for i in su_tags:\n",
    "    suma=i.text\n",
    "    descp2.append(suma)\n",
    "descp2"
   ]
  },
  {
   "cell_type": "code",
   "execution_count": 368,
   "id": "b9210601",
   "metadata": {},
   "outputs": [
    {
     "data": {
      "text/plain": [
       "['₹379₹1,99981% off\\nFree delivery',\n",
       " '₹449₹99955% off',\n",
       " '₹2,356₹3,19926% off\\nFree delivery',\n",
       " '₹596₹1,49960% off\\nFree delivery',\n",
       " '₹1,449₹4,99971% off\\nFree delivery',\n",
       " '₹695₹99930% off',\n",
       " '₹440₹1,49970% off\\nFree delivery',\n",
       " '₹449₹99955% off\\nFree delivery',\n",
       " '₹949₹9995% off\\nFree delivery',\n",
       " '₹2,469₹4,49945% off\\nFree delivery',\n",
       " '₹2,769₹6,99960% off\\nFree delivery',\n",
       " '₹449₹99955% off\\nFree delivery',\n",
       " '₹1,148₹2,49954% off\\nFree delivery',\n",
       " '₹249₹1,49983% off\\nFree delivery',\n",
       " '₹279₹99972% off',\n",
       " '₹399₹99960% off\\nFree delivery',\n",
       " '₹571₹1,79868% off\\nFree delivery',\n",
       " '₹709₹99929% off',\n",
       " '₹2,699₹5,49950% off\\nFree delivery',\n",
       " '₹598₹1,49960% off\\nFree delivery',\n",
       " '₹841₹1,04919% off\\nFree delivery',\n",
       " '₹639₹99936% off',\n",
       " '₹201₹99979% off',\n",
       " '₹614₹1,29952% off\\nFree delivery',\n",
       " '₹449₹99955% off\\nFree delivery',\n",
       " '₹3,199₹4,99936% off\\nFree delivery',\n",
       " '₹188₹49962% off',\n",
       " '₹349₹99965% off\\nFree delivery',\n",
       " '₹298₹1,29977% off',\n",
       " '₹399₹99960% off',\n",
       " '₹158₹49968% off',\n",
       " '₹2,469₹3,99938% off\\nFree delivery',\n",
       " '₹4,192₹8,99953% off\\nFree delivery',\n",
       " '₹448₹1,14961% off',\n",
       " '₹616₹1,99969% off',\n",
       " '₹409₹99959% off\\nFree delivery',\n",
       " '₹505₹2,49979% off\\nFree delivery',\n",
       " '₹999₹1,29923% off\\nFree delivery',\n",
       " '₹424₹1,99978% off\\nFree delivery',\n",
       " '₹5,209₹7,59931% off\\nFree delivery']"
      ]
     },
     "execution_count": 368,
     "metadata": {},
     "output_type": "execute_result"
    }
   ],
   "source": [
    "#extract price\n",
    "re_tags=driver.find_elements_by_xpath(\"//a[@class='_3bPFwb']\")\n",
    "re_tags\n",
    "\n",
    "for i in re_tags:\n",
    "    revv=i.text\n",
    "    prc2.append(revv)\n",
    "prc2"
   ]
  },
  {
   "cell_type": "code",
   "execution_count": null,
   "id": "7d0520cc",
   "metadata": {},
   "outputs": [],
   "source": [
    "snk=pd.DataFrame({})\n",
    "snk['Rating']=name2\n",
    "snk['Summary']=descp2\n",
    "snk['Review']=prc2\n",
    "snk.head(20)"
   ]
  },
  {
   "cell_type": "code",
   "execution_count": 370,
   "id": "3a4828a2",
   "metadata": {},
   "outputs": [],
   "source": [
    "driver.close()"
   ]
  },
  {
   "cell_type": "code",
   "execution_count": null,
   "id": "5dec284d",
   "metadata": {},
   "outputs": [],
   "source": []
  },
  {
   "cell_type": "markdown",
   "id": "1a46075d",
   "metadata": {},
   "source": [
    "# Q7: Go to the link - https://www.myntra.com/shoes\n",
    "Set Price filter to “Rs. 7149 to Rs. 14099 ” , Color filter to “Black”, as shown inthe below image\n",
    "And then scrape First 100 shoes data you get. The data should include “Brand” of the shoes , Short Shoe description, price of the shoe as shown in the below image."
   ]
  },
  {
   "cell_type": "code",
   "execution_count": 196,
   "id": "cdcc9062",
   "metadata": {},
   "outputs": [],
   "source": [
    "driver=webdriver.Chrome(\"chromedriver.exe\")\n",
    "time.sleep(2)"
   ]
  },
  {
   "cell_type": "code",
   "execution_count": 197,
   "id": "c60c60e8",
   "metadata": {},
   "outputs": [],
   "source": [
    "driver.get(\"https://www.myntra.com/shoes\")"
   ]
  },
  {
   "cell_type": "markdown",
   "id": "0ed6be6c",
   "metadata": {},
   "source": [
    "Selcting filter to black"
   ]
  },
  {
   "cell_type": "code",
   "execution_count": 198,
   "id": "6dc5f359",
   "metadata": {},
   "outputs": [],
   "source": [
    "search_button=driver.find_element_by_xpath('/html/body/div[2]/div/div[1]/main/div[3]/div[1]/section/div/div[5]/ul/li[2]/label/div')\n",
    "search_button.click()"
   ]
  },
  {
   "cell_type": "code",
   "execution_count": 199,
   "id": "1de75aba",
   "metadata": {},
   "outputs": [],
   "source": [
    "search_button=driver.find_element_by_xpath('/html/body/div[2]/div/div[1]/main/div[3]/div[1]/section/div/div[6]/ul/li[1]/label/div')\n",
    "search_button.click()"
   ]
  },
  {
   "cell_type": "markdown",
   "id": "d3dd82c3",
   "metadata": {},
   "source": [
    "1st page scrapping data"
   ]
  },
  {
   "cell_type": "code",
   "execution_count": 200,
   "id": "c3a1292a",
   "metadata": {},
   "outputs": [
    {
     "data": {
      "text/plain": [
       "['Puma',\n",
       " 'ALDO',\n",
       " 'Nike',\n",
       " 'ADIDAS',\n",
       " 'ALDO',\n",
       " 'one8 x PUMA',\n",
       " 'Skechers',\n",
       " 'ALDO',\n",
       " 'Puma',\n",
       " 'ALDO',\n",
       " 'ALDO',\n",
       " 'Hush Puppies',\n",
       " 'ALDO',\n",
       " 'Nike',\n",
       " 'PUMA Motorsport',\n",
       " 'PUMA Motorsport',\n",
       " 'ADIDAS',\n",
       " 'Puma',\n",
       " 'Columbia',\n",
       " 'Skechers',\n",
       " 'Hush Puppies',\n",
       " 'Skechers',\n",
       " 'Puma',\n",
       " 'Puma',\n",
       " 'Puma',\n",
       " 'Bugatti',\n",
       " 'ADIDAS Originals',\n",
       " 'Nike',\n",
       " 'Reebok',\n",
       " 'Skechers',\n",
       " 'PUMA Motorsport',\n",
       " 'ADIDAS',\n",
       " 'Hush Puppies',\n",
       " 'ADIDAS Originals',\n",
       " 'Puma',\n",
       " 'Puma',\n",
       " 'ADIDAS',\n",
       " 'Puma',\n",
       " 'Tommy Hilfiger',\n",
       " 'Puma',\n",
       " 'Bugatti',\n",
       " 'Hush Puppies',\n",
       " 'Tommy Hilfiger',\n",
       " 'DAVINCHI',\n",
       " 'DAVINCHI',\n",
       " 'Saint G',\n",
       " 'DEL MONDO',\n",
       " 'Bugatti',\n",
       " 'Puma',\n",
       " 'Bugatti']"
      ]
     },
     "execution_count": 200,
     "metadata": {},
     "output_type": "execute_result"
    }
   ],
   "source": [
    "name=[]\n",
    "descp=[]\n",
    "prc=[]\n",
    "\n",
    "#extract name\n",
    "rat_tags=driver.find_elements_by_xpath(\"//h3[@class='product-brand']\")\n",
    "rat_tags\n",
    "\n",
    "for i in rat_tags:\n",
    "    ratt=i.text\n",
    "    name.append(ratt)\n",
    "name\n"
   ]
  },
  {
   "cell_type": "code",
   "execution_count": 201,
   "id": "578492e2",
   "metadata": {},
   "outputs": [
    {
     "name": "stdout",
     "output_type": "stream",
     "text": [
      "50\n"
     ]
    }
   ],
   "source": [
    "print(len(name))"
   ]
  },
  {
   "cell_type": "code",
   "execution_count": 202,
   "id": "d4aa98bb",
   "metadata": {},
   "outputs": [
    {
     "data": {
      "text/plain": [
       "['Electrify Nitro Running Shoes',\n",
       " 'Men Leather Driving Shoes',\n",
       " 'Men KF 5 EP Basketball Shoes',\n",
       " 'Men Dropset Training Shoes',\n",
       " 'Men Woven Design Sneakers',\n",
       " 'Men Fuse One8 Training Shoes',\n",
       " 'Men Max Cushioning Running',\n",
       " 'Men Sneakers',\n",
       " 'Men Colourblocked RS-Z Core',\n",
       " 'Men Textured Sneakers',\n",
       " 'Men Textured Slip-On Sneakers',\n",
       " 'Men Solid Leather Formal Slip-Ons',\n",
       " 'Men Leather Loafers',\n",
       " 'Men Air Max Dawn Sneakers',\n",
       " 'Unisex Ferrari IONSpeed',\n",
       " 'Ferrari X-Ray Speed Sneakers',\n",
       " 'Men Sl20.3 Running Shoes',\n",
       " 'Men D Nitro WTR Running Shoes',\n",
       " 'Men FACET OUTDRY Trekking Shoe',\n",
       " 'Men Sky Vault Walking Shoes',\n",
       " 'Men Formal Derbys',\n",
       " 'Men Walking Shoes',\n",
       " 'Eternity Nitro Running Shoes',\n",
       " 'Men Training or Gym Shoes',\n",
       " 'Men Running Shoes',\n",
       " 'Men Solid Sneakers',\n",
       " 'Men Solid Ozweego Sneakers',\n",
       " 'Men AIR MAX PRE-DAY Sneakers',\n",
       " 'Men Zig Dynamica 2.0 Running',\n",
       " 'Men MAX CUSHIONING ELITE-LUCID',\n",
       " 'Men ZenonSpeed Sneakers',\n",
       " 'Men Solar Glide 5 Running Shoe',\n",
       " 'Men Solid Leather Formal Slip-Ons',\n",
       " 'Men Solid Retropy F2 Sneakers',\n",
       " 'Women Kosmo Rider DC5 Sneakers',\n",
       " 'Mirage Sport Hacked Sneakers',\n",
       " 'Women Supernova Running Shoes',\n",
       " 'Women XT FTR Training Shoes',\n",
       " 'Men Textured Loafers',\n",
       " 'Men Golf Shoes',\n",
       " 'Men Black Formal Derby Shoes',\n",
       " 'Men Solid Formal Slip-Ons',\n",
       " 'Men Leather Sneakers',\n",
       " 'Men Textured Formal Leather Loafers',\n",
       " 'Men Solid Leather Formal Loafers',\n",
       " 'Leather Block Sandals',\n",
       " 'Men Leather Sneakers',\n",
       " 'Men Leather Driving Shoes',\n",
       " 'Men Deviate Nitro Shoes',\n",
       " 'Men Leather Monks']"
      ]
     },
     "execution_count": 202,
     "metadata": {},
     "output_type": "execute_result"
    }
   ],
   "source": [
    "#extract description\n",
    "su_tags=driver.find_elements_by_xpath(\"//h4[@class='product-product']\")\n",
    "su_tags\n",
    "\n",
    "for i in su_tags:\n",
    "    suma=i.text\n",
    "    descp.append(suma)\n",
    "descp"
   ]
  },
  {
   "cell_type": "code",
   "execution_count": 203,
   "id": "16dc4d9a",
   "metadata": {},
   "outputs": [
    {
     "name": "stdout",
     "output_type": "stream",
     "text": [
      "50\n"
     ]
    }
   ],
   "source": [
    "print(len(descp))"
   ]
  },
  {
   "cell_type": "code",
   "execution_count": 204,
   "id": "e12c4da2",
   "metadata": {},
   "outputs": [
    {
     "data": {
      "text/plain": [
       "['Rs. 9999',\n",
       " 'Rs. 12999',\n",
       " 'Rs. 8195',\n",
       " 'Rs. 12999',\n",
       " 'Rs. 13999',\n",
       " 'Rs. 7999',\n",
       " 'Rs. 7649Rs. 8999(15% OFF)',\n",
       " 'Rs. 9999',\n",
       " 'Rs. 9999',\n",
       " 'Rs. 10999',\n",
       " 'Rs. 12999',\n",
       " 'Rs. 7649Rs. 8999(15% OFF)',\n",
       " 'Rs. 12999',\n",
       " 'Rs. 9295',\n",
       " 'Rs. 7199Rs. 8999(20% OFF)',\n",
       " 'Rs. 7999',\n",
       " 'Rs. 11999',\n",
       " 'Rs. 11199Rs. 15999(30% OFF)',\n",
       " 'Rs. 12999',\n",
       " 'Rs. 7649Rs. 8999(15% OFF)',\n",
       " 'Rs. 8499Rs. 9999(15% OFF)',\n",
       " 'Rs. 7649Rs. 8999(15% OFF)',\n",
       " 'Rs. 8449Rs. 12999(35% OFF)',\n",
       " 'Rs. 7999',\n",
       " 'Rs. 7999Rs. 9999(20% OFF)',\n",
       " 'Rs. 10499',\n",
       " 'Rs. 9349Rs. 10999(15% OFF)',\n",
       " 'Rs. 13995',\n",
       " 'Rs. 7999',\n",
       " 'Rs. 8074Rs. 9499(15% OFF)',\n",
       " 'Rs. 7199Rs. 8999(20% OFF)',\n",
       " 'Rs. 13999',\n",
       " 'Rs. 8499Rs. 9999(15% OFF)',\n",
       " 'Rs. 7649Rs. 8999(15% OFF)',\n",
       " 'Rs. 7999',\n",
       " 'Rs. 7199Rs. 8999(20% OFF)',\n",
       " 'Rs. 9999',\n",
       " 'Rs. 7499',\n",
       " 'Rs. 8999',\n",
       " 'Rs. 8999',\n",
       " 'Rs. 11999',\n",
       " 'Rs. 8499Rs. 9999(15% OFF)',\n",
       " 'Rs. 7309Rs. 8599(15% OFF)',\n",
       " 'Rs. 8990',\n",
       " 'Rs. 8490',\n",
       " 'Rs. 9810Rs. 10900(10% OFF)',\n",
       " 'Rs. 7890',\n",
       " 'Rs. 8499',\n",
       " 'Rs. 11999Rs. 14999(20% OFF)',\n",
       " 'Rs. 8999']"
      ]
     },
     "execution_count": 204,
     "metadata": {},
     "output_type": "execute_result"
    }
   ],
   "source": [
    "#extract price\n",
    "re_tags=driver.find_elements_by_xpath(\"//div[@class='product-price']\")\n",
    "re_tags\n",
    "\n",
    "for i in re_tags:\n",
    "    revv=i.text\n",
    "    prc.append(revv)\n",
    "prc\n"
   ]
  },
  {
   "cell_type": "code",
   "execution_count": 205,
   "id": "241009a3",
   "metadata": {},
   "outputs": [
    {
     "name": "stdout",
     "output_type": "stream",
     "text": [
      "50\n"
     ]
    }
   ],
   "source": [
    "print(len(prc))"
   ]
  },
  {
   "cell_type": "code",
   "execution_count": 206,
   "id": "0a91bd40",
   "metadata": {},
   "outputs": [
    {
     "data": {
      "text/html": [
       "<div>\n",
       "<style scoped>\n",
       "    .dataframe tbody tr th:only-of-type {\n",
       "        vertical-align: middle;\n",
       "    }\n",
       "\n",
       "    .dataframe tbody tr th {\n",
       "        vertical-align: top;\n",
       "    }\n",
       "\n",
       "    .dataframe thead th {\n",
       "        text-align: right;\n",
       "    }\n",
       "</style>\n",
       "<table border=\"1\" class=\"dataframe\">\n",
       "  <thead>\n",
       "    <tr style=\"text-align: right;\">\n",
       "      <th></th>\n",
       "      <th>Rating</th>\n",
       "      <th>Summary</th>\n",
       "      <th>Review</th>\n",
       "    </tr>\n",
       "  </thead>\n",
       "  <tbody>\n",
       "    <tr>\n",
       "      <th>0</th>\n",
       "      <td>Puma</td>\n",
       "      <td>Electrify Nitro Running Shoes</td>\n",
       "      <td>Rs. 9999</td>\n",
       "    </tr>\n",
       "    <tr>\n",
       "      <th>1</th>\n",
       "      <td>ALDO</td>\n",
       "      <td>Men Leather Driving Shoes</td>\n",
       "      <td>Rs. 12999</td>\n",
       "    </tr>\n",
       "    <tr>\n",
       "      <th>2</th>\n",
       "      <td>Nike</td>\n",
       "      <td>Men KF 5 EP Basketball Shoes</td>\n",
       "      <td>Rs. 8195</td>\n",
       "    </tr>\n",
       "    <tr>\n",
       "      <th>3</th>\n",
       "      <td>ADIDAS</td>\n",
       "      <td>Men Dropset Training Shoes</td>\n",
       "      <td>Rs. 12999</td>\n",
       "    </tr>\n",
       "    <tr>\n",
       "      <th>4</th>\n",
       "      <td>ALDO</td>\n",
       "      <td>Men Woven Design Sneakers</td>\n",
       "      <td>Rs. 13999</td>\n",
       "    </tr>\n",
       "    <tr>\n",
       "      <th>5</th>\n",
       "      <td>one8 x PUMA</td>\n",
       "      <td>Men Fuse One8 Training Shoes</td>\n",
       "      <td>Rs. 7999</td>\n",
       "    </tr>\n",
       "    <tr>\n",
       "      <th>6</th>\n",
       "      <td>Skechers</td>\n",
       "      <td>Men Max Cushioning Running</td>\n",
       "      <td>Rs. 7649Rs. 8999(15% OFF)</td>\n",
       "    </tr>\n",
       "    <tr>\n",
       "      <th>7</th>\n",
       "      <td>ALDO</td>\n",
       "      <td>Men Sneakers</td>\n",
       "      <td>Rs. 9999</td>\n",
       "    </tr>\n",
       "    <tr>\n",
       "      <th>8</th>\n",
       "      <td>Puma</td>\n",
       "      <td>Men Colourblocked RS-Z Core</td>\n",
       "      <td>Rs. 9999</td>\n",
       "    </tr>\n",
       "    <tr>\n",
       "      <th>9</th>\n",
       "      <td>ALDO</td>\n",
       "      <td>Men Textured Sneakers</td>\n",
       "      <td>Rs. 10999</td>\n",
       "    </tr>\n",
       "    <tr>\n",
       "      <th>10</th>\n",
       "      <td>ALDO</td>\n",
       "      <td>Men Textured Slip-On Sneakers</td>\n",
       "      <td>Rs. 12999</td>\n",
       "    </tr>\n",
       "    <tr>\n",
       "      <th>11</th>\n",
       "      <td>Hush Puppies</td>\n",
       "      <td>Men Solid Leather Formal Slip-Ons</td>\n",
       "      <td>Rs. 7649Rs. 8999(15% OFF)</td>\n",
       "    </tr>\n",
       "    <tr>\n",
       "      <th>12</th>\n",
       "      <td>ALDO</td>\n",
       "      <td>Men Leather Loafers</td>\n",
       "      <td>Rs. 12999</td>\n",
       "    </tr>\n",
       "    <tr>\n",
       "      <th>13</th>\n",
       "      <td>Nike</td>\n",
       "      <td>Men Air Max Dawn Sneakers</td>\n",
       "      <td>Rs. 9295</td>\n",
       "    </tr>\n",
       "    <tr>\n",
       "      <th>14</th>\n",
       "      <td>PUMA Motorsport</td>\n",
       "      <td>Unisex Ferrari IONSpeed</td>\n",
       "      <td>Rs. 7199Rs. 8999(20% OFF)</td>\n",
       "    </tr>\n",
       "    <tr>\n",
       "      <th>15</th>\n",
       "      <td>PUMA Motorsport</td>\n",
       "      <td>Ferrari X-Ray Speed Sneakers</td>\n",
       "      <td>Rs. 7999</td>\n",
       "    </tr>\n",
       "    <tr>\n",
       "      <th>16</th>\n",
       "      <td>ADIDAS</td>\n",
       "      <td>Men Sl20.3 Running Shoes</td>\n",
       "      <td>Rs. 11999</td>\n",
       "    </tr>\n",
       "    <tr>\n",
       "      <th>17</th>\n",
       "      <td>Puma</td>\n",
       "      <td>Men D Nitro WTR Running Shoes</td>\n",
       "      <td>Rs. 11199Rs. 15999(30% OFF)</td>\n",
       "    </tr>\n",
       "    <tr>\n",
       "      <th>18</th>\n",
       "      <td>Columbia</td>\n",
       "      <td>Men FACET OUTDRY Trekking Shoe</td>\n",
       "      <td>Rs. 12999</td>\n",
       "    </tr>\n",
       "    <tr>\n",
       "      <th>19</th>\n",
       "      <td>Skechers</td>\n",
       "      <td>Men Sky Vault Walking Shoes</td>\n",
       "      <td>Rs. 7649Rs. 8999(15% OFF)</td>\n",
       "    </tr>\n",
       "    <tr>\n",
       "      <th>20</th>\n",
       "      <td>Hush Puppies</td>\n",
       "      <td>Men Formal Derbys</td>\n",
       "      <td>Rs. 8499Rs. 9999(15% OFF)</td>\n",
       "    </tr>\n",
       "    <tr>\n",
       "      <th>21</th>\n",
       "      <td>Skechers</td>\n",
       "      <td>Men Walking Shoes</td>\n",
       "      <td>Rs. 7649Rs. 8999(15% OFF)</td>\n",
       "    </tr>\n",
       "    <tr>\n",
       "      <th>22</th>\n",
       "      <td>Puma</td>\n",
       "      <td>Eternity Nitro Running Shoes</td>\n",
       "      <td>Rs. 8449Rs. 12999(35% OFF)</td>\n",
       "    </tr>\n",
       "    <tr>\n",
       "      <th>23</th>\n",
       "      <td>Puma</td>\n",
       "      <td>Men Training or Gym Shoes</td>\n",
       "      <td>Rs. 7999</td>\n",
       "    </tr>\n",
       "    <tr>\n",
       "      <th>24</th>\n",
       "      <td>Puma</td>\n",
       "      <td>Men Running Shoes</td>\n",
       "      <td>Rs. 7999Rs. 9999(20% OFF)</td>\n",
       "    </tr>\n",
       "    <tr>\n",
       "      <th>25</th>\n",
       "      <td>Bugatti</td>\n",
       "      <td>Men Solid Sneakers</td>\n",
       "      <td>Rs. 10499</td>\n",
       "    </tr>\n",
       "    <tr>\n",
       "      <th>26</th>\n",
       "      <td>ADIDAS Originals</td>\n",
       "      <td>Men Solid Ozweego Sneakers</td>\n",
       "      <td>Rs. 9349Rs. 10999(15% OFF)</td>\n",
       "    </tr>\n",
       "    <tr>\n",
       "      <th>27</th>\n",
       "      <td>Nike</td>\n",
       "      <td>Men AIR MAX PRE-DAY Sneakers</td>\n",
       "      <td>Rs. 13995</td>\n",
       "    </tr>\n",
       "    <tr>\n",
       "      <th>28</th>\n",
       "      <td>Reebok</td>\n",
       "      <td>Men Zig Dynamica 2.0 Running</td>\n",
       "      <td>Rs. 7999</td>\n",
       "    </tr>\n",
       "    <tr>\n",
       "      <th>29</th>\n",
       "      <td>Skechers</td>\n",
       "      <td>Men MAX CUSHIONING ELITE-LUCID</td>\n",
       "      <td>Rs. 8074Rs. 9499(15% OFF)</td>\n",
       "    </tr>\n",
       "    <tr>\n",
       "      <th>30</th>\n",
       "      <td>PUMA Motorsport</td>\n",
       "      <td>Men ZenonSpeed Sneakers</td>\n",
       "      <td>Rs. 7199Rs. 8999(20% OFF)</td>\n",
       "    </tr>\n",
       "    <tr>\n",
       "      <th>31</th>\n",
       "      <td>ADIDAS</td>\n",
       "      <td>Men Solar Glide 5 Running Shoe</td>\n",
       "      <td>Rs. 13999</td>\n",
       "    </tr>\n",
       "    <tr>\n",
       "      <th>32</th>\n",
       "      <td>Hush Puppies</td>\n",
       "      <td>Men Solid Leather Formal Slip-Ons</td>\n",
       "      <td>Rs. 8499Rs. 9999(15% OFF)</td>\n",
       "    </tr>\n",
       "    <tr>\n",
       "      <th>33</th>\n",
       "      <td>ADIDAS Originals</td>\n",
       "      <td>Men Solid Retropy F2 Sneakers</td>\n",
       "      <td>Rs. 7649Rs. 8999(15% OFF)</td>\n",
       "    </tr>\n",
       "    <tr>\n",
       "      <th>34</th>\n",
       "      <td>Puma</td>\n",
       "      <td>Women Kosmo Rider DC5 Sneakers</td>\n",
       "      <td>Rs. 7999</td>\n",
       "    </tr>\n",
       "    <tr>\n",
       "      <th>35</th>\n",
       "      <td>Puma</td>\n",
       "      <td>Mirage Sport Hacked Sneakers</td>\n",
       "      <td>Rs. 7199Rs. 8999(20% OFF)</td>\n",
       "    </tr>\n",
       "    <tr>\n",
       "      <th>36</th>\n",
       "      <td>ADIDAS</td>\n",
       "      <td>Women Supernova Running Shoes</td>\n",
       "      <td>Rs. 9999</td>\n",
       "    </tr>\n",
       "    <tr>\n",
       "      <th>37</th>\n",
       "      <td>Puma</td>\n",
       "      <td>Women XT FTR Training Shoes</td>\n",
       "      <td>Rs. 7499</td>\n",
       "    </tr>\n",
       "    <tr>\n",
       "      <th>38</th>\n",
       "      <td>Tommy Hilfiger</td>\n",
       "      <td>Men Textured Loafers</td>\n",
       "      <td>Rs. 8999</td>\n",
       "    </tr>\n",
       "    <tr>\n",
       "      <th>39</th>\n",
       "      <td>Puma</td>\n",
       "      <td>Men Golf Shoes</td>\n",
       "      <td>Rs. 8999</td>\n",
       "    </tr>\n",
       "    <tr>\n",
       "      <th>40</th>\n",
       "      <td>Bugatti</td>\n",
       "      <td>Men Black Formal Derby Shoes</td>\n",
       "      <td>Rs. 11999</td>\n",
       "    </tr>\n",
       "    <tr>\n",
       "      <th>41</th>\n",
       "      <td>Hush Puppies</td>\n",
       "      <td>Men Solid Formal Slip-Ons</td>\n",
       "      <td>Rs. 8499Rs. 9999(15% OFF)</td>\n",
       "    </tr>\n",
       "    <tr>\n",
       "      <th>42</th>\n",
       "      <td>Tommy Hilfiger</td>\n",
       "      <td>Men Leather Sneakers</td>\n",
       "      <td>Rs. 7309Rs. 8599(15% OFF)</td>\n",
       "    </tr>\n",
       "    <tr>\n",
       "      <th>43</th>\n",
       "      <td>DAVINCHI</td>\n",
       "      <td>Men Textured Formal Leather Loafers</td>\n",
       "      <td>Rs. 8990</td>\n",
       "    </tr>\n",
       "    <tr>\n",
       "      <th>44</th>\n",
       "      <td>DAVINCHI</td>\n",
       "      <td>Men Solid Leather Formal Loafers</td>\n",
       "      <td>Rs. 8490</td>\n",
       "    </tr>\n",
       "    <tr>\n",
       "      <th>45</th>\n",
       "      <td>Saint G</td>\n",
       "      <td>Leather Block Sandals</td>\n",
       "      <td>Rs. 9810Rs. 10900(10% OFF)</td>\n",
       "    </tr>\n",
       "    <tr>\n",
       "      <th>46</th>\n",
       "      <td>DEL MONDO</td>\n",
       "      <td>Men Leather Sneakers</td>\n",
       "      <td>Rs. 7890</td>\n",
       "    </tr>\n",
       "    <tr>\n",
       "      <th>47</th>\n",
       "      <td>Bugatti</td>\n",
       "      <td>Men Leather Driving Shoes</td>\n",
       "      <td>Rs. 8499</td>\n",
       "    </tr>\n",
       "    <tr>\n",
       "      <th>48</th>\n",
       "      <td>Puma</td>\n",
       "      <td>Men Deviate Nitro Shoes</td>\n",
       "      <td>Rs. 11999Rs. 14999(20% OFF)</td>\n",
       "    </tr>\n",
       "    <tr>\n",
       "      <th>49</th>\n",
       "      <td>Bugatti</td>\n",
       "      <td>Men Leather Monks</td>\n",
       "      <td>Rs. 8999</td>\n",
       "    </tr>\n",
       "  </tbody>\n",
       "</table>\n",
       "</div>"
      ],
      "text/plain": [
       "              Rating                              Summary  \\\n",
       "0               Puma        Electrify Nitro Running Shoes   \n",
       "1               ALDO            Men Leather Driving Shoes   \n",
       "2               Nike         Men KF 5 EP Basketball Shoes   \n",
       "3             ADIDAS           Men Dropset Training Shoes   \n",
       "4               ALDO            Men Woven Design Sneakers   \n",
       "5        one8 x PUMA         Men Fuse One8 Training Shoes   \n",
       "6           Skechers           Men Max Cushioning Running   \n",
       "7               ALDO                         Men Sneakers   \n",
       "8               Puma          Men Colourblocked RS-Z Core   \n",
       "9               ALDO                Men Textured Sneakers   \n",
       "10              ALDO        Men Textured Slip-On Sneakers   \n",
       "11      Hush Puppies    Men Solid Leather Formal Slip-Ons   \n",
       "12              ALDO                  Men Leather Loafers   \n",
       "13              Nike            Men Air Max Dawn Sneakers   \n",
       "14   PUMA Motorsport              Unisex Ferrari IONSpeed   \n",
       "15   PUMA Motorsport         Ferrari X-Ray Speed Sneakers   \n",
       "16            ADIDAS             Men Sl20.3 Running Shoes   \n",
       "17              Puma        Men D Nitro WTR Running Shoes   \n",
       "18          Columbia       Men FACET OUTDRY Trekking Shoe   \n",
       "19          Skechers          Men Sky Vault Walking Shoes   \n",
       "20      Hush Puppies                    Men Formal Derbys   \n",
       "21          Skechers                    Men Walking Shoes   \n",
       "22              Puma         Eternity Nitro Running Shoes   \n",
       "23              Puma            Men Training or Gym Shoes   \n",
       "24              Puma                    Men Running Shoes   \n",
       "25           Bugatti                   Men Solid Sneakers   \n",
       "26  ADIDAS Originals           Men Solid Ozweego Sneakers   \n",
       "27              Nike         Men AIR MAX PRE-DAY Sneakers   \n",
       "28            Reebok         Men Zig Dynamica 2.0 Running   \n",
       "29          Skechers       Men MAX CUSHIONING ELITE-LUCID   \n",
       "30   PUMA Motorsport              Men ZenonSpeed Sneakers   \n",
       "31            ADIDAS       Men Solar Glide 5 Running Shoe   \n",
       "32      Hush Puppies    Men Solid Leather Formal Slip-Ons   \n",
       "33  ADIDAS Originals        Men Solid Retropy F2 Sneakers   \n",
       "34              Puma       Women Kosmo Rider DC5 Sneakers   \n",
       "35              Puma         Mirage Sport Hacked Sneakers   \n",
       "36            ADIDAS        Women Supernova Running Shoes   \n",
       "37              Puma          Women XT FTR Training Shoes   \n",
       "38    Tommy Hilfiger                 Men Textured Loafers   \n",
       "39              Puma                       Men Golf Shoes   \n",
       "40           Bugatti         Men Black Formal Derby Shoes   \n",
       "41      Hush Puppies            Men Solid Formal Slip-Ons   \n",
       "42    Tommy Hilfiger                 Men Leather Sneakers   \n",
       "43          DAVINCHI  Men Textured Formal Leather Loafers   \n",
       "44          DAVINCHI     Men Solid Leather Formal Loafers   \n",
       "45           Saint G                Leather Block Sandals   \n",
       "46         DEL MONDO                 Men Leather Sneakers   \n",
       "47           Bugatti            Men Leather Driving Shoes   \n",
       "48              Puma              Men Deviate Nitro Shoes   \n",
       "49           Bugatti                    Men Leather Monks   \n",
       "\n",
       "                         Review  \n",
       "0                      Rs. 9999  \n",
       "1                     Rs. 12999  \n",
       "2                      Rs. 8195  \n",
       "3                     Rs. 12999  \n",
       "4                     Rs. 13999  \n",
       "5                      Rs. 7999  \n",
       "6     Rs. 7649Rs. 8999(15% OFF)  \n",
       "7                      Rs. 9999  \n",
       "8                      Rs. 9999  \n",
       "9                     Rs. 10999  \n",
       "10                    Rs. 12999  \n",
       "11    Rs. 7649Rs. 8999(15% OFF)  \n",
       "12                    Rs. 12999  \n",
       "13                     Rs. 9295  \n",
       "14    Rs. 7199Rs. 8999(20% OFF)  \n",
       "15                     Rs. 7999  \n",
       "16                    Rs. 11999  \n",
       "17  Rs. 11199Rs. 15999(30% OFF)  \n",
       "18                    Rs. 12999  \n",
       "19    Rs. 7649Rs. 8999(15% OFF)  \n",
       "20    Rs. 8499Rs. 9999(15% OFF)  \n",
       "21    Rs. 7649Rs. 8999(15% OFF)  \n",
       "22   Rs. 8449Rs. 12999(35% OFF)  \n",
       "23                     Rs. 7999  \n",
       "24    Rs. 7999Rs. 9999(20% OFF)  \n",
       "25                    Rs. 10499  \n",
       "26   Rs. 9349Rs. 10999(15% OFF)  \n",
       "27                    Rs. 13995  \n",
       "28                     Rs. 7999  \n",
       "29    Rs. 8074Rs. 9499(15% OFF)  \n",
       "30    Rs. 7199Rs. 8999(20% OFF)  \n",
       "31                    Rs. 13999  \n",
       "32    Rs. 8499Rs. 9999(15% OFF)  \n",
       "33    Rs. 7649Rs. 8999(15% OFF)  \n",
       "34                     Rs. 7999  \n",
       "35    Rs. 7199Rs. 8999(20% OFF)  \n",
       "36                     Rs. 9999  \n",
       "37                     Rs. 7499  \n",
       "38                     Rs. 8999  \n",
       "39                     Rs. 8999  \n",
       "40                    Rs. 11999  \n",
       "41    Rs. 8499Rs. 9999(15% OFF)  \n",
       "42    Rs. 7309Rs. 8599(15% OFF)  \n",
       "43                     Rs. 8990  \n",
       "44                     Rs. 8490  \n",
       "45   Rs. 9810Rs. 10900(10% OFF)  \n",
       "46                     Rs. 7890  \n",
       "47                     Rs. 8499  \n",
       "48  Rs. 11999Rs. 14999(20% OFF)  \n",
       "49                     Rs. 8999  "
      ]
     },
     "execution_count": 206,
     "metadata": {},
     "output_type": "execute_result"
    }
   ],
   "source": [
    "shoe=pd.DataFrame({})\n",
    "shoe['Rating']=name\n",
    "shoe['Summary']=descp\n",
    "shoe['Review']=prc\n",
    "shoe"
   ]
  },
  {
   "cell_type": "markdown",
   "id": "efe0677a",
   "metadata": {},
   "source": [
    "2nd page scrapping"
   ]
  },
  {
   "cell_type": "code",
   "execution_count": 207,
   "id": "860b5394",
   "metadata": {},
   "outputs": [],
   "source": [
    "search_button=driver.find_element_by_xpath('/html/body/div[2]/div/div[1]/main/div[3]/div[2]/div/div[2]/section/div[2]/ul/li[12]')\n",
    "search_button.click()"
   ]
  },
  {
   "cell_type": "code",
   "execution_count": 208,
   "id": "e91fb888",
   "metadata": {},
   "outputs": [
    {
     "data": {
      "text/plain": [
       "['Bugatti',\n",
       " 'Skechers',\n",
       " 'ADIDAS',\n",
       " 'Bugatti',\n",
       " 'ADIDAS',\n",
       " 'Geox',\n",
       " 'Geox',\n",
       " 'Geox',\n",
       " 'ROSSO BRUNELLO',\n",
       " 'Geox',\n",
       " 'Geox',\n",
       " 'Geox',\n",
       " 'UNDER ARMOUR',\n",
       " 'UNDER ARMOUR',\n",
       " 'Clarks',\n",
       " 'PUMA Hoops',\n",
       " 'Columbia',\n",
       " 'Puma',\n",
       " 'Bugatti',\n",
       " 'Saint G',\n",
       " 'ASICS',\n",
       " 'Geox',\n",
       " 'Birkenstock',\n",
       " 'Geox',\n",
       " 'J.FONTINI',\n",
       " 'Bugatti',\n",
       " 'DAVINCHI',\n",
       " 'Hush Puppies',\n",
       " 'DAVINCHI',\n",
       " 'J.FONTINI',\n",
       " 'J.FONTINI',\n",
       " 'Sole To Soul',\n",
       " 'Saint G',\n",
       " 'ALDO',\n",
       " 'ECCO',\n",
       " 'ALDO',\n",
       " 'Bugatti',\n",
       " 'Bugatti',\n",
       " 'Geox',\n",
       " 'Saint G',\n",
       " 'MANGO',\n",
       " 'Geox',\n",
       " 'Geox',\n",
       " 'Geox',\n",
       " 'Geox',\n",
       " 'Onitsuka Tiger',\n",
       " 'Cole Haan',\n",
       " 'J.FONTINI',\n",
       " 'J.FONTINI',\n",
       " 'Heel & Buckle London']"
      ]
     },
     "execution_count": 208,
     "metadata": {},
     "output_type": "execute_result"
    }
   ],
   "source": [
    "name1=[]\n",
    "descp1=[]\n",
    "prc1=[]\n",
    "\n",
    "#extract name\n",
    "rat_tags=driver.find_elements_by_xpath(\"//h3[@class='product-brand']\")\n",
    "rat_tags\n",
    "\n",
    "for i in rat_tags:\n",
    "    ratt=i.text\n",
    "    name1.append(ratt)\n",
    "name1\n"
   ]
  },
  {
   "cell_type": "code",
   "execution_count": 209,
   "id": "952915a1",
   "metadata": {},
   "outputs": [
    {
     "name": "stdout",
     "output_type": "stream",
     "text": [
      "50\n"
     ]
    }
   ],
   "source": [
    "print(len(name))"
   ]
  },
  {
   "cell_type": "code",
   "execution_count": 210,
   "id": "32df7e7f",
   "metadata": {},
   "outputs": [
    {
     "data": {
      "text/plain": [
       "['Men Leather Monks',\n",
       " 'Men Go Walk 5 Walking Shoes',\n",
       " 'Women KarlieKlossX9000 Running',\n",
       " 'Leather Block Heeled Boots',\n",
       " 'Women Dropset Training Shoes',\n",
       " 'Men Textured Leather Driving Shoes',\n",
       " 'Men Textured Leather Sneakers',\n",
       " 'Men Textured Leather Driving Shoes',\n",
       " '',\n",
       " 'Men Textured Leather Driving Shoes',\n",
       " 'Men Textured Leather Driving Shoes',\n",
       " 'Men Textured Leather Driving Shoes',\n",
       " 'Men UA Charged Breeze Training',\n",
       " 'Men UA Charged Vantage 2 Run',\n",
       " 'Men Leather Derbys',\n",
       " 'Unisex Fusion Nitro Basketball',\n",
       " 'Women Trekking Shoes',\n",
       " 'Women Eternity NITRO Shoes',\n",
       " 'Men Walking Shoes',\n",
       " 'Embellished Chelsea Boots',\n",
       " 'Women Running Shoes',\n",
       " 'Men Leather Driving Shoes',\n",
       " 'Unisex Boston Super Grip Clogs',\n",
       " 'Men Formal Derbys',\n",
       " 'Men Solid Loafers',\n",
       " 'Men Solid Leather Formal Derbys',\n",
       " 'Men Textured Formal Leather Loafers',\n",
       " 'Men Solid Leather Formal Derbys',\n",
       " 'Ustraa black',\n",
       " 'Men Leather Formal Loafers',\n",
       " 'Men Leather Formal Loafers',\n",
       " 'High-Top Block Heeled Boots',\n",
       " 'Women Leather Loafers',\n",
       " 'Embellished Wedge Sandals',\n",
       " 'Leather Block Pumps',\n",
       " 'Leather Slim Heels',\n",
       " 'Women Leather Heeled Boots',\n",
       " 'Printed Leather Sandals with Buckles',\n",
       " 'Leather Block Sandals',\n",
       " 'Leather Party Block Sandals',\n",
       " 'Embellish Mid-Top Heeled Boots',\n",
       " 'Women Ballerinas Flats',\n",
       " 'Women Textured Leather Loafers',\n",
       " 'Women Textured Leather Loafers',\n",
       " 'Women Open Toe Flats',\n",
       " 'Unisex Ok Basketball MT',\n",
       " 'Men GENERATION ZEROGRAND STITCHLITE',\n",
       " 'Men Textured Leather Loafers',\n",
       " 'Men Textured Leather Loafers',\n",
       " 'Men Formal Leather Derby']"
      ]
     },
     "execution_count": 210,
     "metadata": {},
     "output_type": "execute_result"
    }
   ],
   "source": [
    "#extract description\n",
    "su_tags=driver.find_elements_by_xpath(\"//h4[@class='product-product']\")\n",
    "su_tags\n",
    "\n",
    "for i in su_tags:\n",
    "    suma=i.text\n",
    "    descp1.append(suma)\n",
    "descp1"
   ]
  },
  {
   "cell_type": "code",
   "execution_count": 211,
   "id": "74c44282",
   "metadata": {},
   "outputs": [
    {
     "name": "stdout",
     "output_type": "stream",
     "text": [
      "50\n"
     ]
    }
   ],
   "source": [
    "print(len(descp))"
   ]
  },
  {
   "cell_type": "code",
   "execution_count": 212,
   "id": "4d9747a4",
   "metadata": {},
   "outputs": [
    {
     "data": {
      "text/plain": [
       "['Rs. 8999',\n",
       " 'Rs. 8499',\n",
       " 'Rs. 13999',\n",
       " 'Rs. 7999Rs. 9999(20% OFF)',\n",
       " 'Rs. 12999',\n",
       " 'Rs. 10490',\n",
       " 'Rs. 9990',\n",
       " 'Rs. 10990',\n",
       " 'Rs. 9999',\n",
       " 'Rs. 9990',\n",
       " 'Rs. 10990',\n",
       " 'Rs. 10990',\n",
       " 'Rs. 8999',\n",
       " 'Rs. 7999',\n",
       " 'Rs. 7499',\n",
       " 'Rs. 7149Rs. 10999(35% OFF)',\n",
       " 'Rs. 8999',\n",
       " 'Rs. 9749Rs. 12999(25% OFF)',\n",
       " 'Rs. 9999',\n",
       " 'Rs. 10355Rs. 10900(5% OFF)',\n",
       " 'Rs. 7999',\n",
       " 'Rs. 9499',\n",
       " 'Rs. 9290',\n",
       " 'Rs. 9990',\n",
       " 'Rs. 8990',\n",
       " 'Rs. 9499',\n",
       " 'Rs. 8990',\n",
       " 'Rs. 8499Rs. 9999(15% OFF)',\n",
       " 'Rs. 8990',\n",
       " 'Rs. 7490',\n",
       " 'Rs. 7490',\n",
       " 'Rs. 7900',\n",
       " 'Rs. 7505Rs. 9500(21% OFF)',\n",
       " 'Rs. 7999',\n",
       " 'Rs. 7499Rs. 9999(25% OFF)',\n",
       " 'Rs. 7199Rs. 11999(40% OFF)',\n",
       " 'Rs. 8799Rs. 10999(20% OFF)',\n",
       " 'Rs. 9999',\n",
       " 'Rs. 9490',\n",
       " 'Rs. 10500',\n",
       " 'Rs. 7990',\n",
       " 'Rs. 8950',\n",
       " 'Rs. 9990',\n",
       " 'Rs. 9490',\n",
       " 'Rs. 8490',\n",
       " 'Rs. 7999',\n",
       " 'Rs. 11999',\n",
       " 'Rs. 7990',\n",
       " 'Rs. 8490',\n",
       " 'Rs. 7990']"
      ]
     },
     "execution_count": 212,
     "metadata": {},
     "output_type": "execute_result"
    }
   ],
   "source": [
    "#extract price\n",
    "re_tags=driver.find_elements_by_xpath(\"//div[@class='product-price']\")\n",
    "re_tags\n",
    "\n",
    "for i in re_tags:\n",
    "    revv=i.text\n",
    "    prc1.append(revv)\n",
    "prc1"
   ]
  },
  {
   "cell_type": "code",
   "execution_count": 213,
   "id": "b0bd1df7",
   "metadata": {},
   "outputs": [
    {
     "name": "stdout",
     "output_type": "stream",
     "text": [
      "50\n"
     ]
    }
   ],
   "source": [
    "print(len(prc))"
   ]
  },
  {
   "cell_type": "code",
   "execution_count": 214,
   "id": "d4d3b6d2",
   "metadata": {},
   "outputs": [
    {
     "data": {
      "text/html": [
       "<div>\n",
       "<style scoped>\n",
       "    .dataframe tbody tr th:only-of-type {\n",
       "        vertical-align: middle;\n",
       "    }\n",
       "\n",
       "    .dataframe tbody tr th {\n",
       "        vertical-align: top;\n",
       "    }\n",
       "\n",
       "    .dataframe thead th {\n",
       "        text-align: right;\n",
       "    }\n",
       "</style>\n",
       "<table border=\"1\" class=\"dataframe\">\n",
       "  <thead>\n",
       "    <tr style=\"text-align: right;\">\n",
       "      <th></th>\n",
       "      <th>Rating</th>\n",
       "      <th>Summary</th>\n",
       "      <th>Review</th>\n",
       "    </tr>\n",
       "  </thead>\n",
       "  <tbody>\n",
       "    <tr>\n",
       "      <th>0</th>\n",
       "      <td>Bugatti</td>\n",
       "      <td>Men Leather Monks</td>\n",
       "      <td>Rs. 8999</td>\n",
       "    </tr>\n",
       "    <tr>\n",
       "      <th>1</th>\n",
       "      <td>Skechers</td>\n",
       "      <td>Men Go Walk 5 Walking Shoes</td>\n",
       "      <td>Rs. 8499</td>\n",
       "    </tr>\n",
       "    <tr>\n",
       "      <th>2</th>\n",
       "      <td>ADIDAS</td>\n",
       "      <td>Women KarlieKlossX9000 Running</td>\n",
       "      <td>Rs. 13999</td>\n",
       "    </tr>\n",
       "    <tr>\n",
       "      <th>3</th>\n",
       "      <td>Bugatti</td>\n",
       "      <td>Leather Block Heeled Boots</td>\n",
       "      <td>Rs. 7999Rs. 9999(20% OFF)</td>\n",
       "    </tr>\n",
       "    <tr>\n",
       "      <th>4</th>\n",
       "      <td>ADIDAS</td>\n",
       "      <td>Women Dropset Training Shoes</td>\n",
       "      <td>Rs. 12999</td>\n",
       "    </tr>\n",
       "    <tr>\n",
       "      <th>5</th>\n",
       "      <td>Geox</td>\n",
       "      <td>Men Textured Leather Driving Shoes</td>\n",
       "      <td>Rs. 10490</td>\n",
       "    </tr>\n",
       "    <tr>\n",
       "      <th>6</th>\n",
       "      <td>Geox</td>\n",
       "      <td>Men Textured Leather Sneakers</td>\n",
       "      <td>Rs. 9990</td>\n",
       "    </tr>\n",
       "    <tr>\n",
       "      <th>7</th>\n",
       "      <td>Geox</td>\n",
       "      <td>Men Textured Leather Driving Shoes</td>\n",
       "      <td>Rs. 10990</td>\n",
       "    </tr>\n",
       "    <tr>\n",
       "      <th>8</th>\n",
       "      <td>ROSSO BRUNELLO</td>\n",
       "      <td></td>\n",
       "      <td>Rs. 9999</td>\n",
       "    </tr>\n",
       "    <tr>\n",
       "      <th>9</th>\n",
       "      <td>Geox</td>\n",
       "      <td>Men Textured Leather Driving Shoes</td>\n",
       "      <td>Rs. 9990</td>\n",
       "    </tr>\n",
       "    <tr>\n",
       "      <th>10</th>\n",
       "      <td>Geox</td>\n",
       "      <td>Men Textured Leather Driving Shoes</td>\n",
       "      <td>Rs. 10990</td>\n",
       "    </tr>\n",
       "    <tr>\n",
       "      <th>11</th>\n",
       "      <td>Geox</td>\n",
       "      <td>Men Textured Leather Driving Shoes</td>\n",
       "      <td>Rs. 10990</td>\n",
       "    </tr>\n",
       "    <tr>\n",
       "      <th>12</th>\n",
       "      <td>UNDER ARMOUR</td>\n",
       "      <td>Men UA Charged Breeze Training</td>\n",
       "      <td>Rs. 8999</td>\n",
       "    </tr>\n",
       "    <tr>\n",
       "      <th>13</th>\n",
       "      <td>UNDER ARMOUR</td>\n",
       "      <td>Men UA Charged Vantage 2 Run</td>\n",
       "      <td>Rs. 7999</td>\n",
       "    </tr>\n",
       "    <tr>\n",
       "      <th>14</th>\n",
       "      <td>Clarks</td>\n",
       "      <td>Men Leather Derbys</td>\n",
       "      <td>Rs. 7499</td>\n",
       "    </tr>\n",
       "    <tr>\n",
       "      <th>15</th>\n",
       "      <td>PUMA Hoops</td>\n",
       "      <td>Unisex Fusion Nitro Basketball</td>\n",
       "      <td>Rs. 7149Rs. 10999(35% OFF)</td>\n",
       "    </tr>\n",
       "    <tr>\n",
       "      <th>16</th>\n",
       "      <td>Columbia</td>\n",
       "      <td>Women Trekking Shoes</td>\n",
       "      <td>Rs. 8999</td>\n",
       "    </tr>\n",
       "    <tr>\n",
       "      <th>17</th>\n",
       "      <td>Puma</td>\n",
       "      <td>Women Eternity NITRO Shoes</td>\n",
       "      <td>Rs. 9749Rs. 12999(25% OFF)</td>\n",
       "    </tr>\n",
       "    <tr>\n",
       "      <th>18</th>\n",
       "      <td>Bugatti</td>\n",
       "      <td>Men Walking Shoes</td>\n",
       "      <td>Rs. 9999</td>\n",
       "    </tr>\n",
       "    <tr>\n",
       "      <th>19</th>\n",
       "      <td>Saint G</td>\n",
       "      <td>Embellished Chelsea Boots</td>\n",
       "      <td>Rs. 10355Rs. 10900(5% OFF)</td>\n",
       "    </tr>\n",
       "    <tr>\n",
       "      <th>20</th>\n",
       "      <td>ASICS</td>\n",
       "      <td>Women Running Shoes</td>\n",
       "      <td>Rs. 7999</td>\n",
       "    </tr>\n",
       "    <tr>\n",
       "      <th>21</th>\n",
       "      <td>Geox</td>\n",
       "      <td>Men Leather Driving Shoes</td>\n",
       "      <td>Rs. 9499</td>\n",
       "    </tr>\n",
       "    <tr>\n",
       "      <th>22</th>\n",
       "      <td>Birkenstock</td>\n",
       "      <td>Unisex Boston Super Grip Clogs</td>\n",
       "      <td>Rs. 9290</td>\n",
       "    </tr>\n",
       "    <tr>\n",
       "      <th>23</th>\n",
       "      <td>Geox</td>\n",
       "      <td>Men Formal Derbys</td>\n",
       "      <td>Rs. 9990</td>\n",
       "    </tr>\n",
       "    <tr>\n",
       "      <th>24</th>\n",
       "      <td>J.FONTINI</td>\n",
       "      <td>Men Solid Loafers</td>\n",
       "      <td>Rs. 8990</td>\n",
       "    </tr>\n",
       "    <tr>\n",
       "      <th>25</th>\n",
       "      <td>Bugatti</td>\n",
       "      <td>Men Solid Leather Formal Derbys</td>\n",
       "      <td>Rs. 9499</td>\n",
       "    </tr>\n",
       "    <tr>\n",
       "      <th>26</th>\n",
       "      <td>DAVINCHI</td>\n",
       "      <td>Men Textured Formal Leather Loafers</td>\n",
       "      <td>Rs. 8990</td>\n",
       "    </tr>\n",
       "    <tr>\n",
       "      <th>27</th>\n",
       "      <td>Hush Puppies</td>\n",
       "      <td>Men Solid Leather Formal Derbys</td>\n",
       "      <td>Rs. 8499Rs. 9999(15% OFF)</td>\n",
       "    </tr>\n",
       "    <tr>\n",
       "      <th>28</th>\n",
       "      <td>DAVINCHI</td>\n",
       "      <td>Ustraa black</td>\n",
       "      <td>Rs. 8990</td>\n",
       "    </tr>\n",
       "    <tr>\n",
       "      <th>29</th>\n",
       "      <td>J.FONTINI</td>\n",
       "      <td>Men Leather Formal Loafers</td>\n",
       "      <td>Rs. 7490</td>\n",
       "    </tr>\n",
       "    <tr>\n",
       "      <th>30</th>\n",
       "      <td>J.FONTINI</td>\n",
       "      <td>Men Leather Formal Loafers</td>\n",
       "      <td>Rs. 7490</td>\n",
       "    </tr>\n",
       "    <tr>\n",
       "      <th>31</th>\n",
       "      <td>Sole To Soul</td>\n",
       "      <td>High-Top Block Heeled Boots</td>\n",
       "      <td>Rs. 7900</td>\n",
       "    </tr>\n",
       "    <tr>\n",
       "      <th>32</th>\n",
       "      <td>Saint G</td>\n",
       "      <td>Women Leather Loafers</td>\n",
       "      <td>Rs. 7505Rs. 9500(21% OFF)</td>\n",
       "    </tr>\n",
       "    <tr>\n",
       "      <th>33</th>\n",
       "      <td>ALDO</td>\n",
       "      <td>Embellished Wedge Sandals</td>\n",
       "      <td>Rs. 7999</td>\n",
       "    </tr>\n",
       "    <tr>\n",
       "      <th>34</th>\n",
       "      <td>ECCO</td>\n",
       "      <td>Leather Block Pumps</td>\n",
       "      <td>Rs. 7499Rs. 9999(25% OFF)</td>\n",
       "    </tr>\n",
       "    <tr>\n",
       "      <th>35</th>\n",
       "      <td>ALDO</td>\n",
       "      <td>Leather Slim Heels</td>\n",
       "      <td>Rs. 7199Rs. 11999(40% OFF)</td>\n",
       "    </tr>\n",
       "    <tr>\n",
       "      <th>36</th>\n",
       "      <td>Bugatti</td>\n",
       "      <td>Women Leather Heeled Boots</td>\n",
       "      <td>Rs. 8799Rs. 10999(20% OFF)</td>\n",
       "    </tr>\n",
       "    <tr>\n",
       "      <th>37</th>\n",
       "      <td>Bugatti</td>\n",
       "      <td>Printed Leather Sandals with Buckles</td>\n",
       "      <td>Rs. 9999</td>\n",
       "    </tr>\n",
       "    <tr>\n",
       "      <th>38</th>\n",
       "      <td>Geox</td>\n",
       "      <td>Leather Block Sandals</td>\n",
       "      <td>Rs. 9490</td>\n",
       "    </tr>\n",
       "    <tr>\n",
       "      <th>39</th>\n",
       "      <td>Saint G</td>\n",
       "      <td>Leather Party Block Sandals</td>\n",
       "      <td>Rs. 10500</td>\n",
       "    </tr>\n",
       "    <tr>\n",
       "      <th>40</th>\n",
       "      <td>MANGO</td>\n",
       "      <td>Embellish Mid-Top Heeled Boots</td>\n",
       "      <td>Rs. 7990</td>\n",
       "    </tr>\n",
       "    <tr>\n",
       "      <th>41</th>\n",
       "      <td>Geox</td>\n",
       "      <td>Women Ballerinas Flats</td>\n",
       "      <td>Rs. 8950</td>\n",
       "    </tr>\n",
       "    <tr>\n",
       "      <th>42</th>\n",
       "      <td>Geox</td>\n",
       "      <td>Women Textured Leather Loafers</td>\n",
       "      <td>Rs. 9990</td>\n",
       "    </tr>\n",
       "    <tr>\n",
       "      <th>43</th>\n",
       "      <td>Geox</td>\n",
       "      <td>Women Textured Leather Loafers</td>\n",
       "      <td>Rs. 9490</td>\n",
       "    </tr>\n",
       "    <tr>\n",
       "      <th>44</th>\n",
       "      <td>Geox</td>\n",
       "      <td>Women Open Toe Flats</td>\n",
       "      <td>Rs. 8490</td>\n",
       "    </tr>\n",
       "    <tr>\n",
       "      <th>45</th>\n",
       "      <td>Onitsuka Tiger</td>\n",
       "      <td>Unisex Ok Basketball MT</td>\n",
       "      <td>Rs. 7999</td>\n",
       "    </tr>\n",
       "    <tr>\n",
       "      <th>46</th>\n",
       "      <td>Cole Haan</td>\n",
       "      <td>Men GENERATION ZEROGRAND STITCHLITE</td>\n",
       "      <td>Rs. 11999</td>\n",
       "    </tr>\n",
       "    <tr>\n",
       "      <th>47</th>\n",
       "      <td>J.FONTINI</td>\n",
       "      <td>Men Textured Leather Loafers</td>\n",
       "      <td>Rs. 7990</td>\n",
       "    </tr>\n",
       "    <tr>\n",
       "      <th>48</th>\n",
       "      <td>J.FONTINI</td>\n",
       "      <td>Men Textured Leather Loafers</td>\n",
       "      <td>Rs. 8490</td>\n",
       "    </tr>\n",
       "    <tr>\n",
       "      <th>49</th>\n",
       "      <td>Heel &amp; Buckle London</td>\n",
       "      <td>Men Formal Leather Derby</td>\n",
       "      <td>Rs. 7990</td>\n",
       "    </tr>\n",
       "  </tbody>\n",
       "</table>\n",
       "</div>"
      ],
      "text/plain": [
       "                  Rating                               Summary  \\\n",
       "0                Bugatti                     Men Leather Monks   \n",
       "1               Skechers           Men Go Walk 5 Walking Shoes   \n",
       "2                 ADIDAS        Women KarlieKlossX9000 Running   \n",
       "3                Bugatti            Leather Block Heeled Boots   \n",
       "4                 ADIDAS          Women Dropset Training Shoes   \n",
       "5                   Geox    Men Textured Leather Driving Shoes   \n",
       "6                   Geox         Men Textured Leather Sneakers   \n",
       "7                   Geox    Men Textured Leather Driving Shoes   \n",
       "8         ROSSO BRUNELLO                                         \n",
       "9                   Geox    Men Textured Leather Driving Shoes   \n",
       "10                  Geox    Men Textured Leather Driving Shoes   \n",
       "11                  Geox    Men Textured Leather Driving Shoes   \n",
       "12          UNDER ARMOUR        Men UA Charged Breeze Training   \n",
       "13          UNDER ARMOUR          Men UA Charged Vantage 2 Run   \n",
       "14                Clarks                    Men Leather Derbys   \n",
       "15            PUMA Hoops        Unisex Fusion Nitro Basketball   \n",
       "16              Columbia                  Women Trekking Shoes   \n",
       "17                  Puma            Women Eternity NITRO Shoes   \n",
       "18               Bugatti                     Men Walking Shoes   \n",
       "19               Saint G             Embellished Chelsea Boots   \n",
       "20                 ASICS                   Women Running Shoes   \n",
       "21                  Geox             Men Leather Driving Shoes   \n",
       "22           Birkenstock        Unisex Boston Super Grip Clogs   \n",
       "23                  Geox                     Men Formal Derbys   \n",
       "24             J.FONTINI                     Men Solid Loafers   \n",
       "25               Bugatti       Men Solid Leather Formal Derbys   \n",
       "26              DAVINCHI   Men Textured Formal Leather Loafers   \n",
       "27          Hush Puppies       Men Solid Leather Formal Derbys   \n",
       "28              DAVINCHI                          Ustraa black   \n",
       "29             J.FONTINI            Men Leather Formal Loafers   \n",
       "30             J.FONTINI            Men Leather Formal Loafers   \n",
       "31          Sole To Soul           High-Top Block Heeled Boots   \n",
       "32               Saint G                 Women Leather Loafers   \n",
       "33                  ALDO             Embellished Wedge Sandals   \n",
       "34                  ECCO                   Leather Block Pumps   \n",
       "35                  ALDO                    Leather Slim Heels   \n",
       "36               Bugatti            Women Leather Heeled Boots   \n",
       "37               Bugatti  Printed Leather Sandals with Buckles   \n",
       "38                  Geox                 Leather Block Sandals   \n",
       "39               Saint G           Leather Party Block Sandals   \n",
       "40                 MANGO        Embellish Mid-Top Heeled Boots   \n",
       "41                  Geox                Women Ballerinas Flats   \n",
       "42                  Geox        Women Textured Leather Loafers   \n",
       "43                  Geox        Women Textured Leather Loafers   \n",
       "44                  Geox                  Women Open Toe Flats   \n",
       "45        Onitsuka Tiger               Unisex Ok Basketball MT   \n",
       "46             Cole Haan   Men GENERATION ZEROGRAND STITCHLITE   \n",
       "47             J.FONTINI          Men Textured Leather Loafers   \n",
       "48             J.FONTINI          Men Textured Leather Loafers   \n",
       "49  Heel & Buckle London              Men Formal Leather Derby   \n",
       "\n",
       "                        Review  \n",
       "0                     Rs. 8999  \n",
       "1                     Rs. 8499  \n",
       "2                    Rs. 13999  \n",
       "3    Rs. 7999Rs. 9999(20% OFF)  \n",
       "4                    Rs. 12999  \n",
       "5                    Rs. 10490  \n",
       "6                     Rs. 9990  \n",
       "7                    Rs. 10990  \n",
       "8                     Rs. 9999  \n",
       "9                     Rs. 9990  \n",
       "10                   Rs. 10990  \n",
       "11                   Rs. 10990  \n",
       "12                    Rs. 8999  \n",
       "13                    Rs. 7999  \n",
       "14                    Rs. 7499  \n",
       "15  Rs. 7149Rs. 10999(35% OFF)  \n",
       "16                    Rs. 8999  \n",
       "17  Rs. 9749Rs. 12999(25% OFF)  \n",
       "18                    Rs. 9999  \n",
       "19  Rs. 10355Rs. 10900(5% OFF)  \n",
       "20                    Rs. 7999  \n",
       "21                    Rs. 9499  \n",
       "22                    Rs. 9290  \n",
       "23                    Rs. 9990  \n",
       "24                    Rs. 8990  \n",
       "25                    Rs. 9499  \n",
       "26                    Rs. 8990  \n",
       "27   Rs. 8499Rs. 9999(15% OFF)  \n",
       "28                    Rs. 8990  \n",
       "29                    Rs. 7490  \n",
       "30                    Rs. 7490  \n",
       "31                    Rs. 7900  \n",
       "32   Rs. 7505Rs. 9500(21% OFF)  \n",
       "33                    Rs. 7999  \n",
       "34   Rs. 7499Rs. 9999(25% OFF)  \n",
       "35  Rs. 7199Rs. 11999(40% OFF)  \n",
       "36  Rs. 8799Rs. 10999(20% OFF)  \n",
       "37                    Rs. 9999  \n",
       "38                    Rs. 9490  \n",
       "39                   Rs. 10500  \n",
       "40                    Rs. 7990  \n",
       "41                    Rs. 8950  \n",
       "42                    Rs. 9990  \n",
       "43                    Rs. 9490  \n",
       "44                    Rs. 8490  \n",
       "45                    Rs. 7999  \n",
       "46                   Rs. 11999  \n",
       "47                    Rs. 7990  \n",
       "48                    Rs. 8490  \n",
       "49                    Rs. 7990  "
      ]
     },
     "execution_count": 214,
     "metadata": {},
     "output_type": "execute_result"
    }
   ],
   "source": [
    "shoe=pd.DataFrame({})\n",
    "shoe['Rating']=name1\n",
    "shoe['Summary']=descp1\n",
    "shoe['Review']=prc1\n",
    "shoe"
   ]
  },
  {
   "cell_type": "code",
   "execution_count": 215,
   "id": "71f3a2b5",
   "metadata": {},
   "outputs": [],
   "source": [
    "driver.close()"
   ]
  },
  {
   "cell_type": "code",
   "execution_count": null,
   "id": "15bb11db",
   "metadata": {},
   "outputs": [],
   "source": []
  },
  {
   "cell_type": "markdown",
   "id": "c3b72c41",
   "metadata": {},
   "source": [
    "# Q8: Go to webpage https://www.amazon.in/\n",
    "Enter “Laptop” in the search field and then click the search icon.\n",
    "Then set CPU Type filter to “Intel Core i7” and “Intel Core i9” as shown in the below image:\n",
    "After setting the filters scrape first 10 laptops data. You have to scrape 3 attributesfor each laptop:\n",
    "1. Title\n",
    "2. Ratings\n",
    "3. Price\n",
    "As shown in the below image as the tick marked attributes."
   ]
  },
  {
   "cell_type": "code",
   "execution_count": 216,
   "id": "a5dc9ac6",
   "metadata": {},
   "outputs": [],
   "source": [
    "driver=webdriver.Chrome(\"chromedriver.exe\")"
   ]
  },
  {
   "cell_type": "code",
   "execution_count": 217,
   "id": "89d2e760",
   "metadata": {},
   "outputs": [],
   "source": [
    "driver.get(\"https://www.amazon.in/\")"
   ]
  },
  {
   "cell_type": "code",
   "execution_count": 218,
   "id": "d00b578c",
   "metadata": {},
   "outputs": [],
   "source": [
    "#finding element for search bar\n",
    "search_f=driver.find_element_by_xpath(\"/html/body/div[1]/header/div/div[1]/div[2]/div/form/div[2]/div[1]/input\")\n",
    "search_f.send_keys(\"laptop\")"
   ]
  },
  {
   "cell_type": "code",
   "execution_count": 219,
   "id": "059cc695",
   "metadata": {},
   "outputs": [],
   "source": [
    "search_button=driver.find_element_by_xpath('/html/body/div[1]/header/div/div[1]/div[2]/div/form/div[3]/div/span/input')\n",
    "search_button.click()"
   ]
  },
  {
   "cell_type": "markdown",
   "id": "6c60db12",
   "metadata": {},
   "source": [
    "Selecting Core I7 and Core I9"
   ]
  },
  {
   "cell_type": "code",
   "execution_count": 220,
   "id": "05c76192",
   "metadata": {},
   "outputs": [],
   "source": [
    "search_button=driver.find_element_by_xpath('/html/body/div[1]/div[2]/div[1]/div[2]/div/div[3]/span/div[1]/div/div/div[6]/ul[4]/li[12]/span/a/div/label/i')\n",
    "search_button=driver.find_element_by_xpath('/html/body/div[1]/div[2]/div[1]/div[2]/div/div[3]/span/div[1]/div/div/div[6]/ul[4]/li[13]/span/a/div/label/i')\n",
    "search_button.click()"
   ]
  },
  {
   "cell_type": "markdown",
   "id": "18fc061c",
   "metadata": {},
   "source": [
    "I can select only one at a time either I7 or I9 because on clicking on check box and submit the page is changing"
   ]
  },
  {
   "cell_type": "code",
   "execution_count": 221,
   "id": "de83b13e",
   "metadata": {},
   "outputs": [],
   "source": [
    "title=[]\n",
    "ratg=[]\n",
    "prc=[]"
   ]
  },
  {
   "cell_type": "code",
   "execution_count": 222,
   "id": "755d682d",
   "metadata": {},
   "outputs": [
    {
     "data": {
      "text/plain": [
       "[<selenium.webdriver.remote.webelement.WebElement (session=\"953f113ec9be41f172df7a2e9b3075eb\", element=\"2617b4af-d80a-409b-b56a-a55128da2f1e\")>,\n",
       " <selenium.webdriver.remote.webelement.WebElement (session=\"953f113ec9be41f172df7a2e9b3075eb\", element=\"e495b242-8869-4890-8d05-3555a37bf243\")>]"
      ]
     },
     "execution_count": 222,
     "metadata": {},
     "output_type": "execute_result"
    }
   ],
   "source": [
    "#extract titles\n",
    "t_tags=driver.find_elements_by_xpath(\"//h2[@class='a-size-mini a-spacing-none a-color-base s-line-clamp-2']\")\n",
    "t_tags[0:2]"
   ]
  },
  {
   "cell_type": "code",
   "execution_count": 223,
   "id": "a11ad784",
   "metadata": {},
   "outputs": [
    {
     "data": {
      "text/plain": [
       "['Acer Predator Helios 300 11th Gen Intel Core i9-11900H 15.6\" (39.62cms) FHD IPS Gaming Laptop (16 GB/1TB SSD/Win 11 Home/6 GB Graphics/NVIDIA GeForce RTX 3060/360 Hz, Black, 2.3 kg) PH315-54',\n",
       " 'Acer Predator Helios 300 11th Gen Intel Core i9-11900H 15.6\" (39.62cms) FHD IPS Gaming Laptop (16 GB/1TB SSD/Win 11 Home/6 GB Graphics/NVIDIA GeForce RTX 3060/360 Hz, Black, 2.3 kg) PH315-54']"
      ]
     },
     "execution_count": 223,
     "metadata": {},
     "output_type": "execute_result"
    }
   ],
   "source": [
    "for i in t_tags:\n",
    "    titl=i.text\n",
    "    title.append(titl)\n",
    "title[0:2]"
   ]
  },
  {
   "cell_type": "code",
   "execution_count": 224,
   "id": "b672265a",
   "metadata": {},
   "outputs": [
    {
     "data": {
      "text/plain": [
       "['6', '6', '1', '11']"
      ]
     },
     "execution_count": 224,
     "metadata": {},
     "output_type": "execute_result"
    }
   ],
   "source": [
    "#extract rating\n",
    "su_tags=driver.find_elements_by_xpath(\"//div[@class='a-row a-size-small']\")\n",
    "su_tags\n",
    "\n",
    "for i in su_tags:\n",
    "    suma=i.text\n",
    "    ratg.append(suma)\n",
    "ratg[0:4]"
   ]
  },
  {
   "cell_type": "code",
   "execution_count": 225,
   "id": "3c63d2a4",
   "metadata": {},
   "outputs": [
    {
     "data": {
      "text/plain": [
       "['₹1,44,990\\n₹1,69,999 (15% off)',\n",
       " '₹1,44,990\\n₹1,69,999 (15% off)',\n",
       " '₹3,01,521\\n₹3,76,990 (20% off)',\n",
       " '₹2,02,990\\n₹2,45,429 (17% off)']"
      ]
     },
     "execution_count": 225,
     "metadata": {},
     "output_type": "execute_result"
    }
   ],
   "source": [
    "#extract price\n",
    "re_tags=driver.find_elements_by_xpath(\"//div[@class='a-row a-size-base a-color-base']\")\n",
    "re_tags\n",
    "\n",
    "for i in re_tags:\n",
    "    revv=i.text\n",
    "    prc.append(revv)\n",
    "prc[0:4]"
   ]
  },
  {
   "cell_type": "code",
   "execution_count": 226,
   "id": "80c24d45",
   "metadata": {},
   "outputs": [
    {
     "name": "stdout",
     "output_type": "stream",
     "text": [
      "12 6 11\n"
     ]
    }
   ],
   "source": [
    "print(len(title),len(ratg),len(prc))"
   ]
  },
  {
   "cell_type": "code",
   "execution_count": null,
   "id": "283ed7e7",
   "metadata": {},
   "outputs": [],
   "source": [
    "snk=pd.DataFrame({})\n",
    "snk['Name']=title\n",
    "snk['Rating']=ratg\n",
    "snk['Price']=prc\n",
    "snk.head(10)"
   ]
  },
  {
   "cell_type": "code",
   "execution_count": 228,
   "id": "f0a18adb",
   "metadata": {},
   "outputs": [],
   "source": [
    "driver.close()"
   ]
  },
  {
   "cell_type": "code",
   "execution_count": null,
   "id": "07c10a6b",
   "metadata": {},
   "outputs": [],
   "source": []
  },
  {
   "cell_type": "markdown",
   "id": "5fdfcafc",
   "metadata": {},
   "source": [
    "# Q9: Write a python program to scrape data for first 10 job results for Data Scientist Designation in Noida location. You have to scrape company name, No. of days ago when job was posted, Rating of the company. This task will be done in following steps:\n",
    "1. First get the webpage https://www.ambitionbox.com/\n",
    "2. Click on the Job option as shown in the image\n",
    "3. After reaching to the next webpage, In place of “Search by Designations, Companies, Skills” enter “Data Scientist” and click on search button.\n",
    "4. You will reach to the following web page click on location and in place of “Search location” enter “Noida” and select location “Noida”.\n",
    "5. Then scrape the data for the first 10 jobs results you get on the above shown page.\n",
    "6. Finally create a dataframe of the scraped data."
   ]
  },
  {
   "cell_type": "code",
   "execution_count": 229,
   "id": "b8000f6f",
   "metadata": {},
   "outputs": [],
   "source": [
    "driver=webdriver.Chrome(\"chromedriver.exe\")"
   ]
  },
  {
   "cell_type": "code",
   "execution_count": 230,
   "id": "01efe6f7",
   "metadata": {},
   "outputs": [],
   "source": [
    "driver.get(\"https://www.ambitionbox.com/\")"
   ]
  },
  {
   "cell_type": "markdown",
   "id": "0ae0a14d",
   "metadata": {},
   "source": [
    "CLicking the job option"
   ]
  },
  {
   "cell_type": "code",
   "execution_count": 231,
   "id": "26a708b4",
   "metadata": {},
   "outputs": [],
   "source": [
    "search_button=driver.find_element_by_xpath('/html/body/div[1]/nav/nav/a[6]')\n",
    "search_button.click()"
   ]
  },
  {
   "cell_type": "markdown",
   "id": "56e3759e",
   "metadata": {},
   "source": [
    "Selecting the Data scientist in search "
   ]
  },
  {
   "cell_type": "code",
   "execution_count": 232,
   "id": "36ac939e",
   "metadata": {},
   "outputs": [],
   "source": [
    "search_field=driver.find_element_by_xpath(\"/html/body/div/div/div/div[2]/div[1]/div[1]/div/div/div/div/span/input\")\n",
    "search_field.send_keys(\"Data Scientist\")"
   ]
  },
  {
   "cell_type": "code",
   "execution_count": 233,
   "id": "2a926f0f",
   "metadata": {},
   "outputs": [],
   "source": [
    "search_button=driver.find_element_by_xpath('/html/body/div/div/div/div[2]/div[1]/div[1]/div/div/div/button')\n",
    "search_button.click()"
   ]
  },
  {
   "cell_type": "code",
   "execution_count": 235,
   "id": "340aeef1",
   "metadata": {},
   "outputs": [],
   "source": [
    "search_button1=driver.find_element_by_xpath('/html/body/div/div/div/div[2]/div[1]/div[2]/div[1]/div/div/div/div[2]/div[1]/i')\n",
    "search_button1.click()"
   ]
  },
  {
   "cell_type": "markdown",
   "id": "1f66efc2",
   "metadata": {},
   "source": [
    "selecting noida option from radio button"
   ]
  },
  {
   "cell_type": "code",
   "execution_count": 236,
   "id": "91ec8731",
   "metadata": {},
   "outputs": [],
   "source": [
    "search_button2=driver.find_element_by_xpath('/html/body/div/div/div/div[2]/div[1]/div[2]/div[1]/div/div/div/div[2]/div[2]/div/div[2]/input')\n",
    "search_button2.send_keys(\"Noida\")\n",
    "search_button2.click()"
   ]
  },
  {
   "cell_type": "code",
   "execution_count": 237,
   "id": "7c53ba89",
   "metadata": {},
   "outputs": [],
   "source": [
    "search_button1=driver.find_element_by_xpath('/html/body/div/div/div/div[2]/div[1]/div[2]/div[1]/div/div/div/div[2]/div[2]/div/div[3]/div[1]/div[1]/div/label')\n",
    "search_button1.click()"
   ]
  },
  {
   "cell_type": "code",
   "execution_count": 238,
   "id": "f1feb563",
   "metadata": {},
   "outputs": [],
   "source": [
    "name=[]\n",
    "dayy=[]\n",
    "rating=[]"
   ]
  },
  {
   "cell_type": "code",
   "execution_count": 239,
   "id": "d6cb1765",
   "metadata": {},
   "outputs": [
    {
     "ename": "StaleElementReferenceException",
     "evalue": "Message: stale element reference: element is not attached to the page document\n  (Session info: chrome=101.0.4951.41)\nStacktrace:\nBacktrace:\n\tOrdinal0 [0x00CCA8E3+2402531]\n\tOrdinal0 [0x00C5B011+1945617]\n\tOrdinal0 [0x00B4C748+837448]\n\tOrdinal0 [0x00B4F154+848212]\n\tOrdinal0 [0x00B4F012+847890]\n\tOrdinal0 [0x00B4F2A0+848544]\n\tOrdinal0 [0x00B74E0F+1003023]\n\tOrdinal0 [0x00B942AC+1131180]\n\tOrdinal0 [0x00B6FAA4+981668]\n\tOrdinal0 [0x00B944C4+1131716]\n\tOrdinal0 [0x00BA46C2+1197762]\n\tOrdinal0 [0x00B940C6+1130694]\n\tOrdinal0 [0x00B6E676+976502]\n\tOrdinal0 [0x00B6F586+980358]\n\tGetHandleVerifier [0x00F3BC42+2511938]\n\tGetHandleVerifier [0x00F2ED6F+2458991]\n\tGetHandleVerifier [0x00D631AA+575914]\n\tGetHandleVerifier [0x00D61FA6+571302]\n\tOrdinal0 [0x00C61DEB+1973739]\n\tOrdinal0 [0x00C66778+1992568]\n\tOrdinal0 [0x00C66865+1992805]\n\tOrdinal0 [0x00C6FA41+2030145]\n\tBaseThreadInitThunk [0x74F87BA9+25]\n\tRtlInitializeExceptionChain [0x7728B7DB+107]\n\tRtlClearBits [0x7728B75F+191]\n",
     "output_type": "error",
     "traceback": [
      "\u001b[1;31m---------------------------------------------------------------------------\u001b[0m",
      "\u001b[1;31mStaleElementReferenceException\u001b[0m            Traceback (most recent call last)",
      "\u001b[1;32m<ipython-input-239-0757d27f79c8>\u001b[0m in \u001b[0;36m<module>\u001b[1;34m\u001b[0m\n\u001b[0;32m      4\u001b[0m \u001b[1;33m\u001b[0m\u001b[0m\n\u001b[0;32m      5\u001b[0m \u001b[1;32mfor\u001b[0m \u001b[0mi\u001b[0m \u001b[1;32min\u001b[0m \u001b[0mname_tags\u001b[0m\u001b[1;33m:\u001b[0m\u001b[1;33m\u001b[0m\u001b[1;33m\u001b[0m\u001b[0m\n\u001b[1;32m----> 6\u001b[1;33m     \u001b[0mratt\u001b[0m\u001b[1;33m=\u001b[0m\u001b[0mi\u001b[0m\u001b[1;33m.\u001b[0m\u001b[0mtext\u001b[0m\u001b[1;33m\u001b[0m\u001b[1;33m\u001b[0m\u001b[0m\n\u001b[0m\u001b[0;32m      7\u001b[0m     \u001b[0mname\u001b[0m\u001b[1;33m.\u001b[0m\u001b[0mappend\u001b[0m\u001b[1;33m(\u001b[0m\u001b[0mratt\u001b[0m\u001b[1;33m)\u001b[0m\u001b[1;33m\u001b[0m\u001b[1;33m\u001b[0m\u001b[0m\n\u001b[0;32m      8\u001b[0m \u001b[0mname\u001b[0m\u001b[1;33m\u001b[0m\u001b[1;33m\u001b[0m\u001b[0m\n",
      "\u001b[1;32m~\\anaconda3\\lib\\site-packages\\selenium\\webdriver\\remote\\webelement.py\u001b[0m in \u001b[0;36mtext\u001b[1;34m(self)\u001b[0m\n\u001b[0;32m     75\u001b[0m     \u001b[1;32mdef\u001b[0m \u001b[0mtext\u001b[0m\u001b[1;33m(\u001b[0m\u001b[0mself\u001b[0m\u001b[1;33m)\u001b[0m \u001b[1;33m->\u001b[0m \u001b[0mstr\u001b[0m\u001b[1;33m:\u001b[0m\u001b[1;33m\u001b[0m\u001b[1;33m\u001b[0m\u001b[0m\n\u001b[0;32m     76\u001b[0m         \u001b[1;34m\"\"\"The text of the element.\"\"\"\u001b[0m\u001b[1;33m\u001b[0m\u001b[1;33m\u001b[0m\u001b[0m\n\u001b[1;32m---> 77\u001b[1;33m         \u001b[1;32mreturn\u001b[0m \u001b[0mself\u001b[0m\u001b[1;33m.\u001b[0m\u001b[0m_execute\u001b[0m\u001b[1;33m(\u001b[0m\u001b[0mCommand\u001b[0m\u001b[1;33m.\u001b[0m\u001b[0mGET_ELEMENT_TEXT\u001b[0m\u001b[1;33m)\u001b[0m\u001b[1;33m[\u001b[0m\u001b[1;34m'value'\u001b[0m\u001b[1;33m]\u001b[0m\u001b[1;33m\u001b[0m\u001b[1;33m\u001b[0m\u001b[0m\n\u001b[0m\u001b[0;32m     78\u001b[0m \u001b[1;33m\u001b[0m\u001b[0m\n\u001b[0;32m     79\u001b[0m     \u001b[1;32mdef\u001b[0m \u001b[0mclick\u001b[0m\u001b[1;33m(\u001b[0m\u001b[0mself\u001b[0m\u001b[1;33m)\u001b[0m \u001b[1;33m->\u001b[0m \u001b[1;32mNone\u001b[0m\u001b[1;33m:\u001b[0m\u001b[1;33m\u001b[0m\u001b[1;33m\u001b[0m\u001b[0m\n",
      "\u001b[1;32m~\\anaconda3\\lib\\site-packages\\selenium\\webdriver\\remote\\webelement.py\u001b[0m in \u001b[0;36m_execute\u001b[1;34m(self, command, params)\u001b[0m\n\u001b[0;32m    708\u001b[0m             \u001b[0mparams\u001b[0m \u001b[1;33m=\u001b[0m \u001b[1;33m{\u001b[0m\u001b[1;33m}\u001b[0m\u001b[1;33m\u001b[0m\u001b[1;33m\u001b[0m\u001b[0m\n\u001b[0;32m    709\u001b[0m         \u001b[0mparams\u001b[0m\u001b[1;33m[\u001b[0m\u001b[1;34m'id'\u001b[0m\u001b[1;33m]\u001b[0m \u001b[1;33m=\u001b[0m \u001b[0mself\u001b[0m\u001b[1;33m.\u001b[0m\u001b[0m_id\u001b[0m\u001b[1;33m\u001b[0m\u001b[1;33m\u001b[0m\u001b[0m\n\u001b[1;32m--> 710\u001b[1;33m         \u001b[1;32mreturn\u001b[0m \u001b[0mself\u001b[0m\u001b[1;33m.\u001b[0m\u001b[0m_parent\u001b[0m\u001b[1;33m.\u001b[0m\u001b[0mexecute\u001b[0m\u001b[1;33m(\u001b[0m\u001b[0mcommand\u001b[0m\u001b[1;33m,\u001b[0m \u001b[0mparams\u001b[0m\u001b[1;33m)\u001b[0m\u001b[1;33m\u001b[0m\u001b[1;33m\u001b[0m\u001b[0m\n\u001b[0m\u001b[0;32m    711\u001b[0m \u001b[1;33m\u001b[0m\u001b[0m\n\u001b[0;32m    712\u001b[0m     \u001b[1;32mdef\u001b[0m \u001b[0mfind_element\u001b[0m\u001b[1;33m(\u001b[0m\u001b[0mself\u001b[0m\u001b[1;33m,\u001b[0m \u001b[0mby\u001b[0m\u001b[1;33m=\u001b[0m\u001b[0mBy\u001b[0m\u001b[1;33m.\u001b[0m\u001b[0mID\u001b[0m\u001b[1;33m,\u001b[0m \u001b[0mvalue\u001b[0m\u001b[1;33m=\u001b[0m\u001b[1;32mNone\u001b[0m\u001b[1;33m)\u001b[0m\u001b[1;33m:\u001b[0m\u001b[1;33m\u001b[0m\u001b[1;33m\u001b[0m\u001b[0m\n",
      "\u001b[1;32m~\\anaconda3\\lib\\site-packages\\selenium\\webdriver\\remote\\webdriver.py\u001b[0m in \u001b[0;36mexecute\u001b[1;34m(self, driver_command, params)\u001b[0m\n\u001b[0;32m    423\u001b[0m         \u001b[0mresponse\u001b[0m \u001b[1;33m=\u001b[0m \u001b[0mself\u001b[0m\u001b[1;33m.\u001b[0m\u001b[0mcommand_executor\u001b[0m\u001b[1;33m.\u001b[0m\u001b[0mexecute\u001b[0m\u001b[1;33m(\u001b[0m\u001b[0mdriver_command\u001b[0m\u001b[1;33m,\u001b[0m \u001b[0mparams\u001b[0m\u001b[1;33m)\u001b[0m\u001b[1;33m\u001b[0m\u001b[1;33m\u001b[0m\u001b[0m\n\u001b[0;32m    424\u001b[0m         \u001b[1;32mif\u001b[0m \u001b[0mresponse\u001b[0m\u001b[1;33m:\u001b[0m\u001b[1;33m\u001b[0m\u001b[1;33m\u001b[0m\u001b[0m\n\u001b[1;32m--> 425\u001b[1;33m             \u001b[0mself\u001b[0m\u001b[1;33m.\u001b[0m\u001b[0merror_handler\u001b[0m\u001b[1;33m.\u001b[0m\u001b[0mcheck_response\u001b[0m\u001b[1;33m(\u001b[0m\u001b[0mresponse\u001b[0m\u001b[1;33m)\u001b[0m\u001b[1;33m\u001b[0m\u001b[1;33m\u001b[0m\u001b[0m\n\u001b[0m\u001b[0;32m    426\u001b[0m             response['value'] = self._unwrap_value(\n\u001b[0;32m    427\u001b[0m                 response.get('value', None))\n",
      "\u001b[1;32m~\\anaconda3\\lib\\site-packages\\selenium\\webdriver\\remote\\errorhandler.py\u001b[0m in \u001b[0;36mcheck_response\u001b[1;34m(self, response)\u001b[0m\n\u001b[0;32m    245\u001b[0m                 \u001b[0malert_text\u001b[0m \u001b[1;33m=\u001b[0m \u001b[0mvalue\u001b[0m\u001b[1;33m[\u001b[0m\u001b[1;34m'alert'\u001b[0m\u001b[1;33m]\u001b[0m\u001b[1;33m.\u001b[0m\u001b[0mget\u001b[0m\u001b[1;33m(\u001b[0m\u001b[1;34m'text'\u001b[0m\u001b[1;33m)\u001b[0m\u001b[1;33m\u001b[0m\u001b[1;33m\u001b[0m\u001b[0m\n\u001b[0;32m    246\u001b[0m             \u001b[1;32mraise\u001b[0m \u001b[0mexception_class\u001b[0m\u001b[1;33m(\u001b[0m\u001b[0mmessage\u001b[0m\u001b[1;33m,\u001b[0m \u001b[0mscreen\u001b[0m\u001b[1;33m,\u001b[0m \u001b[0mstacktrace\u001b[0m\u001b[1;33m,\u001b[0m \u001b[0malert_text\u001b[0m\u001b[1;33m)\u001b[0m  \u001b[1;31m# type: ignore[call-arg]  # mypy is not smart enough here\u001b[0m\u001b[1;33m\u001b[0m\u001b[1;33m\u001b[0m\u001b[0m\n\u001b[1;32m--> 247\u001b[1;33m         \u001b[1;32mraise\u001b[0m \u001b[0mexception_class\u001b[0m\u001b[1;33m(\u001b[0m\u001b[0mmessage\u001b[0m\u001b[1;33m,\u001b[0m \u001b[0mscreen\u001b[0m\u001b[1;33m,\u001b[0m \u001b[0mstacktrace\u001b[0m\u001b[1;33m)\u001b[0m\u001b[1;33m\u001b[0m\u001b[1;33m\u001b[0m\u001b[0m\n\u001b[0m\u001b[0;32m    248\u001b[0m \u001b[1;33m\u001b[0m\u001b[0m\n\u001b[0;32m    249\u001b[0m     \u001b[1;32mdef\u001b[0m \u001b[0m_value_or_default\u001b[0m\u001b[1;33m(\u001b[0m\u001b[0mself\u001b[0m\u001b[1;33m,\u001b[0m \u001b[0mobj\u001b[0m\u001b[1;33m:\u001b[0m \u001b[0mMapping\u001b[0m\u001b[1;33m[\u001b[0m\u001b[0m_KT\u001b[0m\u001b[1;33m,\u001b[0m \u001b[0m_VT\u001b[0m\u001b[1;33m]\u001b[0m\u001b[1;33m,\u001b[0m \u001b[0mkey\u001b[0m\u001b[1;33m:\u001b[0m \u001b[0m_KT\u001b[0m\u001b[1;33m,\u001b[0m \u001b[0mdefault\u001b[0m\u001b[1;33m:\u001b[0m \u001b[0m_VT\u001b[0m\u001b[1;33m)\u001b[0m \u001b[1;33m->\u001b[0m \u001b[0m_VT\u001b[0m\u001b[1;33m:\u001b[0m\u001b[1;33m\u001b[0m\u001b[1;33m\u001b[0m\u001b[0m\n",
      "\u001b[1;31mStaleElementReferenceException\u001b[0m: Message: stale element reference: element is not attached to the page document\n  (Session info: chrome=101.0.4951.41)\nStacktrace:\nBacktrace:\n\tOrdinal0 [0x00CCA8E3+2402531]\n\tOrdinal0 [0x00C5B011+1945617]\n\tOrdinal0 [0x00B4C748+837448]\n\tOrdinal0 [0x00B4F154+848212]\n\tOrdinal0 [0x00B4F012+847890]\n\tOrdinal0 [0x00B4F2A0+848544]\n\tOrdinal0 [0x00B74E0F+1003023]\n\tOrdinal0 [0x00B942AC+1131180]\n\tOrdinal0 [0x00B6FAA4+981668]\n\tOrdinal0 [0x00B944C4+1131716]\n\tOrdinal0 [0x00BA46C2+1197762]\n\tOrdinal0 [0x00B940C6+1130694]\n\tOrdinal0 [0x00B6E676+976502]\n\tOrdinal0 [0x00B6F586+980358]\n\tGetHandleVerifier [0x00F3BC42+2511938]\n\tGetHandleVerifier [0x00F2ED6F+2458991]\n\tGetHandleVerifier [0x00D631AA+575914]\n\tGetHandleVerifier [0x00D61FA6+571302]\n\tOrdinal0 [0x00C61DEB+1973739]\n\tOrdinal0 [0x00C66778+1992568]\n\tOrdinal0 [0x00C66865+1992805]\n\tOrdinal0 [0x00C6FA41+2030145]\n\tBaseThreadInitThunk [0x74F87BA9+25]\n\tRtlInitializeExceptionChain [0x7728B7DB+107]\n\tRtlClearBits [0x7728B75F+191]\n"
     ]
    }
   ],
   "source": [
    "#extract name\n",
    "name_tags=driver.find_elements_by_xpath(\"//p[@class='company body-medium']\")\n",
    "name_tags\n",
    "\n",
    "for i in name_tags:\n",
    "    ratt=i.text\n",
    "    name.append(ratt)\n",
    "name"
   ]
  },
  {
   "cell_type": "code",
   "execution_count": 240,
   "id": "29a84642",
   "metadata": {},
   "outputs": [
    {
     "data": {
      "text/plain": [
       "['2d ago',\n",
       " 'via naukri.com',\n",
       " '2d ago',\n",
       " 'via naukri.com',\n",
       " '3d ago',\n",
       " 'via naukri.com',\n",
       " '17hr ago',\n",
       " 'via naukri.com',\n",
       " '17hr ago',\n",
       " 'via naukri.com',\n",
       " '19hr ago',\n",
       " 'via naukri.com',\n",
       " '19hr ago',\n",
       " 'via naukri.com',\n",
       " '19hr ago',\n",
       " 'via naukri.com',\n",
       " '19hr ago',\n",
       " 'via naukri.com',\n",
       " '19hr ago',\n",
       " 'via naukri.com']"
      ]
     },
     "execution_count": 240,
     "metadata": {},
     "output_type": "execute_result"
    }
   ],
   "source": [
    "#extract days ago\n",
    "su_tags=driver.find_elements_by_xpath(\"//span[@class='body-small-l']\")\n",
    "su_tags\n",
    "\n",
    "for i in su_tags:\n",
    "    suma=i.text\n",
    "    dayy.append(suma)\n",
    "dayy"
   ]
  },
  {
   "cell_type": "code",
   "execution_count": 241,
   "id": "c045e2cf",
   "metadata": {},
   "outputs": [
    {
     "data": {
      "text/plain": [
       "['4.2', '4.2', '4.2', '4.4', '4.2', '4.2', '4.1', '4.1', '4.1', '4.1', '4.1']"
      ]
     },
     "execution_count": 241,
     "metadata": {},
     "output_type": "execute_result"
    }
   ],
   "source": [
    "#extract ratings\n",
    "re_tags=driver.find_elements_by_xpath(\"//a[@class='rating rating-4']\")\n",
    "re_tags\n",
    "\n",
    "for i in re_tags:\n",
    "    revv=i.text\n",
    "    rating.append(revv)\n",
    "rating"
   ]
  },
  {
   "cell_type": "code",
   "execution_count": 242,
   "id": "34a8283a",
   "metadata": {},
   "outputs": [
    {
     "name": "stdout",
     "output_type": "stream",
     "text": [
      "0 20 11\n"
     ]
    }
   ],
   "source": [
    "print(len(name),len(dayy),len(rating))"
   ]
  },
  {
   "cell_type": "code",
   "execution_count": null,
   "id": "ffadbfd3",
   "metadata": {},
   "outputs": [],
   "source": [
    "snk=pd.DataFrame({})\n",
    "snk['Name']=name\n",
    "snk['Days posted ago']=dayy\n",
    "snk['Ratings']=ratings\n",
    "snk\n"
   ]
  },
  {
   "cell_type": "code",
   "execution_count": null,
   "id": "2eb86c51",
   "metadata": {},
   "outputs": [],
   "source": [
    "driver.close()"
   ]
  },
  {
   "cell_type": "code",
   "execution_count": null,
   "id": "192ae4c0",
   "metadata": {},
   "outputs": [],
   "source": []
  },
  {
   "cell_type": "markdown",
   "id": "414c2f6c",
   "metadata": {},
   "source": [
    "# Q10: Write a python program to scrape the salary data for Data Scientist designation.\n",
    "You have to scrape Company name, Number of salaries, Average salary, Minsalary, Max Salary. The above task will be, done as shown in the below steps:\n",
    "1. First get the webpage https://www.ambitionbox.com/\n",
    "2. Click on the salaries option as shown in the image.\n",
    "3. After reaching to the following webpage, In place of “Search Job Profile” enters “Data Scientist” and then click on “Data Scientist”.\n",
    "You have to scrape the data ticked in the above image.\n",
    "4. Scrape the data for the first 10 companies. Scrape the company name, total salary record, average salary, minimum salary, maximum salary, experience required.\n",
    "5. Store the data in a dataframe."
   ]
  },
  {
   "cell_type": "code",
   "execution_count": 243,
   "id": "522a4d86",
   "metadata": {},
   "outputs": [],
   "source": [
    "driver=webdriver.Chrome(\"chromedriver.exe\")\n",
    "time.sleep(2)"
   ]
  },
  {
   "cell_type": "code",
   "execution_count": 244,
   "id": "5bb604bc",
   "metadata": {},
   "outputs": [],
   "source": [
    "driver.get(\"https://www.ambitionbox.com/\")"
   ]
  },
  {
   "cell_type": "code",
   "execution_count": 245,
   "id": "af5809ce",
   "metadata": {},
   "outputs": [],
   "source": [
    "search_button=driver.find_element_by_xpath('/html/body/div[1]/nav/nav/a[4]')\n",
    "search_button.click()"
   ]
  },
  {
   "cell_type": "markdown",
   "id": "2ccbcf4b",
   "metadata": {},
   "source": [
    "Selecting the Data scientist in search "
   ]
  },
  {
   "cell_type": "code",
   "execution_count": 246,
   "id": "20128cd5",
   "metadata": {},
   "outputs": [],
   "source": [
    "search_button2=driver.find_element_by_xpath('/html/body/div/div/div/main/section[1]/div[2]/div[1]/span/input')\n",
    "search_button2.send_keys(\"Data Scientist\")\n",
    "search_button2.click()"
   ]
  },
  {
   "cell_type": "code",
   "execution_count": 247,
   "id": "77877e54",
   "metadata": {},
   "outputs": [],
   "source": [
    "name=[]\n",
    "exp=[]\n",
    "tsr=[]\n",
    "avs=[]\n",
    "minsal=[]\n",
    "maxsal=[]"
   ]
  },
  {
   "cell_type": "code",
   "execution_count": 248,
   "id": "b49e019d",
   "metadata": {},
   "outputs": [
    {
     "data": {
      "text/plain": [
       "['Google']"
      ]
     },
     "execution_count": 248,
     "metadata": {},
     "output_type": "execute_result"
    }
   ],
   "source": [
    "#extract name\n",
    "rat_tags=driver.find_elements_by_xpath(\"/html/body/div/div/div/main/section[1]/div[2]/div[3]/div[2]/div[1]/div[1]/div/div/div[1]/a\")\n",
    "rat_tags\n",
    "\n",
    "for i in rat_tags:\n",
    "    ratt=i.text\n",
    "    name.append(ratt)\n",
    "name\n"
   ]
  },
  {
   "cell_type": "code",
   "execution_count": 249,
   "id": "e3326160",
   "metadata": {},
   "outputs": [
    {
     "data": {
      "text/plain": [
       "['Software Engineer\\n . \\n1 yr exp']"
      ]
     },
     "execution_count": 249,
     "metadata": {},
     "output_type": "execute_result"
    }
   ],
   "source": [
    "#extract experience\n",
    "su_tags=driver.find_elements_by_xpath(\"/html/body/div/div/div/main/section[1]/div[2]/div[3]/div[2]/div[1]/div[1]/div/div/div[2]\")\n",
    "su_tags\n",
    "\n",
    "for i in su_tags:\n",
    "    suma=i.text\n",
    "    exp.append(suma)\n",
    "exp"
   ]
  },
  {
   "cell_type": "code",
   "execution_count": 250,
   "id": "451fe96c",
   "metadata": {},
   "outputs": [
    {
     "data": {
      "text/plain": [
       "['based on 11 salaries']"
      ]
     },
     "execution_count": 250,
     "metadata": {},
     "output_type": "execute_result"
    }
   ],
   "source": [
    "#extract total salary record\n",
    "re_tags=driver.find_elements_by_xpath(\"/html/body/div/div/div/main/section[1]/div[2]/div[3]/div[2]/div[1]/div[1]/div/div/div[1]/span\")\n",
    "re_tags\n",
    "\n",
    "for i in re_tags:\n",
    "    revv=i.text\n",
    "    tsr.append(revv)\n",
    "tsr"
   ]
  },
  {
   "cell_type": "code",
   "execution_count": 251,
   "id": "62bf4998",
   "metadata": {},
   "outputs": [
    {
     "data": {
      "text/plain": [
       "['₹ 10.4L']"
      ]
     },
     "execution_count": 251,
     "metadata": {},
     "output_type": "execute_result"
    }
   ],
   "source": [
    "#extract minimum salary record\n",
    "re_tags=driver.find_elements_by_xpath(\"/html/body/div/div/div/main/section[1]/div[2]/div[3]/div[2]/div[1]/div[2]/div/div[2]/div[1]\")\n",
    "re_tags\n",
    "\n",
    "for i in re_tags:\n",
    "    revv=i.text\n",
    "    minsal.append(revv)\n",
    "minsal"
   ]
  },
  {
   "cell_type": "code",
   "execution_count": 252,
   "id": "7adb6616",
   "metadata": {},
   "outputs": [
    {
     "data": {
      "text/plain": [
       "['₹ 26.9L']"
      ]
     },
     "execution_count": 252,
     "metadata": {},
     "output_type": "execute_result"
    }
   ],
   "source": [
    "#extract average salary record\n",
    "re_tags=driver.find_elements_by_xpath(\"/html/body/div/div/div/main/section[1]/div[2]/div[3]/div[2]/div[1]/div[2]/div/div[1]/div/p\")\n",
    "re_tags\n",
    "\n",
    "for i in re_tags:\n",
    "    revv=i.text\n",
    "    avs.append(revv)\n",
    "avs"
   ]
  },
  {
   "cell_type": "code",
   "execution_count": 253,
   "id": "23a029ed",
   "metadata": {},
   "outputs": [
    {
     "data": {
      "text/plain": [
       "['₹ 40.0L']"
      ]
     },
     "execution_count": 253,
     "metadata": {},
     "output_type": "execute_result"
    }
   ],
   "source": [
    "#extract maximum salary record\n",
    "re_tags=driver.find_elements_by_xpath(\"/html/body/div/div/div/main/section[1]/div[2]/div[3]/div[2]/div[1]/div[2]/div/div[2]/div[2]\")\n",
    "re_tags\n",
    "\n",
    "for i in re_tags:\n",
    "    revv=i.text\n",
    "    maxsal.append(revv)\n",
    "maxsal"
   ]
  },
  {
   "cell_type": "code",
   "execution_count": 254,
   "id": "f6d89b57",
   "metadata": {},
   "outputs": [
    {
     "data": {
      "text/html": [
       "<div>\n",
       "<style scoped>\n",
       "    .dataframe tbody tr th:only-of-type {\n",
       "        vertical-align: middle;\n",
       "    }\n",
       "\n",
       "    .dataframe tbody tr th {\n",
       "        vertical-align: top;\n",
       "    }\n",
       "\n",
       "    .dataframe thead th {\n",
       "        text-align: right;\n",
       "    }\n",
       "</style>\n",
       "<table border=\"1\" class=\"dataframe\">\n",
       "  <thead>\n",
       "    <tr style=\"text-align: right;\">\n",
       "      <th></th>\n",
       "      <th>Name</th>\n",
       "      <th>Experience</th>\n",
       "      <th>Total Salary Record</th>\n",
       "      <th>Minimum Salary</th>\n",
       "      <th>Average Salary</th>\n",
       "      <th>Maximum Salary</th>\n",
       "    </tr>\n",
       "  </thead>\n",
       "  <tbody>\n",
       "    <tr>\n",
       "      <th>0</th>\n",
       "      <td>Google</td>\n",
       "      <td>Software Engineer\\n . \\n1 yr exp</td>\n",
       "      <td>based on 11 salaries</td>\n",
       "      <td>₹ 10.4L</td>\n",
       "      <td>₹ 26.9L</td>\n",
       "      <td>₹ 40.0L</td>\n",
       "    </tr>\n",
       "  </tbody>\n",
       "</table>\n",
       "</div>"
      ],
      "text/plain": [
       "     Name                        Experience   Total Salary Record  \\\n",
       "0  Google  Software Engineer\\n . \\n1 yr exp  based on 11 salaries   \n",
       "\n",
       "  Minimum Salary Average Salary Maximum Salary  \n",
       "0        ₹ 10.4L        ₹ 26.9L        ₹ 40.0L  "
      ]
     },
     "execution_count": 254,
     "metadata": {},
     "output_type": "execute_result"
    }
   ],
   "source": [
    "snk=pd.DataFrame({})\n",
    "snk['Name']=name\n",
    "snk['Experience']=exp\n",
    "snk['Total Salary Record']=tsr\n",
    "snk['Minimum Salary']=minsal\n",
    "snk['Average Salary']=avs\n",
    "snk['Maximum Salary']=maxsal\n",
    "snk"
   ]
  },
  {
   "cell_type": "code",
   "execution_count": 255,
   "id": "52ef62e8",
   "metadata": {},
   "outputs": [],
   "source": [
    "driver.close()"
   ]
  },
  {
   "cell_type": "code",
   "execution_count": null,
   "id": "88177000",
   "metadata": {},
   "outputs": [],
   "source": []
  }
 ],
 "metadata": {
  "kernelspec": {
   "display_name": "Python 3",
   "language": "python",
   "name": "python3"
  },
  "language_info": {
   "codemirror_mode": {
    "name": "ipython",
    "version": 3
   },
   "file_extension": ".py",
   "mimetype": "text/x-python",
   "name": "python",
   "nbconvert_exporter": "python",
   "pygments_lexer": "ipython3",
   "version": "3.8.8"
  }
 },
 "nbformat": 4,
 "nbformat_minor": 5
}
