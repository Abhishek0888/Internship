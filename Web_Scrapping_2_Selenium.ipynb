{
 "cells": [
  {
   "cell_type": "markdown",
   "id": "13e0b484",
   "metadata": {},
   "source": [
    "# Q1: Write a python program to scrape data for “Data Analyst” Job position in “Bangalore” location. You have to scrape the job-title, job-location, company_name, experience_required. You have to scrape first 10 jobs data.\n",
    "This task will be done in following steps:\n",
    "1. First get the webpage https://www.naukri.com/\n",
    "2. Enter “Data Analyst” in “Skill, Designations, Companies” field and enter “Bangalore” in “enter the location” field.\n",
    "3. Then click the search button.\n",
    "4. Then scrape the data for the first 10 jobs results you get.\n",
    "5. Finally create a dataframe of the scraped data."
   ]
  },
  {
   "cell_type": "code",
   "execution_count": null,
   "id": "3c789b84",
   "metadata": {},
   "outputs": [],
   "source": [
    "#! pip install selenium"
   ]
  },
  {
   "cell_type": "code",
   "execution_count": null,
   "id": "43f72d25",
   "metadata": {},
   "outputs": [],
   "source": [
    "import selenium\n",
    "import pandas as pd\n",
    "from selenium import webdriver\n",
    "import warnings\n",
    "warnings.filterwarnings(\"ignore\")\n",
    "import time"
   ]
  },
  {
   "cell_type": "code",
   "execution_count": null,
   "id": "f606ca5b",
   "metadata": {},
   "outputs": [],
   "source": [
    "#driver = webdriver.Chrome(r\"C:\\Users\\Asus\\Documents\\chromedriver_win32\\Chromedriver.exe\")"
   ]
  },
  {
   "cell_type": "code",
   "execution_count": null,
   "id": "4b3aba54",
   "metadata": {},
   "outputs": [],
   "source": [
    "driver=webdriver.Chrome(\"chromedriver.exe\")\n",
    "time.sleep(2)"
   ]
  },
  {
   "cell_type": "code",
   "execution_count": null,
   "id": "f4ac9621",
   "metadata": {},
   "outputs": [],
   "source": [
    "driver.get(\"https://www.naukri.com/\")"
   ]
  },
  {
   "cell_type": "code",
   "execution_count": null,
   "id": "7660b960",
   "metadata": {},
   "outputs": [],
   "source": [
    "#finding element for job search bar\n",
    "search_field_designation=driver.find_element_by_class_name(\"suggestor-input \")\n",
    "search_field_designation.send_keys(\"Data Analyst,\")\n",
    "search_field_location=driver.find_element_by_xpath('/html/body/div/div[2]/div[3]/div/div/div[1]/div/div/div/input')\n",
    "search_field_location.send_keys(\"bangalore/bengaluru\")"
   ]
  },
  {
   "cell_type": "code",
   "execution_count": null,
   "id": "6d30a6dd",
   "metadata": {},
   "outputs": [],
   "source": [
    "search_button=driver.find_element_by_xpath('/html/body/div/div[2]/div[3]/div/div/div[6]')\n",
    "search_button.click()"
   ]
  },
  {
   "cell_type": "code",
   "execution_count": null,
   "id": "f052191a",
   "metadata": {},
   "outputs": [],
   "source": [
    "job_titles=[]\n",
    "company_names=[]\n",
    "locations_list=[]\n",
    "experience_list=[]"
   ]
  },
  {
   "cell_type": "code",
   "execution_count": null,
   "id": "7a4c23ff",
   "metadata": {},
   "outputs": [],
   "source": [
    "#extract job titles\n",
    "titles_tags=driver.find_elements_by_xpath(\"//a[@class='title fw500 ellipsis']\")\n",
    "titles_tags[0:4]"
   ]
  },
  {
   "cell_type": "code",
   "execution_count": null,
   "id": "ed7303e8",
   "metadata": {},
   "outputs": [],
   "source": [
    "for i in titles_tags:\n",
    "    title=i.text\n",
    "    job_titles.append(title)\n",
    "job_titles[0:4]"
   ]
  },
  {
   "cell_type": "code",
   "execution_count": null,
   "id": "b49dff46",
   "metadata": {},
   "outputs": [],
   "source": [
    "#extract company names\n",
    "company_tags=driver.find_elements_by_xpath(\"//a[@class='subTitle ellipsis fleft']\")\n",
    "company_tags[0:4]"
   ]
  },
  {
   "cell_type": "code",
   "execution_count": null,
   "id": "07c9f18b",
   "metadata": {},
   "outputs": [],
   "source": [
    "for i in company_tags:\n",
    "    comp=i.text\n",
    "    company_names.append(comp)\n",
    "company_names[0:4]"
   ]
  },
  {
   "cell_type": "code",
   "execution_count": null,
   "id": "95865eb0",
   "metadata": {},
   "outputs": [],
   "source": [
    "#extract experience\n",
    "experience_tags=driver.find_elements_by_xpath(\"//li[@class='fleft grey-text br2 placeHolderLi experience']\")\n",
    "experience_tags[0:4]"
   ]
  },
  {
   "cell_type": "code",
   "execution_count": null,
   "id": "0e8db5ec",
   "metadata": {},
   "outputs": [],
   "source": [
    "for i in experience_tags:\n",
    "    expp=i.text\n",
    "    experience_list.append(expp)\n",
    "experience_list[0:4]"
   ]
  },
  {
   "cell_type": "code",
   "execution_count": null,
   "id": "e9629614",
   "metadata": {},
   "outputs": [],
   "source": [
    "#extract location\n",
    "loct_tags=driver.find_elements_by_xpath(\"//li[@class='fleft grey-text br2 placeHolderLi location']\")\n",
    "loct_tags[0:4]"
   ]
  },
  {
   "cell_type": "code",
   "execution_count": null,
   "id": "9c6b428a",
   "metadata": {},
   "outputs": [],
   "source": [
    "for i in loct_tags:\n",
    "    loct=i.text\n",
    "    locations_list.append(loct)\n",
    "locations_list[0:4]"
   ]
  },
  {
   "cell_type": "code",
   "execution_count": null,
   "id": "5183373f",
   "metadata": {},
   "outputs": [],
   "source": [
    "print(len(job_titles),len(company_names),len(experience_list),len(locations_list))"
   ]
  },
  {
   "cell_type": "code",
   "execution_count": null,
   "id": "c1042c8e",
   "metadata": {},
   "outputs": [],
   "source": [
    "jobs=pd.DataFrame({})\n",
    "jobs['Title']=job_titles\n",
    "jobs['Location']=locations_list\n",
    "jobs['Company Name']=company_names\n",
    "jobs['Experience']=experience_list\n",
    "jobs.head(10)"
   ]
  },
  {
   "cell_type": "code",
   "execution_count": null,
   "id": "f29fba76",
   "metadata": {},
   "outputs": [],
   "source": [
    "driver.close()"
   ]
  },
  {
   "cell_type": "code",
   "execution_count": null,
   "id": "66e1ec71",
   "metadata": {},
   "outputs": [],
   "source": []
  },
  {
   "cell_type": "markdown",
   "id": "acd88dac",
   "metadata": {},
   "source": [
    "# Q2: Write a python program to scrape data for “Data Scientist” Job position in “Bangalore” location. You have to scrape the job-title, job-location, company_name. You have to scrape first 10 jobs data.\n",
    "This task will be done in following steps:\n",
    "1. First get the webpage https://www.naukri.com/\n",
    "2. Enter “Data Scientist” in “Skill, Designations, Companies” field and enter “Bangalore” in “enter the location” field.\n",
    "3. Then click the search button.\n",
    "4. Then scrape the data for the first 10 jobs results you get.\n",
    "5. Finally create a dataframe of the scraped data."
   ]
  },
  {
   "cell_type": "code",
   "execution_count": null,
   "id": "c4ee7a09",
   "metadata": {},
   "outputs": [],
   "source": [
    "driver=webdriver.Chrome(\"chromedriver.exe\")\n",
    "time.sleep(2)"
   ]
  },
  {
   "cell_type": "code",
   "execution_count": null,
   "id": "70c6af6b",
   "metadata": {},
   "outputs": [],
   "source": [
    "driver.get(\"https://www.naukri.com/\")"
   ]
  },
  {
   "cell_type": "code",
   "execution_count": null,
   "id": "7e096bd8",
   "metadata": {},
   "outputs": [],
   "source": [
    "#finding element for job search bar\n",
    "search_field_designation=driver.find_element_by_class_name(\"suggestor-input \")\n",
    "search_field_designation.send_keys(\"Data Scientist,\")\n",
    "search_field_location=driver.find_element_by_xpath('/html/body/div/div[2]/div[3]/div/div/div[1]/div/div/div/input')\n",
    "search_field_location.send_keys(\"bangalore/bengaluru\")"
   ]
  },
  {
   "cell_type": "code",
   "execution_count": null,
   "id": "4ba56ad2",
   "metadata": {},
   "outputs": [],
   "source": [
    "search_button=driver.find_element_by_xpath('/html/body/div/div[2]/div[3]/div/div/div[6]')\n",
    "search_button.click()"
   ]
  },
  {
   "cell_type": "code",
   "execution_count": null,
   "id": "aaebc416",
   "metadata": {},
   "outputs": [],
   "source": [
    "job_titles=[]\n",
    "company_names=[]\n",
    "locations_list=[]\n",
    "experience_list=[]"
   ]
  },
  {
   "cell_type": "code",
   "execution_count": null,
   "id": "c4f69f19",
   "metadata": {},
   "outputs": [],
   "source": [
    "#extract job titles\n",
    "titles_tags=driver.find_elements_by_xpath(\"//a[@class='title fw500 ellipsis']\")\n",
    "titles_tags[0:4]"
   ]
  },
  {
   "cell_type": "code",
   "execution_count": null,
   "id": "024571b4",
   "metadata": {},
   "outputs": [],
   "source": [
    "for i in titles_tags:\n",
    "    title=i.text\n",
    "    job_titles.append(title)\n",
    "job_titles[0:4]"
   ]
  },
  {
   "cell_type": "code",
   "execution_count": null,
   "id": "4088253a",
   "metadata": {},
   "outputs": [],
   "source": [
    "#extract company names\n",
    "company_tags=driver.find_elements_by_xpath(\"//a[@class='subTitle ellipsis fleft']\")\n",
    "company_tags[0:4]"
   ]
  },
  {
   "cell_type": "code",
   "execution_count": null,
   "id": "ce9f858e",
   "metadata": {},
   "outputs": [],
   "source": [
    "for i in company_tags:\n",
    "    comp=i.text\n",
    "    company_names.append(comp)\n",
    "company_names[0:4]"
   ]
  },
  {
   "cell_type": "code",
   "execution_count": null,
   "id": "2b4b9baf",
   "metadata": {},
   "outputs": [],
   "source": [
    "#extract experience\n",
    "experience_tags=driver.find_elements_by_xpath(\"//li[@class='fleft grey-text br2 placeHolderLi experience']\")\n",
    "experience_tags[0:4]"
   ]
  },
  {
   "cell_type": "code",
   "execution_count": null,
   "id": "9eb22245",
   "metadata": {},
   "outputs": [],
   "source": [
    "for i in experience_tags:\n",
    "    expp=i.text\n",
    "    experience_list.append(expp)\n",
    "experience_list[0:4]"
   ]
  },
  {
   "cell_type": "code",
   "execution_count": null,
   "id": "55233b85",
   "metadata": {},
   "outputs": [],
   "source": [
    "#extract location\n",
    "loct_tags=driver.find_elements_by_xpath(\"//li[@class='fleft grey-text br2 placeHolderLi location']\")\n",
    "loct_tags[0:4]"
   ]
  },
  {
   "cell_type": "code",
   "execution_count": null,
   "id": "58ac7280",
   "metadata": {},
   "outputs": [],
   "source": [
    "for i in loct_tags:\n",
    "    loct=i.text\n",
    "    locations_list.append(loct)\n",
    "locations_list[0:4]"
   ]
  },
  {
   "cell_type": "code",
   "execution_count": null,
   "id": "af02bf32",
   "metadata": {},
   "outputs": [],
   "source": [
    "print(len(job_titles),len(company_names),len(experience_list),len(locations_list))"
   ]
  },
  {
   "cell_type": "code",
   "execution_count": null,
   "id": "ebeda1b1",
   "metadata": {},
   "outputs": [],
   "source": [
    "jobs=pd.DataFrame({})\n",
    "jobs['Title']=job_titles\n",
    "jobs['Location']=locations_list\n",
    "jobs['Company Name']=company_names\n",
    "jobs['Experience']=experience_list\n",
    "jobs.head(10)"
   ]
  },
  {
   "cell_type": "code",
   "execution_count": null,
   "id": "1055284a",
   "metadata": {},
   "outputs": [],
   "source": [
    "driver.close()"
   ]
  },
  {
   "cell_type": "code",
   "execution_count": null,
   "id": "85aaccd5",
   "metadata": {},
   "outputs": [],
   "source": []
  },
  {
   "cell_type": "markdown",
   "id": "0a958b87",
   "metadata": {},
   "source": [
    "# Q3: In this question you have to scrape data using the filters available on the webpage as shown below:\n",
    "\n",
    "You have to use the location and salary filter.\n",
    "You have to scrape data for “Data Scientist” designation for first 10 job results.\n",
    "You have to scrape the job-title, job-location, company name, experience required. The location filter to be used is “Delhi/NCR”. The salary filter to be used is “3-6” lakhs\n",
    "\n",
    "The task will be done as shown in the below steps:\n",
    "1. first get the webpage https://www.naukri.com/\n",
    "2. Enter “Data Scientist” in “Skill, Designations, and Companies” field.\n",
    "3. Then click the search button.\n",
    "4. Then apply the location filter and salary filter by checking the respective boxes\n",
    "5. Then scrape the data for the first 10 jobs results you get.\n",
    "6. Finally create a dataframe of the scraped data."
   ]
  },
  {
   "cell_type": "code",
   "execution_count": null,
   "id": "7d940cb1",
   "metadata": {},
   "outputs": [],
   "source": [
    "driver=webdriver.Chrome(\"chromedriver.exe\")\n",
    "time.sleep(2)"
   ]
  },
  {
   "cell_type": "code",
   "execution_count": null,
   "id": "37b0b524",
   "metadata": {},
   "outputs": [],
   "source": [
    "driver.get(\"https://www.naukri.com/\")"
   ]
  },
  {
   "cell_type": "code",
   "execution_count": null,
   "id": "68ae79e3",
   "metadata": {},
   "outputs": [],
   "source": [
    "#finding element for job search bar\n",
    "search_field_designation=driver.find_element_by_class_name(\"suggestor-input \")\n",
    "search_field_designation.send_keys(\"data scientist,\")"
   ]
  },
  {
   "cell_type": "code",
   "execution_count": null,
   "id": "9bc64fc3",
   "metadata": {},
   "outputs": [],
   "source": [
    "search_button=driver.find_element_by_xpath('/html/body/div/div[2]/div[3]/div/div/div[6]')\n",
    "search_button.click()"
   ]
  },
  {
   "cell_type": "code",
   "execution_count": null,
   "id": "f4cd1fff",
   "metadata": {},
   "outputs": [],
   "source": [
    "#finding element for lcation and salary check box\n",
    "chek1=driver.find_element_by_xpath('/html/body/div[1]/div[3]/div[2]/section[1]/div[2]/div[5]/div[2]/div[2]/label/i')\n",
    "chek1.click()\n"
   ]
  },
  {
   "cell_type": "code",
   "execution_count": null,
   "id": "fd4265a6",
   "metadata": {},
   "outputs": [],
   "source": [
    "chek2=driver.find_element_by_xpath('/html/body/div[1]/div[3]/div[2]/section[1]/div[2]/div[5]/div[2]/div[3]/label/i')\n",
    "chek2.click()"
   ]
  },
  {
   "cell_type": "code",
   "execution_count": null,
   "id": "4afc3c49",
   "metadata": {},
   "outputs": [],
   "source": [
    "job_titles=[]\n",
    "company_names=[]\n",
    "locations_list=[]\n",
    "experience_list=[]"
   ]
  },
  {
   "cell_type": "code",
   "execution_count": null,
   "id": "a4e1b81f",
   "metadata": {},
   "outputs": [],
   "source": [
    "#extract job titles\n",
    "titles_tags=driver.find_elements_by_xpath(\"//a[@class='title fw500 ellipsis']\")\n",
    "titles_tags[0:4]"
   ]
  },
  {
   "cell_type": "code",
   "execution_count": null,
   "id": "b9729652",
   "metadata": {},
   "outputs": [],
   "source": [
    "for i in titles_tags:\n",
    "    title=i.text\n",
    "    job_titles.append(title)\n",
    "job_titles[0:4]"
   ]
  },
  {
   "cell_type": "code",
   "execution_count": null,
   "id": "29916189",
   "metadata": {},
   "outputs": [],
   "source": [
    "#extract company names\n",
    "company_tags=driver.find_elements_by_xpath(\"//a[@class='subTitle ellipsis fleft']\")\n",
    "company_tags[0:4]"
   ]
  },
  {
   "cell_type": "code",
   "execution_count": null,
   "id": "55a0c95e",
   "metadata": {},
   "outputs": [],
   "source": [
    "for i in company_tags:\n",
    "    comp=i.text\n",
    "    company_names.append(comp)\n",
    "company_names[0:4]"
   ]
  },
  {
   "cell_type": "code",
   "execution_count": null,
   "id": "536391a7",
   "metadata": {},
   "outputs": [],
   "source": [
    "#extract experience\n",
    "experience_tags=driver.find_elements_by_xpath(\"//li[@class='fleft grey-text br2 placeHolderLi experience']\")\n",
    "experience_tags[0:4]"
   ]
  },
  {
   "cell_type": "code",
   "execution_count": null,
   "id": "eb887dfa",
   "metadata": {},
   "outputs": [],
   "source": [
    "for i in experience_tags:\n",
    "    expp=i.text\n",
    "    experience_list.append(expp)\n",
    "experience_list[0:4]"
   ]
  },
  {
   "cell_type": "code",
   "execution_count": null,
   "id": "2a9337d0",
   "metadata": {},
   "outputs": [],
   "source": [
    "#extract location\n",
    "loct_tags=driver.find_elements_by_xpath(\"//li[@class='fleft grey-text br2 placeHolderLi location']\")\n",
    "loct_tags[0:4]"
   ]
  },
  {
   "cell_type": "code",
   "execution_count": null,
   "id": "dbe74bb1",
   "metadata": {},
   "outputs": [],
   "source": [
    "for i in loct_tags:\n",
    "    loct=i.text\n",
    "    locations_list.append(loct)\n",
    "locations_list[0:4]"
   ]
  },
  {
   "cell_type": "code",
   "execution_count": null,
   "id": "a4bfe9eb",
   "metadata": {},
   "outputs": [],
   "source": [
    "print(len(job_titles),len(company_names),len(experience_list),len(locations_list))"
   ]
  },
  {
   "cell_type": "code",
   "execution_count": null,
   "id": "bc6e5279",
   "metadata": {},
   "outputs": [],
   "source": [
    "jobs=pd.DataFrame({})\n",
    "jobs['Title']=job_titles\n",
    "jobs['Location']=locations_list\n",
    "jobs['Company Name']=company_names\n",
    "jobs['Experience']=experience_list\n",
    "jobs.head(10)"
   ]
  },
  {
   "cell_type": "code",
   "execution_count": null,
   "id": "2d823544",
   "metadata": {},
   "outputs": [],
   "source": [
    "driver.close()"
   ]
  },
  {
   "cell_type": "code",
   "execution_count": null,
   "id": "b29cefb7",
   "metadata": {},
   "outputs": [],
   "source": []
  },
  {
   "cell_type": "markdown",
   "id": "cc9f8398",
   "metadata": {},
   "source": [
    "# Q4: Scrape data of first 100 sunglasses listings on flipkart.com. You have to scrape four attributes:\n",
    "1. Brand\n",
    "2. Product Description\n",
    "3. Price\n",
    "The attributes which you have to scrape is ticked marked in the below image.\n",
    "To scrape the data you have to go through following steps:\n",
    "1. Go to Flipkart webpage by url : https://www.flipkart.com/\n",
    "2. Enter “sunglasses” in the search field where “search for products, brands andmore” is written and click the search icon\n",
    "3. After that you will reach to the page having a lot of sunglasses. From this pageyou can scrap the required data as usual.\n",
    "4. After scraping data from the first page, go to the “Next” Button at the bottom ofthe page , then click on it.\n",
    "5. Now scrape data from this page as usual\n",
    "6. Repeat this until you get data for 100 sunglasses."
   ]
  },
  {
   "cell_type": "code",
   "execution_count": null,
   "id": "3cec93e6",
   "metadata": {},
   "outputs": [],
   "source": [
    "driver=webdriver.Chrome(\"chromedriver.exe\")\n",
    "time.sleep(2)"
   ]
  },
  {
   "cell_type": "code",
   "execution_count": null,
   "id": "4e10d440",
   "metadata": {},
   "outputs": [],
   "source": [
    "driver.get(\"https://www.flipkart.com/\")"
   ]
  },
  {
   "cell_type": "markdown",
   "id": "7f3da9ab",
   "metadata": {},
   "source": [
    "entering sunglasses in field "
   ]
  },
  {
   "cell_type": "code",
   "execution_count": null,
   "id": "0ea4bae0",
   "metadata": {},
   "outputs": [],
   "source": [
    "#finding element for job search bar\n",
    "search_field_designation=driver.find_element_by_class_name(\"_3704LK\")\n",
    "search_field_designation.send_keys(\"sunglasses\")"
   ]
  },
  {
   "cell_type": "code",
   "execution_count": null,
   "id": "cba1ff89",
   "metadata": {},
   "outputs": [],
   "source": [
    "search_button=driver.find_element_by_xpath('/html/body/div[1]/div/div[1]/div[1]/div[2]/div[2]/form/div/button')\n",
    "search_button.click()"
   ]
  },
  {
   "cell_type": "code",
   "execution_count": null,
   "id": "ab664aa3",
   "metadata": {},
   "outputs": [],
   "source": [
    "brand=[]\n",
    "prd=[]\n",
    "price=[]"
   ]
  },
  {
   "cell_type": "markdown",
   "id": "c1fbc53a",
   "metadata": {},
   "source": [
    "For 1st page"
   ]
  },
  {
   "cell_type": "code",
   "execution_count": null,
   "id": "c0de895c",
   "metadata": {},
   "outputs": [],
   "source": [
    "#extract brand\n",
    "brand_tags=driver.find_elements_by_xpath(\"//div[@class='_2WkVRV']\")\n",
    "brand_tags[0:2]"
   ]
  },
  {
   "cell_type": "code",
   "execution_count": null,
   "id": "f1459211",
   "metadata": {},
   "outputs": [],
   "source": [
    "for i in brand_tags:\n",
    "    brd=i.text\n",
    "    brand.append(brd)\n",
    "brand[0:2]"
   ]
  },
  {
   "cell_type": "code",
   "execution_count": null,
   "id": "2b7208e2",
   "metadata": {},
   "outputs": [],
   "source": [
    "#extract product description\n",
    "prd_tags=driver.find_elements_by_xpath(\"//a[@class='IRpwTa']\")\n",
    "prd_tags[0:2]"
   ]
  },
  {
   "cell_type": "code",
   "execution_count": null,
   "id": "b88a4eba",
   "metadata": {},
   "outputs": [],
   "source": [
    "for i in prd_tags:\n",
    "    prdi=i.text\n",
    "    prd.append(prdi)\n",
    "prd[0:2]"
   ]
  },
  {
   "cell_type": "code",
   "execution_count": null,
   "id": "fc873905",
   "metadata": {},
   "outputs": [],
   "source": [
    "#extract product price\n",
    "price_tags=driver.find_elements_by_xpath(\"//div[@class='_30jeq3']\")\n",
    "price_tags[0:2]"
   ]
  },
  {
   "cell_type": "code",
   "execution_count": null,
   "id": "30b94d34",
   "metadata": {},
   "outputs": [],
   "source": [
    "for i in price_tags:\n",
    "    prc=i.text\n",
    "    price.append(prc)\n",
    "price[0:2]"
   ]
  },
  {
   "cell_type": "code",
   "execution_count": null,
   "id": "f3a6d4db",
   "metadata": {},
   "outputs": [],
   "source": [
    "print(len(brand),len(prd),len(price))"
   ]
  },
  {
   "cell_type": "code",
   "execution_count": null,
   "id": "c0d9f698",
   "metadata": {},
   "outputs": [],
   "source": [
    "#pdd=pd.DataFrame({})\n",
    "#pdd['Brand']=brand\n",
    "#pdd['Product Description']=prd\n",
    "#pdd['Product price']=price\n",
    "#pdd\n",
    "\n",
    "\n",
    "# Cannot create datadrame as all values are not equal"
   ]
  },
  {
   "cell_type": "markdown",
   "id": "7bc7ca33",
   "metadata": {},
   "source": [
    "Now to go to second page and extract 41- 80 items details"
   ]
  },
  {
   "cell_type": "code",
   "execution_count": null,
   "id": "dac48003",
   "metadata": {},
   "outputs": [],
   "source": [
    "next_button=driver.find_element_by_xpath('/html/body/div[1]/div/div[3]/div[1]/div[2]/div[12]/div/div/nav/a[11]')\n",
    "next_button.click()"
   ]
  },
  {
   "cell_type": "markdown",
   "id": "46e524d0",
   "metadata": {},
   "source": [
    "2nd Page details extract"
   ]
  },
  {
   "cell_type": "code",
   "execution_count": null,
   "id": "a121ce5b",
   "metadata": {},
   "outputs": [],
   "source": [
    "brand1=[]\n",
    "prd1=[]\n",
    "price1=[]"
   ]
  },
  {
   "cell_type": "code",
   "execution_count": null,
   "id": "85e2d1ed",
   "metadata": {},
   "outputs": [],
   "source": [
    "#extract brand\n",
    "brand_tags=driver.find_elements_by_xpath(\"//div[@class='_2WkVRV']\")\n",
    "brand_tags[0:2]"
   ]
  },
  {
   "cell_type": "code",
   "execution_count": null,
   "id": "bd7cdb63",
   "metadata": {},
   "outputs": [],
   "source": [
    "for i in brand_tags:\n",
    "    brd=i.text\n",
    "    brand1.append(brd)\n",
    "brand1[0:2]"
   ]
  },
  {
   "cell_type": "code",
   "execution_count": null,
   "id": "9d4a969c",
   "metadata": {},
   "outputs": [],
   "source": [
    "#extract product description\n",
    "prd_tags=driver.find_elements_by_xpath(\"//a[@class='IRpwTa']\")\n",
    "prd_tags[0:2]"
   ]
  },
  {
   "cell_type": "code",
   "execution_count": null,
   "id": "8eb54f5a",
   "metadata": {},
   "outputs": [],
   "source": [
    "for i in prd_tags:\n",
    "    prdi=i.text\n",
    "    prd1.append(prdi)\n",
    "prd1[0:2]"
   ]
  },
  {
   "cell_type": "code",
   "execution_count": null,
   "id": "8dedcdf6",
   "metadata": {},
   "outputs": [],
   "source": [
    "#extract product price\n",
    "price_tags=driver.find_elements_by_xpath(\"//div[@class='_30jeq3']\")\n",
    "price_tags[0:2]"
   ]
  },
  {
   "cell_type": "code",
   "execution_count": null,
   "id": "5cb85c89",
   "metadata": {},
   "outputs": [],
   "source": [
    "for i in price_tags:\n",
    "    prc=i.text\n",
    "    price1.append(prc)\n",
    "price1[0:2]"
   ]
  },
  {
   "cell_type": "code",
   "execution_count": null,
   "id": "6aa331f1",
   "metadata": {},
   "outputs": [],
   "source": [
    "print(len(brand1),len(prd1),len(price1))"
   ]
  },
  {
   "cell_type": "code",
   "execution_count": null,
   "id": "c60f87df",
   "metadata": {},
   "outputs": [],
   "source": [
    "pdd=pd.DataFrame({})\n",
    "pdd['Brand']=brand1\n",
    "pdd['Product Description']=prd1\n",
    "pdd['Product price']=price1\n",
    "pdd"
   ]
  },
  {
   "cell_type": "markdown",
   "id": "a9ce4031",
   "metadata": {},
   "source": [
    "Now to go to third page and extract 41- 80 items details"
   ]
  },
  {
   "cell_type": "code",
   "execution_count": null,
   "id": "6351a188",
   "metadata": {},
   "outputs": [],
   "source": [
    "next1_button=driver.find_element_by_xpath('/html/body/div[1]/div/div[3]/div[1]/div[2]/div[12]/div/div/nav/a[12]')\n",
    "next1_button.click()"
   ]
  },
  {
   "cell_type": "markdown",
   "id": "0b6f6a6d",
   "metadata": {},
   "source": [
    "3rd Page details scrapping 81-100 items"
   ]
  },
  {
   "cell_type": "code",
   "execution_count": null,
   "id": "8e444e0a",
   "metadata": {},
   "outputs": [],
   "source": [
    "brand11=[]\n",
    "prd11=[]\n",
    "price11=[]"
   ]
  },
  {
   "cell_type": "code",
   "execution_count": null,
   "id": "1e29311b",
   "metadata": {},
   "outputs": [],
   "source": [
    "#extract brand\n",
    "brand_tags=driver.find_elements_by_xpath(\"//div[@class='_2WkVRV']\")\n",
    "brand_tags[0:2]"
   ]
  },
  {
   "cell_type": "code",
   "execution_count": null,
   "id": "cd0e42db",
   "metadata": {},
   "outputs": [],
   "source": [
    "for i in brand_tags:\n",
    "    brd=i.text\n",
    "    brand11.append(brd)\n",
    "brand11[0:2]"
   ]
  },
  {
   "cell_type": "code",
   "execution_count": null,
   "id": "ec3c675a",
   "metadata": {},
   "outputs": [],
   "source": [
    "#extract product description\n",
    "prd_tags=driver.find_elements_by_xpath(\"//a[@class='IRpwTa']\")\n",
    "prd_tags[0:2]"
   ]
  },
  {
   "cell_type": "code",
   "execution_count": null,
   "id": "5808b81d",
   "metadata": {},
   "outputs": [],
   "source": [
    "for i in prd_tags:\n",
    "    prdi=i.text\n",
    "    prd11.append(prdi)\n",
    "prd11[0:2]"
   ]
  },
  {
   "cell_type": "code",
   "execution_count": null,
   "id": "80001841",
   "metadata": {},
   "outputs": [],
   "source": [
    "#extract product price\n",
    "price_tags=driver.find_elements_by_xpath(\"//div[@class='_30jeq3']\")\n",
    "price_tags[0:2]"
   ]
  },
  {
   "cell_type": "code",
   "execution_count": null,
   "id": "46471c83",
   "metadata": {},
   "outputs": [],
   "source": [
    "for i in price_tags:\n",
    "    prc=i.text\n",
    "    price11.append(prc)\n",
    "price11[0:2]"
   ]
  },
  {
   "cell_type": "code",
   "execution_count": null,
   "id": "ad08cc24",
   "metadata": {},
   "outputs": [],
   "source": [
    "print(len(brand11),len(prd11),len(price11))"
   ]
  },
  {
   "cell_type": "code",
   "execution_count": null,
   "id": "424d8f40",
   "metadata": {},
   "outputs": [],
   "source": [
    "pdd=pd.DataFrame({})\n",
    "pdd['Brand']=brand11\n",
    "pdd['Product Description']=prd11\n",
    "pdd['Product price']=price11\n",
    "pdd.head(20)"
   ]
  },
  {
   "cell_type": "code",
   "execution_count": null,
   "id": "e7bb06c0",
   "metadata": {},
   "outputs": [],
   "source": [
    "driver.close()"
   ]
  },
  {
   "cell_type": "code",
   "execution_count": null,
   "id": "e36f810a",
   "metadata": {},
   "outputs": [],
   "source": []
  },
  {
   "cell_type": "markdown",
   "id": "8a6986e8",
   "metadata": {},
   "source": [
    "# Q5: Scrape 100 reviews data from flipkart.com for iphone11 phone. You have to go the link:\n",
    "As shown in the above page you have to scrape the tick marked attributes.These are:\n",
    "1. Rating\n",
    "2. Review summary\n",
    "3. Full review\n",
    "4. You have to scrape this data for first 100 reviews."
   ]
  },
  {
   "cell_type": "code",
   "execution_count": null,
   "id": "de0517e1",
   "metadata": {},
   "outputs": [],
   "source": [
    "driver=webdriver.Chrome(\"chromedriver.exe\")\n",
    "time.sleep(2)"
   ]
  },
  {
   "cell_type": "code",
   "execution_count": null,
   "id": "618123e2",
   "metadata": {},
   "outputs": [],
   "source": [
    "driver.get(\"https://www.flipkart.com/apple-iphone-11-black-64-gb-includes-earpods-power-adapter/p/itm0f37c2240b217?pid=MOBFKCTSVZAXUHGR&lid=LSTMOBFKC\")"
   ]
  },
  {
   "cell_type": "code",
   "execution_count": null,
   "id": "76d7e87c",
   "metadata": {},
   "outputs": [],
   "source": [
    "#finding element for reviews\n",
    "search_button=driver.find_element_by_xpath('/html/body/div[1]/div/div[3]/div[1]/div[2]/div[8]/div/div/div[5]/div/a/div')\n",
    "search_button.click()"
   ]
  },
  {
   "cell_type": "code",
   "execution_count": null,
   "id": "e39359c4",
   "metadata": {},
   "outputs": [],
   "source": [
    "rating=[]\n",
    "summ=[]\n",
    "rev=[]"
   ]
  },
  {
   "cell_type": "markdown",
   "id": "ad49803d",
   "metadata": {},
   "source": [
    "1st page reviews"
   ]
  },
  {
   "cell_type": "code",
   "execution_count": null,
   "id": "38d49de8",
   "metadata": {},
   "outputs": [],
   "source": [
    "#extract ratings\n",
    "rat_tags=driver.find_elements_by_xpath(\"//div[@class='_3LWZlK _1BLPMq']\")\n",
    "rat_tags"
   ]
  },
  {
   "cell_type": "code",
   "execution_count": null,
   "id": "6fbf2697",
   "metadata": {},
   "outputs": [],
   "source": [
    "for i in rat_tags:\n",
    "    ratt=i.text\n",
    "    rating.append(ratt)\n",
    "rating"
   ]
  },
  {
   "cell_type": "code",
   "execution_count": null,
   "id": "bcea0b9b",
   "metadata": {},
   "outputs": [],
   "source": [
    "#extract summary\n",
    "su_tags=driver.find_elements_by_xpath(\"//p[@class='_2-N8zT']\")\n",
    "su_tags"
   ]
  },
  {
   "cell_type": "code",
   "execution_count": null,
   "id": "659575fa",
   "metadata": {},
   "outputs": [],
   "source": [
    "for i in su_tags:\n",
    "    suma=i.text\n",
    "    summ.append(suma)\n",
    "summ"
   ]
  },
  {
   "cell_type": "code",
   "execution_count": null,
   "id": "99c5bea6",
   "metadata": {},
   "outputs": [],
   "source": [
    "#extract reviews\n",
    "re_tags=driver.find_elements_by_xpath(\"//div[@class='t-ZTKy']\")\n",
    "re_tags"
   ]
  },
  {
   "cell_type": "code",
   "execution_count": null,
   "id": "2f069b77",
   "metadata": {},
   "outputs": [],
   "source": [
    "for i in re_tags:\n",
    "    revv=i.text\n",
    "    rev.append(revv)\n",
    "rev"
   ]
  },
  {
   "cell_type": "code",
   "execution_count": null,
   "id": "c6ebd52a",
   "metadata": {
    "scrolled": false
   },
   "outputs": [],
   "source": [
    "iphone=pd.DataFrame({})\n",
    "iphone['Rating']=rating\n",
    "iphone['Summary']=summ\n",
    "iphone['Review']=rev\n",
    "iphone"
   ]
  },
  {
   "cell_type": "code",
   "execution_count": null,
   "id": "945499f4",
   "metadata": {
    "scrolled": true
   },
   "outputs": [],
   "source": [
    "next_button=driver.find_element_by_xpath('/html/body/div[1]/div/div[3]/div/div/div[2]/div[13]/div/div/nav/a[11]')\n",
    "next_button.click()"
   ]
  },
  {
   "cell_type": "markdown",
   "id": "1e3593ed",
   "metadata": {},
   "source": [
    "2nd Page reviews scrapping"
   ]
  },
  {
   "cell_type": "code",
   "execution_count": null,
   "id": "18bd235d",
   "metadata": {},
   "outputs": [],
   "source": [
    "rating1=[]\n",
    "summ1=[]\n",
    "rev1=[]\n",
    "\n",
    "#extract ratings\n",
    "rat_tags=driver.find_elements_by_xpath(\"//div[@class='_3LWZlK _1BLPMq']\")\n",
    "rat_tags\n",
    "\n",
    "for i in rat_tags:\n",
    "    ratt=i.text\n",
    "    rating1.append(ratt)\n",
    "rating1\n",
    "\n",
    "#extract summary\n",
    "su_tags=driver.find_elements_by_xpath(\"//p[@class='_2-N8zT']\")\n",
    "su_tags\n",
    "\n",
    "for i in su_tags:\n",
    "    suma=i.text\n",
    "    summ1.append(suma)\n",
    "summ1\n",
    "\n",
    "#extract reviews\n",
    "re_tags=driver.find_elements_by_xpath(\"//div[@class='t-ZTKy']\")\n",
    "re_tags\n",
    "\n",
    "for i in re_tags:\n",
    "    revv=i.text\n",
    "    rev1.append(revv)\n",
    "rev1\n",
    "\n",
    "iphone=pd.DataFrame({})\n",
    "iphone['Rating']=rating1\n",
    "iphone['Summary']=summ1\n",
    "iphone['Review']=rev1\n",
    "iphone"
   ]
  },
  {
   "cell_type": "code",
   "execution_count": null,
   "id": "1637310f",
   "metadata": {},
   "outputs": [],
   "source": [
    "next_button=driver.find_element_by_xpath('/html/body/div[1]/div/div[3]/div/div/div[2]/div[13]/div/div/nav/a[12]')\n",
    "next_button.click()"
   ]
  },
  {
   "cell_type": "markdown",
   "id": "924abd5d",
   "metadata": {},
   "source": [
    "3rd page scrapping data"
   ]
  },
  {
   "cell_type": "code",
   "execution_count": null,
   "id": "1fa6913b",
   "metadata": {},
   "outputs": [],
   "source": [
    "rating2=[]\n",
    "summ2=[]\n",
    "rev2=[]\n",
    "\n",
    "#extract ratings\n",
    "rat_tags=driver.find_elements_by_xpath(\"//div[@class='_3LWZlK _1BLPMq']\")\n",
    "rat_tags\n",
    "\n",
    "for i in rat_tags:\n",
    "    ratt=i.text\n",
    "    rating2.append(ratt)\n",
    "rating2\n",
    "\n",
    "#extract summary\n",
    "su_tags=driver.find_elements_by_xpath(\"//p[@class='_2-N8zT']\")\n",
    "su_tags\n",
    "\n",
    "for i in su_tags:\n",
    "    suma=i.text\n",
    "    summ2.append(suma)\n",
    "summ2\n",
    "\n",
    "#extract reviews\n",
    "re_tags=driver.find_elements_by_xpath(\"//div[@class='t-ZTKy']\")\n",
    "re_tags\n",
    "\n",
    "for i in re_tags:\n",
    "    revv=i.text\n",
    "    rev2.append(revv)\n",
    "rev2\n",
    "\n",
    "iphone=pd.DataFrame({})\n",
    "iphone['Rating']=rating2\n",
    "iphone['Summary']=summ2\n",
    "iphone['Review']=rev2\n",
    "iphone"
   ]
  },
  {
   "cell_type": "code",
   "execution_count": null,
   "id": "d11d42c9",
   "metadata": {},
   "outputs": [],
   "source": [
    "next_button=driver.find_element_by_xpath('/html/body/div[1]/div/div[3]/div/div/div[2]/div[13]/div/div/nav/a[12]')\n",
    "next_button.click()"
   ]
  },
  {
   "cell_type": "markdown",
   "id": "3f2b3549",
   "metadata": {},
   "source": [
    "4th page scrapping data"
   ]
  },
  {
   "cell_type": "code",
   "execution_count": null,
   "id": "dab70320",
   "metadata": {},
   "outputs": [],
   "source": [
    "rating3=[]\n",
    "summ3=[]\n",
    "rev3=[]\n",
    "\n",
    "#extract ratings\n",
    "rat_tags=driver.find_elements_by_xpath(\"//div[@class='_3LWZlK _1BLPMq']\")\n",
    "rat_tags\n",
    "\n",
    "for i in rat_tags:\n",
    "    ratt=i.text\n",
    "    rating3.append(ratt)\n",
    "rating3\n",
    "\n",
    "#extract summary\n",
    "su_tags=driver.find_elements_by_xpath(\"//p[@class='_2-N8zT']\")\n",
    "su_tags\n",
    "\n",
    "for i in su_tags:\n",
    "    suma=i.text\n",
    "    summ3.append(suma)\n",
    "summ3\n",
    "\n",
    "#extract reviews\n",
    "re_tags=driver.find_elements_by_xpath(\"//div[@class='t-ZTKy']\")\n",
    "re_tags\n",
    "\n",
    "for i in re_tags:\n",
    "    revv=i.text\n",
    "    rev3.append(revv)\n",
    "rev3\n",
    "\n",
    "iphone=pd.DataFrame({})\n",
    "iphone['Rating']=rating3\n",
    "iphone['Summary']=summ3\n",
    "iphone['Review']=rev3\n",
    "iphone"
   ]
  },
  {
   "cell_type": "code",
   "execution_count": null,
   "id": "b5a4508e",
   "metadata": {},
   "outputs": [],
   "source": [
    "next_button=driver.find_element_by_xpath('/html/body/div[1]/div/div[3]/div/div/div[2]/div[13]/div/div/nav/a[12]')\n",
    "next_button.click()"
   ]
  },
  {
   "cell_type": "markdown",
   "id": "000f34dc",
   "metadata": {},
   "source": [
    "5th page scrapping data"
   ]
  },
  {
   "cell_type": "code",
   "execution_count": null,
   "id": "c6e8f0cb",
   "metadata": {},
   "outputs": [],
   "source": [
    "rating4=[]\n",
    "summ4=[]\n",
    "rev4=[]\n",
    "\n",
    "#extract ratings\n",
    "rat_tags=driver.find_elements_by_xpath(\"//div[@class='_3LWZlK _1BLPMq']\")\n",
    "rat_tags\n",
    "\n",
    "for i in rat_tags:\n",
    "    ratt=i.text\n",
    "    rating4.append(ratt)\n",
    "rating4\n",
    "\n",
    "#extract summary\n",
    "su_tags=driver.find_elements_by_xpath(\"//p[@class='_2-N8zT']\")\n",
    "su_tags\n",
    "\n",
    "for i in su_tags:\n",
    "    suma=i.text\n",
    "    summ4.append(suma)\n",
    "summ4\n",
    "\n",
    "#extract reviews\n",
    "re_tags=driver.find_elements_by_xpath(\"//div[@class='t-ZTKy']\")\n",
    "re_tags\n",
    "\n",
    "for i in re_tags:\n",
    "    revv=i.text\n",
    "    rev4.append(revv)\n",
    "rev4\n",
    "\n",
    "#iphone=pd.DataFrame({})\n",
    "#iphone['Rating']=rating4\n",
    "#iphone['Summary']=summ4\n",
    "#iphone['Review']=rev4\n",
    "#iphone"
   ]
  },
  {
   "cell_type": "code",
   "execution_count": null,
   "id": "f45e9677",
   "metadata": {},
   "outputs": [],
   "source": [
    "next_button=driver.find_element_by_xpath('/html/body/div[1]/div/div[3]/div/div/div[2]/div[13]/div/div/nav/a[12]')\n",
    "next_button.click()"
   ]
  },
  {
   "cell_type": "markdown",
   "id": "086e39c1",
   "metadata": {},
   "source": [
    "6th page scrapping data"
   ]
  },
  {
   "cell_type": "code",
   "execution_count": null,
   "id": "3f22f6d0",
   "metadata": {},
   "outputs": [],
   "source": [
    "rating5=[]\n",
    "summ5=[]\n",
    "rev5=[]\n",
    "\n",
    "#extract ratings\n",
    "rat_tags=driver.find_elements_by_xpath(\"//div[@class='_3LWZlK _1BLPMq']\")\n",
    "rat_tags\n",
    "\n",
    "for i in rat_tags:\n",
    "    ratt=i.text\n",
    "    rating5.append(ratt)\n",
    "rating5\n",
    "\n",
    "#extract summary\n",
    "su_tags=driver.find_elements_by_xpath(\"//p[@class='_2-N8zT']\")\n",
    "su_tags\n",
    "\n",
    "for i in su_tags:\n",
    "    suma=i.text\n",
    "    summ5.append(suma)\n",
    "summ5\n",
    "\n",
    "#extract reviews\n",
    "re_tags=driver.find_elements_by_xpath(\"//div[@class='t-ZTKy']\")\n",
    "re_tags\n",
    "\n",
    "for i in re_tags:\n",
    "    revv=i.text\n",
    "    rev5.append(revv)\n",
    "rev5\n",
    "\n",
    "iphone=pd.DataFrame({})\n",
    "iphone['Rating']=rating5\n",
    "iphone['Summary']=summ5\n",
    "iphone['Review']=rev5\n",
    "iphone"
   ]
  },
  {
   "cell_type": "code",
   "execution_count": null,
   "id": "23de5a75",
   "metadata": {},
   "outputs": [],
   "source": [
    "next_button=driver.find_element_by_xpath('/html/body/div[1]/div/div[3]/div/div/div[2]/div[13]/div/div/nav/a[12]')\n",
    "next_button.click()"
   ]
  },
  {
   "cell_type": "markdown",
   "id": "443f10f7",
   "metadata": {},
   "source": [
    "7th page scrapping data"
   ]
  },
  {
   "cell_type": "code",
   "execution_count": null,
   "id": "f29570ec",
   "metadata": {},
   "outputs": [],
   "source": [
    "rating6=[]\n",
    "summ6=[]\n",
    "rev6=[]\n",
    "\n",
    "#extract ratings\n",
    "rat_tags=driver.find_elements_by_xpath(\"//div[@class='_3LWZlK _1BLPMq']\")\n",
    "rat_tags\n",
    "\n",
    "for i in rat_tags:\n",
    "    ratt=i.text\n",
    "    rating6.append(ratt)\n",
    "rating6\n",
    "\n",
    "#extract summary\n",
    "su_tags=driver.find_elements_by_xpath(\"//p[@class='_2-N8zT']\")\n",
    "su_tags\n",
    "\n",
    "for i in su_tags:\n",
    "    suma=i.text\n",
    "    summ6.append(suma)\n",
    "summ6\n",
    "\n",
    "#extract reviews\n",
    "re_tags=driver.find_elements_by_xpath(\"//div[@class='t-ZTKy']\")\n",
    "re_tags\n",
    "\n",
    "for i in re_tags:\n",
    "    revv=i.text\n",
    "    rev6.append(revv)\n",
    "rev6\n",
    "\n",
    "iphone=pd.DataFrame({})\n",
    "iphone['Rating']=rating6\n",
    "iphone['Summary']=summ6\n",
    "iphone['Review']=rev6\n",
    "iphone"
   ]
  },
  {
   "cell_type": "code",
   "execution_count": null,
   "id": "e24dfc02",
   "metadata": {},
   "outputs": [],
   "source": [
    "next_button=driver.find_element_by_xpath('/html/body/div[1]/div/div[3]/div/div/div[2]/div[13]/div/div/nav/a[12]')\n",
    "next_button.click()"
   ]
  },
  {
   "cell_type": "markdown",
   "id": "b63e919a",
   "metadata": {},
   "source": [
    "8th page scrapping data"
   ]
  },
  {
   "cell_type": "code",
   "execution_count": null,
   "id": "5ffb63d5",
   "metadata": {},
   "outputs": [],
   "source": [
    "rating7=[]\n",
    "summ7=[]\n",
    "rev7=[]\n",
    "\n",
    "#extract ratings\n",
    "rat_tags=driver.find_elements_by_xpath(\"//div[@class='_3LWZlK _1BLPMq']\")\n",
    "rat_tags\n",
    "\n",
    "for i in rat_tags:\n",
    "    ratt=i.text\n",
    "    rating7.append(ratt)\n",
    "rating7\n",
    "\n",
    "#extract summary\n",
    "su_tags=driver.find_elements_by_xpath(\"//p[@class='_2-N8zT']\")\n",
    "su_tags\n",
    "\n",
    "for i in su_tags:\n",
    "    suma=i.text\n",
    "    summ7.append(suma)\n",
    "summ7\n",
    "\n",
    "#extract reviews\n",
    "re_tags=driver.find_elements_by_xpath(\"//div[@class='t-ZTKy']\")\n",
    "re_tags\n",
    "\n",
    "for i in re_tags:\n",
    "    revv=i.text\n",
    "    rev7.append(revv)\n",
    "rev7\n",
    "\n",
    "iphone=pd.DataFrame({})\n",
    "iphone['Rating']=rating7\n",
    "iphone['Summary']=summ7\n",
    "iphone['Review']=rev7\n",
    "iphone"
   ]
  },
  {
   "cell_type": "code",
   "execution_count": null,
   "id": "594ee76e",
   "metadata": {},
   "outputs": [],
   "source": [
    "next_button=driver.find_element_by_xpath('/html/body/div[1]/div/div[3]/div/div/div[2]/div[13]/div/div/nav/a[12]')\n",
    "next_button.click()"
   ]
  },
  {
   "cell_type": "markdown",
   "id": "6f5eb6bb",
   "metadata": {},
   "source": [
    "9th page scrapping data"
   ]
  },
  {
   "cell_type": "code",
   "execution_count": null,
   "id": "fe54526b",
   "metadata": {},
   "outputs": [],
   "source": [
    "rating8=[]\n",
    "summ8=[]\n",
    "rev8=[]\n",
    "\n",
    "#extract ratings\n",
    "rat_tags=driver.find_elements_by_xpath(\"//div[@class='_3LWZlK _1BLPMq']\")\n",
    "rat_tags\n",
    "\n",
    "for i in rat_tags:\n",
    "    ratt=i.text\n",
    "    rating8.append(ratt)\n",
    "rating8\n",
    "\n",
    "#extract summary\n",
    "su_tags=driver.find_elements_by_xpath(\"//p[@class='_2-N8zT']\")\n",
    "su_tags\n",
    "\n",
    "for i in su_tags:\n",
    "    suma=i.text\n",
    "    summ8.append(suma)\n",
    "summ8\n",
    "\n",
    "#extract reviews\n",
    "re_tags=driver.find_elements_by_xpath(\"//div[@class='t-ZTKy']\")\n",
    "re_tags\n",
    "\n",
    "for i in re_tags:\n",
    "    revv=i.text\n",
    "    rev8.append(revv)\n",
    "rev8\n",
    "\n",
    "iphone=pd.DataFrame({})\n",
    "iphone['Rating']=rating8\n",
    "iphone['Summary']=summ8\n",
    "iphone['Review']=rev8\n",
    "iphone"
   ]
  },
  {
   "cell_type": "code",
   "execution_count": null,
   "id": "5d36a35f",
   "metadata": {},
   "outputs": [],
   "source": [
    "next_button=driver.find_element_by_xpath('/html/body/div[1]/div/div[3]/div/div/div[2]/div[13]/div/div/nav/a[12]')\n",
    "next_button.click()"
   ]
  },
  {
   "cell_type": "markdown",
   "id": "a89b8022",
   "metadata": {},
   "source": [
    "10th page scrapping data"
   ]
  },
  {
   "cell_type": "code",
   "execution_count": null,
   "id": "8bea59e4",
   "metadata": {},
   "outputs": [],
   "source": [
    "rating9=[]\n",
    "summ9=[]\n",
    "rev9=[]\n",
    "\n",
    "#extract ratings\n",
    "rat_tags=driver.find_elements_by_xpath(\"//div[@class='_3LWZlK _1BLPMq']\")\n",
    "rat_tags\n",
    "\n",
    "for i in rat_tags:\n",
    "    ratt=i.text\n",
    "    rating9.append(ratt)\n",
    "rating9\n",
    "\n",
    "#extract summary\n",
    "su_tags=driver.find_elements_by_xpath(\"//p[@class='_2-N8zT']\")\n",
    "su_tags\n",
    "\n",
    "for i in su_tags:\n",
    "    suma=i.text\n",
    "    summ9.append(suma)\n",
    "summ9\n",
    "\n",
    "#extract reviews\n",
    "re_tags=driver.find_elements_by_xpath(\"//div[@class='t-ZTKy']\")\n",
    "re_tags\n",
    "\n",
    "for i in re_tags:\n",
    "    revv=i.text\n",
    "    rev9.append(revv)\n",
    "rev9\n",
    "\n",
    "iphone=pd.DataFrame({})\n",
    "iphone['Rating']=rating9\n",
    "iphone['Summary']=summ9\n",
    "iphone['Review']=rev9\n",
    "iphone"
   ]
  },
  {
   "cell_type": "code",
   "execution_count": null,
   "id": "f2830736",
   "metadata": {},
   "outputs": [],
   "source": [
    "driver.close()"
   ]
  },
  {
   "cell_type": "code",
   "execution_count": null,
   "id": "428fc85a",
   "metadata": {},
   "outputs": [],
   "source": []
  },
  {
   "cell_type": "markdown",
   "id": "da1a5853",
   "metadata": {},
   "source": [
    "# Q6: Scrape data for first 100 sneakers you find when you visit flipkart.com andsearch for “sneakers” in the search field.\n",
    "You have to scrape 4 attributes of each sneaker:\n",
    "1. Brand\n",
    "2. Product Description\n",
    "3. Price\n",
    "As shown in the below image, you have to scrape the tick marked attributes."
   ]
  },
  {
   "cell_type": "code",
   "execution_count": null,
   "id": "c68cb289",
   "metadata": {},
   "outputs": [],
   "source": [
    "driver=webdriver.Chrome(\"chromedriver.exe\")\n",
    "time.sleep(2)"
   ]
  },
  {
   "cell_type": "code",
   "execution_count": null,
   "id": "f6fcd754",
   "metadata": {},
   "outputs": [],
   "source": [
    "driver.get(\"https://www.flipkart.com/\")"
   ]
  },
  {
   "cell_type": "code",
   "execution_count": null,
   "id": "706156d7",
   "metadata": {},
   "outputs": [],
   "source": [
    "#finding element for job search bar\n",
    "search_field_designation=driver.find_element_by_class_name(\"_3704LK\")\n",
    "search_field_designation.send_keys(\"sneakers\")"
   ]
  },
  {
   "cell_type": "code",
   "execution_count": null,
   "id": "c7cd88b1",
   "metadata": {},
   "outputs": [],
   "source": [
    "search_button=driver.find_element_by_xpath('/html/body/div[1]/div/div[1]/div[1]/div[2]/div[2]/form/div/button')\n",
    "search_button.click()"
   ]
  },
  {
   "cell_type": "markdown",
   "id": "b2fe63f1",
   "metadata": {},
   "source": [
    "1st page scrapping"
   ]
  },
  {
   "cell_type": "code",
   "execution_count": null,
   "id": "e974cc50",
   "metadata": {},
   "outputs": [],
   "source": [
    "name=[]\n",
    "descp=[]\n",
    "prc=[]"
   ]
  },
  {
   "cell_type": "code",
   "execution_count": null,
   "id": "a90b1f32",
   "metadata": {},
   "outputs": [],
   "source": [
    "#extract name\n",
    "rat_tags=driver.find_elements_by_xpath(\"//div[@class='_2WkVRV']\")\n",
    "rat_tags\n",
    "\n",
    "for i in rat_tags:\n",
    "    ratt=i.text\n",
    "    name.append(ratt)\n",
    "name\n"
   ]
  },
  {
   "cell_type": "code",
   "execution_count": null,
   "id": "32c41f76",
   "metadata": {},
   "outputs": [],
   "source": [
    "#extract description\n",
    "su_tags=driver.find_elements_by_xpath(\"//a[@class='IRpwTa _2-ICcC']\")\n",
    "su_tags\n",
    "\n",
    "for i in su_tags:\n",
    "    suma=i.text\n",
    "    descp.append(suma)\n",
    "descp"
   ]
  },
  {
   "cell_type": "code",
   "execution_count": null,
   "id": "d072ac7c",
   "metadata": {},
   "outputs": [],
   "source": [
    "#extract price\n",
    "re_tags=driver.find_elements_by_xpath(\"//a[@class='_3bPFwb']\")\n",
    "re_tags\n",
    "\n",
    "for i in re_tags:\n",
    "    revv=i.text\n",
    "    prc.append(revv)\n",
    "prc\n"
   ]
  },
  {
   "cell_type": "code",
   "execution_count": null,
   "id": "03dc532f",
   "metadata": {},
   "outputs": [],
   "source": [
    "print(len(name),len(descp),len(prc))"
   ]
  },
  {
   "cell_type": "code",
   "execution_count": null,
   "id": "041f4bdf",
   "metadata": {},
   "outputs": [],
   "source": [
    "snk=pd.DataFrame({})\n",
    "snk['Rating']=name\n",
    "snk['Summary']=descp\n",
    "snk['Review']=prc\n",
    "snk"
   ]
  },
  {
   "cell_type": "code",
   "execution_count": null,
   "id": "6f1ba6f8",
   "metadata": {},
   "outputs": [],
   "source": [
    "search_button=driver.find_element_by_xpath('/html/body/div[1]/div/div[3]/div[1]/div[2]/div[12]/div/div/nav/a[11]')\n",
    "search_button.click()"
   ]
  },
  {
   "cell_type": "markdown",
   "id": "34723306",
   "metadata": {},
   "source": [
    "2nd page scrapping"
   ]
  },
  {
   "cell_type": "code",
   "execution_count": null,
   "id": "a8cabb4d",
   "metadata": {},
   "outputs": [],
   "source": [
    "name1=[]\n",
    "descp1=[]\n",
    "prc1=[]\n",
    "\n",
    "#extract name\n",
    "rat_tags=driver.find_elements_by_xpath(\"//div[@class='_2WkVRV']\")\n",
    "rat_tags\n",
    "\n",
    "for i in rat_tags:\n",
    "    ratt=i.text\n",
    "    name1.append(ratt)\n",
    "name1"
   ]
  },
  {
   "cell_type": "code",
   "execution_count": null,
   "id": "f5aed068",
   "metadata": {},
   "outputs": [],
   "source": [
    "#extract description\n",
    "su_tags=driver.find_elements_by_xpath(\"//a[@class='IRpwTa _2-ICcC']\")\n",
    "su_tags\n",
    "\n",
    "for i in su_tags:\n",
    "    suma=i.text\n",
    "    descp1.append(suma)\n",
    "descp1"
   ]
  },
  {
   "cell_type": "code",
   "execution_count": null,
   "id": "74e1274f",
   "metadata": {},
   "outputs": [],
   "source": [
    "#extract price\n",
    "re_tags=driver.find_elements_by_xpath(\"//a[@class='_3bPFwb']\")\n",
    "re_tags\n",
    "\n",
    "for i in re_tags:\n",
    "    revv=i.text\n",
    "    prc1.append(revv)\n",
    "prc1"
   ]
  },
  {
   "cell_type": "code",
   "execution_count": null,
   "id": "9c73b12a",
   "metadata": {},
   "outputs": [],
   "source": [
    "snk=pd.DataFrame({})\n",
    "snk['Rating']=name1\n",
    "snk['Summary']=descp1\n",
    "snk['Review']=prc1\n",
    "snk\n"
   ]
  },
  {
   "cell_type": "code",
   "execution_count": null,
   "id": "38ceac22",
   "metadata": {},
   "outputs": [],
   "source": [
    "search_button=driver.find_element_by_xpath('/html/body/div[1]/div/div[3]/div[1]/div[2]/div[12]/div/div/nav/a[12]')\n",
    "search_button.click()"
   ]
  },
  {
   "cell_type": "markdown",
   "id": "91bc7580",
   "metadata": {},
   "source": [
    "3rd page scrapping 81-100 items"
   ]
  },
  {
   "cell_type": "code",
   "execution_count": null,
   "id": "b9ff5143",
   "metadata": {},
   "outputs": [],
   "source": [
    "name2=[]\n",
    "descp2=[]\n",
    "prc2=[]\n",
    "\n",
    "#extract name\n",
    "rat_tags=driver.find_elements_by_xpath(\"//div[@class='_2WkVRV']\")\n",
    "rat_tags\n",
    "\n",
    "for i in rat_tags:\n",
    "    ratt=i.text\n",
    "    name2.append(ratt)\n",
    "name2"
   ]
  },
  {
   "cell_type": "code",
   "execution_count": null,
   "id": "6f04c506",
   "metadata": {},
   "outputs": [],
   "source": [
    "#extract description\n",
    "su_tags=driver.find_elements_by_xpath(\"//a[@class='IRpwTa _2-ICcC']\")\n",
    "su_tags\n",
    "\n",
    "for i in su_tags:\n",
    "    suma=i.text\n",
    "    descp2.append(suma)\n",
    "descp2"
   ]
  },
  {
   "cell_type": "code",
   "execution_count": null,
   "id": "b9210601",
   "metadata": {},
   "outputs": [],
   "source": [
    "#extract price\n",
    "re_tags=driver.find_elements_by_xpath(\"//a[@class='_3bPFwb']\")\n",
    "re_tags\n",
    "\n",
    "for i in re_tags:\n",
    "    revv=i.text\n",
    "    prc2.append(revv)\n",
    "prc2"
   ]
  },
  {
   "cell_type": "code",
   "execution_count": null,
   "id": "7d0520cc",
   "metadata": {},
   "outputs": [],
   "source": [
    "snk=pd.DataFrame({})\n",
    "snk['Rating']=name2\n",
    "snk['Summary']=descp2\n",
    "snk['Review']=prc2\n",
    "snk.head(20)"
   ]
  },
  {
   "cell_type": "code",
   "execution_count": null,
   "id": "3a4828a2",
   "metadata": {},
   "outputs": [],
   "source": [
    "driver.close()"
   ]
  },
  {
   "cell_type": "code",
   "execution_count": null,
   "id": "5dec284d",
   "metadata": {},
   "outputs": [],
   "source": []
  },
  {
   "cell_type": "markdown",
   "id": "1a46075d",
   "metadata": {},
   "source": [
    "# Q7: Go to the link - https://www.myntra.com/shoes\n",
    "Set Price filter to “Rs. 7149 to Rs. 14099 ” , Color filter to “Black”, as shown inthe below image\n",
    "And then scrape First 100 shoes data you get. The data should include “Brand” of the shoes , Short Shoe description, price of the shoe as shown in the below image."
   ]
  },
  {
   "cell_type": "code",
   "execution_count": null,
   "id": "cdcc9062",
   "metadata": {},
   "outputs": [],
   "source": [
    "driver=webdriver.Chrome(\"chromedriver.exe\")\n",
    "time.sleep(2)"
   ]
  },
  {
   "cell_type": "code",
   "execution_count": null,
   "id": "c60c60e8",
   "metadata": {},
   "outputs": [],
   "source": [
    "driver.get(\"https://www.myntra.com/shoes\")"
   ]
  },
  {
   "cell_type": "markdown",
   "id": "0ed6be6c",
   "metadata": {},
   "source": [
    "Selcting filter to black"
   ]
  },
  {
   "cell_type": "code",
   "execution_count": null,
   "id": "6dc5f359",
   "metadata": {},
   "outputs": [],
   "source": [
    "search_button=driver.find_element_by_xpath('/html/body/div[2]/div/div[1]/main/div[3]/div[1]/section/div/div[5]/ul/li[2]/label/div')\n",
    "search_button.click()"
   ]
  },
  {
   "cell_type": "code",
   "execution_count": null,
   "id": "1de75aba",
   "metadata": {},
   "outputs": [],
   "source": [
    "search_button=driver.find_element_by_xpath('/html/body/div[2]/div/div[1]/main/div[3]/div[1]/section/div/div[6]/ul/li[1]/label/div')\n",
    "search_button.click()"
   ]
  },
  {
   "cell_type": "markdown",
   "id": "d3dd82c3",
   "metadata": {},
   "source": [
    "1st page scrapping data"
   ]
  },
  {
   "cell_type": "code",
   "execution_count": null,
   "id": "c3a1292a",
   "metadata": {},
   "outputs": [],
   "source": [
    "name=[]\n",
    "descp=[]\n",
    "prc=[]\n",
    "\n",
    "#extract name\n",
    "rat_tags=driver.find_elements_by_xpath(\"//h3[@class='product-brand']\")\n",
    "rat_tags\n",
    "\n",
    "for i in rat_tags:\n",
    "    ratt=i.text\n",
    "    name.append(ratt)\n",
    "name\n"
   ]
  },
  {
   "cell_type": "code",
   "execution_count": null,
   "id": "578492e2",
   "metadata": {},
   "outputs": [],
   "source": [
    "print(len(name))"
   ]
  },
  {
   "cell_type": "code",
   "execution_count": null,
   "id": "d4aa98bb",
   "metadata": {},
   "outputs": [],
   "source": [
    "#extract description\n",
    "su_tags=driver.find_elements_by_xpath(\"//h4[@class='product-product']\")\n",
    "su_tags\n",
    "\n",
    "for i in su_tags:\n",
    "    suma=i.text\n",
    "    descp.append(suma)\n",
    "descp"
   ]
  },
  {
   "cell_type": "code",
   "execution_count": null,
   "id": "16dc4d9a",
   "metadata": {},
   "outputs": [],
   "source": [
    "print(len(descp))"
   ]
  },
  {
   "cell_type": "code",
   "execution_count": null,
   "id": "e12c4da2",
   "metadata": {},
   "outputs": [],
   "source": [
    "#extract price\n",
    "re_tags=driver.find_elements_by_xpath(\"//div[@class='product-price']\")\n",
    "re_tags\n",
    "\n",
    "for i in re_tags:\n",
    "    revv=i.text\n",
    "    prc.append(revv)\n",
    "prc\n"
   ]
  },
  {
   "cell_type": "code",
   "execution_count": null,
   "id": "241009a3",
   "metadata": {},
   "outputs": [],
   "source": [
    "print(len(prc))"
   ]
  },
  {
   "cell_type": "code",
   "execution_count": null,
   "id": "0a91bd40",
   "metadata": {},
   "outputs": [],
   "source": [
    "shoe=pd.DataFrame({})\n",
    "shoe['Rating']=name\n",
    "shoe['Summary']=descp\n",
    "shoe['Review']=prc\n",
    "shoe"
   ]
  },
  {
   "cell_type": "markdown",
   "id": "efe0677a",
   "metadata": {},
   "source": [
    "2nd page scrapping"
   ]
  },
  {
   "cell_type": "code",
   "execution_count": null,
   "id": "860b5394",
   "metadata": {},
   "outputs": [],
   "source": [
    "search_button=driver.find_element_by_xpath('/html/body/div[2]/div/div[1]/main/div[3]/div[2]/div/div[2]/section/div[2]/ul/li[12]')\n",
    "search_button.click()"
   ]
  },
  {
   "cell_type": "code",
   "execution_count": null,
   "id": "e91fb888",
   "metadata": {},
   "outputs": [],
   "source": [
    "name1=[]\n",
    "descp1=[]\n",
    "prc1=[]\n",
    "\n",
    "#extract name\n",
    "rat_tags=driver.find_elements_by_xpath(\"//h3[@class='product-brand']\")\n",
    "rat_tags\n",
    "\n",
    "for i in rat_tags:\n",
    "    ratt=i.text\n",
    "    name1.append(ratt)\n",
    "name1\n"
   ]
  },
  {
   "cell_type": "code",
   "execution_count": null,
   "id": "952915a1",
   "metadata": {},
   "outputs": [],
   "source": [
    "print(len(name))"
   ]
  },
  {
   "cell_type": "code",
   "execution_count": null,
   "id": "32df7e7f",
   "metadata": {},
   "outputs": [],
   "source": [
    "#extract description\n",
    "su_tags=driver.find_elements_by_xpath(\"//h4[@class='product-product']\")\n",
    "su_tags\n",
    "\n",
    "for i in su_tags:\n",
    "    suma=i.text\n",
    "    descp1.append(suma)\n",
    "descp1"
   ]
  },
  {
   "cell_type": "code",
   "execution_count": null,
   "id": "74c44282",
   "metadata": {},
   "outputs": [],
   "source": [
    "print(len(descp))"
   ]
  },
  {
   "cell_type": "code",
   "execution_count": null,
   "id": "4d9747a4",
   "metadata": {},
   "outputs": [],
   "source": [
    "#extract price\n",
    "re_tags=driver.find_elements_by_xpath(\"//div[@class='product-price']\")\n",
    "re_tags\n",
    "\n",
    "for i in re_tags:\n",
    "    revv=i.text\n",
    "    prc1.append(revv)\n",
    "prc1"
   ]
  },
  {
   "cell_type": "code",
   "execution_count": null,
   "id": "b0bd1df7",
   "metadata": {},
   "outputs": [],
   "source": [
    "print(len(prc))"
   ]
  },
  {
   "cell_type": "code",
   "execution_count": null,
   "id": "d4d3b6d2",
   "metadata": {},
   "outputs": [],
   "source": [
    "shoe=pd.DataFrame({})\n",
    "shoe['Rating']=name1\n",
    "shoe['Summary']=descp1\n",
    "shoe['Review']=prc1\n",
    "shoe"
   ]
  },
  {
   "cell_type": "code",
   "execution_count": null,
   "id": "71f3a2b5",
   "metadata": {},
   "outputs": [],
   "source": [
    "driver.close()"
   ]
  },
  {
   "cell_type": "code",
   "execution_count": null,
   "id": "15bb11db",
   "metadata": {},
   "outputs": [],
   "source": []
  },
  {
   "cell_type": "markdown",
   "id": "c3b72c41",
   "metadata": {},
   "source": [
    "# Q8: Go to webpage https://www.amazon.in/\n",
    "Enter “Laptop” in the search field and then click the search icon.\n",
    "Then set CPU Type filter to “Intel Core i7” and “Intel Core i9” as shown in the below image:\n",
    "After setting the filters scrape first 10 laptops data. You have to scrape 3 attributesfor each laptop:\n",
    "1. Title\n",
    "2. Ratings\n",
    "3. Price\n",
    "As shown in the below image as the tick marked attributes."
   ]
  },
  {
   "cell_type": "code",
   "execution_count": null,
   "id": "a5dc9ac6",
   "metadata": {},
   "outputs": [],
   "source": [
    "driver=webdriver.Chrome(\"chromedriver.exe\")"
   ]
  },
  {
   "cell_type": "code",
   "execution_count": null,
   "id": "89d2e760",
   "metadata": {},
   "outputs": [],
   "source": [
    "driver.get(\"https://www.amazon.in/\")"
   ]
  },
  {
   "cell_type": "code",
   "execution_count": null,
   "id": "d00b578c",
   "metadata": {},
   "outputs": [],
   "source": [
    "#finding element for search bar\n",
    "search_f=driver.find_element_by_xpath(\"/html/body/div[2]/header/div/div[1]/div[2]/div/form/div[2]/div[1]/input\")\n",
    "search_f.send_keys(\"laptop\")"
   ]
  },
  {
   "cell_type": "code",
   "execution_count": null,
   "id": "059cc695",
   "metadata": {},
   "outputs": [],
   "source": [
    "search_button=driver.find_element_by_xpath('/html/body/div[2]/header/div/div[1]/div[2]/div/form/div[3]/div/span/input')\n",
    "search_button.click()"
   ]
  },
  {
   "cell_type": "markdown",
   "id": "15f07322",
   "metadata": {},
   "source": [
    "# Option to select Intel Core I9 is not available so only selecting Intel Core I7"
   ]
  },
  {
   "cell_type": "code",
   "execution_count": null,
   "id": "05c76192",
   "metadata": {},
   "outputs": [],
   "source": [
    "search_button=driver.find_element_by_xpath('/html/body/div[2]/div[2]/div[1]/div[2]/div/div[3]/span/div[1]/div/div/div[5]/ul[4]/li[15]/span/a/div/label/i')\n",
    "search_button.click()"
   ]
  },
  {
   "cell_type": "code",
   "execution_count": null,
   "id": "de83b13e",
   "metadata": {},
   "outputs": [],
   "source": [
    "title=[]\n",
    "ratg=[]\n",
    "prc=[]"
   ]
  },
  {
   "cell_type": "code",
   "execution_count": null,
   "id": "755d682d",
   "metadata": {},
   "outputs": [],
   "source": [
    "#extract titles\n",
    "t_tags=driver.find_elements_by_xpath(\"//h2[@class='a-size-mini a-spacing-none a-color-base s-line-clamp-2']\")\n",
    "t_tags[0:2]"
   ]
  },
  {
   "cell_type": "code",
   "execution_count": null,
   "id": "a11ad784",
   "metadata": {},
   "outputs": [],
   "source": [
    "for i in t_tags:\n",
    "    te=i.text\n",
    "    title.append(te)\n",
    "title[0:2]"
   ]
  },
  {
   "cell_type": "code",
   "execution_count": null,
   "id": "b672265a",
   "metadata": {},
   "outputs": [],
   "source": [
    "#extract rating\n",
    "su_tags=driver.find_elements_by_xpath(\"//div[@class='a-icon-alt']\")\n",
    "su_tags\n",
    "\n",
    "for i in su_tags:\n",
    "    suma=i.text\n",
    "    ratg.append(suma)\n",
    "ratg[0:4]"
   ]
  },
  {
   "cell_type": "code",
   "execution_count": null,
   "id": "3c63d2a4",
   "metadata": {},
   "outputs": [],
   "source": [
    "#extract price\n",
    "re_tags=driver.find_elements_by_xpath(\"//span[@class='a-price-whole']\")\n",
    "re_tags\n",
    "\n",
    "for i in re_tags:\n",
    "    revv=i.text\n",
    "    prc.append(revv)\n",
    "prc[0:4]"
   ]
  },
  {
   "cell_type": "code",
   "execution_count": null,
   "id": "80c24d45",
   "metadata": {},
   "outputs": [],
   "source": [
    "print(len(title),len(ratg),len(prc))"
   ]
  },
  {
   "cell_type": "code",
   "execution_count": null,
   "id": "283ed7e7",
   "metadata": {},
   "outputs": [],
   "source": [
    "snk=pd.DataFrame({})\n",
    "snk['Name']=title\n",
    "snk['Rating']=ratg\n",
    "snk['Price']=prc\n",
    "snk.head(10)"
   ]
  },
  {
   "cell_type": "code",
   "execution_count": null,
   "id": "f0a18adb",
   "metadata": {},
   "outputs": [],
   "source": [
    "driver.close()"
   ]
  },
  {
   "cell_type": "code",
   "execution_count": null,
   "id": "07c10a6b",
   "metadata": {},
   "outputs": [],
   "source": []
  },
  {
   "cell_type": "markdown",
   "id": "5fdfcafc",
   "metadata": {},
   "source": [
    "# Q9: Write a python program to scrape data for first 10 job results for Data Scientist Designation in Noida location. You have to scrape company name, No. of days ago when job was posted, Rating of the company. This task will be done in following steps:\n",
    "1. First get the webpage https://www.ambitionbox.com/\n",
    "2. Click on the Job option as shown in the image\n",
    "3. After reaching to the next webpage, In place of “Search by Designations, Companies, Skills” enter “Data Scientist” and click on search button.\n",
    "4. You will reach to the following web page click on location and in place of “Search location” enter “Noida” and select location “Noida”.\n",
    "5. Then scrape the data for the first 10 jobs results you get on the above shown page.\n",
    "6. Finally create a dataframe of the scraped data."
   ]
  },
  {
   "cell_type": "code",
   "execution_count": null,
   "id": "b8000f6f",
   "metadata": {},
   "outputs": [],
   "source": [
    "driver=webdriver.Chrome(\"chromedriver.exe\")"
   ]
  },
  {
   "cell_type": "code",
   "execution_count": null,
   "id": "01efe6f7",
   "metadata": {},
   "outputs": [],
   "source": [
    "driver.get(\"https://www.ambitionbox.com/\")"
   ]
  },
  {
   "cell_type": "markdown",
   "id": "0ae0a14d",
   "metadata": {},
   "source": [
    "CLicking the job option"
   ]
  },
  {
   "cell_type": "code",
   "execution_count": null,
   "id": "26a708b4",
   "metadata": {},
   "outputs": [],
   "source": [
    "search_button=driver.find_element_by_xpath('/html/body/div[1]/nav/nav/a[6]')\n",
    "search_button.click()"
   ]
  },
  {
   "cell_type": "markdown",
   "id": "56e3759e",
   "metadata": {},
   "source": [
    "Selecting the Data scientist in search "
   ]
  },
  {
   "cell_type": "code",
   "execution_count": null,
   "id": "36ac939e",
   "metadata": {},
   "outputs": [],
   "source": [
    "search_field=driver.find_element_by_xpath(\"/html/body/div/div/div/div[2]/div[1]/div[1]/div/div/div/div/span/input\")\n",
    "search_field.send_keys(\"Data Scientist\")"
   ]
  },
  {
   "cell_type": "code",
   "execution_count": null,
   "id": "2a926f0f",
   "metadata": {},
   "outputs": [],
   "source": [
    "search_button=driver.find_element_by_xpath('/html/body/div/div/div/div[2]/div[1]/div[1]/div/div/div/button')\n",
    "search_button.click()"
   ]
  },
  {
   "cell_type": "code",
   "execution_count": null,
   "id": "340aeef1",
   "metadata": {},
   "outputs": [],
   "source": [
    "search_button1=driver.find_element_by_xpath('/html/body/div/div/div/div[2]/div[1]/div[2]/div[1]/div/div/div/div[2]/div[1]/i')\n",
    "search_button1.click()"
   ]
  },
  {
   "cell_type": "markdown",
   "id": "1f66efc2",
   "metadata": {},
   "source": [
    "selecting noida option from radio button"
   ]
  },
  {
   "cell_type": "code",
   "execution_count": null,
   "id": "91ec8731",
   "metadata": {},
   "outputs": [],
   "source": [
    "search_button2=driver.find_element_by_xpath('/html/body/div/div/div/div[2]/div[1]/div[2]/div[1]/div/div/div/div[2]/div[2]/div/div[2]/input')\n",
    "search_button2.send_keys(\"Noida\")\n",
    "search_button2.click()"
   ]
  },
  {
   "cell_type": "code",
   "execution_count": null,
   "id": "7c53ba89",
   "metadata": {},
   "outputs": [],
   "source": [
    "search_button1=driver.find_element_by_xpath('/html/body/div/div/div/div[2]/div[1]/div[2]/div[1]/div/div/div/div[2]/div[2]/div/div[3]/div[1]/div[1]/div/label')\n",
    "search_button1.click()"
   ]
  },
  {
   "cell_type": "code",
   "execution_count": null,
   "id": "f1feb563",
   "metadata": {},
   "outputs": [],
   "source": [
    "name=[]\n",
    "dayy=[]\n",
    "rating=[]"
   ]
  },
  {
   "cell_type": "code",
   "execution_count": null,
   "id": "d6cb1765",
   "metadata": {},
   "outputs": [],
   "source": [
    "#extract name\n",
    "name_tags=driver.find_elements_by_xpath(\"//p[@class='company body-medium']\")\n",
    "name_tags\n",
    "\n",
    "for i in name_tags:\n",
    "    ratt=i.text\n",
    "    name.append(ratt)\n",
    "name"
   ]
  },
  {
   "cell_type": "code",
   "execution_count": null,
   "id": "29a84642",
   "metadata": {},
   "outputs": [],
   "source": [
    "#extract days ago\n",
    "su_tags=driver.find_elements_by_xpath(\"//span[@class='body-small-l']\")\n",
    "su_tags\n",
    "\n",
    "for i in su_tags:\n",
    "    suma=i.text\n",
    "    dayy.append(suma)\n",
    "dayy"
   ]
  },
  {
   "cell_type": "code",
   "execution_count": null,
   "id": "c045e2cf",
   "metadata": {},
   "outputs": [],
   "source": [
    "#extract ratings\n",
    "re_tags=driver.find_elements_by_xpath(\"//a[@class='rating rating-4']\")\n",
    "re_tags\n",
    "\n",
    "for i in re_tags:\n",
    "    revv=i.text\n",
    "    rating.append(revv)\n",
    "rating"
   ]
  },
  {
   "cell_type": "code",
   "execution_count": null,
   "id": "34a8283a",
   "metadata": {},
   "outputs": [],
   "source": [
    "print(len(name),len(dayy),len(rating))"
   ]
  },
  {
   "cell_type": "code",
   "execution_count": null,
   "id": "ffadbfd3",
   "metadata": {},
   "outputs": [],
   "source": [
    "snk=pd.DataFrame({})\n",
    "snk['Name']=name\n",
    "snk['Days posted ago']=dayy\n",
    "snk['Ratings']=ratings\n",
    "snk\n"
   ]
  },
  {
   "cell_type": "code",
   "execution_count": null,
   "id": "2eb86c51",
   "metadata": {},
   "outputs": [],
   "source": [
    "driver.close()"
   ]
  },
  {
   "cell_type": "code",
   "execution_count": null,
   "id": "192ae4c0",
   "metadata": {},
   "outputs": [],
   "source": []
  },
  {
   "cell_type": "markdown",
   "id": "414c2f6c",
   "metadata": {},
   "source": [
    "# Q10: Write a python program to scrape the salary data for Data Scientist designation.\n",
    "You have to scrape Company name, Number of salaries, Average salary, Minsalary, Max Salary. The above task will be, done as shown in the below steps:\n",
    "1. First get the webpage https://www.ambitionbox.com/\n",
    "2. Click on the salaries option as shown in the image.\n",
    "3. After reaching to the following webpage, In place of “Search Job Profile” enters “Data Scientist” and then click on “Data Scientist”.\n",
    "You have to scrape the data ticked in the above image.\n",
    "4. Scrape the data for the first 10 companies. Scrape the company name, total salary record, average salary, minimum salary, maximum salary, experience required.\n",
    "5. Store the data in a dataframe."
   ]
  },
  {
   "cell_type": "code",
   "execution_count": null,
   "id": "522a4d86",
   "metadata": {},
   "outputs": [],
   "source": [
    "driver=webdriver.Chrome(\"chromedriver.exe\")\n",
    "time.sleep(2)"
   ]
  },
  {
   "cell_type": "code",
   "execution_count": null,
   "id": "5bb604bc",
   "metadata": {},
   "outputs": [],
   "source": [
    "driver.get(\"https://www.ambitionbox.com/\")"
   ]
  },
  {
   "cell_type": "code",
   "execution_count": null,
   "id": "af5809ce",
   "metadata": {},
   "outputs": [],
   "source": [
    "search_button=driver.find_element_by_xpath('/html/body/div[1]/nav/nav/a[4]')\n",
    "search_button.click()"
   ]
  },
  {
   "cell_type": "markdown",
   "id": "2ccbcf4b",
   "metadata": {},
   "source": [
    "Selecting the Data scientist in search "
   ]
  },
  {
   "cell_type": "code",
   "execution_count": null,
   "id": "20128cd5",
   "metadata": {},
   "outputs": [],
   "source": [
    "search_button2=driver.find_element_by_xpath('/html/body/div/div/div/main/section[1]/div[2]/div[1]/span/input')\n",
    "search_button2.send_keys(\"Data Scientist\")\n",
    "search_button2.click()"
   ]
  },
  {
   "cell_type": "code",
   "execution_count": null,
   "id": "77877e54",
   "metadata": {},
   "outputs": [],
   "source": [
    "name=[]\n",
    "exp=[]\n",
    "tsr=[]\n",
    "avs=[]\n",
    "minsal=[]\n",
    "maxsal=[]"
   ]
  },
  {
   "cell_type": "code",
   "execution_count": null,
   "id": "b49e019d",
   "metadata": {},
   "outputs": [],
   "source": [
    "#extract name\n",
    "rat_tags=driver.find_elements_by_xpath(\"/html/body/div/div/div/main/section[1]/div[2]/div[3]/div[2]/div[1]/div[1]/div/div/div[1]/a\")\n",
    "rat_tags\n",
    "\n",
    "for i in rat_tags:\n",
    "    ratt=i.text\n",
    "    name.append(ratt)\n",
    "name\n"
   ]
  },
  {
   "cell_type": "code",
   "execution_count": null,
   "id": "e3326160",
   "metadata": {},
   "outputs": [],
   "source": [
    "#extract experience\n",
    "su_tags=driver.find_elements_by_xpath(\"/html/body/div/div/div/main/section[1]/div[2]/div[3]/div[2]/div[1]/div[1]/div/div/div[2]\")\n",
    "su_tags\n",
    "\n",
    "for i in su_tags:\n",
    "    suma=i.text\n",
    "    exp.append(suma)\n",
    "exp"
   ]
  },
  {
   "cell_type": "code",
   "execution_count": null,
   "id": "451fe96c",
   "metadata": {},
   "outputs": [],
   "source": [
    "#extract total salary record\n",
    "re_tags=driver.find_elements_by_xpath(\"/html/body/div/div/div/main/section[1]/div[2]/div[3]/div[2]/div[1]/div[1]/div/div/div[1]/span\")\n",
    "re_tags\n",
    "\n",
    "for i in re_tags:\n",
    "    revv=i.text\n",
    "    tsr.append(revv)\n",
    "tsr"
   ]
  },
  {
   "cell_type": "code",
   "execution_count": null,
   "id": "62bf4998",
   "metadata": {},
   "outputs": [],
   "source": [
    "#extract minimum salary record\n",
    "re_tags=driver.find_elements_by_xpath(\"/html/body/div/div/div/main/section[1]/div[2]/div[3]/div[2]/div[1]/div[2]/div/div[2]/div[1]\")\n",
    "re_tags\n",
    "\n",
    "for i in re_tags:\n",
    "    revv=i.text\n",
    "    minsal.append(revv)\n",
    "minsal"
   ]
  },
  {
   "cell_type": "code",
   "execution_count": null,
   "id": "7adb6616",
   "metadata": {},
   "outputs": [],
   "source": [
    "#extract average salary record\n",
    "re_tags=driver.find_elements_by_xpath(\"/html/body/div/div/div/main/section[1]/div[2]/div[3]/div[2]/div[1]/div[2]/div/div[1]/div/p\")\n",
    "re_tags\n",
    "\n",
    "for i in re_tags:\n",
    "    revv=i.text\n",
    "    avs.append(revv)\n",
    "avs"
   ]
  },
  {
   "cell_type": "code",
   "execution_count": null,
   "id": "23a029ed",
   "metadata": {},
   "outputs": [],
   "source": [
    "#extract maximum salary record\n",
    "re_tags=driver.find_elements_by_xpath(\"/html/body/div/div/div/main/section[1]/div[2]/div[3]/div[2]/div[1]/div[2]/div/div[2]/div[2]\")\n",
    "re_tags\n",
    "\n",
    "for i in re_tags:\n",
    "    revv=i.text\n",
    "    maxsal.append(revv)\n",
    "maxsal"
   ]
  },
  {
   "cell_type": "code",
   "execution_count": null,
   "id": "f6d89b57",
   "metadata": {},
   "outputs": [],
   "source": [
    "snk=pd.DataFrame({})\n",
    "snk['Name']=name\n",
    "snk['Experience']=exp\n",
    "snk['Total Salary Record']=tsr\n",
    "snk['Minimum Salary']=minsal\n",
    "snk['Average Salary']=avs\n",
    "snk['Maximum Salary']=maxsal\n",
    "snk"
   ]
  },
  {
   "cell_type": "code",
   "execution_count": null,
   "id": "52ef62e8",
   "metadata": {},
   "outputs": [],
   "source": [
    "driver.close()"
   ]
  }
 ],
 "metadata": {
  "kernelspec": {
   "display_name": "Python 3",
   "language": "python",
   "name": "python3"
  },
  "language_info": {
   "codemirror_mode": {
    "name": "ipython",
    "version": 3
   },
   "file_extension": ".py",
   "mimetype": "text/x-python",
   "name": "python",
   "nbconvert_exporter": "python",
   "pygments_lexer": "ipython3",
   "version": "3.8.8"
  }
 },
 "nbformat": 4,
 "nbformat_minor": 5
}
